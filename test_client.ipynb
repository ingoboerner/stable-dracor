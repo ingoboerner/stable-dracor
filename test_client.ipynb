{
 "cells": [
  {
   "cell_type": "code",
   "execution_count": 1,
   "id": "0175af51-4b72-44a2-927d-23827508790e",
   "metadata": {},
   "outputs": [],
   "source": [
    "import logging\n",
    "#logging.basicConfig(level=logging.DEBUG)\n",
    "logging.basicConfig(level=logging.INFO)"
   ]
  },
  {
   "cell_type": "code",
   "execution_count": 2,
   "id": "557a4b8a-f505-4c17-8641-4c02147c0f38",
   "metadata": {},
   "outputs": [],
   "source": [
    "from client.client import api_get"
   ]
  },
  {
   "cell_type": "code",
   "execution_count": 3,
   "id": "25ec621c-2fea-4d77-a8ac-71749889e5eb",
   "metadata": {},
   "outputs": [],
   "source": [
    "#api_get(method=\"corpora\", api_base_url=\"http://localhost:8088/api/\")\n",
    "# api_get(method=\"corpora\")"
   ]
  },
  {
   "cell_type": "code",
   "execution_count": 4,
   "id": "47ba8a8b-d914-4faf-9cca-ace3f121c9d7",
   "metadata": {},
   "outputs": [],
   "source": [
    "from client.client import StableDraCor"
   ]
  },
  {
   "cell_type": "code",
   "execution_count": 5,
   "id": "b7787efa-f837-4a4e-9bec-73dffbbb8d2b",
   "metadata": {},
   "outputs": [
    {
     "name": "stderr",
     "output_type": "stream",
     "text": [
      "INFO:root:Initialized new StableDraCor instance: 'None' (ID: 54293b24-433a-46a9-a2bb-5f991e4ebf28).\n",
      "INFO:root:Local DraCor API is available at http://localhost:8088/api/.\n"
     ]
    }
   ],
   "source": [
    "local_api = StableDraCor()"
   ]
  },
  {
   "cell_type": "code",
   "execution_count": 6,
   "id": "0a7e9760-93c5-449e-bb21-37ba2369bb3b",
   "metadata": {},
   "outputs": [],
   "source": [
    "# local_api.id"
   ]
  },
  {
   "cell_type": "code",
   "execution_count": 7,
   "id": "3a481bb1-4306-4e1e-8a7a-52aa0a24cbe2",
   "metadata": {},
   "outputs": [
    {
     "name": "stderr",
     "output_type": "stream",
     "text": [
      "INFO:root:Successfully created corpus tat. All metadata is available. Plays have not been added yet.\n",
      "INFO:root:Added contents of corpus tat from https://dracor.org/api/.\n",
      "INFO:root:Copying tat (as tat) was successful. Plays (that were not excluded) were also copied entirely.\n"
     ]
    },
    {
     "data": {
      "text/plain": [
       "True"
      ]
     },
     "execution_count": 7,
     "metadata": {},
     "output_type": "execute_result"
    }
   ],
   "source": [
    "local_api.copy_corpus(source_corpusname=\"tat\")"
   ]
  },
  {
   "cell_type": "code",
   "execution_count": 8,
   "id": "4c36f459-f7f0-424c-af87-ba8f7f91bc58",
   "metadata": {},
   "outputs": [],
   "source": [
    "#local_api.remove_corpus(corpusname=\"tat\")"
   ]
  },
  {
   "cell_type": "code",
   "execution_count": 9,
   "id": "3aa16136-56d3-48e7-851a-1232005e1ea7",
   "metadata": {},
   "outputs": [
    {
     "name": "stderr",
     "output_type": "stream",
     "text": [
      "WARNING:root:Could not remove corpus gersh. No such corpus.\n"
     ]
    },
    {
     "data": {
      "text/plain": [
       "False"
      ]
     },
     "execution_count": 9,
     "metadata": {},
     "output_type": "execute_result"
    }
   ],
   "source": [
    "# local_api.remove_corpus(corpusname=\"gersh\")"
   ]
  },
  {
   "cell_type": "code",
   "execution_count": 10,
   "id": "2d403c98-d36f-44d5-ac40-be63f0c11a74",
   "metadata": {},
   "outputs": [],
   "source": [
    "#local_api.copy_corpus(source_corpusname=\"gersh\")"
   ]
  },
  {
   "cell_type": "code",
   "execution_count": 11,
   "id": "3cffe550-2cf2-499c-b276-006fdf85144c",
   "metadata": {},
   "outputs": [],
   "source": [
    "# try to delete \"gersh/ein-sommernachtstraum\":\n",
    "#local_api.remove_play_from_corpus(corpusname=\"gersh\", playname=\"ein-sommernachtstraum\")\n"
   ]
  },
  {
   "cell_type": "code",
   "execution_count": 12,
   "id": "c6903297-55fc-4068-a2d4-381ec3e87634",
   "metadata": {},
   "outputs": [
    {
     "name": "stderr",
     "output_type": "stream",
     "text": [
      "INFO:root:Successfully created corpus bash. All metadata is available. Plays have not been added yet.\n",
      "INFO:root:Added contents of corpus bash from https://dracor.org/api/.\n",
      "INFO:root:Copying bash (as bash) was successful. Plays (that were not excluded) were also copied entirely.\n"
     ]
    },
    {
     "data": {
      "text/plain": [
       "True"
      ]
     },
     "execution_count": 12,
     "metadata": {},
     "output_type": "execute_result"
    }
   ],
   "source": [
    "#include bash, but not /bash/khudayberdin-aq-bilettar, bash/karim-aj-totolghan-tonda\n",
    "local_api.copy_corpus(source_corpusname=\"bash\", exclude=[\"khudayberdin-aq-bilettar\",\"karim-aj-totolghan-tonda\"])"
   ]
  },
  {
   "cell_type": "code",
   "execution_count": 13,
   "id": "67a32669-97f9-4a88-bf43-f0104e5df3f3",
   "metadata": {},
   "outputs": [
    {
     "name": "stderr",
     "output_type": "stream",
     "text": [
      "INFO:root:Removed play karim-tashlama-utty from corpus bash.\n"
     ]
    },
    {
     "data": {
      "text/plain": [
       "True"
      ]
     },
     "execution_count": 13,
     "metadata": {},
     "output_type": "execute_result"
    }
   ],
   "source": [
    "# delte karim-tashlama-utty\n",
    "local_api.remove_play_from_corpus(corpusname=\"bash\", playname=\"karim-tashlama-utty\")"
   ]
  },
  {
   "cell_type": "code",
   "execution_count": 14,
   "id": "eda7e561-6a52-49de-8482-6072fd378214",
   "metadata": {},
   "outputs": [
    {
     "name": "stderr",
     "output_type": "stream",
     "text": [
      "INFO:root:Removed corpus bash.\n"
     ]
    },
    {
     "data": {
      "text/plain": [
       "True"
      ]
     },
     "execution_count": 14,
     "metadata": {},
     "output_type": "execute_result"
    }
   ],
   "source": [
    "local_api.remove_corpus(corpusname=\"bash\")"
   ]
  },
  {
   "cell_type": "code",
   "execution_count": null,
   "id": "accb93dd-fb90-45ef-a82a-64f1395055aa",
   "metadata": {},
   "outputs": [],
   "source": []
  }
 ],
 "metadata": {
  "kernelspec": {
   "display_name": "Python (stable-dracor)",
   "language": "python",
   "name": "stable-dracor"
  },
  "language_info": {
   "codemirror_mode": {
    "name": "ipython",
    "version": 3
   },
   "file_extension": ".py",
   "mimetype": "text/x-python",
   "name": "python",
   "nbconvert_exporter": "python",
   "pygments_lexer": "ipython3",
   "version": "3.11.3"
  }
 },
 "nbformat": 4,
 "nbformat_minor": 5
}
