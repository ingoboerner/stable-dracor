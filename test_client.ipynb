{
 "cells": [
  {
   "cell_type": "code",
   "execution_count": 1,
   "id": "0175af51-4b72-44a2-927d-23827508790e",
   "metadata": {},
   "outputs": [],
   "source": [
    "import logging\n",
    "logging.basicConfig(level=logging.DEBUG)\n",
    "# logging.basicConfig(level=logging.INFO)"
   ]
  },
  {
   "cell_type": "code",
   "execution_count": 2,
   "id": "e8d558ba-4824-4c88-878f-7187e670c44e",
   "metadata": {},
   "outputs": [],
   "source": [
    "import os"
   ]
  },
  {
   "cell_type": "code",
   "execution_count": 3,
   "id": "7418dd5b-0118-4a35-aec2-18155c93a0eb",
   "metadata": {},
   "outputs": [],
   "source": [
    "#export GITHUB_TOKEN={token}\n",
    "# https://github.com/settings/tokens\n",
    "github_token = os.environ.get(\"GITHUB_TOKEN\")"
   ]
  },
  {
   "cell_type": "code",
   "execution_count": 4,
   "id": "557a4b8a-f505-4c17-8641-4c02147c0f38",
   "metadata": {},
   "outputs": [],
   "source": [
    "# from client.client import api_get"
   ]
  },
  {
   "cell_type": "code",
   "execution_count": 5,
   "id": "25ec621c-2fea-4d77-a8ac-71749889e5eb",
   "metadata": {},
   "outputs": [],
   "source": [
    "#api_get(method=\"corpora\", api_base_url=\"http://localhost:8088/api/\")\n",
    "# api_get(method=\"corpora\")"
   ]
  },
  {
   "cell_type": "code",
   "execution_count": 6,
   "id": "47ba8a8b-d914-4faf-9cca-ace3f121c9d7",
   "metadata": {},
   "outputs": [],
   "source": [
    "from src.stabledracor.client import StableDraCor"
   ]
  },
  {
   "cell_type": "code",
   "execution_count": 7,
   "id": "b7787efa-f837-4a4e-9bec-73dffbbb8d2b",
   "metadata": {},
   "outputs": [
    {
     "name": "stderr",
     "output_type": "stream",
     "text": [
      "DEBUG:root:Generated ID: d5974bd3-91ed-439c-a6a3-344cad01029a.\n",
      "DEBUG:root:Set name to: my-stable-dracor\n",
      "DEBUG:root:Using default username 'admin'.\n",
      "DEBUG:root:Using default password: ''.\n",
      "INFO:root:Initialized new StableDraCor instance: 'my-stable-dracor' (ID: d5974bd3-91ed-439c-a6a3-344cad01029a).\n",
      "DEBUG:root:Will send GET request to: http://localhost:8088/api/info\n",
      "DEBUG:urllib3.connectionpool:Starting new HTTP connection (1): localhost:8088\n",
      "DEBUG:urllib3.connectionpool:http://localhost:8088 \"GET /api/info HTTP/1.1\" 200 None\n",
      "DEBUG:root:Parsed response to JSON.\n",
      "INFO:root:Local DraCor API is available at http://localhost:8088/api/.\n",
      "DEBUG:root:Detected Operation System Type: 'posix'\n",
      "INFO:root:Docker is available.\n",
      "DEBUG:root:Detected 4 running Docker containers.\n",
      "INFO:root:Found dracor/dracor-api container with ID 6aad2ee55566. Image is: dracor/dracor-api:v0.90.1-local\n",
      "INFO:root:Found dracor/dracor-frontend container with ID 24c65986a96b. Image is: dracor/dracor-frontend:v1.6.0-dirty\n",
      "INFO:root:Found dracor/dracor-metrics container with ID cb96c19eaa7c. Image is: dracor/dracor-metrics:v1.2.0\n",
      "INFO:root:Found dracor/dracor-fuseki container with ID c9c7649945bc. Image is: dracor/dracor-fuseki:v1.0.0\n"
     ]
    }
   ],
   "source": [
    "# local_api = StableDraCor()\n",
    "local_api = StableDraCor(name=\"my-stable-dracor\", github_access_token=github_token)"
   ]
  },
  {
   "cell_type": "code",
   "execution_count": 8,
   "id": "afac474b-3c22-459f-84df-f8cecd8f9ceb",
   "metadata": {},
   "outputs": [
    {
     "name": "stderr",
     "output_type": "stream",
     "text": [
      "DEBUG:root:Will send GET request to: http://localhost:8088/api/info\n",
      "DEBUG:urllib3.connectionpool:Starting new HTTP connection (1): localhost:8088\n",
      "DEBUG:urllib3.connectionpool:http://localhost:8088 \"GET /api/info HTTP/1.1\" 200 None\n",
      "DEBUG:root:Parsed response to JSON.\n"
     ]
    },
    {
     "data": {
      "text/plain": [
       "{'name': 'DraCor API',\n",
       " 'version': '0.90.1-2-g19a3f46-dirty',\n",
       " 'status': 'beta',\n",
       " 'existdb': '6.0.1',\n",
       " 'base': 'http://localhost:8088/api'}"
      ]
     },
     "execution_count": 8,
     "metadata": {},
     "output_type": "execute_result"
    }
   ],
   "source": [
    "local_api.get_api_info()"
   ]
  },
  {
   "cell_type": "code",
   "execution_count": null,
   "id": "97746e69-7167-4821-80ed-d8c99691deb4",
   "metadata": {},
   "outputs": [],
   "source": [
    "# This is not possible anymore, because private\n",
    "#local_api.services"
   ]
  },
  {
   "cell_type": "code",
   "execution_count": 9,
   "id": "b963e2ba-7831-4776-b753-09d7346ae2f5",
   "metadata": {},
   "outputs": [
    {
     "name": "stderr",
     "output_type": "stream",
     "text": [
      "DEBUG:root:Will send GET request to: http://localhost:8088/api/info\n",
      "DEBUG:urllib3.connectionpool:Starting new HTTP connection (1): localhost:8088\n",
      "DEBUG:urllib3.connectionpool:http://localhost:8088 \"GET /api/info HTTP/1.1\" 200 None\n",
      "DEBUG:root:Parsed response to JSON.\n"
     ]
    },
    {
     "data": {
      "text/plain": [
       "{'version': 'v1',\n",
       " 'system': {'id': 'd5974bd3-91ed-439c-a6a3-344cad01029a',\n",
       "  'name': 'my-stable-dracor',\n",
       "  'timestamp': '2023-06-27T13:19:02.848628'},\n",
       " 'services': {'api': {'container': '6aad2ee55566',\n",
       "   'image': 'dracor/dracor-api:v0.90.1-local',\n",
       "   'version': '0.90.1-2-g19a3f46-dirty',\n",
       "   'existdb': '6.0.1'},\n",
       "  'frontend': {'container': '24c65986a96b',\n",
       "   'image': 'dracor/dracor-frontend:v1.6.0-dirty'},\n",
       "  'metrics': {'container': 'cb96c19eaa7c',\n",
       "   'image': 'dracor/dracor-metrics:v1.2.0'},\n",
       "  'triplestore': {'container': 'c9c7649945bc',\n",
       "   'image': 'dracor/dracor-fuseki:v1.0.0'}},\n",
       " 'corpora': {}}"
      ]
     },
     "execution_count": 9,
     "metadata": {},
     "output_type": "execute_result"
    }
   ],
   "source": [
    "local_api.get_manifest()"
   ]
  },
  {
   "cell_type": "code",
   "execution_count": 10,
   "id": "43a828a4-e104-461c-ad26-1ae250b0b87a",
   "metadata": {},
   "outputs": [
    {
     "name": "stderr",
     "output_type": "stream",
     "text": [
      "DEBUG:urllib3.connectionpool:Starting new HTTPS connection (1): raw.githubusercontent.com:443\n",
      "DEBUG:urllib3.connectionpool:https://raw.githubusercontent.com:443 \"GET /dracor-org/stabledracor/master/configurations/compose.fullstack.empty.yml HTTP/1.1\" 200 469\n",
      "INFO:root:Fetched default compose file (configuration) from https://raw.githubusercontent.com/dracor-org/stabledracor/master/configurations/compose.fullstack.empty.yml.\n",
      " Container my-stable-dracor-fuseki-1  Running\n",
      " Container my-stable-dracor-metrics-1  Running\n",
      " Container my-stable-dracor-api-1  Running\n",
      " Container my-stable-dracor-frontend-1  Running\n",
      "INFO:root:Started with downloaded docker compose file.\n",
      "DEBUG:root:Detected 4 running Docker containers.\n",
      "INFO:root:Found dracor/dracor-api container with ID 6aad2ee55566. Image is: dracor/dracor-api:v0.90.1-local\n",
      "DEBUG:root:Container api already registered.\n",
      "INFO:root:Found dracor/dracor-frontend container with ID 24c65986a96b. Image is: dracor/dracor-frontend:v1.6.0-dirty\n",
      "DEBUG:root:Container frontend already registered.\n",
      "INFO:root:Found dracor/dracor-metrics container with ID cb96c19eaa7c. Image is: dracor/dracor-metrics:v1.2.0\n",
      "DEBUG:root:Container metrics already registered.\n",
      "INFO:root:Found dracor/dracor-fuseki container with ID c9c7649945bc. Image is: dracor/dracor-fuseki:v1.0.0\n",
      "DEBUG:root:Container triplestore already registered.\n"
     ]
    }
   ],
   "source": [
    "local_api.run()"
   ]
  },
  {
   "cell_type": "code",
   "execution_count": null,
   "id": "8251d926-9f59-4e17-9b56-cb5c94a48fcf",
   "metadata": {},
   "outputs": [],
   "source": [
    "#local_api.run(compose_file=\"configurations/compose.fullstack.empty.yml\")"
   ]
  },
  {
   "cell_type": "code",
   "execution_count": null,
   "id": "24d2afff-9834-416e-afe6-90b2dd85e3ee",
   "metadata": {},
   "outputs": [],
   "source": [
    "#local_api.stop()"
   ]
  },
  {
   "cell_type": "code",
   "execution_count": null,
   "id": "e58ed908-b778-4606-b76b-5af11998615f",
   "metadata": {},
   "outputs": [],
   "source": [
    "local_api.create_compose_file()"
   ]
  },
  {
   "cell_type": "code",
   "execution_count": 11,
   "id": "d72b7f46-19e0-416e-8308-8d626a592221",
   "metadata": {},
   "outputs": [
    {
     "name": "stderr",
     "output_type": "stream",
     "text": [
      "DEBUG:root:No commit set. Getting latest commit.\n",
      "DEBUG:root:Send GET request to GitHub: https://api.github.com/repos/dracor-org/bashdracor/commits\n",
      "DEBUG:urllib3.connectionpool:Starting new HTTPS connection (1): api.github.com:443\n",
      "DEBUG:urllib3.connectionpool:https://api.github.com:443 \"GET /repos/dracor-org/bashdracor/commits HTTP/1.1\" 200 None\n",
      "DEBUG:root:GET request to GitHub API was successful.\n",
      "DEBUG:root:Retrieved latest (?) commit of repo 'dracor-org/bashdracor': c16b58ef3726a63c431bb9575b682c165c9c0cbd.\n",
      "DEBUG:root:Get the repository root folder tree at commit 'c16b58ef3726a63c431bb9575b682c165c9c0cbd'.\n",
      "DEBUG:root:Send GET request to GitHub: https://api.github.com/repos/dracor-org/bashdracor/commits/c16b58ef3726a63c431bb9575b682c165c9c0cbd\n",
      "DEBUG:urllib3.connectionpool:Starting new HTTPS connection (1): api.github.com:443\n",
      "DEBUG:urllib3.connectionpool:https://api.github.com:443 \"GET /repos/dracor-org/bashdracor/commits/c16b58ef3726a63c431bb9575b682c165c9c0cbd HTTP/1.1\" 200 None\n",
      "DEBUG:root:GET request to GitHub API was successful.\n",
      "DEBUG:root:Got the Github tree of commit 'c16b58ef3726a63c431bb9575b682c165c9c0cbd': dfa1df3c732cc5b32f26530e95b205ec0c94d803 at url https://api.github.com/repos/dracor-org/bashdracor/git/trees/dfa1df3c732cc5b32f26530e95b205ec0c94d803.\n",
      "DEBUG:root:Provided full URL to send GET request to GitHub: https://api.github.com/repos/dracor-org/bashdracor/git/trees/dfa1df3c732cc5b32f26530e95b205ec0c94d803.\n",
      "DEBUG:urllib3.connectionpool:Starting new HTTPS connection (1): api.github.com:443\n",
      "DEBUG:urllib3.connectionpool:https://api.github.com:443 \"GET /repos/dracor-org/bashdracor/git/trees/dfa1df3c732cc5b32f26530e95b205ec0c94d803 HTTP/1.1\" 200 None\n",
      "DEBUG:root:GET request to GitHub API was successful.\n",
      "DEBUG:root:Found corpus.xml blob at https://api.github.com/repos/dracor-org/bashdracor/git/blobs/0e6b4e3abc262fbcb879ed8a0c4f565716ae7191.\n",
      "DEBUG:root:Provided full URL to send GET request to GitHub: https://api.github.com/repos/dracor-org/bashdracor/git/blobs/0e6b4e3abc262fbcb879ed8a0c4f565716ae7191.\n",
      "DEBUG:urllib3.connectionpool:Starting new HTTPS connection (1): api.github.com:443\n",
      "DEBUG:urllib3.connectionpool:https://api.github.com:443 \"GET /repos/dracor-org/bashdracor/git/blobs/0e6b4e3abc262fbcb879ed8a0c4f565716ae7191 HTTP/1.1\" 200 None\n",
      "DEBUG:root:GET request to GitHub API was successful.\n",
      "DEBUG:root:Extracting corpus metadata from corpus.xml.\n",
      "DEBUG:root:Title: Bashkir Drama Corpus\n",
      "DEBUG:root:Corpusname: bash\n",
      "DEBUG:root:Description: \n",
      "          Edited by Boris Orekhov. Contains a growing number of plays in the Bashkir language.\n",
      "          Works still under copyright published with the permission of the rights holders.\n",
      "        \n",
      "DEBUG:root:Adding corpus bash.\n",
      "DEBUG:root:{'method': 'corpora', 'username': 'admin', 'password': ''}\n",
      "DEBUG:root:Will send POST request to: http://localhost:8088/api/corpora\n",
      "DEBUG:root:Username and Password are set.\n",
      "DEBUG:root:Send POST request with data and credentials, not headers.\n",
      "DEBUG:urllib3.connectionpool:Starting new HTTP connection (1): localhost:8088\n",
      "DEBUG:urllib3.connectionpool:http://localhost:8088 \"POST /api/corpora HTTP/1.1\" 409 None\n",
      "DEBUG:root:Executed POST request. Server returned status code: 409\n",
      "WARNING:root:Did not add corpus bash. Corpus already exists.\n",
      "DEBUG:root:Using Github to get the commit c16b58ef3726a63c431bb9575b682c165c9c0cbd and the tree object thereof.\n",
      "DEBUG:root:Send GET request to GitHub: https://api.github.com/repos/dracor-org/bashdracor/commits/c16b58ef3726a63c431bb9575b682c165c9c0cbd\n",
      "DEBUG:urllib3.connectionpool:Starting new HTTPS connection (1): api.github.com:443\n",
      "DEBUG:urllib3.connectionpool:https://api.github.com:443 \"GET /repos/dracor-org/bashdracor/commits/c16b58ef3726a63c431bb9575b682c165c9c0cbd HTTP/1.1\" 200 None\n",
      "DEBUG:root:GET request to GitHub API was successful.\n",
      "DEBUG:root:Got the Github tree of commit 'c16b58ef3726a63c431bb9575b682c165c9c0cbd': dfa1df3c732cc5b32f26530e95b205ec0c94d803 at url https://api.github.com/repos/dracor-org/bashdracor/git/trees/dfa1df3c732cc5b32f26530e95b205ec0c94d803.\n",
      "DEBUG:root:Provided full URL to send GET request to GitHub: https://api.github.com/repos/dracor-org/bashdracor/git/trees/dfa1df3c732cc5b32f26530e95b205ec0c94d803.\n",
      "DEBUG:urllib3.connectionpool:Starting new HTTPS connection (1): api.github.com:443\n",
      "DEBUG:urllib3.connectionpool:https://api.github.com:443 \"GET /repos/dracor-org/bashdracor/git/trees/dfa1df3c732cc5b32f26530e95b205ec0c94d803 HTTP/1.1\" 200 None\n",
      "DEBUG:root:GET request to GitHub API was successful.\n",
      "DEBUG:root:{'path': 'tei', 'mode': '040000', 'type': 'tree', 'sha': '920adced83b2b456f5c5a7cf4f4aeeee687a7fad', 'url': 'https://api.github.com/repos/dracor-org/bashdracor/git/trees/920adced83b2b456f5c5a7cf4f4aeeee687a7fad'}\n",
      "DEBUG:root:Found data folder 'tei' in tree objects.  sha: 920adced83b2b456f5c5a7cf4f4aeeee687a7fad, url: https://api.github.com/repos/dracor-org/bashdracor/git/trees/920adced83b2b456f5c5a7cf4f4aeeee687a7fad.\n",
      "DEBUG:root:Getting files in the data folder.\n",
      "DEBUG:root:Provided full URL to send GET request to GitHub: https://api.github.com/repos/dracor-org/bashdracor/git/trees/920adced83b2b456f5c5a7cf4f4aeeee687a7fad.\n",
      "DEBUG:urllib3.connectionpool:Starting new HTTPS connection (1): api.github.com:443\n",
      "DEBUG:urllib3.connectionpool:https://api.github.com:443 \"GET /repos/dracor-org/bashdracor/git/trees/920adced83b2b456f5c5a7cf4f4aeeee687a7fad HTTP/1.1\" 200 None\n",
      "DEBUG:root:GET request to GitHub API was successful.\n",
      "DEBUG:root:Found 3 in the data folder tree.\n",
      "DEBUG:root:Got 3 filenames from repo dracor-org/bashdracor.\n",
      "DEBUG:root:Should exclude khudayberdin-aq-bilettar, karim-tashlama-utty.\n",
      "DEBUG:root:Fetching github data from source url: https://raw.githubusercontent.com/dracor-org/bashdracor/c16b58ef3726a63c431bb9575b682c165c9c0cbd/tei/karim-aj-totolghan-tonda.xml\n",
      "DEBUG:urllib3.connectionpool:Starting new HTTPS connection (1): raw.githubusercontent.com:443\n",
      "DEBUG:urllib3.connectionpool:https://raw.githubusercontent.com:443 \"GET /dracor-org/bashdracor/c16b58ef3726a63c431bb9575b682c165c9c0cbd/tei/karim-aj-totolghan-tonda.xml HTTP/1.1\" 200 49203\n",
      "DEBUG:root:Could retrieve data from 'https://raw.githubusercontent.com/dracor-org/bashdracor/c16b58ef3726a63c431bb9575b682c165c9c0cbd/tei/karim-aj-totolghan-tonda.xml'.\n",
      "DEBUG:root:Could parse returned data. XML is well-formed.\n",
      "DEBUG:root:Invoked __corpus_exists. Checking for corpora with name 'bash'.\n",
      "DEBUG:root:Will send GET request to: http://localhost:8088/api/corpora\n",
      "DEBUG:urllib3.connectionpool:Starting new HTTP connection (1): localhost:8088\n",
      "DEBUG:urllib3.connectionpool:http://localhost:8088 \"GET /api/corpora HTTP/1.1\" 200 None\n",
      "DEBUG:root:Parsed response to JSON.\n",
      "DEBUG:root:Corpus 'bash' exists.\n",
      "DEBUG:root:Identifier 'playname' of the play is not set. Will use filename 'karim-aj-totolghan-tonda.xml' as  the identifier of the play: ('karim-aj-totolghan-tonda').\n",
      "DEBUG:root:{'method': 'tei', 'corpusname': 'bash', 'playname': 'karim-aj-totolghan-tonda', 'username': 'admin', 'password': '', 'headers': {'Content-Type': 'application/xml'}}\n",
      "DEBUG:root:Will send PUT request to: http://localhost:8088/api/corpora/bash/play/karim-aj-totolghan-tonda/tei\n",
      "DEBUG:root:Credentials are provided.\n",
      "DEBUG:urllib3.connectionpool:Starting new HTTP connection (1): localhost:8088\n",
      "DEBUG:urllib3.connectionpool:http://localhost:8088 \"PUT /api/corpora/bash/play/karim-aj-totolghan-tonda/tei HTTP/1.1\" 200 None\n",
      "DEBUG:root:Executed PUT request. Server returned status code: 200\n",
      "DEBUG:root:PUT request to add data was successful.\n",
      "DEBUG:root:Checking if play 'karim-aj-totolghan-tonda' has been added to corpus 'bash'.\n",
      "DEBUG:root:Will send GET request to: http://localhost:8088/api/corpora/bash/play/karim-aj-totolghan-tonda\n",
      "DEBUG:urllib3.connectionpool:Starting new HTTP connection (1): localhost:8088\n",
      "DEBUG:urllib3.connectionpool:http://localhost:8088 \"GET /api/corpora/bash/play/karim-aj-totolghan-tonda HTTP/1.1\" 200 None\n",
      "DEBUG:root:Parsed response to JSON.\n",
      "INFO:root:Play 'karim-aj-totolghan-tonda' retrieved from 'https://raw.githubusercontent.com/dracor-org/bashdracor/c16b58ef3726a63c431bb9575b682c165c9c0cbd/tei/karim-aj-totolghan-tonda.xml' has been successfully added to corpus 'bash'. Checked and found local play data.\n",
      "DEBUG:root:File karim-tashlama-utty.xml is excluded.\n",
      "DEBUG:root:File khudayberdin-aq-bilettar.xml is excluded.\n",
      "INFO:root:Successfully added all 1 files to bash.\n"
     ]
    },
    {
     "data": {
      "text/plain": [
       "True"
      ]
     },
     "execution_count": 11,
     "metadata": {},
     "output_type": "execute_result"
    }
   ],
   "source": [
    "local_api.add_corpus_from_repo(repository_name=\"bashdracor\", exclude=[\"khudayberdin-aq-bilettar\", \"karim-tashlama-utty\"])"
   ]
  },
  {
   "cell_type": "code",
   "execution_count": null,
   "id": "97e6b1f0-fd52-4e31-8d04-8ff84a1b63e4",
   "metadata": {},
   "outputs": [],
   "source": [
    "local_api.get_manifest()"
   ]
  },
  {
   "cell_type": "code",
   "execution_count": 12,
   "id": "4036c142-05f4-4b5e-8207-54ad89ff9f3b",
   "metadata": {},
   "outputs": [
    {
     "name": "stderr",
     "output_type": "stream",
     "text": [
      "DEBUG:root:Creating image of service 'api'.\n",
      "DEBUG:root:Container 6aad2ee55566 is in state: running.\n",
      "WARNING:root:The dracor-api container is running. There might be issues with the image, if it is create from a running container. Consider stopping it before creating the image.\n",
      "DEBUG:root:Will send GET request to: http://localhost:8088/api/info\n",
      "DEBUG:urllib3.connectionpool:Starting new HTTP connection (1): localhost:8088\n",
      "DEBUG:urllib3.connectionpool:http://localhost:8088 \"GET /api/info HTTP/1.1\" 200 None\n",
      "DEBUG:root:Parsed response to JSON.\n",
      "INFO:root:Committed container 6aad2ee55566 as dracor/stable-dracor:my_local_bashdracor. Image identifier sha256:e785185595801bf4257e41ae301c283dd19fc9cf88582f7f71cec53ca058e336\n",
      ".\n",
      "DEBUG:root:Updated services. Image dracor/stable-dracor:my_local_bashdracor is set as service 'api'.\n"
     ]
    }
   ],
   "source": [
    "local_api.create_docker_image_of_service(service=\"api\", image_tag=\"my_local_bashdracor\")"
   ]
  },
  {
   "cell_type": "code",
   "execution_count": 13,
   "id": "1acdf5ea-b571-4126-9175-bc42c3344bbb",
   "metadata": {},
   "outputs": [
    {
     "data": {
      "text/plain": [
       "[{'Containers': 'N/A',\n",
       "  'CreatedAt': '2023-06-27 13:19:33 +0200 CEST',\n",
       "  'CreatedSince': '3 seconds ago',\n",
       "  'Digest': '<none>',\n",
       "  'ID': 'e78518559580',\n",
       "  'Repository': 'dracor/stable-dracor',\n",
       "  'SharedSize': 'N/A',\n",
       "  'Size': '455MB',\n",
       "  'Tag': 'my_local_bashdracor',\n",
       "  'UniqueSize': 'N/A',\n",
       "  'VirtualSize': '455MB'},\n",
       " {'Containers': 'N/A',\n",
       "  'CreatedAt': '2023-06-27 13:09:14 +0200 CEST',\n",
       "  'CreatedSince': '10 minutes ago',\n",
       "  'Digest': '<none>',\n",
       "  'ID': '85d6c666e1ea',\n",
       "  'Repository': '<none>',\n",
       "  'SharedSize': 'N/A',\n",
       "  'Size': '454MB',\n",
       "  'Tag': '<none>',\n",
       "  'UniqueSize': 'N/A',\n",
       "  'VirtualSize': '453.6MB'},\n",
       " {'Containers': 'N/A',\n",
       "  'CreatedAt': '2023-06-27 11:32:33 +0200 CEST',\n",
       "  'CreatedSince': '2 hours ago',\n",
       "  'Digest': '<none>',\n",
       "  'ID': 'eccd7bbcbe13',\n",
       "  'Repository': '<none>',\n",
       "  'SharedSize': 'N/A',\n",
       "  'Size': '452MB',\n",
       "  'Tag': '<none>',\n",
       "  'UniqueSize': 'N/A',\n",
       "  'VirtualSize': '452.2MB'},\n",
       " {'Containers': 'N/A',\n",
       "  'CreatedAt': '2023-06-27 09:01:35 +0200 CEST',\n",
       "  'CreatedSince': '4 hours ago',\n",
       "  'Digest': '<none>',\n",
       "  'ID': 'ddbdb45b248c',\n",
       "  'Repository': '<none>',\n",
       "  'SharedSize': 'N/A',\n",
       "  'Size': '450MB',\n",
       "  'Tag': '<none>',\n",
       "  'UniqueSize': 'N/A',\n",
       "  'VirtualSize': '450.4MB'},\n",
       " {'Containers': 'N/A',\n",
       "  'CreatedAt': '2023-06-07 11:28:11 +0200 CEST',\n",
       "  'CreatedSince': '2 weeks ago',\n",
       "  'Digest': '<none>',\n",
       "  'ID': '171df59ae0ab',\n",
       "  'Repository': 'dracor/dracor-api',\n",
       "  'SharedSize': 'N/A',\n",
       "  'Size': '367MB',\n",
       "  'Tag': 'v0.90.1-local',\n",
       "  'UniqueSize': 'N/A',\n",
       "  'VirtualSize': '367.3MB'},\n",
       " {'Containers': 'N/A',\n",
       "  'CreatedAt': '2023-06-07 10:24:13 +0200 CEST',\n",
       "  'CreatedSince': '2 weeks ago',\n",
       "  'Digest': '<none>',\n",
       "  'ID': '1806ba4d7047',\n",
       "  'Repository': 'dracor/dracor-metrics',\n",
       "  'SharedSize': 'N/A',\n",
       "  'Size': '944MB',\n",
       "  'Tag': 'v1.2.0',\n",
       "  'UniqueSize': 'N/A',\n",
       "  'VirtualSize': '943.6MB'},\n",
       " {'Containers': 'N/A',\n",
       "  'CreatedAt': '2023-06-06 09:48:38 +0200 CEST',\n",
       "  'CreatedSince': '3 weeks ago',\n",
       "  'Digest': '<none>',\n",
       "  'ID': '29b9e97eb7e3',\n",
       "  'Repository': 'dracor/dracor-frontend',\n",
       "  'SharedSize': 'N/A',\n",
       "  'Size': '67.9MB',\n",
       "  'Tag': 'v1.6.0-dirty',\n",
       "  'UniqueSize': 'N/A',\n",
       "  'VirtualSize': '67.88MB'},\n",
       " {'Containers': 'N/A',\n",
       "  'CreatedAt': '2023-06-06 09:46:38 +0200 CEST',\n",
       "  'CreatedSince': '3 weeks ago',\n",
       "  'Digest': '<none>',\n",
       "  'ID': '8063e90771d2',\n",
       "  'Repository': 'dracor/dracor-fuseki',\n",
       "  'SharedSize': 'N/A',\n",
       "  'Size': '294MB',\n",
       "  'Tag': 'v1.0.0',\n",
       "  'UniqueSize': 'N/A',\n",
       "  'VirtualSize': '294.3MB'}]"
      ]
     },
     "execution_count": 13,
     "metadata": {},
     "output_type": "execute_result"
    }
   ],
   "source": [
    "local_api.list_docker_images()"
   ]
  },
  {
   "cell_type": "code",
   "execution_count": 15,
   "id": "d5bbc240-8e4b-48d8-8289-8091f80d16d7",
   "metadata": {},
   "outputs": [
    {
     "data": {
      "text/plain": [
       "{'com.docker.compose.config-hash': 'f3e7dbfe4bebdf9f284e9ee661814e9b4623d214ea7d49854b4a651aa8e98c7d',\n",
       " 'com.docker.compose.container-number': '1',\n",
       " 'com.docker.compose.depends_on': 'metrics:service_started:false,fuseki:service_started:false',\n",
       " 'com.docker.compose.image': 'sha256:171df59ae0ab650356c45feeabe2a65b63b77c3e9bd7bf362926bfdd78e931f8',\n",
       " 'com.docker.compose.oneoff': 'False',\n",
       " 'com.docker.compose.project': 'my-stable-dracor',\n",
       " 'com.docker.compose.project.config_files': '-',\n",
       " 'com.docker.compose.project.working_dir': '/Users/ingoboerner/Projekte/dracor/stable-dracor',\n",
       " 'com.docker.compose.service': 'api',\n",
       " 'com.docker.compose.version': '2.17.3',\n",
       " 'org.dracor.stable-dracor.corpora': 'bash',\n",
       " 'org.dracor.stable-dracor.corpora.bash.commit': 'c16b58ef3726a63c431bb9575b682c165c9c0cbd',\n",
       " 'org.dracor.stable-dracor.corpora.bash.exclude.ids': 'karim-tashlama-utty,khudayberdin-aq-bilettar',\n",
       " 'org.dracor.stable-dracor.corpora.bash.exclude.type': 'slug',\n",
       " 'org.dracor.stable-dracor.corpora.bash.repository': 'https://github.com/dracor-org/bashdracor',\n",
       " 'org.dracor.stable-dracor.services': 'api,frontend,metrics,triplestore',\n",
       " 'org.dracor.stable-dracor.services.api.base-image': 'dracor/dracor-api:v0.90.1-local',\n",
       " 'org.dracor.stable-dracor.services.api.existdb': '6.0.1',\n",
       " 'org.dracor.stable-dracor.services.api.image': 'dracor/stable-dracor:my_local_bashdracor',\n",
       " 'org.dracor.stable-dracor.services.api.version': '0.90.1-2-g19a3f46-dirty',\n",
       " 'org.dracor.stable-dracor.services.frontend.image': 'dracor/dracor-frontend:v1.6.0-dirty',\n",
       " 'org.dracor.stable-dracor.services.metrics.image': 'dracor/dracor-metrics:v1.2.0',\n",
       " 'org.dracor.stable-dracor.services.triplestore.image': 'dracor/dracor-fuseki:v1.0.0',\n",
       " 'org.dracor.stable-dracor.system.id': 'd5974bd3-91ed-439c-a6a3-344cad01029a',\n",
       " 'org.dracor.stable-dracor.system.name': 'my-stable-dracor',\n",
       " 'org.dracor.stable-dracor.system.timestamp': '2023-06-27T13:19:32.656408'}"
      ]
     },
     "execution_count": 15,
     "metadata": {},
     "output_type": "execute_result"
    }
   ],
   "source": [
    "local_api.get_labels_from_docker_image(\"e78518559580\")"
   ]
  },
  {
   "cell_type": "code",
   "execution_count": null,
   "id": "321d4069-d356-45aa-b7fb-8f2b21bf05bb",
   "metadata": {},
   "outputs": [],
   "source": [
    "local_api.get_manifest_from_docker_image(\"7d3318598806\")[\"org.dracor.stable-dracor.id\"]"
   ]
  },
  {
   "cell_type": "code",
   "execution_count": null,
   "id": "5299a9be-cbf8-475c-9001-df93a728d77e",
   "metadata": {},
   "outputs": [],
   "source": [
    "local_api.create_compose_file(file_name=\"compose.bashdracor.yml\")"
   ]
  },
  {
   "cell_type": "code",
   "execution_count": null,
   "id": "aa51406f-4761-4f0a-a8dc-619bdf12de4f",
   "metadata": {},
   "outputs": [],
   "source": [
    "# Shutting down containers with Docker Desktop, deleting the containers"
   ]
  },
  {
   "cell_type": "code",
   "execution_count": null,
   "id": "5b7e8a51-4608-4607-a30c-73148665ad3d",
   "metadata": {},
   "outputs": [],
   "source": [
    "# local_api = StableDraCor()\n",
    "local_bashdracor = StableDraCor(name=\"local_bashdracor\", description=\"Local stack with BashDraCor pre-loaded\")"
   ]
  },
  {
   "cell_type": "code",
   "execution_count": null,
   "id": "d48e54ff-f7d5-4b0e-97e8-2c9bf8a3b0b2",
   "metadata": {},
   "outputs": [],
   "source": [
    "local_bashdracor.services"
   ]
  },
  {
   "cell_type": "code",
   "execution_count": null,
   "id": "644a64ed-080f-4a8f-8916-9a83baee8385",
   "metadata": {},
   "outputs": [],
   "source": [
    "local_bashdracor.run(compose_file=\"compose.bashdracor.yml\")"
   ]
  },
  {
   "cell_type": "code",
   "execution_count": null,
   "id": "080ae927-df44-400e-ad05-1dad70eab5db",
   "metadata": {},
   "outputs": [],
   "source": [
    "local_bashdracor.services"
   ]
  },
  {
   "cell_type": "code",
   "execution_count": null,
   "id": "205bc446-3628-45f6-b948-4fe4cd6395d8",
   "metadata": {},
   "outputs": [],
   "source": [
    "local_bashdracor.list_docker_containers()"
   ]
  },
  {
   "cell_type": "code",
   "execution_count": null,
   "id": "7029af67-cf42-49cb-9fa9-878e7e7299da",
   "metadata": {},
   "outputs": [],
   "source": [
    "# compose.my-stable-dracor.yml"
   ]
  },
  {
   "cell_type": "code",
   "execution_count": null,
   "id": "cba1485e-e319-405e-8373-8d370d67b072",
   "metadata": {},
   "outputs": [],
   "source": [
    "#List available Docker images\n",
    "#images = local_api.list_docker_images()\n",
    "#images"
   ]
  },
  {
   "cell_type": "code",
   "execution_count": null,
   "id": "ff89f025-e189-4414-a8d9-53eb68befff9",
   "metadata": {},
   "outputs": [],
   "source": [
    "dockerhub_user = os.environ.get(\"DOCKERHUB_USER\")\n",
    "dockerhub_password = os.environ.get(\"DOCKERHUB_PASSWORD\")"
   ]
  },
  {
   "cell_type": "code",
   "execution_count": null,
   "id": "b1daf19e-aae3-4367-9225-6130377fe114",
   "metadata": {},
   "outputs": [],
   "source": [
    "local_api.publish_docker_image(user=dockerhub_user, password=dockerhub_password)"
   ]
  },
  {
   "cell_type": "code",
   "execution_count": null,
   "id": "11cd2384-43c0-4dec-aa3e-137f969407be",
   "metadata": {},
   "outputs": [],
   "source": [
    "#containers = local_api.list_docker_containers()\n",
    "#containers"
   ]
  },
  {
   "cell_type": "code",
   "execution_count": null,
   "id": "e965ab70-52c2-4c02-a619-44604d895665",
   "metadata": {},
   "outputs": [],
   "source": [
    "#containers = local_api.list_docker_containers(only_running=True)\n",
    "#containers"
   ]
  },
  {
   "cell_type": "code",
   "execution_count": null,
   "id": "f2542bd7-a474-4ebb-8863-d631cabc669a",
   "metadata": {},
   "outputs": [],
   "source": [
    "#local_api.run()"
   ]
  },
  {
   "cell_type": "code",
   "execution_count": null,
   "id": "0a7e9760-93c5-449e-bb21-37ba2369bb3b",
   "metadata": {},
   "outputs": [],
   "source": [
    "# local_api.id"
   ]
  },
  {
   "cell_type": "code",
   "execution_count": null,
   "id": "3a481bb1-4306-4e1e-8a7a-52aa0a24cbe2",
   "metadata": {},
   "outputs": [],
   "source": [
    "# Copy a corpus from the dracor production instance at dracor.org\n",
    "# local_api.copy_corpus(source_corpusname=\"bash\")"
   ]
  },
  {
   "cell_type": "code",
   "execution_count": null,
   "id": "4c36f459-f7f0-424c-af87-ba8f7f91bc58",
   "metadata": {},
   "outputs": [],
   "source": [
    "#local_api.remove_corpus(corpusname=\"tat\")"
   ]
  },
  {
   "cell_type": "code",
   "execution_count": null,
   "id": "3aa16136-56d3-48e7-851a-1232005e1ea7",
   "metadata": {},
   "outputs": [],
   "source": [
    "# local_api.remove_corpus(corpusname=\"gersh\")"
   ]
  },
  {
   "cell_type": "code",
   "execution_count": null,
   "id": "2d403c98-d36f-44d5-ac40-be63f0c11a74",
   "metadata": {},
   "outputs": [],
   "source": [
    "#local_api.copy_corpus(source_corpusname=\"gersh\")"
   ]
  },
  {
   "cell_type": "code",
   "execution_count": null,
   "id": "3cffe550-2cf2-499c-b276-006fdf85144c",
   "metadata": {},
   "outputs": [],
   "source": [
    "# try to delete \"gersh/ein-sommernachtstraum\":\n",
    "#local_api.remove_play_from_corpus(corpusname=\"gersh\", playname=\"ein-sommernachtstraum\")\n"
   ]
  },
  {
   "cell_type": "code",
   "execution_count": null,
   "id": "c6903297-55fc-4068-a2d4-381ec3e87634",
   "metadata": {},
   "outputs": [],
   "source": [
    "#include bash, but not /bash/khudayberdin-aq-bilettar, bash/karim-aj-totolghan-tonda\n",
    "#local_api.copy_corpus(source_corpusname=\"bash\", exclude=[\"khudayberdin-aq-bilettar\",\"karim-aj-totolghan-tonda\"])"
   ]
  },
  {
   "cell_type": "code",
   "execution_count": null,
   "id": "67a32669-97f9-4a88-bf43-f0104e5df3f3",
   "metadata": {},
   "outputs": [],
   "source": [
    "# delte karim-tashlama-utty\n",
    "#local_api.remove_play_from_corpus(corpusname=\"bash\", playname=\"karim-tashlama-utty\")"
   ]
  },
  {
   "cell_type": "code",
   "execution_count": null,
   "id": "eda7e561-6a52-49de-8482-6072fd378214",
   "metadata": {},
   "outputs": [],
   "source": [
    "#local_api.remove_corpus(corpusname=\"bash\")"
   ]
  },
  {
   "cell_type": "code",
   "execution_count": null,
   "id": "25bc5fd9-4134-4519-be6b-ace9e7a89bc3",
   "metadata": {},
   "outputs": [],
   "source": [
    "# Remove a single corpus, e.g. the corpus custom\n",
    "# local_api.remove_corpus(corpusname=\"custom\")"
   ]
  },
  {
   "cell_type": "code",
   "execution_count": null,
   "id": "accb93dd-fb90-45ef-a82a-64f1395055aa",
   "metadata": {},
   "outputs": [],
   "source": [
    "\"\"\"\n",
    "imported_corpus_metadata = {\n",
    "    \"name\" : \"custom\", \n",
    "    \"title\": \"My Custom Corpus\",\n",
    "    \"description\": \"This is a custom corpus that was generated with the 'StableDraCor' client. It contains files from a local directory.\"\n",
    "}\n",
    "local_api.add_plays_from_directory(corpusname=\"custom\",directory=\"test_import_dir\", corpus_metadata=imported_corpus_metadata)\n",
    "\"\"\""
   ]
  },
  {
   "cell_type": "code",
   "execution_count": null,
   "id": "96d482f2-2b54-46a1-ac70-3f83fbe9200b",
   "metadata": {},
   "outputs": [],
   "source": [
    "\"\"\"\n",
    "filename=\"grillparzer-des-meeres-und-der-liebe-wellen\"\n",
    "commit=\"d23a93d9fa0e4eb53a580904ac5d01c8b8f8037c\"\n",
    "repository_name = \"gerdracor\"\n",
    "local_api.add_play_version_to_corpus(filename=filename, commit=commit,repository_name=repository_name, corpusname=\"gittest\")\n",
    "\"\"\""
   ]
  },
  {
   "cell_type": "code",
   "execution_count": null,
   "id": "65afd8ae-8fe8-4211-b140-a02419c4e9bd",
   "metadata": {},
   "outputs": [],
   "source": [
    "# if commit is not set, will use latest version\n",
    "\"\"\"\n",
    "filename=\"lessing-emilia-galotti\"\n",
    "repository_name = \"gerdracor\"\n",
    "local_api.add_play_version_to_corpus(filename=filename,repository_name=repository_name, corpusname=\"latestlessing\")\n",
    "\"\"\""
   ]
  },
  {
   "cell_type": "code",
   "execution_count": null,
   "id": "02b960e3-9364-46da-ae9c-7c4cbb3f87e9",
   "metadata": {},
   "outputs": [],
   "source": [
    "# local_api.list_plays_in_repo(repository_name=\"gerdracor\")"
   ]
  },
  {
   "cell_type": "code",
   "execution_count": null,
   "id": "254a338b-c897-47bc-8d82-7c3207a994f2",
   "metadata": {},
   "outputs": [],
   "source": [
    "# local_api.list_plays_in_repo(repository_name=\"rusdracor\")"
   ]
  },
  {
   "cell_type": "code",
   "execution_count": null,
   "id": "8b888513-5b3c-409b-a625-c7f453a8f098",
   "metadata": {},
   "outputs": [],
   "source": [
    "#local_api.list_plays_in_repo(repository_name=\"spandracor\")"
   ]
  },
  {
   "cell_type": "code",
   "execution_count": null,
   "id": "9b228054-fcff-4b95-aced-d053e4dfce90",
   "metadata": {},
   "outputs": [],
   "source": [
    "#Gerdracor @ 2019-04-05\n",
    "#print(\"GerDraCor commit from 2019-04-05 – Number of plays in repo: \")\n",
    "#print(len(local_api.list_plays_in_repo(repository_name=\"gerdracor\", commit=\"59df6c5bcdd5377cd6c2700777ab1b88e094b9b6\")))\n",
    "# vs current dracor\n",
    "#print(\"Current state of GerDraCor:\")\n",
    "#print(len(local_api.list_plays_in_repo(repository_name=\"gerdracor\")))"
   ]
  },
  {
   "cell_type": "code",
   "execution_count": null,
   "id": "66e422bf-f2df-4f10-a18a-25c650c2c701",
   "metadata": {},
   "outputs": [],
   "source": [
    "# local_api.add_corpus_from_repo(repository_name=\"tatdracor\")"
   ]
  },
  {
   "cell_type": "code",
   "execution_count": null,
   "id": "92c29bcc-79f6-4410-bdd0-526e4a280b52",
   "metadata": {},
   "outputs": [],
   "source": [
    "#local_api.add_corpus_from_repo(repository_name=\"bashdracor\")"
   ]
  }
 ],
 "metadata": {
  "kernelspec": {
   "display_name": "Python (stable-dracor)",
   "language": "python",
   "name": "stable-dracor"
  },
  "language_info": {
   "codemirror_mode": {
    "name": "ipython",
    "version": 3
   },
   "file_extension": ".py",
   "mimetype": "text/x-python",
   "name": "python",
   "nbconvert_exporter": "python",
   "pygments_lexer": "ipython3",
   "version": "3.11.3"
  }
 },
 "nbformat": 4,
 "nbformat_minor": 5
}
