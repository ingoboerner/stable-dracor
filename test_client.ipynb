{
 "cells": [
  {
   "cell_type": "code",
   "execution_count": 1,
   "id": "0175af51-4b72-44a2-927d-23827508790e",
   "metadata": {},
   "outputs": [],
   "source": [
    "import logging\n",
    "#logging.basicConfig(level=logging.DEBUG)\n",
    "logging.basicConfig(level=logging.INFO)"
   ]
  },
  {
   "cell_type": "code",
   "execution_count": 2,
   "id": "557a4b8a-f505-4c17-8641-4c02147c0f38",
   "metadata": {},
   "outputs": [],
   "source": [
    "from client.client import api_get"
   ]
  },
  {
   "cell_type": "code",
   "execution_count": 3,
   "id": "25ec621c-2fea-4d77-a8ac-71749889e5eb",
   "metadata": {},
   "outputs": [],
   "source": [
    "#api_get(method=\"corpora\", api_base_url=\"http://localhost:8088/api/\")\n",
    "# api_get(method=\"corpora\")"
   ]
  },
  {
   "cell_type": "code",
   "execution_count": 4,
   "id": "47ba8a8b-d914-4faf-9cca-ace3f121c9d7",
   "metadata": {},
   "outputs": [],
   "source": [
    "from client.client import StableDraCor"
   ]
  },
  {
   "cell_type": "code",
   "execution_count": 5,
   "id": "b7787efa-f837-4a4e-9bec-73dffbbb8d2b",
   "metadata": {},
   "outputs": [
    {
     "name": "stderr",
     "output_type": "stream",
     "text": [
      "INFO:root:Initialized new StableDraCor instance: 'test' (ID: 0fc84dff-1377-487a-b30f-c5485a1322e7).\n",
      "INFO:root:Local DraCor API is available at http://localhost:8088/api/.\n"
     ]
    }
   ],
   "source": [
    "# local_api = StableDraCor()\n",
    "local_api = StableDraCor(name=\"test\")"
   ]
  },
  {
   "cell_type": "code",
   "execution_count": 6,
   "id": "0a7e9760-93c5-449e-bb21-37ba2369bb3b",
   "metadata": {},
   "outputs": [],
   "source": [
    "# local_api.id"
   ]
  },
  {
   "cell_type": "code",
   "execution_count": 7,
   "id": "3a481bb1-4306-4e1e-8a7a-52aa0a24cbe2",
   "metadata": {},
   "outputs": [
    {
     "name": "stderr",
     "output_type": "stream",
     "text": [
      "WARNING:root:Did not add corpus bash. Corpus already exists.\n",
      "WARNING:root:Copying corpus bash failed.\n"
     ]
    },
    {
     "data": {
      "text/plain": [
       "False"
      ]
     },
     "execution_count": 7,
     "metadata": {},
     "output_type": "execute_result"
    }
   ],
   "source": [
    "local_api.copy_corpus(source_corpusname=\"bash\")"
   ]
  },
  {
   "cell_type": "code",
   "execution_count": 8,
   "id": "a9b0b00a-af97-4f12-bd08-c3fe9060d9fd",
   "metadata": {},
   "outputs": [],
   "source": [
    "#local_api.copy_corpus(source_corpusname=\"capek\")"
   ]
  },
  {
   "cell_type": "code",
   "execution_count": 9,
   "id": "4c36f459-f7f0-424c-af87-ba8f7f91bc58",
   "metadata": {},
   "outputs": [],
   "source": [
    "#local_api.remove_corpus(corpusname=\"tat\")"
   ]
  },
  {
   "cell_type": "code",
   "execution_count": 10,
   "id": "3aa16136-56d3-48e7-851a-1232005e1ea7",
   "metadata": {},
   "outputs": [],
   "source": [
    "# local_api.remove_corpus(corpusname=\"gersh\")"
   ]
  },
  {
   "cell_type": "code",
   "execution_count": 11,
   "id": "2d403c98-d36f-44d5-ac40-be63f0c11a74",
   "metadata": {},
   "outputs": [],
   "source": [
    "#local_api.copy_corpus(source_corpusname=\"gersh\")"
   ]
  },
  {
   "cell_type": "code",
   "execution_count": 12,
   "id": "3cffe550-2cf2-499c-b276-006fdf85144c",
   "metadata": {},
   "outputs": [],
   "source": [
    "# try to delete \"gersh/ein-sommernachtstraum\":\n",
    "#local_api.remove_play_from_corpus(corpusname=\"gersh\", playname=\"ein-sommernachtstraum\")\n"
   ]
  },
  {
   "cell_type": "code",
   "execution_count": 13,
   "id": "c6903297-55fc-4068-a2d4-381ec3e87634",
   "metadata": {},
   "outputs": [],
   "source": [
    "#include bash, but not /bash/khudayberdin-aq-bilettar, bash/karim-aj-totolghan-tonda\n",
    "#local_api.copy_corpus(source_corpusname=\"bash\", exclude=[\"khudayberdin-aq-bilettar\",\"karim-aj-totolghan-tonda\"])"
   ]
  },
  {
   "cell_type": "code",
   "execution_count": 14,
   "id": "67a32669-97f9-4a88-bf43-f0104e5df3f3",
   "metadata": {},
   "outputs": [],
   "source": [
    "# delte karim-tashlama-utty\n",
    "#local_api.remove_play_from_corpus(corpusname=\"bash\", playname=\"karim-tashlama-utty\")"
   ]
  },
  {
   "cell_type": "code",
   "execution_count": 15,
   "id": "eda7e561-6a52-49de-8482-6072fd378214",
   "metadata": {},
   "outputs": [],
   "source": [
    "#local_api.remove_corpus(corpusname=\"bash\")"
   ]
  },
  {
   "cell_type": "code",
   "execution_count": 16,
   "id": "25bc5fd9-4134-4519-be6b-ace9e7a89bc3",
   "metadata": {},
   "outputs": [
    {
     "name": "stderr",
     "output_type": "stream",
     "text": [
      "INFO:root:Removed corpus custom.\n"
     ]
    },
    {
     "data": {
      "text/plain": [
       "True"
      ]
     },
     "execution_count": 16,
     "metadata": {},
     "output_type": "execute_result"
    }
   ],
   "source": [
    "local_api.remove_corpus(corpusname=\"custom\")"
   ]
  },
  {
   "cell_type": "code",
   "execution_count": 17,
   "id": "accb93dd-fb90-45ef-a82a-64f1395055aa",
   "metadata": {},
   "outputs": [
    {
     "name": "stderr",
     "output_type": "stream",
     "text": [
      "INFO:root:Successfully created corpus custom. All metadata is available and plays are available.\n",
      "INFO:root:Added TEI data from file 'blok-neznakomka.xml' to corpus 'custom'.\n",
      "INFO:root:Added TEI data from file 'munoz-refugio.xml' to corpus 'custom'.\n",
      "INFO:root:Imported 2 files from test_import_dir as corpus 'custom'.\n"
     ]
    },
    {
     "data": {
      "text/plain": [
       "True"
      ]
     },
     "execution_count": 17,
     "metadata": {},
     "output_type": "execute_result"
    }
   ],
   "source": [
    "imported_corpus_metadata = {\n",
    "    \"name\" : \"custom\", \n",
    "    \"title\": \"My Custom Corpus\",\n",
    "    \"description\": \"This is a custom corpus that was generated with the 'StableDraCor' client. It contains files from a local directory.\"\n",
    "}\n",
    "local_api.add_plays_from_directory(corpusname=\"custom\",directory=\"test_import_dir\", corpus_metadata=imported_corpus_metadata)"
   ]
  },
  {
   "cell_type": "code",
   "execution_count": 18,
   "id": "96d482f2-2b54-46a1-ac70-3f83fbe9200b",
   "metadata": {},
   "outputs": [
    {
     "name": "stderr",
     "output_type": "stream",
     "text": [
      "INFO:root:Play 'grillparzer-des-meeres-und-der-liebe-wellen' retrieved from 'https://raw.githubusercontent.com/dracor-org/gerdracor/d23a93d9fa0e4eb53a580904ac5d01c8b8f8037c/tei/grillparzer-des-meeres-und-der-liebe-wellen.xml' has been successfully added to corpus 'gittest'. Checked and found local play data.\n"
     ]
    },
    {
     "data": {
      "text/plain": [
       "True"
      ]
     },
     "execution_count": 18,
     "metadata": {},
     "output_type": "execute_result"
    }
   ],
   "source": [
    "filename=\"grillparzer-des-meeres-und-der-liebe-wellen\"\n",
    "commit=\"d23a93d9fa0e4eb53a580904ac5d01c8b8f8037c\"\n",
    "repository_name = \"gerdracor\"\n",
    "local_api.add_play_version_to_corpus(filename=filename, commit=commit,repository_name=repository_name, corpusname=\"gittest\")"
   ]
  },
  {
   "cell_type": "code",
   "execution_count": null,
   "id": "65afd8ae-8fe8-4211-b140-a02419c4e9bd",
   "metadata": {},
   "outputs": [],
   "source": [
    "# if commit is not set, will use latest version\n",
    "filename=\"lessing-emilia-galotti\"\n",
    "repository_name = \"gerdracor\"\n",
    "local_api.add_play_version_to_corpus(filename=filename,repository_name=repository_name, corpusname=\"latestlessing\")"
   ]
  }
 ],
 "metadata": {
  "kernelspec": {
   "display_name": "Python (stable-dracor)",
   "language": "python",
   "name": "stable-dracor"
  },
  "language_info": {
   "codemirror_mode": {
    "name": "ipython",
    "version": 3
   },
   "file_extension": ".py",
   "mimetype": "text/x-python",
   "name": "python",
   "nbconvert_exporter": "python",
   "pygments_lexer": "ipython3",
   "version": "3.11.3"
  }
 },
 "nbformat": 4,
 "nbformat_minor": 5
}
