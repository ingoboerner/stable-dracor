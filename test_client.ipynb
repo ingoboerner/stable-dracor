{
 "cells": [
  {
   "cell_type": "code",
   "execution_count": 1,
   "id": "0175af51-4b72-44a2-927d-23827508790e",
   "metadata": {},
   "outputs": [],
   "source": [
    "import logging\n",
    "logging.basicConfig(level=logging.DEBUG)\n",
    "# logging.basicConfig(level=logging.INFO)"
   ]
  },
  {
   "cell_type": "code",
   "execution_count": 2,
   "id": "557a4b8a-f505-4c17-8641-4c02147c0f38",
   "metadata": {},
   "outputs": [],
   "source": [
    "# from client.client import api_get"
   ]
  },
  {
   "cell_type": "code",
   "execution_count": 3,
   "id": "25ec621c-2fea-4d77-a8ac-71749889e5eb",
   "metadata": {},
   "outputs": [],
   "source": [
    "#api_get(method=\"corpora\", api_base_url=\"http://localhost:8088/api/\")\n",
    "# api_get(method=\"corpora\")"
   ]
  },
  {
   "cell_type": "code",
   "execution_count": 4,
   "id": "47ba8a8b-d914-4faf-9cca-ace3f121c9d7",
   "metadata": {},
   "outputs": [],
   "source": [
    "from stabledracor.client import StableDraCor"
   ]
  },
  {
   "cell_type": "code",
   "execution_count": 5,
   "id": "b7787efa-f837-4a4e-9bec-73dffbbb8d2b",
   "metadata": {},
   "outputs": [
    {
     "name": "stderr",
     "output_type": "stream",
     "text": [
      "DEBUG:root:Generated ID: fc42c58e-c46d-4266-a877-7cd1b95554eb.\n",
      "DEBUG:root:Set name to: test\n",
      "INFO:root:Initialized new StableDraCor instance: 'test' (ID: fc42c58e-c46d-4266-a877-7cd1b95554eb).\n",
      "DEBUG:root:Will send GET request to: http://localhost:8088/api/info\n",
      "DEBUG:urllib3.connectionpool:Starting new HTTP connection (1): localhost:8088\n",
      "DEBUG:urllib3.connectionpool:http://localhost:8088 \"GET /api/info HTTP/1.1\" 200 None\n",
      "DEBUG:root:Parsed response to JSON.\n",
      "INFO:root:Local DraCor API is available at http://localhost:8088/api/.\n",
      "WARNING:root:Personal GitHub Access Token is not supplied. Requests to the GitHub API might be affected by rate limiting.\n",
      "DEBUG:root:Detected Operation System Type: 'posix'\n",
      "INFO:root:Docker is available.\n",
      "DEBUG:root:Detected 4 running Docker containers.\n",
      "INFO:root:Found dracor/dracor-api container with ID 0f81799ec4e2. Image is: dracor/dracor-api:v0.90.1-local\n",
      "INFO:root:Found dracor/dracor-frontend container with ID 7888262472b8. Image is: dracor/dracor-frontend:v1.6.0-dirty\n",
      "INFO:root:Found dracor/dracor-metrics container with ID e667cfbb4d9a. Image is: dracor/dracor-metrics:v1.2.0\n",
      "INFO:root:Found dracor/dracor-fuseki container with ID e315c8f4b21c. Image is: dracor/dracor-fuseki:v1.0.0\n"
     ]
    }
   ],
   "source": [
    "# local_api = StableDraCor()\n",
    "local_api = StableDraCor(name=\"test\")"
   ]
  },
  {
   "cell_type": "code",
   "execution_count": 6,
   "id": "97746e69-7167-4821-80ed-d8c99691deb4",
   "metadata": {},
   "outputs": [
    {
     "data": {
      "text/plain": [
       "{'api': {'container': '0f81799ec4e2',\n",
       "  'image': 'dracor/dracor-api:v0.90.1-local'},\n",
       " 'frontend': {'container': '7888262472b8',\n",
       "  'image': 'dracor/dracor-frontend:v1.6.0-dirty'},\n",
       " 'metrics': {'container': 'e667cfbb4d9a',\n",
       "  'image': 'dracor/dracor-metrics:v1.2.0'},\n",
       " 'triplestore': {'container': 'e315c8f4b21c',\n",
       "  'image': 'dracor/dracor-fuseki:v1.0.0'}}"
      ]
     },
     "execution_count": 6,
     "metadata": {},
     "output_type": "execute_result"
    }
   ],
   "source": [
    "local_api.services"
   ]
  },
  {
   "cell_type": "code",
   "execution_count": 7,
   "id": "e58ed908-b778-4606-b76b-5af11998615f",
   "metadata": {},
   "outputs": [
    {
     "name": "stderr",
     "output_type": "stream",
     "text": [
      "INFO:root:Stored configuration (docker-compose file) as compose.test.yml.\n"
     ]
    }
   ],
   "source": [
    "local_api.create_compose_file()"
   ]
  },
  {
   "cell_type": "code",
   "execution_count": 8,
   "id": "4036c142-05f4-4b5e-8207-54ad89ff9f3b",
   "metadata": {},
   "outputs": [
    {
     "name": "stderr",
     "output_type": "stream",
     "text": [
      "DEBUG:root:Creating image of service 'api'.\n",
      "DEBUG:root:Container 0f81799ec4e2 is in state: running.\n",
      "WARNING:root:The dracor-api container is running. There might be issues with the image, if it is create from a running container. Consider stopping it before creating the image.\n",
      "INFO:root:Committed container 0f81799ec4e2 as dracor/stable-dracor:my_new_test_image. Image identifier sha256:8dc1f0da257f66bd19b1603fbb8e3ce1dd02380cc1daed66e21241695c045f78\n",
      ".\n",
      "DEBUG:root:Updated services. Image dracor/stable-dracor:my_new_test_image is set as service 'api'.\n"
     ]
    }
   ],
   "source": [
    "local_api.create_docker_image_of_service(service=\"api\", image_tag=\"my_new_test_image\")"
   ]
  },
  {
   "cell_type": "code",
   "execution_count": null,
   "id": "94c67163-a73f-4c31-8fa1-410cb748ce1a",
   "metadata": {},
   "outputs": [],
   "source": [
    "local_api.services"
   ]
  },
  {
   "cell_type": "code",
   "execution_count": null,
   "id": "5299a9be-cbf8-475c-9001-df93a728d77e",
   "metadata": {},
   "outputs": [],
   "source": [
    "local_api.create_compose_file()"
   ]
  },
  {
   "cell_type": "code",
   "execution_count": null,
   "id": "cba1485e-e319-405e-8373-8d370d67b072",
   "metadata": {},
   "outputs": [],
   "source": [
    "#List available Docker images\n",
    "#images = local_api.list_docker_images()\n",
    "#images"
   ]
  },
  {
   "cell_type": "code",
   "execution_count": null,
   "id": "ff89f025-e189-4414-a8d9-53eb68befff9",
   "metadata": {},
   "outputs": [],
   "source": [
    "import os\n",
    "dockerhub_user = os.environ.get(\"DOCKERHUB_USER\")\n",
    "dockerhub_password = os.environ.get(\"DOCKERHUB_PASSWORD\")"
   ]
  },
  {
   "cell_type": "code",
   "execution_count": null,
   "id": "b1daf19e-aae3-4367-9225-6130377fe114",
   "metadata": {},
   "outputs": [],
   "source": [
    "local_api.publish_docker_image(user=dockerhub_user, password=dockerhub_password)"
   ]
  },
  {
   "cell_type": "code",
   "execution_count": null,
   "id": "11cd2384-43c0-4dec-aa3e-137f969407be",
   "metadata": {},
   "outputs": [],
   "source": [
    "#containers = local_api.list_docker_containers()\n",
    "#containers"
   ]
  },
  {
   "cell_type": "code",
   "execution_count": null,
   "id": "e965ab70-52c2-4c02-a619-44604d895665",
   "metadata": {},
   "outputs": [],
   "source": [
    "#containers = local_api.list_docker_containers(only_running=True)\n",
    "#containers"
   ]
  },
  {
   "cell_type": "code",
   "execution_count": null,
   "id": "f2542bd7-a474-4ebb-8863-d631cabc669a",
   "metadata": {},
   "outputs": [],
   "source": [
    "#local_api.run()"
   ]
  },
  {
   "cell_type": "code",
   "execution_count": null,
   "id": "0a7e9760-93c5-449e-bb21-37ba2369bb3b",
   "metadata": {},
   "outputs": [],
   "source": [
    "# local_api.id"
   ]
  },
  {
   "cell_type": "code",
   "execution_count": null,
   "id": "3a481bb1-4306-4e1e-8a7a-52aa0a24cbe2",
   "metadata": {},
   "outputs": [],
   "source": [
    "# Copy a corpus from the dracor production instance at dracor.org\n",
    "# local_api.copy_corpus(source_corpusname=\"bash\")"
   ]
  },
  {
   "cell_type": "code",
   "execution_count": null,
   "id": "4c36f459-f7f0-424c-af87-ba8f7f91bc58",
   "metadata": {},
   "outputs": [],
   "source": [
    "#local_api.remove_corpus(corpusname=\"tat\")"
   ]
  },
  {
   "cell_type": "code",
   "execution_count": null,
   "id": "3aa16136-56d3-48e7-851a-1232005e1ea7",
   "metadata": {},
   "outputs": [],
   "source": [
    "# local_api.remove_corpus(corpusname=\"gersh\")"
   ]
  },
  {
   "cell_type": "code",
   "execution_count": null,
   "id": "2d403c98-d36f-44d5-ac40-be63f0c11a74",
   "metadata": {},
   "outputs": [],
   "source": [
    "#local_api.copy_corpus(source_corpusname=\"gersh\")"
   ]
  },
  {
   "cell_type": "code",
   "execution_count": null,
   "id": "3cffe550-2cf2-499c-b276-006fdf85144c",
   "metadata": {},
   "outputs": [],
   "source": [
    "# try to delete \"gersh/ein-sommernachtstraum\":\n",
    "#local_api.remove_play_from_corpus(corpusname=\"gersh\", playname=\"ein-sommernachtstraum\")\n"
   ]
  },
  {
   "cell_type": "code",
   "execution_count": null,
   "id": "c6903297-55fc-4068-a2d4-381ec3e87634",
   "metadata": {},
   "outputs": [],
   "source": [
    "#include bash, but not /bash/khudayberdin-aq-bilettar, bash/karim-aj-totolghan-tonda\n",
    "#local_api.copy_corpus(source_corpusname=\"bash\", exclude=[\"khudayberdin-aq-bilettar\",\"karim-aj-totolghan-tonda\"])"
   ]
  },
  {
   "cell_type": "code",
   "execution_count": null,
   "id": "67a32669-97f9-4a88-bf43-f0104e5df3f3",
   "metadata": {},
   "outputs": [],
   "source": [
    "# delte karim-tashlama-utty\n",
    "#local_api.remove_play_from_corpus(corpusname=\"bash\", playname=\"karim-tashlama-utty\")"
   ]
  },
  {
   "cell_type": "code",
   "execution_count": null,
   "id": "eda7e561-6a52-49de-8482-6072fd378214",
   "metadata": {},
   "outputs": [],
   "source": [
    "#local_api.remove_corpus(corpusname=\"bash\")"
   ]
  },
  {
   "cell_type": "code",
   "execution_count": null,
   "id": "25bc5fd9-4134-4519-be6b-ace9e7a89bc3",
   "metadata": {},
   "outputs": [],
   "source": [
    "# Remove a single corpus, e.g. the corpus custom\n",
    "# local_api.remove_corpus(corpusname=\"custom\")"
   ]
  },
  {
   "cell_type": "code",
   "execution_count": null,
   "id": "accb93dd-fb90-45ef-a82a-64f1395055aa",
   "metadata": {},
   "outputs": [],
   "source": [
    "\"\"\"\n",
    "imported_corpus_metadata = {\n",
    "    \"name\" : \"custom\", \n",
    "    \"title\": \"My Custom Corpus\",\n",
    "    \"description\": \"This is a custom corpus that was generated with the 'StableDraCor' client. It contains files from a local directory.\"\n",
    "}\n",
    "local_api.add_plays_from_directory(corpusname=\"custom\",directory=\"test_import_dir\", corpus_metadata=imported_corpus_metadata)\n",
    "\"\"\""
   ]
  },
  {
   "cell_type": "code",
   "execution_count": null,
   "id": "96d482f2-2b54-46a1-ac70-3f83fbe9200b",
   "metadata": {},
   "outputs": [],
   "source": [
    "\"\"\"\n",
    "filename=\"grillparzer-des-meeres-und-der-liebe-wellen\"\n",
    "commit=\"d23a93d9fa0e4eb53a580904ac5d01c8b8f8037c\"\n",
    "repository_name = \"gerdracor\"\n",
    "local_api.add_play_version_to_corpus(filename=filename, commit=commit,repository_name=repository_name, corpusname=\"gittest\")\n",
    "\"\"\""
   ]
  },
  {
   "cell_type": "code",
   "execution_count": null,
   "id": "65afd8ae-8fe8-4211-b140-a02419c4e9bd",
   "metadata": {},
   "outputs": [],
   "source": [
    "# if commit is not set, will use latest version\n",
    "\"\"\"\n",
    "filename=\"lessing-emilia-galotti\"\n",
    "repository_name = \"gerdracor\"\n",
    "local_api.add_play_version_to_corpus(filename=filename,repository_name=repository_name, corpusname=\"latestlessing\")\n",
    "\"\"\""
   ]
  },
  {
   "cell_type": "code",
   "execution_count": null,
   "id": "02b960e3-9364-46da-ae9c-7c4cbb3f87e9",
   "metadata": {},
   "outputs": [],
   "source": [
    "# local_api.list_plays_in_repo(repository_name=\"gerdracor\")"
   ]
  },
  {
   "cell_type": "code",
   "execution_count": null,
   "id": "254a338b-c897-47bc-8d82-7c3207a994f2",
   "metadata": {},
   "outputs": [],
   "source": [
    "# local_api.list_plays_in_repo(repository_name=\"rusdracor\")"
   ]
  },
  {
   "cell_type": "code",
   "execution_count": null,
   "id": "8b888513-5b3c-409b-a625-c7f453a8f098",
   "metadata": {},
   "outputs": [],
   "source": [
    "#local_api.list_plays_in_repo(repository_name=\"spandracor\")"
   ]
  },
  {
   "cell_type": "code",
   "execution_count": null,
   "id": "9b228054-fcff-4b95-aced-d053e4dfce90",
   "metadata": {},
   "outputs": [],
   "source": [
    "#Gerdracor @ 2019-04-05\n",
    "#print(\"GerDraCor commit from 2019-04-05 – Number of plays in repo: \")\n",
    "#print(len(local_api.list_plays_in_repo(repository_name=\"gerdracor\", commit=\"59df6c5bcdd5377cd6c2700777ab1b88e094b9b6\")))\n",
    "# vs current dracor\n",
    "#print(\"Current state of GerDraCor:\")\n",
    "#print(len(local_api.list_plays_in_repo(repository_name=\"gerdracor\")))"
   ]
  },
  {
   "cell_type": "code",
   "execution_count": null,
   "id": "66e422bf-f2df-4f10-a18a-25c650c2c701",
   "metadata": {},
   "outputs": [],
   "source": [
    "# local_api.add_corpus_from_repo(repository_name=\"tatdracor\")"
   ]
  },
  {
   "cell_type": "code",
   "execution_count": null,
   "id": "92c29bcc-79f6-4410-bdd0-526e4a280b52",
   "metadata": {},
   "outputs": [],
   "source": [
    "#local_api.add_corpus_from_repo(repository_name=\"bashdracor\")"
   ]
  }
 ],
 "metadata": {
  "kernelspec": {
   "display_name": "Python (stable-dracor)",
   "language": "python",
   "name": "stable-dracor"
  },
  "language_info": {
   "codemirror_mode": {
    "name": "ipython",
    "version": 3
   },
   "file_extension": ".py",
   "mimetype": "text/x-python",
   "name": "python",
   "nbconvert_exporter": "python",
   "pygments_lexer": "ipython3",
   "version": "3.11.3"
  }
 },
 "nbformat": 4,
 "nbformat_minor": 5
}
