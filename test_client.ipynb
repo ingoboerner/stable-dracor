{
 "cells": [
  {
   "cell_type": "code",
   "execution_count": 1,
   "id": "0175af51-4b72-44a2-927d-23827508790e",
   "metadata": {},
   "outputs": [],
   "source": [
    "import logging\n",
    "#logging.basicConfig(level=logging.DEBUG)\n",
    "logging.basicConfig(level=logging.INFO)"
   ]
  },
  {
   "cell_type": "code",
   "execution_count": 2,
   "id": "e8d558ba-4824-4c88-878f-7187e670c44e",
   "metadata": {},
   "outputs": [],
   "source": [
    "import os"
   ]
  },
  {
   "cell_type": "code",
   "execution_count": 3,
   "id": "7418dd5b-0118-4a35-aec2-18155c93a0eb",
   "metadata": {},
   "outputs": [],
   "source": [
    "#export GITHUB_TOKEN={token}\n",
    "# https://github.com/settings/tokens\n",
    "github_token = os.environ.get(\"GITHUB_TOKEN\")"
   ]
  },
  {
   "cell_type": "code",
   "execution_count": 4,
   "id": "557a4b8a-f505-4c17-8641-4c02147c0f38",
   "metadata": {},
   "outputs": [],
   "source": [
    "# from client.client import api_get"
   ]
  },
  {
   "cell_type": "code",
   "execution_count": 5,
   "id": "25ec621c-2fea-4d77-a8ac-71749889e5eb",
   "metadata": {},
   "outputs": [],
   "source": [
    "#api_get(method=\"corpora\", api_base_url=\"http://localhost:8088/api/\")\n",
    "# api_get(method=\"corpora\")"
   ]
  },
  {
   "cell_type": "code",
   "execution_count": 6,
   "id": "47ba8a8b-d914-4faf-9cca-ace3f121c9d7",
   "metadata": {},
   "outputs": [],
   "source": [
    "from src.stabledracor.client import StableDraCor"
   ]
  },
  {
   "cell_type": "code",
   "execution_count": 7,
   "id": "b7787efa-f837-4a4e-9bec-73dffbbb8d2b",
   "metadata": {},
   "outputs": [
    {
     "name": "stderr",
     "output_type": "stream",
     "text": [
      "INFO:root:Initialized new StableDraCor instance: 'my-stable-dracor' (ID: b76fc62e-a9bf-4558-ad5d-73986da60331).\n",
      "WARNING:root:Local DraCor API is not available at http://localhost:8088/api/.\n",
      "INFO:root:Docker is available.\n",
      "WARNING:root:Could not detect a running Docker container derived from a dracor/dracor-api image.\n",
      "WARNING:root:Could not detect a running Docker container derived from a dracor/dracor-frontend image.\n",
      "WARNING:root:Could not detect a running Docker container derived from a dracor/dracor-metrics image.\n",
      "WARNING:root:Could not detect a running Docker container derived from a dracor/dracor-fuseki image.\n",
      "WARNING:root:Could not detect a running Docker container derived from a dracor/stable-dracor image.\n"
     ]
    }
   ],
   "source": [
    "# local_api = StableDraCor()\n",
    "local_api = StableDraCor(name=\"my-stable-dracor\", github_access_token=github_token)"
   ]
  },
  {
   "cell_type": "code",
   "execution_count": 8,
   "id": "5d64294c-d752-42f6-8e35-105a0a9fee78",
   "metadata": {},
   "outputs": [
    {
     "name": "stderr",
     "output_type": "stream",
     "text": [
      "INFO:root:Fetched default compose file (configuration) from https://raw.githubusercontent.com/dracor-org/stabledracor/master/configurations/compose.fullstack.empty.yml.\n",
      " Network my-stable-dracor_default  Creating\n",
      " Network my-stable-dracor_default  Created\n",
      " Container my-stable-dracor-metrics-1  Creating\n",
      " Container my-stable-dracor-fuseki-1  Creating\n",
      " Container my-stable-dracor-metrics-1  Created\n",
      " Container my-stable-dracor-fuseki-1  Created\n",
      " Container my-stable-dracor-api-1  Creating\n",
      " Container my-stable-dracor-api-1  Created\n",
      " Container my-stable-dracor-frontend-1  Creating\n",
      " Container my-stable-dracor-frontend-1  Created\n",
      " Container my-stable-dracor-metrics-1  Starting\n",
      " Container my-stable-dracor-fuseki-1  Starting\n",
      " Container my-stable-dracor-metrics-1  Started\n",
      " Container my-stable-dracor-fuseki-1  Started\n",
      " Container my-stable-dracor-api-1  Starting\n",
      " Container my-stable-dracor-api-1  Started\n",
      " Container my-stable-dracor-frontend-1  Starting\n",
      " Container my-stable-dracor-frontend-1  Started\n",
      "INFO:root:Started with downloaded docker compose file.\n",
      "INFO:root:Found dracor/dracor-api container with ID aba58aaee396. Image is: dracor/dracor-api:v0.90.1-local\n",
      "INFO:root:Found dracor/dracor-frontend container with ID 6634cd27d881. Image is: dracor/dracor-frontend:v1.6.0-dirty\n",
      "INFO:root:Found dracor/dracor-metrics container with ID 992f6777a0e5. Image is: dracor/dracor-metrics:v1.2.0\n",
      "INFO:root:Found dracor/dracor-fuseki container with ID 4e2ca890e9d6. Image is: dracor/dracor-fuseki:v1.0.0\n",
      "INFO:root:Trying to connect to the local DraCor API. This can take some time ...\n",
      "INFO:root:DraCor API can be reached at 'http://localhost:8088/api/'.\n"
     ]
    },
    {
     "data": {
      "text/plain": [
       "True"
      ]
     },
     "execution_count": 8,
     "metadata": {},
     "output_type": "execute_result"
    }
   ],
   "source": [
    "local_api.run()"
   ]
  },
  {
   "cell_type": "code",
   "execution_count": 9,
   "id": "afac474b-3c22-459f-84df-f8cecd8f9ceb",
   "metadata": {},
   "outputs": [
    {
     "data": {
      "text/plain": [
       "{'name': 'DraCor API',\n",
       " 'version': '0.90.1-2-g19a3f46-dirty',\n",
       " 'status': 'beta',\n",
       " 'existdb': '6.0.1',\n",
       " 'base': 'http://localhost:8088/api'}"
      ]
     },
     "execution_count": 9,
     "metadata": {},
     "output_type": "execute_result"
    }
   ],
   "source": [
    "local_api.get_api_info()"
   ]
  },
  {
   "cell_type": "markdown",
   "id": "f902c3f4-eb5e-475c-bfb1-aac6da301390",
   "metadata": {},
   "source": [
    "## Corpus from several sources"
   ]
  },
  {
   "cell_type": "code",
   "execution_count": 10,
   "id": "d3ba5793-c122-418d-a583-9f0ec8c636f0",
   "metadata": {},
   "outputs": [],
   "source": [
    "multi_source_corpus_metadata = {\n",
    "    \"name\" : \"multi\", \n",
    "    \"title\": \"Multiple Sources Corpus\",\n",
    "    \"description\": \"This is a custom corpus that was generated with the 'StableDraCor' client. It contains files from various sources.\"\n",
    "}"
   ]
  },
  {
   "cell_type": "code",
   "execution_count": 11,
   "id": "1d483523-6609-4eec-9d87-873809c29608",
   "metadata": {},
   "outputs": [
    {
     "name": "stderr",
     "output_type": "stream",
     "text": [
      "INFO:root:Successfully created corpus multi. All metadata is available and plays are available.\n"
     ]
    },
    {
     "data": {
      "text/plain": [
       "True"
      ]
     },
     "execution_count": 11,
     "metadata": {},
     "output_type": "execute_result"
    }
   ],
   "source": [
    "# need to explicitly register this corpus\n",
    "local_api.add_corpus(corpus_metadata=multi_source_corpus_metadata, register=True)"
   ]
  },
  {
   "cell_type": "code",
   "execution_count": 12,
   "id": "b90f3779-8823-49a9-a2d6-27a6a0abdb5a",
   "metadata": {},
   "outputs": [
    {
     "data": {
      "text/plain": [
       "{'version': 'v1',\n",
       " 'system': {'id': 'b76fc62e-a9bf-4558-ad5d-73986da60331',\n",
       "  'name': 'my-stable-dracor',\n",
       "  'timestamp': '2023-06-30T13:46:34.511971'},\n",
       " 'services': {'api': {'container': 'aba58aaee396',\n",
       "   'image': 'dracor/dracor-api:v0.90.1-local',\n",
       "   'version': '0.90.1-2-g19a3f46-dirty',\n",
       "   'existdb': '6.0.1'},\n",
       "  'frontend': {'container': '6634cd27d881',\n",
       "   'image': 'dracor/dracor-frontend:v1.6.0-dirty'},\n",
       "  'metrics': {'container': '992f6777a0e5',\n",
       "   'image': 'dracor/dracor-metrics:v1.2.0'},\n",
       "  'triplestore': {'container': '4e2ca890e9d6',\n",
       "   'image': 'dracor/dracor-fuseki:v1.0.0'}},\n",
       " 'corpora': {'multi': {'corpusname': 'multi',\n",
       "   'timestamp': '2023-06-30T13:46:34.484527',\n",
       "   'num_of_plays': 0}}}"
      ]
     },
     "execution_count": 12,
     "metadata": {},
     "output_type": "execute_result"
    }
   ],
   "source": [
    "local_api.get_manifest()"
   ]
  },
  {
   "cell_type": "code",
   "execution_count": 13,
   "id": "de42b774-189c-431f-aefc-481524f899a4",
   "metadata": {},
   "outputs": [
    {
     "name": "stderr",
     "output_type": "stream",
     "text": [
      "INFO:root:Successfully added all 3 files of repository 'dracor-org/tatdracor' to corpus 'multi'.\n"
     ]
    },
    {
     "data": {
      "text/plain": [
       "True"
      ]
     },
     "execution_count": 13,
     "metadata": {},
     "output_type": "execute_result"
    }
   ],
   "source": [
    "local_api.add_files_from_repo(corpusname=\"multi\", repository_name=\"tatdracor\")"
   ]
  },
  {
   "cell_type": "code",
   "execution_count": 14,
   "id": "77f7982b-67a6-4930-ae17-e53917b475ea",
   "metadata": {},
   "outputs": [
    {
     "data": {
      "text/plain": [
       "{'version': 'v1',\n",
       " 'system': {'id': 'b76fc62e-a9bf-4558-ad5d-73986da60331',\n",
       "  'name': 'my-stable-dracor',\n",
       "  'timestamp': '2023-06-30T13:46:54.745526'},\n",
       " 'services': {'api': {'container': 'aba58aaee396',\n",
       "   'image': 'dracor/dracor-api:v0.90.1-local',\n",
       "   'version': '0.90.1-2-g19a3f46-dirty',\n",
       "   'existdb': '6.0.1'},\n",
       "  'frontend': {'container': '6634cd27d881',\n",
       "   'image': 'dracor/dracor-frontend:v1.6.0-dirty'},\n",
       "  'metrics': {'container': '992f6777a0e5',\n",
       "   'image': 'dracor/dracor-metrics:v1.2.0'},\n",
       "  'triplestore': {'container': '4e2ca890e9d6',\n",
       "   'image': 'dracor/dracor-fuseki:v1.0.0'}},\n",
       " 'corpora': {'multi': {'corpusname': 'multi',\n",
       "   'timestamp': '2023-06-30T13:46:34.484527',\n",
       "   'num_of_plays': 3,\n",
       "   'sources': {'tatdracor': {'type': 'repository',\n",
       "     'commit': '5c71364f39f6533baa3a2e04217fd39e0898c851',\n",
       "     'url': 'https://github.com/dracor-org/tatdracor',\n",
       "     'timestamp': '2023-06-30T13:46:42.844741',\n",
       "     'num_of_plays': 3}}}}}"
      ]
     },
     "execution_count": 14,
     "metadata": {},
     "output_type": "execute_result"
    }
   ],
   "source": [
    "local_api.get_manifest()"
   ]
  },
  {
   "cell_type": "code",
   "execution_count": 15,
   "id": "307f0c65-f6df-4039-88e8-7a08b26df6ec",
   "metadata": {},
   "outputs": [
    {
     "name": "stderr",
     "output_type": "stream",
     "text": [
      "INFO:root:Successfully added all 1 files of repository 'dracor-org/bashdracor' to corpus 'multi'.\n"
     ]
    },
    {
     "data": {
      "text/plain": [
       "True"
      ]
     },
     "execution_count": 15,
     "metadata": {},
     "output_type": "execute_result"
    }
   ],
   "source": [
    "local_api.add_files_from_repo(corpusname=\"multi\", \n",
    "                              repository_name=\"bashdracor\", \n",
    "                              exclude=[\"khudayberdin-aq-bilettar\", \"karim-tashlama-utty\"])"
   ]
  },
  {
   "cell_type": "code",
   "execution_count": 16,
   "id": "9aea0fde-a51d-4160-a11b-7b0847bbbc9a",
   "metadata": {},
   "outputs": [
    {
     "data": {
      "text/plain": [
       "{'version': 'v1',\n",
       " 'system': {'id': 'b76fc62e-a9bf-4558-ad5d-73986da60331',\n",
       "  'name': 'my-stable-dracor',\n",
       "  'timestamp': '2023-06-30T13:47:15.530690'},\n",
       " 'services': {'api': {'container': 'aba58aaee396',\n",
       "   'image': 'dracor/dracor-api:v0.90.1-local',\n",
       "   'version': '0.90.1-2-g19a3f46-dirty',\n",
       "   'existdb': '6.0.1'},\n",
       "  'frontend': {'container': '6634cd27d881',\n",
       "   'image': 'dracor/dracor-frontend:v1.6.0-dirty'},\n",
       "  'metrics': {'container': '992f6777a0e5',\n",
       "   'image': 'dracor/dracor-metrics:v1.2.0'},\n",
       "  'triplestore': {'container': '4e2ca890e9d6',\n",
       "   'image': 'dracor/dracor-fuseki:v1.0.0'}},\n",
       " 'corpora': {'multi': {'corpusname': 'multi',\n",
       "   'timestamp': '2023-06-30T13:46:34.484527',\n",
       "   'num_of_plays': 4,\n",
       "   'sources': {'tatdracor': {'type': 'repository',\n",
       "     'commit': '5c71364f39f6533baa3a2e04217fd39e0898c851',\n",
       "     'url': 'https://github.com/dracor-org/tatdracor',\n",
       "     'timestamp': '2023-06-30T13:46:42.844741',\n",
       "     'num_of_plays': 3},\n",
       "    'bashdracor': {'type': 'repository',\n",
       "     'commit': 'c16b58ef3726a63c431bb9575b682c165c9c0cbd',\n",
       "     'url': 'https://github.com/dracor-org/bashdracor',\n",
       "     'timestamp': '2023-06-30T13:47:00.478421',\n",
       "     'exclude': {'type': 'slug',\n",
       "      'ids': ['karim-tashlama-utty', 'khudayberdin-aq-bilettar']},\n",
       "     'num_of_plays': 1}}}}}"
      ]
     },
     "execution_count": 16,
     "metadata": {},
     "output_type": "execute_result"
    }
   ],
   "source": [
    "local_api.get_manifest()"
   ]
  },
  {
   "cell_type": "code",
   "execution_count": 17,
   "id": "0a189d22-6cc4-44a0-83ce-03331c20c3d8",
   "metadata": {},
   "outputs": [
    {
     "name": "stderr",
     "output_type": "stream",
     "text": [
      "INFO:root:Successfully added all 25 files of repository 'dracor-org/spandracor' to corpus 'multi'.\n"
     ]
    },
    {
     "data": {
      "text/plain": [
       "True"
      ]
     },
     "execution_count": 17,
     "metadata": {},
     "output_type": "execute_result"
    }
   ],
   "source": [
    "local_api.add_files_from_repo(corpusname=\"multi\", repository_name=\"spandracor\")"
   ]
  },
  {
   "cell_type": "code",
   "execution_count": 18,
   "id": "e3494c9b-7601-49eb-a76d-c257532ae57d",
   "metadata": {},
   "outputs": [
    {
     "data": {
      "text/plain": [
       "{'version': 'v1',\n",
       " 'system': {'id': 'b76fc62e-a9bf-4558-ad5d-73986da60331',\n",
       "  'name': 'my-stable-dracor',\n",
       "  'timestamp': '2023-06-30T13:48:29.872121'},\n",
       " 'services': {'api': {'container': 'aba58aaee396',\n",
       "   'image': 'dracor/dracor-api:v0.90.1-local',\n",
       "   'version': '0.90.1-2-g19a3f46-dirty',\n",
       "   'existdb': '6.0.1'},\n",
       "  'frontend': {'container': '6634cd27d881',\n",
       "   'image': 'dracor/dracor-frontend:v1.6.0-dirty'},\n",
       "  'metrics': {'container': '992f6777a0e5',\n",
       "   'image': 'dracor/dracor-metrics:v1.2.0'},\n",
       "  'triplestore': {'container': '4e2ca890e9d6',\n",
       "   'image': 'dracor/dracor-fuseki:v1.0.0'}},\n",
       " 'corpora': {'multi': {'corpusname': 'multi',\n",
       "   'timestamp': '2023-06-30T13:46:34.484527',\n",
       "   'num_of_plays': 29,\n",
       "   'sources': {'tatdracor': {'type': 'repository',\n",
       "     'commit': '5c71364f39f6533baa3a2e04217fd39e0898c851',\n",
       "     'url': 'https://github.com/dracor-org/tatdracor',\n",
       "     'timestamp': '2023-06-30T13:46:42.844741',\n",
       "     'num_of_plays': 3},\n",
       "    'bashdracor': {'type': 'repository',\n",
       "     'commit': 'c16b58ef3726a63c431bb9575b682c165c9c0cbd',\n",
       "     'url': 'https://github.com/dracor-org/bashdracor',\n",
       "     'timestamp': '2023-06-30T13:47:00.478421',\n",
       "     'exclude': {'type': 'slug',\n",
       "      'ids': ['karim-tashlama-utty', 'khudayberdin-aq-bilettar']},\n",
       "     'num_of_plays': 1},\n",
       "    'spandracor': {'type': 'repository',\n",
       "     'commit': '184ebf975ad9cd674ff37cab44a181fa7ed8d85f',\n",
       "     'url': 'https://github.com/dracor-org/spandracor',\n",
       "     'timestamp': '2023-06-30T13:47:20.506573',\n",
       "     'num_of_plays': 25}}}}}"
      ]
     },
     "execution_count": 18,
     "metadata": {},
     "output_type": "execute_result"
    }
   ],
   "source": [
    "local_api.get_manifest()"
   ]
  },
  {
   "cell_type": "markdown",
   "id": "fbdabe49-d843-427b-940d-286780d04048",
   "metadata": {},
   "source": [
    "## Testing the manifest stuff"
   ]
  },
  {
   "cell_type": "code",
   "execution_count": null,
   "id": "b963e2ba-7831-4776-b753-09d7346ae2f5",
   "metadata": {},
   "outputs": [],
   "source": [
    "local_api.get_manifest()"
   ]
  },
  {
   "cell_type": "code",
   "execution_count": null,
   "id": "fdcdd592-b33e-464b-b5bd-46247def25ee",
   "metadata": {},
   "outputs": [],
   "source": [
    "local_api.copy_corpus(source_corpusname=\"tat\", exclude=[\"qamal-kaynish\"])"
   ]
  },
  {
   "cell_type": "code",
   "execution_count": null,
   "id": "804c6a11-018c-4198-bf4b-5d841755a7db",
   "metadata": {},
   "outputs": [],
   "source": [
    "local_api.get_manifest()"
   ]
  },
  {
   "cell_type": "code",
   "execution_count": null,
   "id": "8ae94ef0-f472-490c-b190-78354a798147",
   "metadata": {},
   "outputs": [],
   "source": [
    "imported_corpus_metadata = {\n",
    "    \"name\" : \"files\", \n",
    "    \"title\": \"My Custom Corpus\",\n",
    "    \"description\": \"This is a custom corpus that was generated with the 'StableDraCor' client. It contains files from a local directory.\"\n",
    "}\n",
    "local_api.add_plays_from_directory(corpusname=\"files\",directory=\"test_import_dir\", corpus_metadata=imported_corpus_metadata)"
   ]
  },
  {
   "cell_type": "code",
   "execution_count": null,
   "id": "46ca5cf4-4a7b-431b-bc57-f36c7f799581",
   "metadata": {},
   "outputs": [],
   "source": [
    "local_api.get_manifest()"
   ]
  },
  {
   "cell_type": "code",
   "execution_count": null,
   "id": "8251d926-9f59-4e17-9b56-cb5c94a48fcf",
   "metadata": {},
   "outputs": [],
   "source": [
    "#local_api.run(compose_file=\"configurations/compose.fullstack.empty.yml\")"
   ]
  },
  {
   "cell_type": "code",
   "execution_count": null,
   "id": "24d2afff-9834-416e-afe6-90b2dd85e3ee",
   "metadata": {},
   "outputs": [],
   "source": [
    "#local_api.stop()"
   ]
  },
  {
   "cell_type": "code",
   "execution_count": null,
   "id": "e58ed908-b778-4606-b76b-5af11998615f",
   "metadata": {},
   "outputs": [],
   "source": [
    "local_api.create_compose_file()"
   ]
  },
  {
   "cell_type": "code",
   "execution_count": null,
   "id": "d72b7f46-19e0-416e-8308-8d626a592221",
   "metadata": {},
   "outputs": [],
   "source": [
    "local_api.add_corpus_from_repo(repository_name=\"bashdracor\", exclude=[\"khudayberdin-aq-bilettar\", \"karim-tashlama-utty\"])"
   ]
  },
  {
   "cell_type": "code",
   "execution_count": null,
   "id": "97e6b1f0-fd52-4e31-8d04-8ff84a1b63e4",
   "metadata": {},
   "outputs": [],
   "source": [
    "local_api.get_manifest()"
   ]
  },
  {
   "cell_type": "code",
   "execution_count": null,
   "id": "4036c142-05f4-4b5e-8207-54ad89ff9f3b",
   "metadata": {},
   "outputs": [],
   "source": [
    "local_api.create_docker_image_of_service(service=\"api\", image_tag=\"my_local_dracor_three_corpora\")"
   ]
  },
  {
   "cell_type": "code",
   "execution_count": null,
   "id": "1acdf5ea-b571-4126-9175-bc42c3344bbb",
   "metadata": {},
   "outputs": [],
   "source": [
    "local_api.list_docker_images()"
   ]
  },
  {
   "cell_type": "code",
   "execution_count": null,
   "id": "d5bbc240-8e4b-48d8-8289-8091f80d16d7",
   "metadata": {},
   "outputs": [],
   "source": [
    "local_api.get_labels_from_docker_image(\"1db72d87d18a\")"
   ]
  },
  {
   "cell_type": "code",
   "execution_count": null,
   "id": "79d0bbaf-432b-45ce-b78a-f852f92f8f7e",
   "metadata": {},
   "outputs": [],
   "source": [
    "# this translates the docker labels back to a manifest\n",
    "# this way the whole system could be reconstructed from the labels of a single image (without having the compose in the first place)\n",
    "local_api.create_manifest(image=\"1db72d87d18a\")"
   ]
  },
  {
   "cell_type": "code",
   "execution_count": null,
   "id": "5299a9be-cbf8-475c-9001-df93a728d77e",
   "metadata": {},
   "outputs": [],
   "source": [
    "local_api.create_compose_file(file_name=\"compose.bashdracor.yml\")"
   ]
  },
  {
   "cell_type": "code",
   "execution_count": null,
   "id": "aa51406f-4761-4f0a-a8dc-619bdf12de4f",
   "metadata": {},
   "outputs": [],
   "source": [
    "# Shutting down containers with Docker Desktop, deleting the containers"
   ]
  },
  {
   "cell_type": "markdown",
   "id": "6058dd15-7ca1-4002-9a5a-9093891c3864",
   "metadata": {},
   "source": [
    "## New stack"
   ]
  },
  {
   "cell_type": "code",
   "execution_count": null,
   "id": "5b7e8a51-4608-4607-a30c-73148665ad3d",
   "metadata": {},
   "outputs": [],
   "source": [
    "# local_api = StableDraCor()\n",
    "local_bashdracor = StableDraCor(name=\"local_bashdracor\", description=\"Local stack with BashDraCor pre-loaded\")"
   ]
  },
  {
   "cell_type": "code",
   "execution_count": null,
   "id": "d48e54ff-f7d5-4b0e-97e8-2c9bf8a3b0b2",
   "metadata": {},
   "outputs": [],
   "source": [
    "local_bashdracor.services"
   ]
  },
  {
   "cell_type": "code",
   "execution_count": null,
   "id": "644a64ed-080f-4a8f-8916-9a83baee8385",
   "metadata": {},
   "outputs": [],
   "source": [
    "local_bashdracor.run(compose_file=\"compose.bashdracor.yml\")"
   ]
  },
  {
   "cell_type": "code",
   "execution_count": null,
   "id": "080ae927-df44-400e-ad05-1dad70eab5db",
   "metadata": {},
   "outputs": [],
   "source": [
    "local_bashdracor.services"
   ]
  },
  {
   "cell_type": "code",
   "execution_count": null,
   "id": "205bc446-3628-45f6-b948-4fe4cd6395d8",
   "metadata": {},
   "outputs": [],
   "source": [
    "local_bashdracor.list_docker_containers()"
   ]
  },
  {
   "cell_type": "code",
   "execution_count": null,
   "id": "7029af67-cf42-49cb-9fa9-878e7e7299da",
   "metadata": {},
   "outputs": [],
   "source": [
    "# compose.my-stable-dracor.yml"
   ]
  },
  {
   "cell_type": "code",
   "execution_count": null,
   "id": "cba1485e-e319-405e-8373-8d370d67b072",
   "metadata": {},
   "outputs": [],
   "source": [
    "#List available Docker images\n",
    "#images = local_api.list_docker_images()\n",
    "#images"
   ]
  },
  {
   "cell_type": "code",
   "execution_count": null,
   "id": "ff89f025-e189-4414-a8d9-53eb68befff9",
   "metadata": {},
   "outputs": [],
   "source": [
    "dockerhub_user = os.environ.get(\"DOCKERHUB_USER\")\n",
    "dockerhub_password = os.environ.get(\"DOCKERHUB_PASSWORD\")"
   ]
  },
  {
   "cell_type": "code",
   "execution_count": null,
   "id": "b1daf19e-aae3-4367-9225-6130377fe114",
   "metadata": {},
   "outputs": [],
   "source": [
    "local_api.publish_docker_image(user=dockerhub_user, password=dockerhub_password)"
   ]
  },
  {
   "cell_type": "code",
   "execution_count": null,
   "id": "11cd2384-43c0-4dec-aa3e-137f969407be",
   "metadata": {},
   "outputs": [],
   "source": [
    "#containers = local_api.list_docker_containers()\n",
    "#containers"
   ]
  },
  {
   "cell_type": "code",
   "execution_count": null,
   "id": "e965ab70-52c2-4c02-a619-44604d895665",
   "metadata": {},
   "outputs": [],
   "source": [
    "#containers = local_api.list_docker_containers(only_running=True)\n",
    "#containers"
   ]
  },
  {
   "cell_type": "code",
   "execution_count": null,
   "id": "f2542bd7-a474-4ebb-8863-d631cabc669a",
   "metadata": {},
   "outputs": [],
   "source": [
    "#local_api.run()"
   ]
  },
  {
   "cell_type": "code",
   "execution_count": null,
   "id": "0a7e9760-93c5-449e-bb21-37ba2369bb3b",
   "metadata": {},
   "outputs": [],
   "source": [
    "# local_api.id"
   ]
  },
  {
   "cell_type": "code",
   "execution_count": null,
   "id": "3a481bb1-4306-4e1e-8a7a-52aa0a24cbe2",
   "metadata": {},
   "outputs": [],
   "source": [
    "# Copy a corpus from the dracor production instance at dracor.org\n",
    "# local_api.copy_corpus(source_corpusname=\"bash\")"
   ]
  },
  {
   "cell_type": "code",
   "execution_count": null,
   "id": "4c36f459-f7f0-424c-af87-ba8f7f91bc58",
   "metadata": {},
   "outputs": [],
   "source": [
    "#local_api.remove_corpus(corpusname=\"tat\")"
   ]
  },
  {
   "cell_type": "code",
   "execution_count": null,
   "id": "3aa16136-56d3-48e7-851a-1232005e1ea7",
   "metadata": {},
   "outputs": [],
   "source": [
    "# local_api.remove_corpus(corpusname=\"gersh\")"
   ]
  },
  {
   "cell_type": "code",
   "execution_count": null,
   "id": "2d403c98-d36f-44d5-ac40-be63f0c11a74",
   "metadata": {},
   "outputs": [],
   "source": [
    "#local_api.copy_corpus(source_corpusname=\"gersh\")"
   ]
  },
  {
   "cell_type": "code",
   "execution_count": null,
   "id": "3cffe550-2cf2-499c-b276-006fdf85144c",
   "metadata": {},
   "outputs": [],
   "source": [
    "# try to delete \"gersh/ein-sommernachtstraum\":\n",
    "#local_api.remove_play_from_corpus(corpusname=\"gersh\", playname=\"ein-sommernachtstraum\")\n"
   ]
  },
  {
   "cell_type": "code",
   "execution_count": null,
   "id": "c6903297-55fc-4068-a2d4-381ec3e87634",
   "metadata": {},
   "outputs": [],
   "source": [
    "#include bash, but not /bash/khudayberdin-aq-bilettar, bash/karim-aj-totolghan-tonda\n",
    "#local_api.copy_corpus(source_corpusname=\"bash\", exclude=[\"khudayberdin-aq-bilettar\",\"karim-aj-totolghan-tonda\"])"
   ]
  },
  {
   "cell_type": "code",
   "execution_count": null,
   "id": "67a32669-97f9-4a88-bf43-f0104e5df3f3",
   "metadata": {},
   "outputs": [],
   "source": [
    "# delte karim-tashlama-utty\n",
    "#local_api.remove_play_from_corpus(corpusname=\"bash\", playname=\"karim-tashlama-utty\")"
   ]
  },
  {
   "cell_type": "code",
   "execution_count": null,
   "id": "eda7e561-6a52-49de-8482-6072fd378214",
   "metadata": {},
   "outputs": [],
   "source": [
    "#local_api.remove_corpus(corpusname=\"bash\")"
   ]
  },
  {
   "cell_type": "code",
   "execution_count": null,
   "id": "25bc5fd9-4134-4519-be6b-ace9e7a89bc3",
   "metadata": {},
   "outputs": [],
   "source": [
    "# Remove a single corpus, e.g. the corpus custom\n",
    "# local_api.remove_corpus(corpusname=\"custom\")"
   ]
  },
  {
   "cell_type": "code",
   "execution_count": null,
   "id": "accb93dd-fb90-45ef-a82a-64f1395055aa",
   "metadata": {},
   "outputs": [],
   "source": [
    "imported_corpus_metadata = {\n",
    "    \"name\" : \"files\", \n",
    "    \"title\": \"My Custom Corpus\",\n",
    "    \"description\": \"This is a custom corpus that was generated with the 'StableDraCor' client. It contains files from a local directory.\"\n",
    "}\n",
    "local_api.add_plays_from_directory(corpusname=\"files\",directory=\"test_import_dir\", corpus_metadata=imported_corpus_metadata)"
   ]
  },
  {
   "cell_type": "code",
   "execution_count": null,
   "id": "96d482f2-2b54-46a1-ac70-3f83fbe9200b",
   "metadata": {},
   "outputs": [],
   "source": [
    "\"\"\"\n",
    "filename=\"grillparzer-des-meeres-und-der-liebe-wellen\"\n",
    "commit=\"d23a93d9fa0e4eb53a580904ac5d01c8b8f8037c\"\n",
    "repository_name = \"gerdracor\"\n",
    "local_api.add_play_version_to_corpus(filename=filename, commit=commit,repository_name=repository_name, corpusname=\"gittest\")\n",
    "\"\"\""
   ]
  },
  {
   "cell_type": "code",
   "execution_count": null,
   "id": "65afd8ae-8fe8-4211-b140-a02419c4e9bd",
   "metadata": {},
   "outputs": [],
   "source": [
    "# if commit is not set, will use latest version\n",
    "\"\"\"\n",
    "filename=\"lessing-emilia-galotti\"\n",
    "repository_name = \"gerdracor\"\n",
    "local_api.add_play_version_to_corpus(filename=filename,repository_name=repository_name, corpusname=\"latestlessing\")\n",
    "\"\"\""
   ]
  },
  {
   "cell_type": "code",
   "execution_count": null,
   "id": "02b960e3-9364-46da-ae9c-7c4cbb3f87e9",
   "metadata": {},
   "outputs": [],
   "source": [
    "# local_api.list_plays_in_repo(repository_name=\"gerdracor\")"
   ]
  },
  {
   "cell_type": "code",
   "execution_count": null,
   "id": "254a338b-c897-47bc-8d82-7c3207a994f2",
   "metadata": {},
   "outputs": [],
   "source": [
    "# local_api.list_plays_in_repo(repository_name=\"rusdracor\")"
   ]
  },
  {
   "cell_type": "code",
   "execution_count": null,
   "id": "8b888513-5b3c-409b-a625-c7f453a8f098",
   "metadata": {},
   "outputs": [],
   "source": [
    "#local_api.list_plays_in_repo(repository_name=\"spandracor\")"
   ]
  },
  {
   "cell_type": "code",
   "execution_count": null,
   "id": "9b228054-fcff-4b95-aced-d053e4dfce90",
   "metadata": {},
   "outputs": [],
   "source": [
    "#Gerdracor @ 2019-04-05\n",
    "#print(\"GerDraCor commit from 2019-04-05 – Number of plays in repo: \")\n",
    "#print(len(local_api.list_plays_in_repo(repository_name=\"gerdracor\", commit=\"59df6c5bcdd5377cd6c2700777ab1b88e094b9b6\")))\n",
    "# vs current dracor\n",
    "#print(\"Current state of GerDraCor:\")\n",
    "#print(len(local_api.list_plays_in_repo(repository_name=\"gerdracor\")))"
   ]
  },
  {
   "cell_type": "code",
   "execution_count": null,
   "id": "66e422bf-f2df-4f10-a18a-25c650c2c701",
   "metadata": {},
   "outputs": [],
   "source": [
    "# local_api.add_corpus_from_repo(repository_name=\"tatdracor\")"
   ]
  },
  {
   "cell_type": "code",
   "execution_count": null,
   "id": "92c29bcc-79f6-4410-bdd0-526e4a280b52",
   "metadata": {},
   "outputs": [],
   "source": [
    "#local_api.add_corpus_from_repo(repository_name=\"bashdracor\")"
   ]
  }
 ],
 "metadata": {
  "kernelspec": {
   "display_name": "Python (stable-dracor)",
   "language": "python",
   "name": "stable-dracor"
  },
  "language_info": {
   "codemirror_mode": {
    "name": "ipython",
    "version": 3
   },
   "file_extension": ".py",
   "mimetype": "text/x-python",
   "name": "python",
   "nbconvert_exporter": "python",
   "pygments_lexer": "ipython3",
   "version": "3.11.3"
  }
 },
 "nbformat": 4,
 "nbformat_minor": 5
}
