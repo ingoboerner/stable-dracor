{
 "cells": [
  {
   "cell_type": "code",
   "execution_count": 1,
   "id": "0175af51-4b72-44a2-927d-23827508790e",
   "metadata": {},
   "outputs": [],
   "source": [
    "import logging\n",
    "# logging.basicConfig(level=logging.DEBUG)\n",
    "logging.basicConfig(level=logging.INFO)"
   ]
  },
  {
   "cell_type": "code",
   "execution_count": 2,
   "id": "557a4b8a-f505-4c17-8641-4c02147c0f38",
   "metadata": {},
   "outputs": [],
   "source": [
    "# from client.client import api_get"
   ]
  },
  {
   "cell_type": "code",
   "execution_count": 3,
   "id": "25ec621c-2fea-4d77-a8ac-71749889e5eb",
   "metadata": {},
   "outputs": [],
   "source": [
    "#api_get(method=\"corpora\", api_base_url=\"http://localhost:8088/api/\")\n",
    "# api_get(method=\"corpora\")"
   ]
  },
  {
   "cell_type": "code",
   "execution_count": 4,
   "id": "47ba8a8b-d914-4faf-9cca-ace3f121c9d7",
   "metadata": {},
   "outputs": [],
   "source": [
    "from client.client import StableDraCor"
   ]
  },
  {
   "cell_type": "code",
   "execution_count": 5,
   "id": "b7787efa-f837-4a4e-9bec-73dffbbb8d2b",
   "metadata": {},
   "outputs": [
    {
     "name": "stderr",
     "output_type": "stream",
     "text": [
      "DEBUG:root:Generated ID: 8040055c-b6cb-42a7-b702-ae305c13c34e.\n",
      "DEBUG:root:Set name to: test\n",
      "INFO:root:Initialized new StableDraCor instance: 'test' (ID: 8040055c-b6cb-42a7-b702-ae305c13c34e).\n",
      "DEBUG:root:Will send GET request to: http://localhost:8088/api/info\n",
      "DEBUG:urllib3.connectionpool:Starting new HTTP connection (1): localhost:8088\n",
      "DEBUG:urllib3.connectionpool:http://localhost:8088 \"GET /api/info HTTP/1.1\" 200 None\n",
      "DEBUG:root:Parsed response to JSON.\n",
      "INFO:root:Local DraCor API is available at http://localhost:8088/api/.\n",
      "WARNING:root:Personal GitHub Access Token is not supplied. Requests to the GitHub API might be affected by rate limiting.\n"
     ]
    }
   ],
   "source": [
    "# local_api = StableDraCor()\n",
    "local_api = StableDraCor(name=\"test\")"
   ]
  },
  {
   "cell_type": "code",
   "execution_count": 6,
   "id": "0a7e9760-93c5-449e-bb21-37ba2369bb3b",
   "metadata": {},
   "outputs": [],
   "source": [
    "# local_api.id"
   ]
  },
  {
   "cell_type": "code",
   "execution_count": 7,
   "id": "3a481bb1-4306-4e1e-8a7a-52aa0a24cbe2",
   "metadata": {},
   "outputs": [],
   "source": [
    "# Copy a corpus from the dracor production instance at dracor.org\n",
    "# local_api.copy_corpus(source_corpusname=\"bash\")"
   ]
  },
  {
   "cell_type": "code",
   "execution_count": 8,
   "id": "4c36f459-f7f0-424c-af87-ba8f7f91bc58",
   "metadata": {},
   "outputs": [],
   "source": [
    "#local_api.remove_corpus(corpusname=\"tat\")"
   ]
  },
  {
   "cell_type": "code",
   "execution_count": 9,
   "id": "3aa16136-56d3-48e7-851a-1232005e1ea7",
   "metadata": {},
   "outputs": [],
   "source": [
    "# local_api.remove_corpus(corpusname=\"gersh\")"
   ]
  },
  {
   "cell_type": "code",
   "execution_count": 10,
   "id": "2d403c98-d36f-44d5-ac40-be63f0c11a74",
   "metadata": {},
   "outputs": [],
   "source": [
    "#local_api.copy_corpus(source_corpusname=\"gersh\")"
   ]
  },
  {
   "cell_type": "code",
   "execution_count": 11,
   "id": "3cffe550-2cf2-499c-b276-006fdf85144c",
   "metadata": {},
   "outputs": [],
   "source": [
    "# try to delete \"gersh/ein-sommernachtstraum\":\n",
    "#local_api.remove_play_from_corpus(corpusname=\"gersh\", playname=\"ein-sommernachtstraum\")\n"
   ]
  },
  {
   "cell_type": "code",
   "execution_count": 12,
   "id": "c6903297-55fc-4068-a2d4-381ec3e87634",
   "metadata": {},
   "outputs": [],
   "source": [
    "#include bash, but not /bash/khudayberdin-aq-bilettar, bash/karim-aj-totolghan-tonda\n",
    "#local_api.copy_corpus(source_corpusname=\"bash\", exclude=[\"khudayberdin-aq-bilettar\",\"karim-aj-totolghan-tonda\"])"
   ]
  },
  {
   "cell_type": "code",
   "execution_count": 13,
   "id": "67a32669-97f9-4a88-bf43-f0104e5df3f3",
   "metadata": {},
   "outputs": [],
   "source": [
    "# delte karim-tashlama-utty\n",
    "#local_api.remove_play_from_corpus(corpusname=\"bash\", playname=\"karim-tashlama-utty\")"
   ]
  },
  {
   "cell_type": "code",
   "execution_count": 14,
   "id": "eda7e561-6a52-49de-8482-6072fd378214",
   "metadata": {},
   "outputs": [],
   "source": [
    "#local_api.remove_corpus(corpusname=\"bash\")"
   ]
  },
  {
   "cell_type": "code",
   "execution_count": 15,
   "id": "25bc5fd9-4134-4519-be6b-ace9e7a89bc3",
   "metadata": {},
   "outputs": [],
   "source": [
    "# Remove a single corpus, e.g. the corpus custom\n",
    "# local_api.remove_corpus(corpusname=\"custom\")"
   ]
  },
  {
   "cell_type": "code",
   "execution_count": 16,
   "id": "accb93dd-fb90-45ef-a82a-64f1395055aa",
   "metadata": {},
   "outputs": [
    {
     "data": {
      "text/plain": [
       "'\\nimported_corpus_metadata = {\\n    \"name\" : \"custom\", \\n    \"title\": \"My Custom Corpus\",\\n    \"description\": \"This is a custom corpus that was generated with the \\'StableDraCor\\' client. It contains files from a local directory.\"\\n}\\nlocal_api.add_plays_from_directory(corpusname=\"custom\",directory=\"test_import_dir\", corpus_metadata=imported_corpus_metadata)\\n'"
      ]
     },
     "execution_count": 16,
     "metadata": {},
     "output_type": "execute_result"
    }
   ],
   "source": [
    "\"\"\"\n",
    "imported_corpus_metadata = {\n",
    "    \"name\" : \"custom\", \n",
    "    \"title\": \"My Custom Corpus\",\n",
    "    \"description\": \"This is a custom corpus that was generated with the 'StableDraCor' client. It contains files from a local directory.\"\n",
    "}\n",
    "local_api.add_plays_from_directory(corpusname=\"custom\",directory=\"test_import_dir\", corpus_metadata=imported_corpus_metadata)\n",
    "\"\"\""
   ]
  },
  {
   "cell_type": "code",
   "execution_count": 17,
   "id": "96d482f2-2b54-46a1-ac70-3f83fbe9200b",
   "metadata": {},
   "outputs": [
    {
     "data": {
      "text/plain": [
       "'\\nfilename=\"grillparzer-des-meeres-und-der-liebe-wellen\"\\ncommit=\"d23a93d9fa0e4eb53a580904ac5d01c8b8f8037c\"\\nrepository_name = \"gerdracor\"\\nlocal_api.add_play_version_to_corpus(filename=filename, commit=commit,repository_name=repository_name, corpusname=\"gittest\")\\n'"
      ]
     },
     "execution_count": 17,
     "metadata": {},
     "output_type": "execute_result"
    }
   ],
   "source": [
    "\"\"\"\n",
    "filename=\"grillparzer-des-meeres-und-der-liebe-wellen\"\n",
    "commit=\"d23a93d9fa0e4eb53a580904ac5d01c8b8f8037c\"\n",
    "repository_name = \"gerdracor\"\n",
    "local_api.add_play_version_to_corpus(filename=filename, commit=commit,repository_name=repository_name, corpusname=\"gittest\")\n",
    "\"\"\""
   ]
  },
  {
   "cell_type": "code",
   "execution_count": 18,
   "id": "65afd8ae-8fe8-4211-b140-a02419c4e9bd",
   "metadata": {},
   "outputs": [
    {
     "data": {
      "text/plain": [
       "'\\nfilename=\"lessing-emilia-galotti\"\\nrepository_name = \"gerdracor\"\\nlocal_api.add_play_version_to_corpus(filename=filename,repository_name=repository_name, corpusname=\"latestlessing\")\\n'"
      ]
     },
     "execution_count": 18,
     "metadata": {},
     "output_type": "execute_result"
    }
   ],
   "source": [
    "# if commit is not set, will use latest version\n",
    "\"\"\"\n",
    "filename=\"lessing-emilia-galotti\"\n",
    "repository_name = \"gerdracor\"\n",
    "local_api.add_play_version_to_corpus(filename=filename,repository_name=repository_name, corpusname=\"latestlessing\")\n",
    "\"\"\""
   ]
  },
  {
   "cell_type": "code",
   "execution_count": 19,
   "id": "02b960e3-9364-46da-ae9c-7c4cbb3f87e9",
   "metadata": {},
   "outputs": [],
   "source": [
    "# local_api.list_plays_in_repo(repository_name=\"gerdracor\")"
   ]
  },
  {
   "cell_type": "code",
   "execution_count": 20,
   "id": "254a338b-c897-47bc-8d82-7c3207a994f2",
   "metadata": {},
   "outputs": [],
   "source": [
    "# local_api.list_plays_in_repo(repository_name=\"rusdracor\")"
   ]
  },
  {
   "cell_type": "code",
   "execution_count": 21,
   "id": "8b888513-5b3c-409b-a625-c7f453a8f098",
   "metadata": {},
   "outputs": [],
   "source": [
    "#local_api.list_plays_in_repo(repository_name=\"spandracor\")"
   ]
  },
  {
   "cell_type": "code",
   "execution_count": 22,
   "id": "9b228054-fcff-4b95-aced-d053e4dfce90",
   "metadata": {},
   "outputs": [],
   "source": [
    "#Gerdracor @ 2019-04-05\n",
    "#print(\"GerDraCor commit from 2019-04-05 – Number of plays in repo: \")\n",
    "#print(len(local_api.list_plays_in_repo(repository_name=\"gerdracor\", commit=\"59df6c5bcdd5377cd6c2700777ab1b88e094b9b6\")))\n",
    "# vs current dracor\n",
    "#print(\"Current state of GerDraCor:\")\n",
    "#print(len(local_api.list_plays_in_repo(repository_name=\"gerdracor\")))"
   ]
  },
  {
   "cell_type": "code",
   "execution_count": 23,
   "id": "66e422bf-f2df-4f10-a18a-25c650c2c701",
   "metadata": {},
   "outputs": [
    {
     "name": "stderr",
     "output_type": "stream",
     "text": [
      "DEBUG:root:No commit set. Getting latest commit.\n",
      "DEBUG:root:Send GET request to GitHub: https://api.github.com/repos/dracor-org/tatdracor/commits\n",
      "DEBUG:urllib3.connectionpool:Starting new HTTPS connection (1): api.github.com:443\n",
      "DEBUG:urllib3.connectionpool:https://api.github.com:443 \"GET /repos/dracor-org/tatdracor/commits HTTP/1.1\" 200 None\n",
      "DEBUG:root:GET request to GitHub API was successful.\n",
      "DEBUG:root:Retrieved latest (?) commit of repo 'dracor-org/tatdracor': 5c71364f39f6533baa3a2e04217fd39e0898c851.\n",
      "DEBUG:root:Get the repository root folder tree at commit '5c71364f39f6533baa3a2e04217fd39e0898c851'.\n",
      "DEBUG:root:Send GET request to GitHub: https://api.github.com/repos/dracor-org/tatdracor/commits/5c71364f39f6533baa3a2e04217fd39e0898c851\n",
      "DEBUG:urllib3.connectionpool:Starting new HTTPS connection (1): api.github.com:443\n",
      "DEBUG:urllib3.connectionpool:https://api.github.com:443 \"GET /repos/dracor-org/tatdracor/commits/5c71364f39f6533baa3a2e04217fd39e0898c851 HTTP/1.1\" 200 2315\n",
      "DEBUG:root:GET request to GitHub API was successful.\n",
      "DEBUG:root:Got the Github tree of commit '5c71364f39f6533baa3a2e04217fd39e0898c851': 6ef5e329f3007af45223d935c4e7dce623e4a812 at url https://api.github.com/repos/dracor-org/tatdracor/git/trees/6ef5e329f3007af45223d935c4e7dce623e4a812.\n",
      "DEBUG:root:Provided full URL to send GET request to GitHub: https://api.github.com/repos/dracor-org/tatdracor/git/trees/6ef5e329f3007af45223d935c4e7dce623e4a812.\n",
      "DEBUG:urllib3.connectionpool:Starting new HTTPS connection (1): api.github.com:443\n",
      "DEBUG:urllib3.connectionpool:https://api.github.com:443 \"GET /repos/dracor-org/tatdracor/git/trees/6ef5e329f3007af45223d935c4e7dce623e4a812 HTTP/1.1\" 200 377\n",
      "DEBUG:root:GET request to GitHub API was successful.\n",
      "DEBUG:root:Found corpus.xml blob at https://api.github.com/repos/dracor-org/tatdracor/git/blobs/ba259b1d81e85f9f0b9742b138e0fe38f659fb05.\n",
      "DEBUG:root:Provided full URL to send GET request to GitHub: https://api.github.com/repos/dracor-org/tatdracor/git/blobs/ba259b1d81e85f9f0b9742b138e0fe38f659fb05.\n",
      "DEBUG:urllib3.connectionpool:Starting new HTTPS connection (1): api.github.com:443\n",
      "DEBUG:urllib3.connectionpool:https://api.github.com:443 \"GET /repos/dracor-org/tatdracor/git/blobs/ba259b1d81e85f9f0b9742b138e0fe38f659fb05 HTTP/1.1\" 200 873\n",
      "DEBUG:root:GET request to GitHub API was successful.\n",
      "DEBUG:root:Extracting corpus metadata from corpus.xml.\n",
      "DEBUG:root:Title: Tatar Drama Corpus\n",
      "DEBUG:root:Corpusname: tat\n",
      "DEBUG:root:Description: \n",
      "          Edited by Daniil Skorinkin and Frank Fischer. Features a handful of\n",
      "          plays in Tatar language, provided through Tatar Electronic Library.\n",
      "        \n",
      "DEBUG:root:Adding corpus tat.\n",
      "DEBUG:root:{'method': 'corpora', 'username': 'admin', 'password': ''}\n",
      "DEBUG:root:Will send POST request to: http://localhost:8088/api/corpora\n",
      "DEBUG:root:Username and Password are set.\n",
      "DEBUG:root:Send POST request with data and credentials, not headers.\n",
      "DEBUG:urllib3.connectionpool:Starting new HTTP connection (1): localhost:8088\n",
      "DEBUG:urllib3.connectionpool:http://localhost:8088 \"POST /api/corpora HTTP/1.1\" 200 None\n",
      "DEBUG:root:Executed POST request. Server returned status code: 200\n",
      "DEBUG:root:Request to add corpus was successful.\n",
      "DEBUG:root:Did not check if local corpus exists.\n",
      "INFO:root:Successfully created corpus tat.\n",
      "DEBUG:root:Using Github to get the commit 5c71364f39f6533baa3a2e04217fd39e0898c851 and the tree object thereof.\n",
      "DEBUG:root:Send GET request to GitHub: https://api.github.com/repos/dracor-org/tatdracor/commits/5c71364f39f6533baa3a2e04217fd39e0898c851\n",
      "DEBUG:urllib3.connectionpool:Starting new HTTPS connection (1): api.github.com:443\n",
      "DEBUG:urllib3.connectionpool:https://api.github.com:443 \"GET /repos/dracor-org/tatdracor/commits/5c71364f39f6533baa3a2e04217fd39e0898c851 HTTP/1.1\" 200 2315\n",
      "DEBUG:root:GET request to GitHub API was successful.\n",
      "DEBUG:root:Got the Github tree of commit '5c71364f39f6533baa3a2e04217fd39e0898c851': 6ef5e329f3007af45223d935c4e7dce623e4a812 at url https://api.github.com/repos/dracor-org/tatdracor/git/trees/6ef5e329f3007af45223d935c4e7dce623e4a812.\n",
      "DEBUG:root:Provided full URL to send GET request to GitHub: https://api.github.com/repos/dracor-org/tatdracor/git/trees/6ef5e329f3007af45223d935c4e7dce623e4a812.\n",
      "DEBUG:urllib3.connectionpool:Starting new HTTPS connection (1): api.github.com:443\n",
      "DEBUG:urllib3.connectionpool:https://api.github.com:443 \"GET /repos/dracor-org/tatdracor/git/trees/6ef5e329f3007af45223d935c4e7dce623e4a812 HTTP/1.1\" 200 377\n",
      "DEBUG:root:GET request to GitHub API was successful.\n",
      "DEBUG:root:{'path': 'tei', 'mode': '040000', 'type': 'tree', 'sha': 'ac0eacd830811814aa837e38468492606f61415a', 'url': 'https://api.github.com/repos/dracor-org/tatdracor/git/trees/ac0eacd830811814aa837e38468492606f61415a'}\n",
      "DEBUG:root:Found data folder 'tei' in tree objects.  sha: ac0eacd830811814aa837e38468492606f61415a, url: https://api.github.com/repos/dracor-org/tatdracor/git/trees/ac0eacd830811814aa837e38468492606f61415a.\n",
      "DEBUG:root:Getting files in the data folder.\n",
      "DEBUG:root:Provided full URL to send GET request to GitHub: https://api.github.com/repos/dracor-org/tatdracor/git/trees/ac0eacd830811814aa837e38468492606f61415a.\n",
      "DEBUG:urllib3.connectionpool:Starting new HTTPS connection (1): api.github.com:443\n",
      "DEBUG:urllib3.connectionpool:https://api.github.com:443 \"GET /repos/dracor-org/tatdracor/git/trees/ac0eacd830811814aa837e38468492606f61415a HTTP/1.1\" 200 339\n",
      "DEBUG:root:GET request to GitHub API was successful.\n",
      "DEBUG:root:Found 3 in the data folder tree.\n",
      "DEBUG:root:Got 3 filenames from repo dracor-org/tatdracor.\n",
      "DEBUG:root:No plays are to be excluded.\n",
      "DEBUG:root:Fetching github data from source url: https://raw.githubusercontent.com/dracor-org/tatdracor/5c71364f39f6533baa3a2e04217fd39e0898c851/tei/qamal-berenche-teatr.xml\n",
      "DEBUG:urllib3.connectionpool:Starting new HTTPS connection (1): raw.githubusercontent.com:443\n",
      "DEBUG:urllib3.connectionpool:https://raw.githubusercontent.com:443 \"GET /dracor-org/tatdracor/5c71364f39f6533baa3a2e04217fd39e0898c851/tei/qamal-berenche-teatr.xml HTTP/1.1\" 200 17299\n",
      "DEBUG:root:Could retrieve data from 'https://raw.githubusercontent.com/dracor-org/tatdracor/5c71364f39f6533baa3a2e04217fd39e0898c851/tei/qamal-berenche-teatr.xml'.\n",
      "DEBUG:root:Could parse returned data. XML is well-formed.\n",
      "DEBUG:root:Invoked __corpus_exists. Checking for corpora with name 'tat'.\n",
      "DEBUG:root:Will send GET request to: http://localhost:8088/api/corpora\n",
      "DEBUG:urllib3.connectionpool:Starting new HTTP connection (1): localhost:8088\n",
      "DEBUG:urllib3.connectionpool:http://localhost:8088 \"GET /api/corpora HTTP/1.1\" 200 None\n",
      "DEBUG:root:Parsed response to JSON.\n",
      "DEBUG:root:Corpus 'tat' does not exist.\n",
      "DEBUG:root:Must create corpus 'tat'.\n",
      "DEBUG:root:Adding corpus tat.\n",
      "DEBUG:root:{'method': 'corpora', 'username': 'admin', 'password': ''}\n",
      "DEBUG:root:Will send POST request to: http://localhost:8088/api/corpora\n",
      "DEBUG:root:Username and Password are set.\n",
      "DEBUG:root:Send POST request with data and credentials, not headers.\n",
      "DEBUG:urllib3.connectionpool:Starting new HTTP connection (1): localhost:8088\n",
      "DEBUG:urllib3.connectionpool:http://localhost:8088 \"POST /api/corpora HTTP/1.1\" 409 None\n",
      "DEBUG:root:Executed POST request. Server returned status code: 409\n",
      "WARNING:root:Did not add corpus tat. Corpus already exists.\n",
      "DEBUG:root:Identifier 'playname' of the play is not set. Will use filename 'qamal-berenche-teatr.xml' as  the identifier of the play: ('qamal-berenche-teatr').\n",
      "DEBUG:root:{'method': 'tei', 'corpusname': 'tat', 'playname': 'qamal-berenche-teatr', 'username': 'admin', 'password': '', 'headers': {'Content-Type': 'application/xml'}}\n",
      "DEBUG:root:Will send PUT request to: http://localhost:8088/api/corpora/tat/play/qamal-berenche-teatr/tei\n",
      "DEBUG:root:Credentials are provided.\n",
      "DEBUG:urllib3.connectionpool:Starting new HTTP connection (1): localhost:8088\n",
      "DEBUG:urllib3.connectionpool:http://localhost:8088 \"PUT /api/corpora/tat/play/qamal-berenche-teatr/tei HTTP/1.1\" 200 None\n",
      "DEBUG:root:Executed PUT request. Server returned status code: 200\n",
      "DEBUG:root:PUT request to add data was successful.\n",
      "DEBUG:root:Checking if play 'qamal-berenche-teatr' has been added to corpus 'tat'.\n",
      "DEBUG:root:Will send GET request to: http://localhost:8088/api/corpora/tat/play/qamal-berenche-teatr\n",
      "DEBUG:urllib3.connectionpool:Starting new HTTP connection (1): localhost:8088\n",
      "DEBUG:urllib3.connectionpool:http://localhost:8088 \"GET /api/corpora/tat/play/qamal-berenche-teatr HTTP/1.1\" 200 None\n",
      "DEBUG:root:Parsed response to JSON.\n",
      "INFO:root:Play 'qamal-berenche-teatr' retrieved from 'https://raw.githubusercontent.com/dracor-org/tatdracor/5c71364f39f6533baa3a2e04217fd39e0898c851/tei/qamal-berenche-teatr.xml' has been successfully added to corpus 'tat'. Checked and found local play data.\n",
      "DEBUG:root:Fetching github data from source url: https://raw.githubusercontent.com/dracor-org/tatdracor/5c71364f39f6533baa3a2e04217fd39e0898c851/tei/qamal-beznen-shehernen-serlere.xml\n",
      "DEBUG:urllib3.connectionpool:Starting new HTTPS connection (1): raw.githubusercontent.com:443\n",
      "DEBUG:urllib3.connectionpool:https://raw.githubusercontent.com:443 \"GET /dracor-org/tatdracor/5c71364f39f6533baa3a2e04217fd39e0898c851/tei/qamal-beznen-shehernen-serlere.xml HTTP/1.1\" 200 19047\n",
      "DEBUG:root:Could retrieve data from 'https://raw.githubusercontent.com/dracor-org/tatdracor/5c71364f39f6533baa3a2e04217fd39e0898c851/tei/qamal-beznen-shehernen-serlere.xml'.\n",
      "DEBUG:root:Could parse returned data. XML is well-formed.\n",
      "DEBUG:root:Invoked __corpus_exists. Checking for corpora with name 'tat'.\n",
      "DEBUG:root:Will send GET request to: http://localhost:8088/api/corpora\n",
      "DEBUG:urllib3.connectionpool:Starting new HTTP connection (1): localhost:8088\n",
      "DEBUG:urllib3.connectionpool:http://localhost:8088 \"GET /api/corpora HTTP/1.1\" 200 None\n",
      "DEBUG:root:Parsed response to JSON.\n",
      "DEBUG:root:Corpus 'tat' does not exist.\n",
      "DEBUG:root:Must create corpus 'tat'.\n",
      "DEBUG:root:Adding corpus tat.\n",
      "DEBUG:root:{'method': 'corpora', 'username': 'admin', 'password': ''}\n",
      "DEBUG:root:Will send POST request to: http://localhost:8088/api/corpora\n",
      "DEBUG:root:Username and Password are set.\n",
      "DEBUG:root:Send POST request with data and credentials, not headers.\n",
      "DEBUG:urllib3.connectionpool:Starting new HTTP connection (1): localhost:8088\n",
      "DEBUG:urllib3.connectionpool:http://localhost:8088 \"POST /api/corpora HTTP/1.1\" 409 None\n",
      "DEBUG:root:Executed POST request. Server returned status code: 409\n",
      "WARNING:root:Did not add corpus tat. Corpus already exists.\n",
      "DEBUG:root:Identifier 'playname' of the play is not set. Will use filename 'qamal-beznen-shehernen-serlere.xml' as  the identifier of the play: ('qamal-beznen-shehernen-serlere').\n",
      "DEBUG:root:{'method': 'tei', 'corpusname': 'tat', 'playname': 'qamal-beznen-shehernen-serlere', 'username': 'admin', 'password': '', 'headers': {'Content-Type': 'application/xml'}}\n",
      "DEBUG:root:Will send PUT request to: http://localhost:8088/api/corpora/tat/play/qamal-beznen-shehernen-serlere/tei\n",
      "DEBUG:root:Credentials are provided.\n",
      "DEBUG:urllib3.connectionpool:Starting new HTTP connection (1): localhost:8088\n",
      "DEBUG:urllib3.connectionpool:http://localhost:8088 \"PUT /api/corpora/tat/play/qamal-beznen-shehernen-serlere/tei HTTP/1.1\" 200 None\n",
      "DEBUG:root:Executed PUT request. Server returned status code: 200\n",
      "DEBUG:root:PUT request to add data was successful.\n",
      "DEBUG:root:Checking if play 'qamal-beznen-shehernen-serlere' has been added to corpus 'tat'.\n",
      "DEBUG:root:Will send GET request to: http://localhost:8088/api/corpora/tat/play/qamal-beznen-shehernen-serlere\n",
      "DEBUG:urllib3.connectionpool:Starting new HTTP connection (1): localhost:8088\n",
      "DEBUG:urllib3.connectionpool:http://localhost:8088 \"GET /api/corpora/tat/play/qamal-beznen-shehernen-serlere HTTP/1.1\" 200 None\n",
      "DEBUG:root:Parsed response to JSON.\n",
      "INFO:root:Play 'qamal-beznen-shehernen-serlere' retrieved from 'https://raw.githubusercontent.com/dracor-org/tatdracor/5c71364f39f6533baa3a2e04217fd39e0898c851/tei/qamal-beznen-shehernen-serlere.xml' has been successfully added to corpus 'tat'. Checked and found local play data.\n",
      "DEBUG:root:Fetching github data from source url: https://raw.githubusercontent.com/dracor-org/tatdracor/5c71364f39f6533baa3a2e04217fd39e0898c851/tei/qamal-kaynish.xml\n",
      "DEBUG:urllib3.connectionpool:Starting new HTTPS connection (1): raw.githubusercontent.com:443\n",
      "DEBUG:urllib3.connectionpool:https://raw.githubusercontent.com:443 \"GET /dracor-org/tatdracor/5c71364f39f6533baa3a2e04217fd39e0898c851/tei/qamal-kaynish.xml HTTP/1.1\" 200 14715\n",
      "DEBUG:root:Could retrieve data from 'https://raw.githubusercontent.com/dracor-org/tatdracor/5c71364f39f6533baa3a2e04217fd39e0898c851/tei/qamal-kaynish.xml'.\n",
      "DEBUG:root:Could parse returned data. XML is well-formed.\n",
      "DEBUG:root:Invoked __corpus_exists. Checking for corpora with name 'tat'.\n",
      "DEBUG:root:Will send GET request to: http://localhost:8088/api/corpora\n",
      "DEBUG:urllib3.connectionpool:Starting new HTTP connection (1): localhost:8088\n",
      "DEBUG:urllib3.connectionpool:http://localhost:8088 \"GET /api/corpora HTTP/1.1\" 200 None\n",
      "DEBUG:root:Parsed response to JSON.\n",
      "DEBUG:root:Corpus 'tat' does not exist.\n",
      "DEBUG:root:Must create corpus 'tat'.\n",
      "DEBUG:root:Adding corpus tat.\n",
      "DEBUG:root:{'method': 'corpora', 'username': 'admin', 'password': ''}\n",
      "DEBUG:root:Will send POST request to: http://localhost:8088/api/corpora\n",
      "DEBUG:root:Username and Password are set.\n",
      "DEBUG:root:Send POST request with data and credentials, not headers.\n",
      "DEBUG:urllib3.connectionpool:Starting new HTTP connection (1): localhost:8088\n",
      "DEBUG:urllib3.connectionpool:http://localhost:8088 \"POST /api/corpora HTTP/1.1\" 409 None\n",
      "DEBUG:root:Executed POST request. Server returned status code: 409\n",
      "WARNING:root:Did not add corpus tat. Corpus already exists.\n",
      "DEBUG:root:Identifier 'playname' of the play is not set. Will use filename 'qamal-kaynish.xml' as  the identifier of the play: ('qamal-kaynish').\n",
      "DEBUG:root:{'method': 'tei', 'corpusname': 'tat', 'playname': 'qamal-kaynish', 'username': 'admin', 'password': '', 'headers': {'Content-Type': 'application/xml'}}\n",
      "DEBUG:root:Will send PUT request to: http://localhost:8088/api/corpora/tat/play/qamal-kaynish/tei\n",
      "DEBUG:root:Credentials are provided.\n",
      "DEBUG:urllib3.connectionpool:Starting new HTTP connection (1): localhost:8088\n",
      "DEBUG:urllib3.connectionpool:http://localhost:8088 \"PUT /api/corpora/tat/play/qamal-kaynish/tei HTTP/1.1\" 200 None\n",
      "DEBUG:root:Executed PUT request. Server returned status code: 200\n",
      "DEBUG:root:PUT request to add data was successful.\n",
      "DEBUG:root:Checking if play 'qamal-kaynish' has been added to corpus 'tat'.\n",
      "DEBUG:root:Will send GET request to: http://localhost:8088/api/corpora/tat/play/qamal-kaynish\n",
      "DEBUG:urllib3.connectionpool:Starting new HTTP connection (1): localhost:8088\n",
      "DEBUG:urllib3.connectionpool:http://localhost:8088 \"GET /api/corpora/tat/play/qamal-kaynish HTTP/1.1\" 200 None\n",
      "DEBUG:root:Parsed response to JSON.\n",
      "INFO:root:Play 'qamal-kaynish' retrieved from 'https://raw.githubusercontent.com/dracor-org/tatdracor/5c71364f39f6533baa3a2e04217fd39e0898c851/tei/qamal-kaynish.xml' has been successfully added to corpus 'tat'. Checked and found local play data.\n",
      "INFO:root:Successfully added all 3 files to tat.\n"
     ]
    },
    {
     "data": {
      "text/plain": [
       "True"
      ]
     },
     "execution_count": 23,
     "metadata": {},
     "output_type": "execute_result"
    }
   ],
   "source": [
    "# local_api.add_corpus_from_repo(repository_name=\"tatdracor\")"
   ]
  },
  {
   "cell_type": "code",
   "execution_count": null,
   "id": "92c29bcc-79f6-4410-bdd0-526e4a280b52",
   "metadata": {},
   "outputs": [],
   "source": [
    "local_api.add_corpus_from_repo(repository_name=\"bashdracor\")"
   ]
  }
 ],
 "metadata": {
  "kernelspec": {
   "display_name": "Python (stable-dracor)",
   "language": "python",
   "name": "stable-dracor"
  },
  "language_info": {
   "codemirror_mode": {
    "name": "ipython",
    "version": 3
   },
   "file_extension": ".py",
   "mimetype": "text/x-python",
   "name": "python",
   "nbconvert_exporter": "python",
   "pygments_lexer": "ipython3",
   "version": "3.11.3"
  }
 },
 "nbformat": 4,
 "nbformat_minor": 5
}
