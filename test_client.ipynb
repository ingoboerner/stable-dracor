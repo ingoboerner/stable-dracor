{
 "cells": [
  {
   "cell_type": "code",
   "execution_count": 1,
   "id": "0175af51-4b72-44a2-927d-23827508790e",
   "metadata": {},
   "outputs": [],
   "source": [
    "import logging\n",
    "logging.basicConfig(level=logging.DEBUG)\n",
    "# logging.basicConfig(level=logging.INFO)"
   ]
  },
  {
   "cell_type": "code",
   "execution_count": 2,
   "id": "557a4b8a-f505-4c17-8641-4c02147c0f38",
   "metadata": {},
   "outputs": [],
   "source": [
    "from client.client import api_get"
   ]
  },
  {
   "cell_type": "code",
   "execution_count": 3,
   "id": "25ec621c-2fea-4d77-a8ac-71749889e5eb",
   "metadata": {},
   "outputs": [],
   "source": [
    "#api_get(method=\"corpora\", api_base_url=\"http://localhost:8088/api/\")\n",
    "# api_get(method=\"corpora\")"
   ]
  },
  {
   "cell_type": "code",
   "execution_count": 4,
   "id": "47ba8a8b-d914-4faf-9cca-ace3f121c9d7",
   "metadata": {},
   "outputs": [],
   "source": [
    "from client.client import StableDraCor"
   ]
  },
  {
   "cell_type": "code",
   "execution_count": 5,
   "id": "b7787efa-f837-4a4e-9bec-73dffbbb8d2b",
   "metadata": {},
   "outputs": [],
   "source": [
    "local_api = StableDraCor()"
   ]
  },
  {
   "cell_type": "code",
   "execution_count": 6,
   "id": "3a481bb1-4306-4e1e-8a7a-52aa0a24cbe2",
   "metadata": {},
   "outputs": [
    {
     "name": "stderr",
     "output_type": "stream",
     "text": [
      "INFO:root:Successfully created corpus tat. All metadata is available.Plays have not been added yet.\n",
      "INFO:root:Added contents of corpus tat from https://dracor.org/api/.\n",
      "INFO:root:Copying tat as tat wassuccessful. Plays (that were not excluded) were also copied entirely.\n"
     ]
    },
    {
     "data": {
      "text/plain": [
       "True"
      ]
     },
     "execution_count": 6,
     "metadata": {},
     "output_type": "execute_result"
    }
   ],
   "source": [
    "local_api.copy_corpus(source_corpusname=\"tat\")"
   ]
  },
  {
   "cell_type": "code",
   "execution_count": null,
   "id": "4c36f459-f7f0-424c-af87-ba8f7f91bc58",
   "metadata": {},
   "outputs": [],
   "source": []
  }
 ],
 "metadata": {
  "kernelspec": {
   "display_name": "Python (stable-dracor)",
   "language": "python",
   "name": "stable-dracor"
  },
  "language_info": {
   "codemirror_mode": {
    "name": "ipython",
    "version": 3
   },
   "file_extension": ".py",
   "mimetype": "text/x-python",
   "name": "python",
   "nbconvert_exporter": "python",
   "pygments_lexer": "ipython3",
   "version": "3.11.3"
  }
 },
 "nbformat": 4,
 "nbformat_minor": 5
}
