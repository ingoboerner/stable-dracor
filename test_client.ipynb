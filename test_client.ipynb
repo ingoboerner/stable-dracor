{
 "cells": [
  {
   "cell_type": "code",
   "execution_count": 1,
   "id": "0175af51-4b72-44a2-927d-23827508790e",
   "metadata": {},
   "outputs": [],
   "source": [
    "import logging\n",
    "# logging.basicConfig(level=logging.DEBUG)\n",
    "logging.basicConfig(level=logging.INFO)"
   ]
  },
  {
   "cell_type": "code",
   "execution_count": 2,
   "id": "557a4b8a-f505-4c17-8641-4c02147c0f38",
   "metadata": {},
   "outputs": [],
   "source": [
    "from client.client import api_get"
   ]
  },
  {
   "cell_type": "code",
   "execution_count": 3,
   "id": "25ec621c-2fea-4d77-a8ac-71749889e5eb",
   "metadata": {},
   "outputs": [],
   "source": [
    "#api_get(method=\"corpora\", api_base_url=\"http://localhost:8088/api/\")\n",
    "# api_get(method=\"corpora\")"
   ]
  },
  {
   "cell_type": "code",
   "execution_count": 4,
   "id": "47ba8a8b-d914-4faf-9cca-ace3f121c9d7",
   "metadata": {},
   "outputs": [],
   "source": [
    "from client.client import StableDraCor"
   ]
  },
  {
   "cell_type": "code",
   "execution_count": 5,
   "id": "b7787efa-f837-4a4e-9bec-73dffbbb8d2b",
   "metadata": {},
   "outputs": [
    {
     "name": "stderr",
     "output_type": "stream",
     "text": [
      "INFO:root:Initialized new StableDraCor instance: 'test' (ID: 096f00d8-b009-4e87-8987-a342a4f3e2fb).\n",
      "INFO:root:Local DraCor API is available at http://localhost:8088/api/.\n"
     ]
    }
   ],
   "source": [
    "# local_api = StableDraCor()\n",
    "local_api = StableDraCor(name=\"test\")"
   ]
  },
  {
   "cell_type": "code",
   "execution_count": 6,
   "id": "0a7e9760-93c5-449e-bb21-37ba2369bb3b",
   "metadata": {},
   "outputs": [],
   "source": [
    "# local_api.id"
   ]
  },
  {
   "cell_type": "code",
   "execution_count": 7,
   "id": "3a481bb1-4306-4e1e-8a7a-52aa0a24cbe2",
   "metadata": {},
   "outputs": [],
   "source": [
    "# Copy a corpus from the dracor production instance at dracor.org\n",
    "# local_api.copy_corpus(source_corpusname=\"bash\")"
   ]
  },
  {
   "cell_type": "code",
   "execution_count": 8,
   "id": "a9b0b00a-af97-4f12-bd08-c3fe9060d9fd",
   "metadata": {},
   "outputs": [],
   "source": [
    "#local_api.copy_corpus(source_corpusname=\"capek\")"
   ]
  },
  {
   "cell_type": "code",
   "execution_count": 9,
   "id": "4c36f459-f7f0-424c-af87-ba8f7f91bc58",
   "metadata": {},
   "outputs": [],
   "source": [
    "#local_api.remove_corpus(corpusname=\"tat\")"
   ]
  },
  {
   "cell_type": "code",
   "execution_count": 10,
   "id": "3aa16136-56d3-48e7-851a-1232005e1ea7",
   "metadata": {},
   "outputs": [],
   "source": [
    "# local_api.remove_corpus(corpusname=\"gersh\")"
   ]
  },
  {
   "cell_type": "code",
   "execution_count": 11,
   "id": "2d403c98-d36f-44d5-ac40-be63f0c11a74",
   "metadata": {},
   "outputs": [],
   "source": [
    "#local_api.copy_corpus(source_corpusname=\"gersh\")"
   ]
  },
  {
   "cell_type": "code",
   "execution_count": 12,
   "id": "3cffe550-2cf2-499c-b276-006fdf85144c",
   "metadata": {},
   "outputs": [],
   "source": [
    "# try to delete \"gersh/ein-sommernachtstraum\":\n",
    "#local_api.remove_play_from_corpus(corpusname=\"gersh\", playname=\"ein-sommernachtstraum\")\n"
   ]
  },
  {
   "cell_type": "code",
   "execution_count": 13,
   "id": "c6903297-55fc-4068-a2d4-381ec3e87634",
   "metadata": {},
   "outputs": [],
   "source": [
    "#include bash, but not /bash/khudayberdin-aq-bilettar, bash/karim-aj-totolghan-tonda\n",
    "#local_api.copy_corpus(source_corpusname=\"bash\", exclude=[\"khudayberdin-aq-bilettar\",\"karim-aj-totolghan-tonda\"])"
   ]
  },
  {
   "cell_type": "code",
   "execution_count": 14,
   "id": "67a32669-97f9-4a88-bf43-f0104e5df3f3",
   "metadata": {},
   "outputs": [],
   "source": [
    "# delte karim-tashlama-utty\n",
    "#local_api.remove_play_from_corpus(corpusname=\"bash\", playname=\"karim-tashlama-utty\")"
   ]
  },
  {
   "cell_type": "code",
   "execution_count": 15,
   "id": "eda7e561-6a52-49de-8482-6072fd378214",
   "metadata": {},
   "outputs": [],
   "source": [
    "#local_api.remove_corpus(corpusname=\"bash\")"
   ]
  },
  {
   "cell_type": "code",
   "execution_count": 16,
   "id": "25bc5fd9-4134-4519-be6b-ace9e7a89bc3",
   "metadata": {},
   "outputs": [],
   "source": [
    "# Remove a single corpus, e.g. the corpus custom\n",
    "# local_api.remove_corpus(corpusname=\"custom\")"
   ]
  },
  {
   "cell_type": "code",
   "execution_count": 17,
   "id": "accb93dd-fb90-45ef-a82a-64f1395055aa",
   "metadata": {},
   "outputs": [
    {
     "data": {
      "text/plain": [
       "'\\nimported_corpus_metadata = {\\n    \"name\" : \"custom\", \\n    \"title\": \"My Custom Corpus\",\\n    \"description\": \"This is a custom corpus that was generated with the \\'StableDraCor\\' client. It contains files from a local directory.\"\\n}\\nlocal_api.add_plays_from_directory(corpusname=\"custom\",directory=\"test_import_dir\", corpus_metadata=imported_corpus_metadata)\\n'"
      ]
     },
     "execution_count": 17,
     "metadata": {},
     "output_type": "execute_result"
    }
   ],
   "source": [
    "\"\"\"\n",
    "imported_corpus_metadata = {\n",
    "    \"name\" : \"custom\", \n",
    "    \"title\": \"My Custom Corpus\",\n",
    "    \"description\": \"This is a custom corpus that was generated with the 'StableDraCor' client. It contains files from a local directory.\"\n",
    "}\n",
    "local_api.add_plays_from_directory(corpusname=\"custom\",directory=\"test_import_dir\", corpus_metadata=imported_corpus_metadata)\n",
    "\"\"\""
   ]
  },
  {
   "cell_type": "code",
   "execution_count": 18,
   "id": "96d482f2-2b54-46a1-ac70-3f83fbe9200b",
   "metadata": {},
   "outputs": [
    {
     "data": {
      "text/plain": [
       "'\\nfilename=\"grillparzer-des-meeres-und-der-liebe-wellen\"\\ncommit=\"d23a93d9fa0e4eb53a580904ac5d01c8b8f8037c\"\\nrepository_name = \"gerdracor\"\\nlocal_api.add_play_version_to_corpus(filename=filename, commit=commit,repository_name=repository_name, corpusname=\"gittest\")\\n'"
      ]
     },
     "execution_count": 18,
     "metadata": {},
     "output_type": "execute_result"
    }
   ],
   "source": [
    "\"\"\"\n",
    "filename=\"grillparzer-des-meeres-und-der-liebe-wellen\"\n",
    "commit=\"d23a93d9fa0e4eb53a580904ac5d01c8b8f8037c\"\n",
    "repository_name = \"gerdracor\"\n",
    "local_api.add_play_version_to_corpus(filename=filename, commit=commit,repository_name=repository_name, corpusname=\"gittest\")\n",
    "\"\"\""
   ]
  },
  {
   "cell_type": "code",
   "execution_count": 19,
   "id": "65afd8ae-8fe8-4211-b140-a02419c4e9bd",
   "metadata": {},
   "outputs": [
    {
     "data": {
      "text/plain": [
       "'\\nfilename=\"lessing-emilia-galotti\"\\nrepository_name = \"gerdracor\"\\nlocal_api.add_play_version_to_corpus(filename=filename,repository_name=repository_name, corpusname=\"latestlessing\")\\n'"
      ]
     },
     "execution_count": 19,
     "metadata": {},
     "output_type": "execute_result"
    }
   ],
   "source": [
    "# if commit is not set, will use latest version\n",
    "\"\"\"\n",
    "filename=\"lessing-emilia-galotti\"\n",
    "repository_name = \"gerdracor\"\n",
    "local_api.add_play_version_to_corpus(filename=filename,repository_name=repository_name, corpusname=\"latestlessing\")\n",
    "\"\"\""
   ]
  },
  {
   "cell_type": "code",
   "execution_count": 22,
   "id": "02b960e3-9364-46da-ae9c-7c4cbb3f87e9",
   "metadata": {},
   "outputs": [],
   "source": [
    "# local_api.list_plays_in_repo(repository_name=\"gerdracor\")"
   ]
  },
  {
   "cell_type": "code",
   "execution_count": 23,
   "id": "254a338b-c897-47bc-8d82-7c3207a994f2",
   "metadata": {},
   "outputs": [],
   "source": [
    "# local_api.list_plays_in_repo(repository_name=\"rusdracor\")"
   ]
  },
  {
   "cell_type": "code",
   "execution_count": 24,
   "id": "8b888513-5b3c-409b-a625-c7f453a8f098",
   "metadata": {},
   "outputs": [
    {
     "data": {
      "text/plain": [
       "['clarin-teresa.xml',\n",
       " 'dicenta-juan-jose.xml',\n",
       " 'echegaray-arrastrarse.xml',\n",
       " 'echegaray-mancha.xml',\n",
       " 'galdos-casandra.xml',\n",
       " 'galdos-electra.xml',\n",
       " 'galdos-perfecta.xml',\n",
       " 'lorca-bernarda.xml',\n",
       " 'lorca-bodas.xml',\n",
       " 'lorca-rosita.xml',\n",
       " 'lorca-yerma.xml',\n",
       " 'lorca-zapatera.xml',\n",
       " 'munoz-conferencia.xml',\n",
       " 'munoz-ortiz.xml',\n",
       " 'munoz-pergaminos.xml',\n",
       " 'munoz-refugio.xml',\n",
       " 'unamuno-esfinge.xml',\n",
       " 'unamuno-fedra.xml',\n",
       " 'valera-asclepigenia.xml',\n",
       " 'valera-atahualpa.xml',\n",
       " 'valle-aguila.xml',\n",
       " 'valle-cara.xml',\n",
       " 'valle-divinas-palabras.xml',\n",
       " 'valle-luces.xml',\n",
       " 'valle-romance.xml']"
      ]
     },
     "execution_count": 24,
     "metadata": {},
     "output_type": "execute_result"
    }
   ],
   "source": [
    "local_api.list_plays_in_repo(repository_name=\"spandracor\")"
   ]
  },
  {
   "cell_type": "code",
   "execution_count": 30,
   "id": "9b228054-fcff-4b95-aced-d053e4dfce90",
   "metadata": {},
   "outputs": [
    {
     "name": "stdout",
     "output_type": "stream",
     "text": [
      "GerDraCor commit from 2019-04-05 – Number of plays in repo: \n",
      "471\n",
      "Current state of GerDraCor:\n",
      "619\n"
     ]
    }
   ],
   "source": [
    "#Gerdracor @ 2019-04-05\n",
    "print(\"GerDraCor commit from 2019-04-05 – Number of plays in repo: \")\n",
    "print(len(local_api.list_plays_in_repo(repository_name=\"gerdracor\", commit=\"59df6c5bcdd5377cd6c2700777ab1b88e094b9b6\")))\n",
    "# vs current dracor\n",
    "print(\"Current state of GerDraCor:\")\n",
    "print(len(local_api.list_plays_in_repo(repository_name=\"gerdracor\")))"
   ]
  },
  {
   "cell_type": "code",
   "execution_count": null,
   "id": "66e422bf-f2df-4f10-a18a-25c650c2c701",
   "metadata": {},
   "outputs": [],
   "source": []
  }
 ],
 "metadata": {
  "kernelspec": {
   "display_name": "Python (stable-dracor)",
   "language": "python",
   "name": "stable-dracor"
  },
  "language_info": {
   "codemirror_mode": {
    "name": "ipython",
    "version": 3
   },
   "file_extension": ".py",
   "mimetype": "text/x-python",
   "name": "python",
   "nbconvert_exporter": "python",
   "pygments_lexer": "ipython3",
   "version": "3.11.3"
  }
 },
 "nbformat": 4,
 "nbformat_minor": 5
}
