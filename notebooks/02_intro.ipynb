{
 "cells": [
  {
   "cell_type": "markdown",
   "id": "0f3abbb9-3ed8-4001-b20c-a45c0dfe98cc",
   "metadata": {},
   "source": [
    "# Intro\n",
    "\n",
    "This notebook introduces some of the functionality of the *stable-dracor-client* and the *dracor-sandbox* Docker container. It is assumed that the infrastructure has been started by using the docker compose file `compose.yml` (`docker compose up`) and run in the bundled jupyter lab instance on http://localhost:8888."
   ]
  },
  {
   "cell_type": "markdown",
   "id": "657f97cf-e557-4e79-9070-34e8b87c3aa3",
   "metadata": {},
   "source": [
    "## DraCor in Docker and the *dracor-sandbox* Docker container\n",
    "\n",
    "There are several possibilities to set up a local DraCor infrastructure. \n",
    "\n",
    "### DraCor Docker containers running on the local machine\n",
    "One way would be to simply clone the repository of the DraCor API eXist-DB application (https://github.com/dracor-org/dracor-api) and use the provided docker compose file [`compose.yml`](https://github.com/dracor-org/dracor-api/blob/main/compose.yml) to start a local Docker-based DraCor system. If everything went well issuing the the command `docker ps` in a terminal will show multiple running Docker containers. \n",
    "\n",
    "(TODO: add screenshot here)\n",
    "\n",
    "In this approach the environment in which the local infrastructure is running can vary. Depending on the setup of the local host machine (operation-system, version of Docker daemon installed, ...) there might be some issues, e.g. problems connection to `localhost` on some Windows installations. Although, the *stable-dracor-client* can be used with this setup as well, hence we will assume that the following *Docker in Docker* approach to setting up the local infrastructure will be used.\n",
    "\n",
    "### Docker in Docker\n",
    "Another way to setup a local DraCor infrastructure using Docker is to make use of a technique that is called *Docker in Docker*. This means that on the host machine there is running a container that has Docker installed. This Docker container is then used to start additional containers inside this controlled environment. This way the environment in which the DraCor services will be executed can be prepared in advanced to make sure that everything works as expected.\n",
    "\n",
    "When issuing the command `docker compose up` in the root directory of the cloned stable-dracor repository only a single Docker container `dracor-sandbox` will be started. It not only has the Docker daemon installed in it but also features a (this) Jupyter Lab instance (running on http://localhost:8888) that can be used to prepare custom corpora or run Python scripts.\n",
    "\n",
    "When starting the `dracor-sandbox` container there are no Docker containers running. To test this, it is possible to \"enter\" the container from the host machine with the command `docker exec -it dracor-sandbox /bin/bash`. In the interactive shell that is now executed inside the container the command `docker ps` will return an empty list. The `dracor-sandbox` container can be left with the command `exit`.\n",
    "\n",
    "There are also two folders mounted to the container: `import` and `export`. They also show up in the *File Browser* in Jupyter Lab. These folder provide an easy way to get data into and out of the `dracor-sandbox` container. A usecase would be to add locally available XML files. When copying them into the `import` folder on the host machine, they become available to the container. The `export` folder functions the same way. Files that should become available on the host machine even when the Docker container is not running anymore can be stored in this folder. This could, for example, be the results of an analysis or a *manifest* that describes the composition of the custom corpora (see Section X).\n",
    "\n",
    "Having only one Docker container with the DraCor system components inside also makes it possible to \"freeze\" not only the whole local Dracor system with the corpora set up (as we prototyped for the paper \n",
    "[Detecting Small Worlds in a Corpus of Thousands of Theater Plays](https://github.com/dracor-org/small-world-paper/tree/publication-version)) but in addition to that the environment that was used to assemble it (this Jupyter Lab instance with the Python notebooks)."
   ]
  },
  {
   "cell_type": "code",
   "execution_count": 4,
   "id": "a1ffa70f-03ef-4711-ab5f-8585bfc754f1",
   "metadata": {},
   "outputs": [],
   "source": [
    "# Activate Logging\n",
    "import logging\n",
    "#logging.basicConfig(level=logging.DEBUG)\n",
    "logging.basicConfig(level=logging.INFO)"
   ]
  },
  {
   "cell_type": "code",
   "execution_count": 5,
   "id": "9fbe5488-729d-4552-8b96-44f739a45363",
   "metadata": {},
   "outputs": [],
   "source": [
    "from stabledracor.client import StableDraCor"
   ]
  },
  {
   "cell_type": "code",
   "execution_count": 6,
   "id": "5bb15b36-bdec-4635-ae15-1135f6b72f54",
   "metadata": {},
   "outputs": [],
   "source": [
    "# check for GitHub Token (see FAQ Notebook)\n",
    "import os\n",
    "github_token = os.environ.get(\"GITHUB_TOKEN\")\n",
    "assert github_token is not None, \"It is recommended to use a GitHub Personal Access Token. See FAQ Notebook for details.\""
   ]
  },
  {
   "cell_type": "code",
   "execution_count": 7,
   "id": "5aa4ae1d-bc50-4c28-ba4e-d79e5303011c",
   "metadata": {},
   "outputs": [
    {
     "name": "stderr",
     "output_type": "stream",
     "text": [
      "INFO:root:Initialized new StableDraCor instance: 'my-stable-dracor' (ID: ba657fe8-b3b2-4e68-a8f9-04c5c191b2b8).\n",
      "WARNING:root:Local DraCor API is not available at http://localhost:8088/api/.\n",
      "INFO:root:Docker is available.\n",
      "WARNING:root:Could not detect a running Docker container derived from a dracor/dracor-api image.\n",
      "WARNING:root:Could not detect a running Docker container derived from a dracor/dracor-frontend image.\n",
      "WARNING:root:Could not detect a running Docker container derived from a dracor/dracor-metrics image.\n",
      "WARNING:root:Could not detect a running Docker container derived from a dracor/dracor-fuseki image.\n",
      "WARNING:root:Could not detect a running Docker container derived from a dracor/stable-dracor image.\n"
     ]
    }
   ],
   "source": [
    "dracor = StableDraCor(name=\"my-stable-dracor\", github_access_token=github_token)"
   ]
  },
  {
   "cell_type": "code",
   "execution_count": null,
   "id": "e77a67d8-42cf-4137-931f-22fcf4a761ca",
   "metadata": {},
   "outputs": [],
   "source": []
  }
 ],
 "metadata": {
  "kernelspec": {
   "display_name": "Python 3 (ipykernel)",
   "language": "python",
   "name": "python3"
  },
  "language_info": {
   "codemirror_mode": {
    "name": "ipython",
    "version": 3
   },
   "file_extension": ".py",
   "mimetype": "text/x-python",
   "name": "python",
   "nbconvert_exporter": "python",
   "pygments_lexer": "ipython3",
   "version": "3.11.6"
  }
 },
 "nbformat": 4,
 "nbformat_minor": 5
}
