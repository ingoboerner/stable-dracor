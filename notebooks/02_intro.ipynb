{
 "cells": [
  {
   "cell_type": "markdown",
   "id": "0f3abbb9-3ed8-4001-b20c-a45c0dfe98cc",
   "metadata": {},
   "source": [
    "# Introduction\n",
    "\n",
    "This notebook introduces some of the functionality of the *stable-dracor-client* and the *dracor-sandbox* Docker container. It is assumed that the infrastructure has been started by using the docker compose file `compose.yml` (`docker compose up`) and run in the bundled jupyter lab instance on http://localhost:8888."
   ]
  },
  {
   "cell_type": "markdown",
   "id": "657f97cf-e557-4e79-9070-34e8b87c3aa3",
   "metadata": {},
   "source": [
    "## DraCor in Docker and the *dracor-sandbox* Docker container\n",
    "\n",
    "There are several possibilities to set up a local DraCor infrastructure. \n",
    "\n",
    "### DraCor Docker containers running on the local machine\n",
    "One way would be to simply clone the repository of the DraCor API eXist-DB application (https://github.com/dracor-org/dracor-api) and use the provided docker compose file [`compose.yml`](https://github.com/dracor-org/dracor-api/blob/main/compose.yml) to start a local Docker-based DraCor system. If everything went well issuing the the command `docker ps` in a terminal will show multiple running Docker containers. \n",
    "\n",
    "(TODO: add screenshot here)\n",
    "\n",
    "In this approach the environment in which the local infrastructure is running can vary. Depending on the setup of the local host machine (operation-system, version of Docker daemon installed, ...) there might be some issues, e.g. problems connection to `localhost` on some Windows installations. Although, the *stable-dracor-client* can be used with this setup as well, hence we will assume that the following *Docker in Docker* approach to setting up the local infrastructure will be used.\n",
    "\n",
    "### Docker in Docker\n",
    "Another way to setup a local DraCor infrastructure using Docker is to make use of a technique that is called *Docker in Docker*. This means that on the host machine there is running a container that has Docker installed. This Docker container is then used to start additional containers inside this controlled environment. This way the environment in which the DraCor services will be executed can be prepared in advanced to make sure that everything works as expected.\n",
    "\n",
    "When issuing the command `docker compose up` in the root directory of the cloned stable-dracor repository only a single Docker container `dracor-sandbox` will be started. It not only has the Docker daemon installed in it but also features a (this) Jupyter Lab instance (running on http://localhost:8888) that can be used to prepare custom corpora or run Python scripts.\n",
    "\n",
    "When starting the `dracor-sandbox` container there are no Docker containers running. To test this, it is possible to \"enter\" the container from the host machine with the command `docker exec -it dracor-sandbox /bin/bash`. In the interactive shell that is now executed inside the container the command `docker ps` will return an empty list:\n",
    "\n",
    "```\n",
    "194dc81eb130:/home/dracor# docker ps\n",
    "CONTAINER ID   IMAGE     COMMAND   CREATED   STATUS    PORTS     NAMES\n",
    "```\n",
    "\n",
    "The `dracor-sandbox` container can be left with the command `exit`.\n",
    "\n",
    "There are also two folders mounted to the container: `import` and `export`. They also show up in the *File Browser* in Jupyter Lab. These folder provide an easy way to get data into and out of the `dracor-sandbox` container. A usecase would be to add locally available XML files. When copying them into the `import` folder on the host machine, they become available to the container. The `export` folder functions the same way. Files that should become available on the host machine even when the Docker container is not running anymore can be stored in this folder. This could, for example, be the results of an analysis or a *manifest* that describes the composition of the custom corpora (see Section X).\n",
    "\n",
    "Having only one Docker container with the DraCor system components inside also makes it possible to \"freeze\" not only the whole local Dracor system with the corpora set up (as we prototyped for the paper \n",
    "[Detecting Small Worlds in a Corpus of Thousands of Theater Plays](https://github.com/dracor-org/small-world-paper/tree/publication-version)) but in addition to that the environment that was used to assemble it (this Jupyter Lab instance with the Python notebooks)."
   ]
  },
  {
   "cell_type": "markdown",
   "id": "2d7e91aa-c467-462c-9f1c-96cf4e2d609b",
   "metadata": {},
   "source": [
    "## Installing the client and prequisits"
   ]
  },
  {
   "cell_type": "markdown",
   "id": "2def6491-d1f0-40a5-b6a4-3a8990e3d318",
   "metadata": {},
   "source": [
    "### Installation\n",
    "\n",
    "Within this Jupyter Lab instance the client has already been installed. If the client should be used standalone it can be installed from within the root directory of the stable-dracor repository (containing the necessary `pyproject.toml` file) with the command `pip install .` (the dot is necessary!)."
   ]
  },
  {
   "cell_type": "markdown",
   "id": "4fdf2ac4-8a1f-4f17-82fc-8424b8724001",
   "metadata": {},
   "source": [
    "### Activate Logging\n",
    "It is recommended to activate logging in the notebook. This can be done by importing the library logging and setting the log level. For normal use the log level `INFO` is sufficient, but if something does not work as expected, the log level should be set to `DEBUG` to see additional messages which might help to identify the problem.\n",
    "The following cell activates logging for this notebook:"
   ]
  },
  {
   "cell_type": "code",
   "execution_count": 1,
   "id": "a1ffa70f-03ef-4711-ab5f-8585bfc754f1",
   "metadata": {},
   "outputs": [],
   "source": [
    "import logging\n",
    "#logging.basicConfig(level=logging.DEBUG)\n",
    "logging.basicConfig(level=logging.INFO)"
   ]
  },
  {
   "cell_type": "markdown",
   "id": "f446388c-84a1-4876-a994-7f3dfa9d920f",
   "metadata": {},
   "source": [
    "### Importing the client \n",
    "After the client has been installed it can be imported with the following command:"
   ]
  },
  {
   "cell_type": "code",
   "execution_count": 2,
   "id": "ff417541-b953-4622-bd0a-8b4fa1dbdaa8",
   "metadata": {},
   "outputs": [],
   "source": [
    "from stabledracor.client import StableDraCor"
   ]
  },
  {
   "cell_type": "markdown",
   "id": "08b0050a-b1f0-42cd-8711-98ead3b5c1fd",
   "metadata": {},
   "source": [
    "## Setting up Docker containers with the the *stable-dracor-client*\n",
    "\n",
    "The following section explains how to set up the Docker containers providing the DraCor services of a local DraCor infrastructure. "
   ]
  },
  {
   "cell_type": "markdown",
   "id": "04b6ddab-7887-4ed3-bfb7-5c221af6f29e",
   "metadata": {},
   "source": [
    "### First step: Creating an instance of the StableDraCor class\n",
    "To use the client it is necessary to create an instance of the class `StableDraCor` that has been imported to the notebook with the previous command. The most basic command just instantiates an objec without any additional arguments:"
   ]
  },
  {
   "cell_type": "code",
   "execution_count": 3,
   "id": "141a5d4d-854e-4d2d-8276-9e12e03a8387",
   "metadata": {},
   "outputs": [
    {
     "name": "stderr",
     "output_type": "stream",
     "text": [
      "INFO:root:Initialized new StableDraCor instance: 'None' (ID: ba2d7c1a-96b0-4edb-aa4b-72e8d8e5011c).\n",
      "WARNING:root:Local DraCor API is not available at http://localhost:8088/api/.\n",
      "WARNING:root:Personal GitHub Access Token is not supplied. Requests to the GitHub API might be affected by rate limiting.\n",
      "INFO:root:Docker is available.\n",
      "WARNING:root:Could not detect a running Docker container derived from a dracor/dracor-api image.\n",
      "WARNING:root:Could not detect a running Docker container derived from a dracor/dracor-frontend image.\n",
      "WARNING:root:Could not detect a running Docker container derived from a dracor/dracor-metrics image.\n",
      "WARNING:root:Could not detect a running Docker container derived from a dracor/dracor-fuseki image.\n",
      "WARNING:root:Could not detect a running Docker container derived from a dracor/stable-dracor image.\n"
     ]
    }
   ],
   "source": [
    "dracor = StableDraCor()"
   ]
  },
  {
   "cell_type": "markdown",
   "id": "f601deac-7fac-413b-be43-ec8361d16d07",
   "metadata": {},
   "source": [
    "If logging is activated some warnings will appear: We find out that there is no API currently available under the default endpoint url and that no DraCor Docker containers can be found. \n",
    "\n",
    "Normally, the output of the client can be trusted in this regard, but to verify that there are no running containers it is possible to directly query the docker daemon running in the `dracor-sandbox` container. The command to list running containers is `docker ps`. In the following cell starts with a `!` though. This is a way to execute shell commands directly from within a Jupyter notebook."
   ]
  },
  {
   "cell_type": "code",
   "execution_count": 4,
   "id": "4c601dd9-b4d7-4f45-8022-e9dfc7333ded",
   "metadata": {},
   "outputs": [
    {
     "name": "stdout",
     "output_type": "stream",
     "text": [
      "CONTAINER ID   IMAGE     COMMAND   CREATED   STATUS    PORTS     NAMES\n"
     ]
    }
   ],
   "source": [
    "!docker ps"
   ]
  },
  {
   "cell_type": "markdown",
   "id": "ee465f9d-4987-404c-b7e9-871bc3775b68",
   "metadata": {},
   "source": [
    "### GitHub Access Token\n",
    "The log output from above contains the warning, that a \"Personal GitHub Acces Token\" has not been supplied. Providing a token is recommended, because for some operations, e.g. adding a corpus from a repository on GitHub, the client relies on the GitHub API. Unauthorized calls to this API are subject to rate limiting, which means, that only a few calls can be send without being authorized to GitHub. The [FAQ](03_faq.ipynb#Why-do-I-need-a-GitHub-Access-Token-and-how-can-I-get-one?) contains instructions  on how to generate such a token and explains how to make it available to a notebook or script as an environmental variable upon upon the creation of a `dracor-sandbox` Docker container. Although it is possible to add the value of the token directly in the script, it is not considered a good practise because an access token is like a password. Especially, if a notebook is shared, this means of \"hiding\" the password should be used. \n",
    "\n",
    "The code in the followin cell uses the library `os` to read an environmental variable `GITHUB_TOKEN` and stores it in the variable `github_token` to later use it when initializing the client."
   ]
  },
  {
   "cell_type": "code",
   "execution_count": 5,
   "id": "5bb15b36-bdec-4635-ae15-1135f6b72f54",
   "metadata": {},
   "outputs": [],
   "source": [
    "import os\n",
    "github_token = os.environ.get(\"GITHUB_TOKEN\")"
   ]
  },
  {
   "cell_type": "code",
   "execution_count": 6,
   "id": "341c200d-9704-40ce-9685-ddd41b190af2",
   "metadata": {},
   "outputs": [],
   "source": [
    "# Optional: Check if the Token is available (see FAQ Notebook)\n",
    "assert github_token is not None, \"It is recommended to use a GitHub Personal Access Token. See FAQ Notebook for details.\""
   ]
  },
  {
   "cell_type": "markdown",
   "id": "c112d890-82d3-4de5-949f-4d04e58ad550",
   "metadata": {},
   "source": [
    "If the container has been started without setting a token with the `.env` file as described in the [FAQ](03_faq.ipynb#Why-do-I-need-a-GitHub-Access-Token-and-how-can-I-get-one?), the following command can be used to create it (substitute `value` with your token, of course):\n",
    "\n",
    "`export GITHUB_TOKEN=value`\n",
    "\n",
    "It would be possible to issue this command from within the notebook using the prefix `!`, but then the cell containing the value of the token must be removed afterwards for security reasons. \n",
    "\n",
    "Another option would be to enter the `dracor-sandbox` container (see [FAQ](03_faq.ipynb#How-can-I-get-into-the-dracor-sandbox-Docker-container?)) or use the Terminal of Jupyter Lab (in the *Launcher* at http://localhost:8888 click on *Terminal*). The shell command `printenv` can be used to list all set variables, `echo $GITHUB_TOKEN` will output the value of the environment variable.\n",
    "\n",
    "An instance of the client can be created by supplying the token as the argument `github_access_token`:"
   ]
  },
  {
   "cell_type": "code",
   "execution_count": 7,
   "id": "5aa4ae1d-bc50-4c28-ba4e-d79e5303011c",
   "metadata": {},
   "outputs": [
    {
     "name": "stderr",
     "output_type": "stream",
     "text": [
      "INFO:root:Initialized new StableDraCor instance: 'None' (ID: 03466582-0107-481b-bafe-566c7e70c828).\n",
      "WARNING:root:Local DraCor API is not available at http://localhost:8088/api/.\n",
      "INFO:root:Docker is available.\n",
      "WARNING:root:Could not detect a running Docker container derived from a dracor/dracor-api image.\n",
      "WARNING:root:Could not detect a running Docker container derived from a dracor/dracor-frontend image.\n",
      "WARNING:root:Could not detect a running Docker container derived from a dracor/dracor-metrics image.\n",
      "WARNING:root:Could not detect a running Docker container derived from a dracor/dracor-fuseki image.\n",
      "WARNING:root:Could not detect a running Docker container derived from a dracor/stable-dracor image.\n"
     ]
    }
   ],
   "source": [
    "dracor = StableDraCor(github_access_token=github_token)"
   ]
  },
  {
   "cell_type": "markdown",
   "id": "fb5a9555-3604-497b-9fbc-a9ceccf5367c",
   "metadata": {},
   "source": [
    "### Attaching Metadata to the *stable-dracor* instance\n",
    "It is possible to attach to the stable-dracor system. Currently, adding a `name` and a `description` is supported. In addition to that every time an *stable-dracor* is initialized, a universal unique id is generated. This ensures, that each instance can be identified by its unique identifier. These information, `id`, `name` and `description` are also included with the so-called manifest describing a stable-dracor instance. In the following cell we create the an instance once more, provide a GitHub Token and attach metadata:"
   ]
  },
  {
   "cell_type": "code",
   "execution_count": 8,
   "id": "62a64f84-5543-4e3f-8b5d-63b9f4f8f45c",
   "metadata": {},
   "outputs": [
    {
     "name": "stderr",
     "output_type": "stream",
     "text": [
      "INFO:root:Initialized new StableDraCor instance: 'my-stable-dracor' (ID: 7f4f9ec9-40b2-4b92-8f33-5ef83714a12b).\n",
      "WARNING:root:Local DraCor API is not available at http://localhost:8088/api/.\n",
      "INFO:root:Docker is available.\n",
      "WARNING:root:Could not detect a running Docker container derived from a dracor/dracor-api image.\n",
      "WARNING:root:Could not detect a running Docker container derived from a dracor/dracor-frontend image.\n",
      "WARNING:root:Could not detect a running Docker container derived from a dracor/dracor-metrics image.\n",
      "WARNING:root:Could not detect a running Docker container derived from a dracor/dracor-fuseki image.\n",
      "WARNING:root:Could not detect a running Docker container derived from a dracor/stable-dracor image.\n"
     ]
    }
   ],
   "source": [
    "dracor = StableDraCor(\n",
    "    name=\"my-stable-dracor\",\n",
    "    description=\"DraCor system created with the introduction notebook to showcase the features of the stable-dracor-client.\",\n",
    "    github_access_token=github_token)"
   ]
  },
  {
   "cell_type": "markdown",
   "id": "8430b779-b182-4445-a12e-6907e158c6b2",
   "metadata": {},
   "source": [
    "### Additional options when creating a stable-dracor instance\n",
    "There are some options to change the behaviour of the client instance, e.g. explicitly set a different base url of the API. For details see the [FAQ](03_faq.ipynb#How-can-I-change-the-URL-of-the-API-used)."
   ]
  },
  {
   "cell_type": "markdown",
   "id": "e883a594-86c1-4ce1-9d66-baa023c55bfc",
   "metadata": {},
   "source": [
    "### Second step: Starting the Docker containers\n",
    "The second step to setup a DraCor system with the *stable-dracor-client* is to start the Docker containers of the system components: eXist-DB with pre-installed application (\"DraCor API\"), Metrics Service, Frontend, Triple Store. When using the `dracor-sandbox` these services will run inside the \"outer\" Docker container. \n",
    "\n",
    "The most basic way to start these containers is to call the method `run` without any additional arguments: `dracor.run()`. In this case the client will fetch the [default configuration](https://raw.githubusercontent.com/dracor-org/stabledracor/master/configurations/compose.fullstack.empty.yml) which is defined in `compose.fullstack.empty.yml` in the stable-dracor repository on GitHub. \n",
    "\n",
    "A configuration file, which is basically a docker-compose file, will specify the Docker images and tags of the components to be used, e.g. currently the default configuration uses the api image `dracor/dracor-api:v0.90.1-local` ([Link](https://github.com/dracor-org/stabledracor/blob/2dc461e6f3d8106f5291ba0b1f6779b7adb52c5d/configurations/compose.fullstack.empty.yml#L8)). \n",
    "\n",
    "The images of all DraCor components can be found on [DockerHub](https://hub.docker.com/u/dracor). For example the available images of the DraCor eXist-DB and the application powering the API can be found [here](https://hub.docker.com/r/dracor/dracor-api/tags). The image, that is currently used in the default configuration can be viewed [here](https://hub.docker.com/layers/dracor/dracor-api/v0.90.1-local/images/sha256-e2af569e41398b2b5b527dbb21ada90dea467568ce901b2607b1cc41a6743a75?context=explore). \n",
    "\n",
    "Executing `run()` without explicitly specifying a configuration can be considered a fall-back. It is possible to pass a path to a different docker-compose file when starting the client as the keyword argument `compose_file`. Another option is to use `url` and point to a location from which a docker-compose file can be downloaded.\n",
    "\n",
    "**TODO**: Add configurations to dracor-sandbox container! `!ls ../configurations`! Explain which configuration to use. Difficult because of ARM/AMD architecture?"
   ]
  },
  {
   "cell_type": "code",
   "execution_count": 9,
   "id": "b77b7f02-6642-4cc3-979b-5e25b7488650",
   "metadata": {},
   "outputs": [
    {
     "name": "stderr",
     "output_type": "stream",
     "text": [
      "INFO:root:Fetched default compose file (configuration) from https://raw.githubusercontent.com/dracor-org/stabledracor/master/configurations/compose.fullstack.empty.yml.\n",
      " fuseki Pulling \n",
      " metrics Pulling \n",
      " frontend Pulling \n",
      " api Pulling \n",
      " 6d588874b473 Pulling fs layer \n",
      " 79c6f3c25c4d Pulling fs layer \n",
      " 2e95d5881799 Pulling fs layer \n",
      " c494480ca267 Pulling fs layer \n",
      " 221ce4f52e61 Pulling fs layer \n",
      " 4f4fb700ef54 Pulling fs layer \n",
      " 95b30520563c Pulling fs layer \n",
      " 10f6182d9824 Pulling fs layer \n",
      " 97b4d79b8743 Pulling fs layer \n",
      " 01655217cf18 Pulling fs layer \n",
      " 5322f71909aa Pulling fs layer \n",
      " ad9a27c51771 Pulling fs layer \n",
      " aa345ce91a97 Pulling fs layer \n",
      " c494480ca267 Waiting \n",
      " 221ce4f52e61 Waiting \n",
      " 4f4fb700ef54 Waiting \n",
      " 95b30520563c Waiting \n",
      " 10f6182d9824 Waiting \n",
      " 97b4d79b8743 Waiting \n",
      " 01655217cf18 Waiting \n",
      " ad9a27c51771 Waiting \n",
      " aa345ce91a97 Waiting \n",
      " 5322f71909aa Waiting \n",
      " a9fe95647e78 Pulling fs layer \n",
      " 4015b6e8cc8d Pulling fs layer \n",
      " 0e86b181efa0 Pulling fs layer \n",
      " 94abd992e68d Pulling fs layer \n",
      " 6053649ad1b9 Pulling fs layer \n",
      " a2f86a36b140 Pulling fs layer \n",
      " 6cb526d7f277 Pulling fs layer \n",
      " 1d53beb1a078 Pulling fs layer \n",
      " 89a8454f4db4 Pulling fs layer \n",
      " 90572dafe7c9 Pulling fs layer \n",
      " 605b8195cc6c Pulling fs layer \n",
      " e42fc678a1e3 Pulling fs layer \n",
      " 4015b6e8cc8d Waiting \n",
      " 0e86b181efa0 Waiting \n",
      " 94abd992e68d Waiting \n",
      " 6053649ad1b9 Waiting \n",
      " a2f86a36b140 Waiting \n",
      " 6cb526d7f277 Waiting \n",
      " 1d53beb1a078 Waiting \n",
      " 89a8454f4db4 Waiting \n",
      " 90572dafe7c9 Waiting \n",
      " 605b8195cc6c Waiting \n",
      " e42fc678a1e3 Waiting \n",
      " a9fe95647e78 Waiting \n",
      " b04fae59f135 Pulling fs layer \n",
      " 24cef00b9ad9 Pulling fs layer \n",
      " 1db91b65282b Pulling fs layer \n",
      " 54db3e52d959 Pulling fs layer \n",
      " 4d727a249b44 Pulling fs layer \n",
      " c3dbbaafce99 Pulling fs layer \n",
      " 0fd9667b9613 Pulling fs layer \n",
      " 8c1418a0d252 Pulling fs layer \n",
      " e00db28dae94 Pulling fs layer \n",
      " 45547d032be3 Pulling fs layer \n",
      " b46d9b199d25 Pulling fs layer \n",
      " 0f4ced6d90c5 Pulling fs layer \n",
      " 24cef00b9ad9 Waiting \n",
      " 1db91b65282b Waiting \n",
      " 54db3e52d959 Waiting \n",
      " 4d727a249b44 Waiting \n",
      " c3dbbaafce99 Waiting \n",
      " 0fd9667b9613 Waiting \n",
      " 8c1418a0d252 Waiting \n",
      " e00db28dae94 Waiting \n",
      " 45547d032be3 Waiting \n",
      " b46d9b199d25 Waiting \n",
      " b04fae59f135 Waiting \n",
      " 0f4ced6d90c5 Waiting \n",
      " c41833b44d91 Pulling fs layer \n",
      " 20779f060cd3 Pulling fs layer \n",
      " c02272b92d73 Pulling fs layer \n",
      " a0f27118b828 Pulling fs layer \n",
      " 5a9eefbad09c Pulling fs layer \n",
      " 208f7d4e6580 Pulling fs layer \n",
      " e5382a11adf2 Pulling fs layer \n",
      " a90402eee9f7 Pulling fs layer \n",
      " a6341bc58eb8 Pulling fs layer \n",
      " c41833b44d91 Waiting \n",
      " 20779f060cd3 Waiting \n",
      " a0f27118b828 Waiting \n",
      " e5382a11adf2 Waiting \n",
      " a90402eee9f7 Waiting \n",
      " a6341bc58eb8 Waiting \n",
      " 208f7d4e6580 Waiting \n",
      " c02272b92d73 Waiting \n",
      " 6d588874b473 Downloading [>                                                  ]  265.4kB/25.91MB\n",
      " 2e95d5881799 Downloading [==================================================>]     213B/213B\n",
      " 2e95d5881799 Download complete \n",
      " 79c6f3c25c4d Downloading [>                                                  ]  32.04kB/3.126MB\n",
      " 6d588874b473 Downloading [=====>                                             ]  2.906MB/25.91MB\n",
      " 79c6f3c25c4d Downloading [====>                                              ]  261.4kB/3.126MB\n",
      " 6d588874b473 Downloading [=======>                                           ]  3.963MB/25.91MB\n",
      " 79c6f3c25c4d Downloading [=============>                                     ]  844.7kB/3.126MB\n",
      " 79c6f3c25c4d Downloading [==================================>                ]  2.168MB/3.126MB\n",
      " 6d588874b473 Downloading [=================>                                 ]  9.022MB/25.91MB\n",
      " 79c6f3c25c4d Downloading [================================================>  ]  3.028MB/3.126MB\n",
      " 79c6f3c25c4d Downloading [==================================================>]  3.126MB/3.126MB\n",
      " 79c6f3c25c4d Verifying Checksum \n",
      " 79c6f3c25c4d Download complete \n",
      " 6d588874b473 Downloading [=============================>                     ]  15.12MB/25.91MB\n",
      " 6d588874b473 Downloading [==================================>                ]  17.77MB/25.91MB\n",
      " 6d588874b473 Downloading [====================================>              ]  19.09MB/25.91MB\n",
      " 6d588874b473 Verifying Checksum \n",
      " 6d588874b473 Download complete \n",
      " 6d588874b473 Extracting [>                                                  ]  262.1kB/25.91MB\n",
      " 6d588874b473 Extracting [=============>                                     ]  7.078MB/25.91MB\n",
      " 6d588874b473 Extracting [============================>                      ]  14.68MB/25.91MB\n",
      " c494480ca267 Downloading [>                                                  ]  455.5kB/45.14MB\n",
      " 6d588874b473 Extracting [==========================================>        ]  22.28MB/25.91MB\n",
      " c494480ca267 Downloading [=>                                                 ]  1.373MB/45.14MB\n",
      " 6d588874b473 Extracting [=============================================>     ]  23.59MB/25.91MB\n",
      " 4f4fb700ef54 Downloading [==================================================>]      32B/32B\n",
      " 4f4fb700ef54 Verifying Checksum \n",
      " 4f4fb700ef54 Download complete \n",
      " c494480ca267 Downloading [===>                                               ]  2.749MB/45.14MB\n",
      " 6d588874b473 Extracting [================================================>  ]   24.9MB/25.91MB\n",
      " c494480ca267 Downloading [======>                                            ]  5.956MB/45.14MB\n",
      " c494480ca267 Downloading [==========>                                        ]  9.643MB/45.14MB\n",
      " 6d588874b473 Extracting [================================================>  ]  25.17MB/25.91MB\n",
      " 6d588874b473 Extracting [==================================================>]  25.91MB/25.91MB\n",
      " c494480ca267 Downloading [==============>                                    ]  12.86MB/45.14MB\n",
      " 6d588874b473 Pull complete \n",
      " 79c6f3c25c4d Extracting [>                                                  ]  32.77kB/3.126MB\n",
      " 79c6f3c25c4d Extracting [==================================================>]  3.126MB/3.126MB\n",
      " 79c6f3c25c4d Pull complete \n",
      " 2e95d5881799 Extracting [==================================================>]     213B/213B\n",
      " 2e95d5881799 Extracting [==================================================>]     213B/213B\n",
      " 2e95d5881799 Pull complete \n",
      " c494480ca267 Downloading [===================>                               ]  17.94MB/45.14MB\n",
      " c494480ca267 Downloading [========================>                          ]  22.56MB/45.14MB\n",
      " c494480ca267 Downloading [===========================>                       ]  24.85MB/45.14MB\n",
      " 221ce4f52e61 Downloading [>                                                  ]  201.7kB/19.78MB\n",
      " c494480ca267 Downloading [===============================>                   ]  28.07MB/45.14MB\n",
      " 221ce4f52e61 Downloading [==>                                                ]  1.033MB/19.78MB\n",
      " 95b30520563c Downloading [==================================================>]     247B/247B\n",
      " 95b30520563c Verifying Checksum \n",
      " 95b30520563c Download complete \n",
      " c494480ca267 Downloading [================================>                  ]  29.45MB/45.14MB\n",
      " 221ce4f52e61 Downloading [=====>                                             ]  2.302MB/19.78MB\n",
      " c494480ca267 Downloading [====================================>              ]  32.67MB/45.14MB\n",
      " 221ce4f52e61 Downloading [=======>                                           ]  3.146MB/19.78MB\n",
      " c494480ca267 Downloading [======================================>            ]  34.97MB/45.14MB\n",
      " 221ce4f52e61 Downloading [==========>                                        ]  4.203MB/19.78MB\n",
      " 221ce4f52e61 Downloading [==============>                                    ]  5.694MB/19.78MB\n",
      " c494480ca267 Downloading [==========================================>        ]  38.66MB/45.14MB\n",
      " c494480ca267 Downloading [=============================================>     ]  40.96MB/45.14MB\n",
      " 221ce4f52e61 Downloading [================>                                  ]  6.546MB/19.78MB\n",
      " 221ce4f52e61 Downloading [===================>                               ]  7.611MB/19.78MB\n",
      " c494480ca267 Downloading [===============================================>   ]  43.27MB/45.14MB\n",
      " c494480ca267 Verifying Checksum \n",
      " c494480ca267 Download complete \n",
      " 221ce4f52e61 Downloading [========================>                          ]  9.724MB/19.78MB\n",
      " c494480ca267 Extracting [>                                                  ]  458.8kB/45.14MB\n",
      " 221ce4f52e61 Downloading [============================>                      ]   11.2MB/19.78MB\n",
      " c494480ca267 Extracting [===========>                                       ]  10.55MB/45.14MB\n",
      " 10f6182d9824 Downloading [>                                                  ]    308kB/30.57MB\n",
      " 221ce4f52e61 Downloading [================================>                  ]  12.89MB/19.78MB\n",
      " c494480ca267 Extracting [=======================>                           ]  21.56MB/45.14MB\n",
      " 10f6182d9824 Downloading [==>                                                ]  1.242MB/30.57MB\n",
      " 221ce4f52e61 Downloading [====================================>              ]  14.59MB/19.78MB\n",
      " c494480ca267 Extracting [===================================>               ]  31.65MB/45.14MB\n",
      " 10f6182d9824 Downloading [====>                                              ]  2.811MB/30.57MB\n",
      " 221ce4f52e61 Downloading [=========================================>         ]  16.29MB/19.78MB\n",
      " c494480ca267 Extracting [=============================================>     ]  40.83MB/45.14MB\n",
      " c494480ca267 Extracting [==================================================>]  45.14MB/45.14MB\n",
      " c494480ca267 Pull complete \n",
      " 10f6182d9824 Downloading [========>                                          ]  5.326MB/30.57MB\n",
      " 221ce4f52e61 Downloading [=============================================>     ]  17.99MB/19.78MB\n",
      " 10f6182d9824 Downloading [===========>                                       ]  6.874MB/30.57MB\n",
      " 221ce4f52e61 Downloading [================================================>  ]  19.05MB/19.78MB\n",
      " 221ce4f52e61 Verifying Checksum \n",
      " 221ce4f52e61 Download complete \n",
      " 221ce4f52e61 Extracting [>                                                  ]  229.4kB/19.78MB\n",
      " 10f6182d9824 Downloading [==================>                                ]  11.26MB/30.57MB\n",
      " 221ce4f52e61 Extracting [========================>                          ]  9.634MB/19.78MB\n",
      " 10f6182d9824 Downloading [========================>                          ]  14.69MB/30.57MB\n",
      " 221ce4f52e61 Extracting [=================================================> ]   19.5MB/19.78MB\n",
      " 221ce4f52e61 Extracting [==================================================>]  19.78MB/19.78MB\n",
      " 10f6182d9824 Downloading [============================>                      ]  17.19MB/30.57MB\n",
      " 221ce4f52e61 Pull complete \n",
      " 97b4d79b8743 Downloading [=====>                                             ]     733B/6.252kB\n",
      " 4f4fb700ef54 Extracting [==================================================>]      32B/32B\n",
      " 4f4fb700ef54 Extracting [==================================================>]      32B/32B\n",
      " 97b4d79b8743 Verifying Checksum \n",
      " 97b4d79b8743 Download complete \n",
      " 4f4fb700ef54 Pull complete \n",
      " 95b30520563c Extracting [==================================================>]     247B/247B\n",
      " 95b30520563c Extracting [==================================================>]     247B/247B\n",
      " 95b30520563c Pull complete \n",
      " 10f6182d9824 Downloading [================================>                  ]  20.02MB/30.57MB\n",
      " 10f6182d9824 Downloading [=======================================>           ]  24.06MB/30.57MB\n",
      " 10f6182d9824 Downloading [=============================================>     ]  28.12MB/30.57MB\n",
      " 10f6182d9824 Verifying Checksum \n",
      " 10f6182d9824 Download complete \n",
      " 10f6182d9824 Extracting [>                                                  ]  327.7kB/30.57MB\n",
      " 10f6182d9824 Extracting [=================================>                 ]  20.64MB/30.57MB\n",
      " 10f6182d9824 Extracting [==================================================>]  30.57MB/30.57MB\n",
      " 10f6182d9824 Pull complete \n",
      " 97b4d79b8743 Extracting [==================================================>]  6.252kB/6.252kB\n",
      " 97b4d79b8743 Extracting [==================================================>]  6.252kB/6.252kB\n",
      " 97b4d79b8743 Pull complete \n",
      " 01655217cf18 Downloading [==================================================>]  1.069kB/1.069kB\n",
      " 01655217cf18 Download complete \n",
      " 01655217cf18 Extracting [==================================================>]  1.069kB/1.069kB\n",
      " 01655217cf18 Extracting [==================================================>]  1.069kB/1.069kB\n",
      " 01655217cf18 Pull complete \n",
      " 5322f71909aa Downloading [==============================>                    ]     733B/1.19kB\n",
      " 5322f71909aa Downloading [==================================================>]   1.19kB/1.19kB\n",
      " 5322f71909aa Download complete \n",
      " 5322f71909aa Extracting [==================================================>]   1.19kB/1.19kB\n",
      " 5322f71909aa Extracting [==================================================>]   1.19kB/1.19kB\n",
      " 5322f71909aa Pull complete \n",
      " a9fe95647e78 Downloading [>                                                  ]  314.6kB/30.05MB\n",
      " a9fe95647e78 Downloading [=======>                                           ]  4.647MB/30.05MB\n",
      " aa345ce91a97 Downloading [==================================================>]     126B/126B\n",
      " aa345ce91a97 Verifying Checksum \n",
      " aa345ce91a97 Download complete \n",
      " ad9a27c51771 Downloading [=============================>                     ]     733B/1.225kB\n",
      " ad9a27c51771 Downloading [==================================================>]  1.225kB/1.225kB\n",
      " ad9a27c51771 Verifying Checksum \n",
      " ad9a27c51771 Download complete \n",
      " ad9a27c51771 Extracting [==================================================>]  1.225kB/1.225kB\n",
      " ad9a27c51771 Extracting [==================================================>]  1.225kB/1.225kB\n",
      " ad9a27c51771 Pull complete \n",
      " aa345ce91a97 Extracting [==================================================>]     126B/126B\n",
      " aa345ce91a97 Extracting [==================================================>]     126B/126B\n",
      " aa345ce91a97 Pull complete \n",
      " a9fe95647e78 Downloading [=========>                                         ]  5.884MB/30.05MB\n",
      " fuseki Pulled \n",
      " a9fe95647e78 Downloading [======================>                            ]  13.63MB/30.05MB\n",
      " a9fe95647e78 Downloading [==========================>                        ]   15.8MB/30.05MB\n",
      " a9fe95647e78 Downloading [======================================>            ]  23.28MB/30.05MB\n",
      " a9fe95647e78 Downloading [==========================================>        ]  25.44MB/30.05MB\n",
      " a9fe95647e78 Download complete \n",
      " a9fe95647e78 Extracting [>                                                  ]  327.7kB/30.05MB\n",
      " a9fe95647e78 Extracting [=========>                                         ]  5.898MB/30.05MB\n",
      " 4015b6e8cc8d Downloading [>                                                  ]  15.79kB/1.566MB\n",
      " 4015b6e8cc8d Verifying Checksum \n",
      " 4015b6e8cc8d Download complete \n",
      " a9fe95647e78 Extracting [======================>                            ]  13.43MB/30.05MB\n",
      " 0e86b181efa0 Downloading [==================================================>]     211B/211B\n",
      " 0e86b181efa0 Verifying Checksum \n",
      " 0e86b181efa0 Download complete \n",
      " a9fe95647e78 Extracting [===================================>               ]  21.63MB/30.05MB\n",
      " a9fe95647e78 Extracting [===========================================>       ]  26.21MB/30.05MB\n",
      " 94abd992e68d Downloading [>                                                  ]  409.6kB/40.73MB\n",
      " 94abd992e68d Downloading [=====>                                             ]  4.553MB/40.73MB\n",
      " a9fe95647e78 Extracting [===============================================>   ]  28.84MB/30.05MB\n",
      " 94abd992e68d Downloading [=======>                                           ]  5.798MB/40.73MB\n",
      " 94abd992e68d Downloading [==========>                                        ]  8.678MB/40.73MB\n",
      " a9fe95647e78 Extracting [================================================>  ]  29.16MB/30.05MB\n",
      " 94abd992e68d Downloading [===============>                                   ]  12.82MB/40.73MB\n",
      " a9fe95647e78 Extracting [==================================================>]  30.05MB/30.05MB\n",
      " a9fe95647e78 Pull complete \n",
      " 4015b6e8cc8d Extracting [=>                                                 ]  32.77kB/1.566MB\n",
      " 94abd992e68d Downloading [====================>                              ]  16.51MB/40.73MB\n",
      " 4015b6e8cc8d Extracting [==================================================>]  1.566MB/1.566MB\n",
      " 4015b6e8cc8d Extracting [==================================================>]  1.566MB/1.566MB\n",
      " 4015b6e8cc8d Pull complete \n",
      " 0e86b181efa0 Extracting [==================================================>]     211B/211B\n",
      " 0e86b181efa0 Extracting [==================================================>]     211B/211B\n",
      " 0e86b181efa0 Pull complete \n",
      " 94abd992e68d Downloading [========================>                          ]   19.8MB/40.73MB\n",
      " 6053649ad1b9 Downloading [====================>                              ]     733B/1.817kB\n",
      " 6053649ad1b9 Downloading [==================================================>]  1.817kB/1.817kB\n",
      " 6053649ad1b9 Verifying Checksum \n",
      " 6053649ad1b9 Download complete \n",
      " 94abd992e68d Downloading [==============================>                    ]  24.73MB/40.73MB\n",
      " a2f86a36b140 Download complete \n",
      " 94abd992e68d Downloading [================================>                  ]  26.38MB/40.73MB\n",
      " 94abd992e68d Downloading [========================================>          ]  33.02MB/40.73MB\n",
      " 94abd992e68d Downloading [=============================================>     ]  36.74MB/40.73MB\n",
      " 94abd992e68d Downloading [===============================================>   ]  38.39MB/40.73MB\n",
      " 94abd992e68d Verifying Checksum \n",
      " 94abd992e68d Download complete \n",
      " 94abd992e68d Extracting [>                                                  ]    426kB/40.73MB\n",
      " 94abd992e68d Extracting [============>                                      ]  9.798MB/40.73MB\n",
      " 94abd992e68d Extracting [=============================>                     ]  23.86MB/40.73MB\n",
      " 6cb526d7f277 Downloading [==>                                                ]  1.369kB/27.63kB\n",
      " 6cb526d7f277 Verifying Checksum \n",
      " 6cb526d7f277 Download complete \n",
      " 94abd992e68d Extracting [==========================================>        ]   34.5MB/40.73MB\n",
      " 94abd992e68d Extracting [==================================================>]  40.73MB/40.73MB\n",
      " 94abd992e68d Pull complete \n",
      " 6053649ad1b9 Extracting [==================================================>]  1.817kB/1.817kB\n",
      " 6053649ad1b9 Extracting [==================================================>]  1.817kB/1.817kB\n",
      " 6053649ad1b9 Pull complete \n",
      " a2f86a36b140 Extracting [==================================================>]     113B/113B\n",
      " a2f86a36b140 Extracting [==================================================>]     113B/113B\n",
      " 1d53beb1a078 Downloading [>                                                  ]  6.165kB/605.8kB\n",
      " a2f86a36b140 Pull complete \n",
      " 6cb526d7f277 Extracting [==================================================>]  27.63kB/27.63kB\n",
      " 6cb526d7f277 Extracting [==================================================>]  27.63kB/27.63kB\n",
      " 6cb526d7f277 Pull complete \n",
      " 1d53beb1a078 Downloading [===========>                                       ]    136kB/605.8kB\n",
      " 1d53beb1a078 Downloading [====================================>              ]  438.8kB/605.8kB\n",
      " 1d53beb1a078 Verifying Checksum \n",
      " 1d53beb1a078 Download complete \n",
      " 1d53beb1a078 Extracting [==>                                                ]  32.77kB/605.8kB\n",
      " 1d53beb1a078 Extracting [==================================================>]  605.8kB/605.8kB\n",
      " 1d53beb1a078 Extracting [==================================================>]  605.8kB/605.8kB\n",
      " 1d53beb1a078 Pull complete \n",
      " 90572dafe7c9 Downloading [===================================>               ]     733B/1.039kB\n",
      " 90572dafe7c9 Downloading [==================================================>]  1.039kB/1.039kB\n",
      " 90572dafe7c9 Verifying Checksum \n",
      " 90572dafe7c9 Download complete \n",
      " 89a8454f4db4 Downloading [=>                                                 ]  2.101kB/76.64kB\n",
      " 89a8454f4db4 Downloading [==================================================>]  76.64kB/76.64kB\n",
      " 89a8454f4db4 Download complete \n",
      " 89a8454f4db4 Extracting [=====================>                             ]  32.77kB/76.64kB\n",
      " 89a8454f4db4 Extracting [==================================================>]  76.64kB/76.64kB\n",
      " 89a8454f4db4 Extracting [==================================================>]  76.64kB/76.64kB\n",
      " 89a8454f4db4 Pull complete \n",
      " 90572dafe7c9 Extracting [==================================================>]  1.039kB/1.039kB\n",
      " 90572dafe7c9 Extracting [==================================================>]  1.039kB/1.039kB\n",
      " 605b8195cc6c Downloading [==================>                                ]     733B/1.946kB\n",
      " 605b8195cc6c Downloading [==================================================>]  1.946kB/1.946kB\n",
      " 605b8195cc6c Verifying Checksum \n",
      " 605b8195cc6c Download complete \n",
      " 90572dafe7c9 Pull complete \n",
      " 605b8195cc6c Extracting [==================================================>]  1.946kB/1.946kB\n",
      " 605b8195cc6c Extracting [==================================================>]  1.946kB/1.946kB\n",
      " 605b8195cc6c Pull complete \n",
      " 24cef00b9ad9 Downloading [>                                                  ]  160.7kB/15.75MB\n",
      " 24cef00b9ad9 Downloading [===========>                                       ]  3.762MB/15.75MB\n",
      " b04fae59f135 Downloading [>                                                  ]  527.6kB/53.69MB\n",
      " 24cef00b9ad9 Downloading [===========================>                       ]  8.735MB/15.75MB\n",
      " b04fae59f135 Downloading [>                                                  ]  1.068MB/53.69MB\n",
      " e42fc678a1e3 Downloading [>                                                  ]  537.1kB/158.3MB\n",
      " 24cef00b9ad9 Downloading [==============================>                    ]  9.726MB/15.75MB\n",
      " b04fae59f135 Downloading [==>                                                ]   2.69MB/53.69MB\n",
      " 24cef00b9ad9 Verifying Checksum \n",
      " 24cef00b9ad9 Download complete \n",
      " e42fc678a1e3 Downloading [>                                                  ]  1.602MB/158.3MB\n",
      " b04fae59f135 Downloading [===>                                               ]  3.771MB/53.69MB\n",
      " b04fae59f135 Downloading [====>                                              ]  4.844MB/53.69MB\n",
      " e42fc678a1e3 Downloading [=>                                                 ]  4.809MB/158.3MB\n",
      " e42fc678a1e3 Downloading [==>                                                ]  6.947MB/158.3MB\n",
      " b04fae59f135 Downloading [======>                                            ]  6.466MB/53.69MB\n",
      " e42fc678a1e3 Downloading [===>                                               ]  10.17MB/158.3MB\n",
      " b04fae59f135 Downloading [=======>                                           ]  8.088MB/53.69MB\n",
      " e42fc678a1e3 Downloading [===>                                               ]  12.33MB/158.3MB\n",
      " b04fae59f135 Downloading [========>                                          ]  8.629MB/53.69MB\n",
      " e42fc678a1e3 Downloading [====>                                              ]  13.93MB/158.3MB\n",
      " b04fae59f135 Downloading [==========>                                        ]  10.79MB/53.69MB\n",
      " e42fc678a1e3 Downloading [=====>                                             ]  17.68MB/158.3MB\n",
      " 1db91b65282b Downloading [>                                                  ]  539.9kB/54.68MB\n",
      " b04fae59f135 Downloading [==========>                                        ]  11.33MB/53.69MB\n",
      " e42fc678a1e3 Downloading [=======>                                           ]  23.03MB/158.3MB\n",
      " 1db91b65282b Downloading [=>                                                 ]  1.612MB/54.68MB\n",
      " e42fc678a1e3 Downloading [=======>                                           ]  23.56MB/158.3MB\n",
      " b04fae59f135 Downloading [============>                                      ]  13.48MB/53.69MB\n",
      " 1db91b65282b Downloading [=>                                                 ]  2.153MB/54.68MB\n",
      " e42fc678a1e3 Downloading [=======>                                           ]  24.64MB/158.3MB\n",
      " b04fae59f135 Downloading [==============>                                    ]  15.09MB/53.69MB\n",
      " e42fc678a1e3 Downloading [========>                                          ]  27.87MB/158.3MB\n",
      " 1db91b65282b Downloading [==>                                                ]  3.234MB/54.68MB\n",
      " b04fae59f135 Downloading [===============>                                   ]  16.17MB/53.69MB\n",
      " b04fae59f135 Downloading [================>                                  ]  17.25MB/53.69MB\n",
      " e42fc678a1e3 Downloading [=========>                                         ]  29.49MB/158.3MB\n",
      " 1db91b65282b Downloading [===>                                               ]  3.775MB/54.68MB\n",
      " 1db91b65282b Downloading [====>                                              ]  4.856MB/54.68MB\n",
      " e42fc678a1e3 Downloading [==========>                                        ]   33.8MB/158.3MB\n",
      " b04fae59f135 Downloading [==================>                                ]  19.39MB/53.69MB\n",
      " 1db91b65282b Downloading [====>                                              ]  5.397MB/54.68MB\n",
      " e42fc678a1e3 Downloading [===========>                                       ]  35.95MB/158.3MB\n",
      " 1db91b65282b Downloading [=====>                                             ]  5.925MB/54.68MB\n",
      " e42fc678a1e3 Downloading [===========>                                       ]  37.02MB/158.3MB\n",
      " b04fae59f135 Downloading [===================>                               ]  21.01MB/53.69MB\n",
      " e42fc678a1e3 Downloading [=============>                                     ]   41.3MB/158.3MB\n",
      " b04fae59f135 Downloading [=====================>                             ]  23.15MB/53.69MB\n",
      " e42fc678a1e3 Downloading [=============>                                     ]  42.37MB/158.3MB\n",
      " 1db91b65282b Downloading [======>                                            ]  7.535MB/54.68MB\n",
      " b04fae59f135 Downloading [======================>                            ]  23.69MB/53.69MB\n",
      " e42fc678a1e3 Downloading [=============>                                     ]  43.44MB/158.3MB\n",
      " 1db91b65282b Downloading [=======>                                           ]  8.608MB/54.68MB\n",
      " b04fae59f135 Downloading [=======================>                           ]  24.75MB/53.69MB\n",
      " e42fc678a1e3 Downloading [==============>                                    ]  46.13MB/158.3MB\n",
      " b04fae59f135 Downloading [========================>                          ]  25.83MB/53.69MB\n",
      " 1db91b65282b Downloading [========>                                          ]  9.145MB/54.68MB\n",
      " b04fae59f135 Downloading [=========================>                         ]  26.91MB/53.69MB\n",
      " 1db91b65282b Downloading [========>                                          ]  9.677MB/54.68MB\n",
      " e42fc678a1e3 Downloading [===============>                                   ]  48.81MB/158.3MB\n",
      " 1db91b65282b Downloading [=========>                                         ]  10.75MB/54.68MB\n",
      " e42fc678a1e3 Downloading [================>                                  ]  53.13MB/158.3MB\n",
      " b04fae59f135 Downloading [===========================>                       ]  29.06MB/53.69MB\n",
      " b04fae59f135 Downloading [============================>                      ]  30.68MB/53.69MB\n",
      " 1db91b65282b Downloading [==========>                                        ]  11.82MB/54.68MB\n",
      " e42fc678a1e3 Downloading [=================>                                 ]  56.37MB/158.3MB\n",
      " b04fae59f135 Downloading [=============================>                     ]  31.22MB/53.69MB\n",
      " e42fc678a1e3 Downloading [==================>                                ]  57.99MB/158.3MB\n",
      " 1db91b65282b Downloading [===========>                                       ]   12.9MB/54.68MB\n",
      " b04fae59f135 Downloading [==============================>                    ]   32.3MB/53.69MB\n",
      " e42fc678a1e3 Downloading [==================>                                ]  60.14MB/158.3MB\n",
      " 1db91b65282b Downloading [============>                                      ]  13.97MB/54.68MB\n",
      " b04fae59f135 Downloading [================================>                  ]  34.45MB/53.69MB\n",
      " e42fc678a1e3 Downloading [====================>                              ]  64.97MB/158.3MB\n",
      " b04fae59f135 Downloading [=================================>                 ]  35.53MB/53.69MB\n",
      " e42fc678a1e3 Downloading [====================>                              ]  65.51MB/158.3MB\n",
      " 1db91b65282b Downloading [=============>                                     ]  15.05MB/54.68MB\n",
      " e42fc678a1e3 Downloading [=====================>                             ]  67.65MB/158.3MB\n",
      " b04fae59f135 Downloading [==================================>                ]  36.61MB/53.69MB\n",
      " 1db91b65282b Downloading [==============>                                    ]  16.13MB/54.68MB\n",
      " 1db91b65282b Downloading [===============>                                   ]  17.21MB/54.68MB\n",
      " e42fc678a1e3 Downloading [======================>                            ]   69.8MB/158.3MB\n",
      " b04fae59f135 Downloading [====================================>              ]  38.74MB/53.69MB\n",
      " e42fc678a1e3 Downloading [=======================>                           ]  73.58MB/158.3MB\n",
      " b04fae59f135 Downloading [=====================================>             ]  40.36MB/53.69MB\n",
      " 1db91b65282b Downloading [================>                                  ]  18.29MB/54.68MB\n",
      " 1db91b65282b Downloading [=================>                                 ]  18.83MB/54.68MB\n",
      " e42fc678a1e3 Downloading [=======================>                           ]  74.65MB/158.3MB\n",
      " b04fae59f135 Downloading [======================================>            ]  41.43MB/53.69MB\n",
      " 1db91b65282b Downloading [==================>                                ]  20.44MB/54.68MB\n",
      " e42fc678a1e3 Downloading [========================>                          ]  78.96MB/158.3MB\n",
      " b04fae59f135 Downloading [========================================>          ]  43.57MB/53.69MB\n",
      " e42fc678a1e3 Downloading [=========================>                         ]   79.5MB/158.3MB\n",
      " b04fae59f135 Downloading [=========================================>         ]   44.1MB/53.69MB\n",
      " 1db91b65282b Downloading [===================>                               ]  20.98MB/54.68MB\n",
      " e42fc678a1e3 Downloading [=========================>                         ]  80.58MB/158.3MB\n",
      " b04fae59f135 Downloading [==========================================>        ]  45.72MB/53.69MB\n",
      " 1db91b65282b Downloading [====================>                              ]   22.6MB/54.68MB\n",
      " b04fae59f135 Downloading [===========================================>       ]  46.77MB/53.69MB\n",
      " e42fc678a1e3 Downloading [==========================>                        ]   83.8MB/158.3MB\n",
      " 1db91b65282b Downloading [=====================>                             ]  23.67MB/54.68MB\n",
      " b04fae59f135 Downloading [============================================>      ]  47.84MB/53.69MB\n",
      " e42fc678a1e3 Downloading [==========================>                        ]  85.41MB/158.3MB\n",
      " 1db91b65282b Downloading [======================>                            ]  24.75MB/54.68MB\n",
      " b04fae59f135 Downloading [==============================================>    ]  49.46MB/53.69MB\n",
      " e42fc678a1e3 Downloading [===========================>                       ]  87.56MB/158.3MB\n",
      " 1db91b65282b Downloading [=======================>                           ]  25.83MB/54.68MB\n",
      " e42fc678a1e3 Downloading [===========================>                       ]  88.63MB/158.3MB\n",
      " b04fae59f135 Downloading [===============================================>   ]  50.54MB/53.69MB\n",
      " 1db91b65282b Downloading [========================>                          ]  26.91MB/54.68MB\n",
      " b04fae59f135 Downloading [================================================>  ]  51.62MB/53.69MB\n",
      " e42fc678a1e3 Downloading [============================>                      ]  90.25MB/158.3MB\n",
      " 1db91b65282b Downloading [=========================>                         ]  27.99MB/54.68MB\n",
      " b04fae59f135 Downloading [=================================================> ]  52.69MB/53.69MB\n",
      " b04fae59f135 Verifying Checksum \n",
      " b04fae59f135 Download complete \n",
      " e42fc678a1e3 Downloading [=============================>                     ]   92.4MB/158.3MB\n",
      " 1db91b65282b Downloading [===========================>                       ]  29.62MB/54.68MB\n",
      " e42fc678a1e3 Downloading [==============================>                    ]  95.63MB/158.3MB\n",
      " 1db91b65282b Downloading [============================>                      ]   30.7MB/54.68MB\n",
      " b04fae59f135 Extracting [>                                                  ]  557.1kB/53.69MB\n",
      " e42fc678a1e3 Downloading [==============================>                    ]  97.78MB/158.3MB\n",
      " 1db91b65282b Downloading [=============================>                     ]   32.3MB/54.68MB\n",
      " b04fae59f135 Extracting [=====>                                             ]  6.128MB/53.69MB\n",
      " e42fc678a1e3 Downloading [===============================>                   ]  99.91MB/158.3MB\n",
      " b04fae59f135 Extracting [============>                                      ]  13.37MB/53.69MB\n",
      " 1db91b65282b Downloading [===============================>                   ]  33.92MB/54.68MB\n",
      " e42fc678a1e3 Downloading [================================>                  ]    102MB/158.3MB\n",
      " b04fae59f135 Extracting [===================>                               ]  21.17MB/53.69MB\n",
      " 1db91b65282b Downloading [================================>                  ]  35.54MB/54.68MB\n",
      " e42fc678a1e3 Downloading [================================>                  ]  104.2MB/158.3MB\n",
      " 1db91b65282b Downloading [=================================>                 ]   36.6MB/54.68MB\n",
      " b04fae59f135 Extracting [========================>                          ]  26.18MB/53.69MB\n",
      " e42fc678a1e3 Downloading [=================================>                 ]  104.7MB/158.3MB\n",
      " b04fae59f135 Extracting [===========================>                       ]  29.52MB/53.69MB\n",
      " 1db91b65282b Downloading [===================================>               ]  38.75MB/54.68MB\n",
      " e42fc678a1e3 Downloading [==================================>                ]  108.5MB/158.3MB\n",
      " b04fae59f135 Extracting [====================================>              ]  38.99MB/53.69MB\n",
      " 54db3e52d959 Downloading [>                                                  ]  537.4kB/189.8MB\n",
      " e42fc678a1e3 Downloading [==================================>                ]  110.6MB/158.3MB\n",
      " 1db91b65282b Downloading [===================================>               ]   39.3MB/54.68MB\n",
      " b04fae59f135 Extracting [=======================================>           ]  42.89MB/53.69MB\n",
      " b04fae59f135 Extracting [===========================================>       ]  46.79MB/53.69MB\n",
      " 54db3e52d959 Downloading [>                                                  ]  1.619MB/189.8MB\n",
      " e42fc678a1e3 Downloading [===================================>               ]  112.2MB/158.3MB\n",
      " 1db91b65282b Downloading [=====================================>             ]  40.91MB/54.68MB\n",
      " b04fae59f135 Extracting [==============================================>    ]  50.14MB/53.69MB\n",
      " 54db3e52d959 Downloading [>                                                  ]    2.7MB/189.8MB\n",
      " 1db91b65282b Downloading [======================================>            ]  41.97MB/54.68MB\n",
      " e42fc678a1e3 Downloading [===================================>               ]  113.3MB/158.3MB\n",
      " b04fae59f135 Extracting [================================================>  ]  51.81MB/53.69MB\n",
      " 54db3e52d959 Downloading [=>                                                 ]  4.863MB/189.8MB\n",
      " 1db91b65282b Downloading [=======================================>           ]  43.05MB/54.68MB\n",
      " 54db3e52d959 Downloading [=>                                                 ]  5.944MB/189.8MB\n",
      " e42fc678a1e3 Downloading [====================================>              ]    116MB/158.3MB\n",
      " 1db91b65282b Downloading [=======================================>           ]  43.58MB/54.68MB\n",
      " 54db3e52d959 Downloading [==>                                                ]  8.099MB/189.8MB\n",
      " e42fc678a1e3 Downloading [====================================>              ]  117.1MB/158.3MB\n",
      " b04fae59f135 Extracting [=================================================> ]  52.92MB/53.69MB\n",
      " 54db3e52d959 Downloading [==>                                                ]  10.79MB/189.8MB\n",
      " 1db91b65282b Downloading [=========================================>         ]  45.19MB/54.68MB\n",
      " e42fc678a1e3 Downloading [=====================================>             ]  119.2MB/158.3MB\n",
      " b04fae59f135 Extracting [==================================================>]  53.69MB/53.69MB\n",
      " b04fae59f135 Pull complete \n",
      " 24cef00b9ad9 Extracting [>                                                  ]  163.8kB/15.75MB\n",
      " 54db3e52d959 Downloading [===>                                               ]  12.91MB/189.8MB\n",
      " 1db91b65282b Downloading [==========================================>        ]  46.26MB/54.68MB\n",
      " e42fc678a1e3 Downloading [======================================>            ]  120.3MB/158.3MB\n",
      " 24cef00b9ad9 Extracting [===================>                               ]  6.226MB/15.75MB\n",
      " 54db3e52d959 Downloading [====>                                              ]  15.59MB/189.8MB\n",
      " 1db91b65282b Downloading [===========================================>       ]  47.34MB/54.68MB\n",
      " e42fc678a1e3 Downloading [======================================>            ]  121.4MB/158.3MB\n",
      " 24cef00b9ad9 Extracting [=============================================>     ]  14.25MB/15.75MB\n",
      " 24cef00b9ad9 Extracting [==================================================>]  15.75MB/15.75MB\n",
      " 24cef00b9ad9 Pull complete \n",
      " 54db3e52d959 Downloading [====>                                              ]  18.82MB/189.8MB\n",
      " e42fc678a1e3 Downloading [======================================>            ]    123MB/158.3MB\n",
      " 1db91b65282b Downloading [============================================>      ]  48.41MB/54.68MB\n",
      " 54db3e52d959 Downloading [=====>                                             ]  22.57MB/189.8MB\n",
      " e42fc678a1e3 Downloading [=======================================>           ]  124.6MB/158.3MB\n",
      " 54db3e52d959 Downloading [======>                                            ]  23.66MB/189.8MB\n",
      " 1db91b65282b Downloading [=============================================>     ]  50.04MB/54.68MB\n",
      " e42fc678a1e3 Downloading [=======================================>           ]  125.1MB/158.3MB\n",
      " 1db91b65282b Downloading [==============================================>    ]  50.57MB/54.68MB\n",
      " 54db3e52d959 Downloading [======>                                            ]  25.28MB/189.8MB\n",
      " e42fc678a1e3 Downloading [=======================================>           ]  126.2MB/158.3MB\n",
      " 54db3e52d959 Downloading [=======>                                           ]  29.56MB/189.8MB\n",
      " e42fc678a1e3 Downloading [========================================>          ]  127.8MB/158.3MB\n",
      " 1db91b65282b Downloading [===============================================>   ]  52.19MB/54.68MB\n",
      " 54db3e52d959 Downloading [========>                                          ]  31.18MB/189.8MB\n",
      " 1db91b65282b Downloading [================================================>  ]  52.73MB/54.68MB\n",
      " 54db3e52d959 Downloading [========>                                          ]  32.26MB/189.8MB\n",
      " e42fc678a1e3 Downloading [========================================>          ]  128.9MB/158.3MB\n",
      " 1db91b65282b Downloading [=================================================> ]  53.81MB/54.68MB\n",
      " 1db91b65282b Download complete \n",
      " 54db3e52d959 Downloading [=========>                                         ]  36.57MB/189.8MB\n",
      " e42fc678a1e3 Downloading [=========================================>         ]  131.1MB/158.3MB\n",
      " 1db91b65282b Extracting [>                                                  ]  557.1kB/54.68MB\n",
      " 54db3e52d959 Downloading [==========>                                        ]  39.79MB/189.8MB\n",
      " 1db91b65282b Extracting [========>                                          ]   9.47MB/54.68MB\n",
      " e42fc678a1e3 Downloading [==========================================>        ]  133.2MB/158.3MB\n",
      " 1db91b65282b Extracting [============>                                      ]  13.37MB/54.68MB\n",
      " 54db3e52d959 Downloading [===========>                                       ]  42.46MB/189.8MB\n",
      " e42fc678a1e3 Downloading [==========================================>        ]  134.8MB/158.3MB\n",
      " 1db91b65282b Extracting [================>                                  ]  18.38MB/54.68MB\n",
      " 54db3e52d959 Downloading [===========>                                       ]  44.06MB/189.8MB\n",
      " 1db91b65282b Extracting [========================>                          ]   27.3MB/54.68MB\n",
      " 54db3e52d959 Downloading [============>                                      ]   46.2MB/189.8MB\n",
      " e42fc678a1e3 Downloading [==========================================>        ]  135.9MB/158.3MB\n",
      " 1db91b65282b Extracting [===========================>                       ]  30.08MB/54.68MB\n",
      " 54db3e52d959 Downloading [============>                                      ]  48.87MB/189.8MB\n",
      " e42fc678a1e3 Downloading [===========================================>       ]  137.5MB/158.3MB\n",
      " 1db91b65282b Extracting [==============================>                    ]  32.87MB/54.68MB\n",
      " 54db3e52d959 Downloading [=============>                                     ]  51.55MB/189.8MB\n",
      " e42fc678a1e3 Downloading [===========================================>       ]  138.6MB/158.3MB\n",
      " 1db91b65282b Extracting [================================>                  ]  35.65MB/54.68MB\n",
      " 54db3e52d959 Downloading [==============>                                    ]  53.69MB/189.8MB\n",
      " e42fc678a1e3 Downloading [===========================================>       ]  139.1MB/158.3MB\n",
      " 1db91b65282b Extracting [==================================>                ]  37.88MB/54.68MB\n",
      " 54db3e52d959 Downloading [===============>                                   ]  58.53MB/189.8MB\n",
      " 4d727a249b44 Downloading [>                                                  ]  66.56kB/6.405MB\n",
      " 54db3e52d959 Downloading [================>                                  ]  61.78MB/189.8MB\n",
      " 1db91b65282b Extracting [====================================>              ]  40.11MB/54.68MB\n",
      " 4d727a249b44 Downloading [=>                                                 ]  197.6kB/6.405MB\n",
      " e42fc678a1e3 Downloading [============================================>      ]  139.7MB/158.3MB\n",
      " 54db3e52d959 Downloading [================>                                  ]  64.44MB/189.8MB\n",
      " 1db91b65282b Extracting [=========================================>         ]  45.12MB/54.68MB\n",
      " e42fc678a1e3 Downloading [============================================>      ]  140.7MB/158.3MB\n",
      " 4d727a249b44 Downloading [===>                                               ]  480.1kB/6.405MB\n",
      " 54db3e52d959 Downloading [=================>                                 ]  66.58MB/189.8MB\n",
      " 1db91b65282b Extracting [=============================================>     ]  50.14MB/54.68MB\n",
      " e42fc678a1e3 Downloading [============================================>      ]  141.3MB/158.3MB\n",
      " 4d727a249b44 Downloading [=====>                                             ]  750.5kB/6.405MB\n",
      " 1db91b65282b Extracting [===============================================>   ]  52.36MB/54.68MB\n",
      " 4d727a249b44 Downloading [==========>                                        ]   1.34MB/6.405MB\n",
      " 54db3e52d959 Downloading [=================>                                 ]  68.19MB/189.8MB\n",
      " e42fc678a1e3 Downloading [============================================>      ]  142.3MB/158.3MB\n",
      " 4d727a249b44 Downloading [======================>                            ]  2.917MB/6.405MB\n",
      " 1db91b65282b Extracting [=================================================> ]  54.03MB/54.68MB\n",
      " 1db91b65282b Extracting [==================================================>]  54.68MB/54.68MB\n",
      " e42fc678a1e3 Downloading [=============================================>     ]    144MB/158.3MB\n",
      " 4d727a249b44 Downloading [==========================>                        ]  3.384MB/6.405MB\n",
      " 54db3e52d959 Downloading [==================>                                ]   71.4MB/189.8MB\n",
      " e42fc678a1e3 Downloading [=============================================>     ]    145MB/158.3MB\n",
      " 4d727a249b44 Downloading [===================================>               ]  4.572MB/6.405MB\n",
      " 54db3e52d959 Downloading [===================>                               ]  74.07MB/189.8MB\n",
      " 1db91b65282b Pull complete \n",
      " 54db3e52d959 Downloading [===================>                               ]  75.15MB/189.8MB\n",
      " e42fc678a1e3 Downloading [==============================================>    ]  146.1MB/158.3MB\n",
      " 4d727a249b44 Downloading [======================================>            ]    4.9MB/6.405MB\n",
      " 4d727a249b44 Downloading [==============================================>    ]  5.948MB/6.405MB\n",
      " 54db3e52d959 Downloading [====================>                              ]   77.3MB/189.8MB\n",
      " e42fc678a1e3 Downloading [==============================================>    ]  147.2MB/158.3MB\n",
      " 4d727a249b44 Verifying Checksum \n",
      " 4d727a249b44 Download complete \n",
      " 54db3e52d959 Downloading [=====================>                             ]  79.99MB/189.8MB\n",
      " e42fc678a1e3 Downloading [===============================================>   ]  149.9MB/158.3MB\n",
      " 54db3e52d959 Downloading [=====================>                             ]  82.15MB/189.8MB\n",
      " e42fc678a1e3 Downloading [===============================================>   ]  150.9MB/158.3MB\n",
      " e42fc678a1e3 Downloading [===============================================>   ]  151.5MB/158.3MB\n",
      " 54db3e52d959 Downloading [=====================>                             ]  82.68MB/189.8MB\n",
      " e42fc678a1e3 Downloading [================================================>  ]  153.1MB/158.3MB\n",
      " 54db3e52d959 Downloading [======================>                            ]  83.76MB/189.8MB\n",
      " e42fc678a1e3 Downloading [================================================>  ]  154.2MB/158.3MB\n",
      " 54db3e52d959 Downloading [======================>                            ]  85.91MB/189.8MB\n",
      " e42fc678a1e3 Downloading [=================================================> ]  155.8MB/158.3MB\n",
      " 54db3e52d959 Downloading [=======================>                           ]  88.06MB/189.8MB\n",
      " 54db3e52d959 Downloading [=======================>                           ]  89.14MB/189.8MB\n",
      " e42fc678a1e3 Downloading [=================================================> ]  157.4MB/158.3MB\n",
      " e42fc678a1e3 Verifying Checksum \n",
      " e42fc678a1e3 Download complete \n",
      " e42fc678a1e3 Extracting [>                                                  ]  557.1kB/158.3MB\n",
      " c3dbbaafce99 Downloading [>                                                  ]  159.9kB/15.97MB\n",
      " 54db3e52d959 Downloading [========================>                          ]  92.36MB/189.8MB\n",
      " e42fc678a1e3 Extracting [=====>                                             ]  17.27MB/158.3MB\n",
      " c3dbbaafce99 Downloading [====>                                              ]  1.316MB/15.97MB\n",
      " 54db3e52d959 Downloading [========================>                          ]  93.97MB/189.8MB\n",
      " e42fc678a1e3 Extracting [============>                                      ]  38.99MB/158.3MB\n",
      " c3dbbaafce99 Downloading [==========>                                        ]  3.286MB/15.97MB\n",
      " e42fc678a1e3 Extracting [===================>                               ]  60.72MB/158.3MB\n",
      " 54db3e52d959 Downloading [=========================>                         ]  96.13MB/189.8MB\n",
      " c3dbbaafce99 Downloading [=============>                                     ]  4.265MB/15.97MB\n",
      " e42fc678a1e3 Extracting [=========================>                         ]  81.89MB/158.3MB\n",
      " 54db3e52d959 Downloading [=========================>                         ]  98.27MB/189.8MB\n",
      " c3dbbaafce99 Downloading [=================>                                 ]  5.584MB/15.97MB\n",
      " e42fc678a1e3 Extracting [=================================>                 ]  105.3MB/158.3MB\n",
      " 54db3e52d959 Downloading [==========================>                        ]  99.35MB/189.8MB\n",
      " c3dbbaafce99 Downloading [====================>                              ]  6.403MB/15.97MB\n",
      " e42fc678a1e3 Extracting [========================================>          ]    127MB/158.3MB\n",
      " c3dbbaafce99 Downloading [=========================>                         ]  8.222MB/15.97MB\n",
      " 54db3e52d959 Downloading [==========================>                        ]    102MB/189.8MB\n",
      " e42fc678a1e3 Extracting [==============================================>    ]  147.6MB/158.3MB\n",
      " c3dbbaafce99 Downloading [==============================>                    ]  9.696MB/15.97MB\n",
      " 54db3e52d959 Downloading [===========================>                       ]  103.6MB/189.8MB\n",
      " e42fc678a1e3 Extracting [==================================================>]  158.3MB/158.3MB\n",
      " e42fc678a1e3 Pull complete \n",
      " api Pulled \n",
      " c3dbbaafce99 Downloading [====================================>              ]  11.67MB/15.97MB\n",
      " 54db3e52d959 Downloading [============================>                      ]  106.3MB/189.8MB\n",
      " c3dbbaafce99 Downloading [=============================================>     ]  14.62MB/15.97MB\n",
      " 54db3e52d959 Downloading [============================>                      ]  107.9MB/189.8MB\n",
      " 0fd9667b9613 Downloading [==================================================>]     244B/244B\n",
      " 0fd9667b9613 Verifying Checksum \n",
      " 0fd9667b9613 Download complete \n",
      " c3dbbaafce99 Verifying Checksum \n",
      " c3dbbaafce99 Download complete \n",
      " 54db3e52d959 Downloading [=============================>                     ]  111.2MB/189.8MB\n",
      " 54db3e52d959 Downloading [=============================>                     ]  113.8MB/189.8MB\n",
      " 54db3e52d959 Downloading [==============================>                    ]  116.5MB/189.8MB\n",
      " 54db3e52d959 Downloading [===============================>                   ]  119.7MB/189.8MB\n",
      " 54db3e52d959 Downloading [================================>                  ]  123.5MB/189.8MB\n",
      " 54db3e52d959 Downloading [=================================>                 ]  127.2MB/189.8MB\n",
      " 54db3e52d959 Downloading [==================================>                ]  130.5MB/189.8MB\n",
      " 54db3e52d959 Downloading [===================================>               ]  134.8MB/189.8MB\n",
      " e00db28dae94 Downloading [==================================================>]     103B/103B\n",
      " e00db28dae94 Verifying Checksum \n",
      " e00db28dae94 Download complete \n",
      " 54db3e52d959 Downloading [====================================>              ]  137.5MB/189.8MB\n",
      " 54db3e52d959 Downloading [=====================================>             ]  140.7MB/189.8MB\n",
      " 8c1418a0d252 Downloading [>                                                  ]  29.32kB/2.846MB\n",
      " 54db3e52d959 Downloading [=====================================>             ]  143.9MB/189.8MB\n",
      " 8c1418a0d252 Downloading [==========>                                        ]  606.8kB/2.846MB\n",
      " 54db3e52d959 Downloading [======================================>            ]  147.1MB/189.8MB\n",
      " 8c1418a0d252 Downloading [======================>                            ]  1.303MB/2.846MB\n",
      " 54db3e52d959 Downloading [=======================================>           ]  149.8MB/189.8MB\n",
      " 8c1418a0d252 Downloading [============================================>      ]  2.516MB/2.846MB\n",
      " 8c1418a0d252 Download complete \n",
      " 54db3e52d959 Downloading [========================================>          ]  154.6MB/189.8MB\n",
      " 54db3e52d959 Downloading [=========================================>         ]  156.8MB/189.8MB\n",
      " 54db3e52d959 Downloading [==========================================>        ]  161.1MB/189.8MB\n",
      " 54db3e52d959 Downloading [===========================================>       ]  164.9MB/189.8MB\n",
      " 45547d032be3 Downloading [=========>                                         ]     733B/4.049kB\n",
      " 45547d032be3 Downloading [==================================================>]  4.049kB/4.049kB\n",
      " 45547d032be3 Verifying Checksum \n",
      " 45547d032be3 Download complete \n",
      " 54db3e52d959 Downloading [===========================================>       ]  166.5MB/189.8MB\n",
      " 54db3e52d959 Downloading [=============================================>     ]  171.8MB/189.8MB\n",
      " 54db3e52d959 Downloading [=============================================>     ]  173.4MB/189.8MB\n",
      " 54db3e52d959 Downloading [===============================================>   ]  179.9MB/189.8MB\n",
      " 54db3e52d959 Downloading [================================================>  ]  183.7MB/189.8MB\n",
      " 54db3e52d959 Downloading [=================================================> ]  187.4MB/189.8MB\n",
      " 54db3e52d959 Verifying Checksum \n",
      " 54db3e52d959 Download complete \n",
      " 0f4ced6d90c5 Downloading [>                                                  ]  177.1kB/17.64MB\n",
      " 54db3e52d959 Extracting [>                                                  ]  557.1kB/189.8MB\n",
      " 0f4ced6d90c5 Downloading [=>                                                 ]  537.4kB/17.64MB\n",
      " b46d9b199d25 Downloading [>                                                  ]  225.8kB/21.81MB\n",
      " 54db3e52d959 Extracting [===>                                               ]  12.26MB/189.8MB\n",
      " 0f4ced6d90c5 Downloading [===>                                               ]  1.258MB/17.64MB\n",
      " b46d9b199d25 Downloading [=>                                                 ]  684.5kB/21.81MB\n",
      " 54db3e52d959 Extracting [====>                                              ]  17.83MB/189.8MB\n",
      " 0f4ced6d90c5 Downloading [=======>                                           ]  2.536MB/17.64MB\n",
      " c41833b44d91 Downloading [>                                                  ]   33.4kB/3.262MB\n",
      " b46d9b199d25 Downloading [===>                                               ]  1.594MB/21.81MB\n",
      " 0f4ced6d90c5 Downloading [=============>                                     ]  4.912MB/17.64MB\n",
      " 54db3e52d959 Extracting [====>                                              ]  18.94MB/189.8MB\n",
      " 0f4ced6d90c5 Downloading [================>                                  ]  5.649MB/17.64MB\n",
      " 54db3e52d959 Extracting [=====>                                             ]  20.05MB/189.8MB\n",
      " c41833b44d91 Downloading [===============>                                   ]   1.03MB/3.262MB\n",
      " b46d9b199d25 Downloading [=====>                                             ]   2.52MB/21.81MB\n",
      " 0f4ced6d90c5 Downloading [==================>                                ]  6.559MB/17.64MB\n",
      " c41833b44d91 Downloading [======================================>            ]   2.53MB/3.262MB\n",
      " 54db3e52d959 Extracting [=====>                                             ]  21.17MB/189.8MB\n",
      " c41833b44d91 Verifying Checksum \n",
      " c41833b44d91 Extracting [>                                                  ]  32.77kB/3.262MB\n",
      " b46d9b199d25 Downloading [=========>                                         ]  4.105MB/21.81MB\n",
      " 0f4ced6d90c5 Downloading [============================>                      ]  10.04MB/17.64MB\n",
      " c41833b44d91 Extracting [==================================================>]  3.262MB/3.262MB\n",
      " c41833b44d91 Pull complete \n",
      " 54db3e52d959 Extracting [=====>                                             ]  22.28MB/189.8MB\n",
      " b46d9b199d25 Downloading [==========>                                        ]  4.793MB/21.81MB\n",
      " 0f4ced6d90c5 Downloading [==================================>                ]  12.24MB/17.64MB\n",
      " 54db3e52d959 Extracting [======>                                            ]   23.4MB/189.8MB\n",
      " 0f4ced6d90c5 Downloading [==============================================>    ]  16.25MB/17.64MB\n",
      " b46d9b199d25 Downloading [===============>                                   ]   6.62MB/21.81MB\n",
      " 0f4ced6d90c5 Verifying Checksum \n",
      " 0f4ced6d90c5 Download complete \n",
      " 54db3e52d959 Extracting [======>                                            ]  25.62MB/189.8MB\n",
      " b46d9b199d25 Downloading [==================>                                ]  8.217MB/21.81MB\n",
      " 54db3e52d959 Extracting [=======>                                           ]  27.85MB/189.8MB\n",
      " b46d9b199d25 Downloading [=======================>                           ]  10.05MB/21.81MB\n",
      " 54db3e52d959 Extracting [=========>                                         ]  37.32MB/189.8MB\n",
      " b46d9b199d25 Downloading [============================>                      ]  12.58MB/21.81MB\n",
      " 54db3e52d959 Extracting [============>                                      ]  46.79MB/189.8MB\n",
      " b46d9b199d25 Downloading [==================================>                ]  15.09MB/21.81MB\n",
      " 20779f060cd3 Downloading [>                                                  ]  19.17kB/1.789MB\n",
      " 54db3e52d959 Extracting [==============>                                    ]  56.26MB/189.8MB\n",
      " b46d9b199d25 Downloading [=========================================>         ]  18.08MB/21.81MB\n",
      " 20779f060cd3 Downloading [========>                                          ]  291.7kB/1.789MB\n",
      " 54db3e52d959 Extracting [=================>                                 ]  67.96MB/189.8MB\n",
      " b46d9b199d25 Downloading [================================================>  ]  21.07MB/21.81MB\n",
      " 20779f060cd3 Downloading [================>                                  ]    603kB/1.789MB\n",
      " b46d9b199d25 Verifying Checksum \n",
      " b46d9b199d25 Download complete \n",
      " 54db3e52d959 Extracting [===================>                               ]   75.2MB/189.8MB\n",
      " c02272b92d73 Downloading [==================================================>]     626B/626B\n",
      " c02272b92d73 Verifying Checksum \n",
      " c02272b92d73 Download complete \n",
      " 20779f060cd3 Downloading [=====================================>             ]  1.357MB/1.789MB\n",
      " 20779f060cd3 Verifying Checksum \n",
      " 20779f060cd3 Download complete \n",
      " 20779f060cd3 Extracting [>                                                  ]  32.77kB/1.789MB\n",
      " 54db3e52d959 Extracting [======================>                            ]  84.67MB/189.8MB\n",
      " 54db3e52d959 Extracting [========================>                          ]   94.7MB/189.8MB\n",
      " 20779f060cd3 Extracting [======>                                            ]  229.4kB/1.789MB\n",
      " 54db3e52d959 Extracting [===========================>                       ]  104.2MB/189.8MB\n",
      " 20779f060cd3 Extracting [==================================================>]  1.789MB/1.789MB\n",
      " 20779f060cd3 Extracting [==================================================>]  1.789MB/1.789MB\n",
      " 54db3e52d959 Extracting [=============================>                     ]  110.9MB/189.8MB\n",
      " 20779f060cd3 Pull complete \n",
      " c02272b92d73 Extracting [==================================================>]     626B/626B\n",
      " c02272b92d73 Extracting [==================================================>]     626B/626B\n",
      " c02272b92d73 Pull complete \n",
      " 54db3e52d959 Extracting [================================>                  ]  123.1MB/189.8MB\n",
      " a0f27118b828 Downloading [======================================>            ]     734B/956B\n",
      " a0f27118b828 Downloading [==================================================>]     956B/956B\n",
      " a0f27118b828 Verifying Checksum \n",
      " a0f27118b828 Download complete \n",
      " a0f27118b828 Extracting [==================================================>]     956B/956B\n",
      " a0f27118b828 Extracting [==================================================>]     956B/956B\n",
      " a0f27118b828 Pull complete \n",
      " 5a9eefbad09c Downloading [================================================>  ]     746B/772B\n",
      " 5a9eefbad09c Downloading [==================================================>]     772B/772B\n",
      " 5a9eefbad09c Verifying Checksum \n",
      " 5a9eefbad09c Download complete \n",
      " 5a9eefbad09c Extracting [==================================================>]     772B/772B\n",
      " 5a9eefbad09c Extracting [==================================================>]     772B/772B\n",
      " 5a9eefbad09c Pull complete \n",
      " 54db3e52d959 Extracting [==================================>                ]  132.6MB/189.8MB\n",
      " 208f7d4e6580 Downloading [==========================>                        ]     733B/1.403kB\n",
      " 208f7d4e6580 Downloading [==================================================>]  1.403kB/1.403kB\n",
      " 208f7d4e6580 Verifying Checksum \n",
      " 208f7d4e6580 Download complete \n",
      " 208f7d4e6580 Extracting [==================================================>]  1.403kB/1.403kB\n",
      " 208f7d4e6580 Extracting [==================================================>]  1.403kB/1.403kB\n",
      " 208f7d4e6580 Pull complete \n",
      " 54db3e52d959 Extracting [=====================================>             ]  143.7MB/189.8MB\n",
      " 54db3e52d959 Extracting [======================================>            ]  145.9MB/189.8MB\n",
      " 54db3e52d959 Extracting [========================================>          ]  152.6MB/189.8MB\n",
      " 54db3e52d959 Extracting [==========================================>        ]  162.1MB/189.8MB\n",
      " 54db3e52d959 Extracting [============================================>      ]  169.9MB/189.8MB\n",
      " 54db3e52d959 Extracting [=============================================>     ]  174.4MB/189.8MB\n",
      " e5382a11adf2 Downloading [>                                                  ]  111.7kB/11.14MB\n",
      " 54db3e52d959 Extracting [===============================================>   ]  178.8MB/189.8MB\n",
      " e5382a11adf2 Downloading [========>                                          ]  1.963MB/11.14MB\n",
      " a90402eee9f7 Downloading [>                                                  ]  98.95kB/9.548MB\n",
      " 54db3e52d959 Extracting [================================================>  ]  183.8MB/189.8MB\n",
      " e5382a11adf2 Downloading [=================>                                 ]  3.953MB/11.14MB\n",
      " 54db3e52d959 Extracting [=================================================> ]  186.6MB/189.8MB\n",
      " a90402eee9f7 Downloading [======>                                            ]  1.324MB/9.548MB\n",
      " e5382a11adf2 Downloading [=======================>                           ]  5.141MB/11.14MB\n",
      " 54db3e52d959 Extracting [=================================================> ]  187.7MB/189.8MB\n",
      " a6341bc58eb8 Downloading [==================================================>]     422B/422B\n",
      " a6341bc58eb8 Verifying Checksum \n",
      " a6341bc58eb8 Download complete \n",
      " e5382a11adf2 Downloading [==================================>                ]  7.586MB/11.14MB\n",
      " a90402eee9f7 Downloading [===============>                                   ]  2.913MB/9.548MB\n",
      " 54db3e52d959 Extracting [=================================================> ]  188.3MB/189.8MB\n",
      " e5382a11adf2 Downloading [===========================================>       ]  9.778MB/11.14MB\n",
      " a90402eee9f7 Downloading [======================>                            ]  4.387MB/9.548MB\n",
      " e5382a11adf2 Verifying Checksum \n",
      " e5382a11adf2 Download complete \n",
      " e5382a11adf2 Extracting [>                                                  ]  131.1kB/11.14MB\n",
      " a90402eee9f7 Downloading [=========================================>         ]  7.877MB/9.548MB\n",
      " 54db3e52d959 Extracting [=================================================> ]  189.4MB/189.8MB\n",
      " e5382a11adf2 Extracting [=======================>                           ]  5.243MB/11.14MB\n",
      " a90402eee9f7 Verifying Checksum \n",
      " a90402eee9f7 Download complete \n",
      " 54db3e52d959 Extracting [==================================================>]  189.8MB/189.8MB\n",
      " e5382a11adf2 Extracting [==================================================>]  11.14MB/11.14MB\n",
      " e5382a11adf2 Extracting [==================================================>]  11.14MB/11.14MB\n",
      " 54db3e52d959 Pull complete \n",
      " 4d727a249b44 Extracting [>                                                  ]  65.54kB/6.405MB\n",
      " e5382a11adf2 Pull complete \n",
      " a90402eee9f7 Extracting [>                                                  ]   98.3kB/9.548MB\n",
      " 4d727a249b44 Extracting [==========================================>        ]  5.439MB/6.405MB\n",
      " a90402eee9f7 Extracting [==================================================>]  9.548MB/9.548MB\n",
      " a90402eee9f7 Pull complete \n",
      " a6341bc58eb8 Extracting [==================================================>]     422B/422B\n",
      " a6341bc58eb8 Extracting [==================================================>]     422B/422B\n",
      " a6341bc58eb8 Pull complete \n",
      " 4d727a249b44 Extracting [==================================================>]  6.405MB/6.405MB\n",
      " frontend Pulled \n",
      " 4d727a249b44 Pull complete \n",
      " c3dbbaafce99 Extracting [>                                                  ]  163.8kB/15.97MB\n",
      " c3dbbaafce99 Extracting [==================>                                ]  6.062MB/15.97MB\n",
      " c3dbbaafce99 Extracting [===============================>                   ]  10.16MB/15.97MB\n",
      " c3dbbaafce99 Extracting [=================================================> ]  15.89MB/15.97MB\n",
      " c3dbbaafce99 Extracting [==================================================>]  15.97MB/15.97MB\n",
      " c3dbbaafce99 Pull complete \n",
      " 0fd9667b9613 Extracting [==================================================>]     244B/244B\n",
      " 0fd9667b9613 Extracting [==================================================>]     244B/244B\n",
      " 0fd9667b9613 Pull complete \n",
      " 8c1418a0d252 Extracting [>                                                  ]  32.77kB/2.846MB\n",
      " 8c1418a0d252 Extracting [====================================>              ]  2.064MB/2.846MB\n",
      " 8c1418a0d252 Extracting [==================================================>]  2.846MB/2.846MB\n",
      " 8c1418a0d252 Pull complete \n",
      " e00db28dae94 Extracting [==================================================>]     103B/103B\n",
      " e00db28dae94 Extracting [==================================================>]     103B/103B\n",
      " e00db28dae94 Pull complete \n",
      " 45547d032be3 Extracting [==================================================>]  4.049kB/4.049kB\n",
      " 45547d032be3 Extracting [==================================================>]  4.049kB/4.049kB\n",
      " 45547d032be3 Pull complete \n",
      " b46d9b199d25 Extracting [>                                                  ]  229.4kB/21.81MB\n",
      " b46d9b199d25 Extracting [========================>                          ]  10.55MB/21.81MB\n",
      " b46d9b199d25 Extracting [===========================>                       ]  12.16MB/21.81MB\n",
      " b46d9b199d25 Extracting [================================>                  ]  14.22MB/21.81MB\n",
      " b46d9b199d25 Extracting [====================================>              ]  15.83MB/21.81MB\n",
      " b46d9b199d25 Extracting [========================================>          ]  17.66MB/21.81MB\n",
      " b46d9b199d25 Extracting [==================================================>]  21.81MB/21.81MB\n",
      " b46d9b199d25 Pull complete \n",
      " 0f4ced6d90c5 Extracting [>                                                  ]  196.6kB/17.64MB\n",
      " 0f4ced6d90c5 Extracting [============>                                      ]  4.522MB/17.64MB\n",
      " 0f4ced6d90c5 Extracting [===========================>                       ]  9.634MB/17.64MB\n",
      " 0f4ced6d90c5 Extracting [================================>                  ]   11.4MB/17.64MB\n",
      " 0f4ced6d90c5 Extracting [===================================>               ]  12.58MB/17.64MB\n",
      " 0f4ced6d90c5 Extracting [=======================================>           ]  13.76MB/17.64MB\n",
      " 0f4ced6d90c5 Extracting [============================================>      ]  15.73MB/17.64MB\n",
      " 0f4ced6d90c5 Extracting [==================================================>]  17.64MB/17.64MB\n",
      " 0f4ced6d90c5 Pull complete \n",
      " metrics Pulled \n",
      " Network my-stable-dracor_default  Creating\n",
      " Network my-stable-dracor_default  Created\n",
      " Container my-stable-dracor-fuseki-1  Creating\n",
      " Container my-stable-dracor-metrics-1  Creating\n",
      " Container my-stable-dracor-metrics-1  Created\n",
      " Container my-stable-dracor-fuseki-1  Created\n",
      " Container my-stable-dracor-api-1  Creating\n",
      " Container my-stable-dracor-api-1  Created\n",
      " Container my-stable-dracor-frontend-1  Creating\n",
      " Container my-stable-dracor-frontend-1  Created\n",
      " Container my-stable-dracor-metrics-1  Starting\n",
      " Container my-stable-dracor-fuseki-1  Starting\n",
      " Container my-stable-dracor-metrics-1  Started\n",
      " Container my-stable-dracor-fuseki-1  Started\n",
      " Container my-stable-dracor-api-1  Starting\n",
      " Container my-stable-dracor-api-1  Started\n",
      " Container my-stable-dracor-frontend-1  Starting\n",
      " Container my-stable-dracor-frontend-1  Started\n",
      "INFO:root:Started with downloaded docker compose file.\n",
      "INFO:root:Found dracor/dracor-api container with ID 8c9975f92468. Image is: dracor/dracor-api:v0.90.1-local\n",
      "INFO:root:Found dracor/dracor-frontend container with ID ac2e4e6d8a73. Image is: dracor/dracor-frontend:v1.6.0-dirty\n",
      "INFO:root:Found dracor/dracor-metrics container with ID 3d8cc36cdf62. Image is: dracor/dracor-metrics:v1.2.0\n",
      "INFO:root:Found dracor/dracor-fuseki container with ID 35802186a396. Image is: dracor/dracor-fuseki:v1.0.0\n",
      "INFO:root:Trying to connect to the local DraCor API. This can take some time ...\n",
      "INFO:root:DraCor API can be reached at 'http://localhost:8088/api/'.\n"
     ]
    },
    {
     "data": {
      "text/plain": [
       "True"
      ]
     },
     "execution_count": 9,
     "metadata": {},
     "output_type": "execute_result"
    }
   ],
   "source": [
    "dracor.run()"
   ]
  },
  {
   "cell_type": "markdown",
   "id": "286a8c89-a8d4-4f39-ad33-b593c23a4cf0",
   "metadata": {},
   "source": [
    "### Listing running containers\n",
    "It is possible to check if Docker containers are currently running with the already familiar command `docker ps`. This should now list four running containers."
   ]
  },
  {
   "cell_type": "code",
   "execution_count": 10,
   "id": "e72d93f8-9300-44cc-aa56-0110a533e9e5",
   "metadata": {},
   "outputs": [
    {
     "name": "stdout",
     "output_type": "stream",
     "text": [
      "CONTAINER ID   IMAGE                                 COMMAND                  CREATED          STATUS                             PORTS                    NAMES\n",
      "ac2e4e6d8a73   dracor/dracor-frontend:v1.6.0-dirty   \"/docker-entrypoint.…\"   16 seconds ago   Up 15 seconds                      0.0.0.0:8088->80/tcp     my-stable-dracor-frontend-1\n",
      "8c9975f92468   dracor/dracor-api:v0.90.1-local       \"./entrypoint.sh\"        16 seconds ago   Up 15 seconds (health: starting)   0.0.0.0:8080->8080/tcp   my-stable-dracor-api-1\n",
      "3d8cc36cdf62   dracor/dracor-metrics:v1.2.0          \"pipenv run hug -f m…\"   16 seconds ago   Up 15 seconds                      0.0.0.0:8030->8030/tcp   my-stable-dracor-metrics-1\n",
      "35802186a396   dracor/dracor-fuseki:v1.0.0           \"/usr/bin/tini -- /e…\"   16 seconds ago   Up 15 seconds                      0.0.0.0:3030->3030/tcp   my-stable-dracor-fuseki-1\n"
     ]
    }
   ],
   "source": [
    "!docker ps"
   ]
  },
  {
   "cell_type": "markdown",
   "id": "78dd4809-d74c-4aba-9ceb-4c70e03b99f5",
   "metadata": {},
   "source": [
    "The *stable-dracor-client* provides a method (`list_docker_containers`) that gets the same result from the docker daemon and turns it into a data structure native to Python:"
   ]
  },
  {
   "cell_type": "code",
   "execution_count": 11,
   "id": "263fe399-e2fe-4d0b-a899-7873d1a63cc0",
   "metadata": {},
   "outputs": [
    {
     "data": {
      "text/plain": [
       "[{'Command': '\"/docker-entrypoint.…\"',\n",
       "  'CreatedAt': '2023-11-23 13:25:14 +0000 UTC',\n",
       "  'ID': 'ac2e4e6d8a73',\n",
       "  'Image': 'dracor/dracor-frontend:v1.6.0-dirty',\n",
       "  'Labels': 'com.docker.compose.depends_on=api:service_started:false,com.docker.compose.image=sha256:29b9e97eb7e327121e46916d743b02bb8964329715c61b632e44256cf0c54a39,com.docker.compose.oneoff=False,com.docker.compose.project=my-stable-dracor,com.docker.compose.service=frontend,maintainer=NGINX Docker Maintainers <docker-maint@nginx.com>,com.docker.compose.config-hash=b7a27a200311b8bcdb1845cb14b127be75bcd50748ce9ef423c7c3902c6e0bdc,com.docker.compose.container-number=1,com.docker.compose.project.config_files=-,com.docker.compose.project.working_dir=/home/dracor/notebooks,com.docker.compose.version=2.23.0',\n",
       "  'LocalVolumes': '0',\n",
       "  'Mounts': '',\n",
       "  'Names': 'my-stable-dracor-frontend-1',\n",
       "  'Networks': 'my-stable-dracor_default',\n",
       "  'Ports': '0.0.0.0:8088->80/tcp',\n",
       "  'RunningFor': '17 seconds ago',\n",
       "  'Size': '406B (virtual 67.9MB)',\n",
       "  'State': 'running',\n",
       "  'Status': 'Up 15 seconds'},\n",
       " {'Command': '\"./entrypoint.sh\"',\n",
       "  'CreatedAt': '2023-11-23 13:25:14 +0000 UTC',\n",
       "  'ID': '8c9975f92468',\n",
       "  'Image': 'dracor/dracor-api:v0.90.1-local',\n",
       "  'Labels': 'com.docker.compose.config-hash=2b3dcea466df52b1886c275c872b8b2aacf2b3646ddec2a6dee7a2bf2e6b6535,com.docker.compose.project=my-stable-dracor,com.docker.compose.service=api,com.docker.compose.version=2.23.0,com.docker.compose.container-number=1,com.docker.compose.depends_on=fuseki:service_started:false,metrics:service_started:false,com.docker.compose.image=sha256:171df59ae0ab650356c45feeabe2a65b63b77c3e9bd7bf362926bfdd78e931f8,com.docker.compose.oneoff=False,com.docker.compose.project.config_files=-,com.docker.compose.project.working_dir=/home/dracor/notebooks',\n",
       "  'LocalVolumes': '0',\n",
       "  'Mounts': '',\n",
       "  'Names': 'my-stable-dracor-api-1',\n",
       "  'Networks': 'my-stable-dracor_default',\n",
       "  'Ports': '0.0.0.0:8080->8080/tcp',\n",
       "  'RunningFor': '17 seconds ago',\n",
       "  'Size': '81.4MB (virtual 449MB)',\n",
       "  'State': 'running',\n",
       "  'Status': 'Up 15 seconds (health: starting)'},\n",
       " {'Command': '\"pipenv run hug -f m…\"',\n",
       "  'CreatedAt': '2023-11-23 13:25:14 +0000 UTC',\n",
       "  'ID': '3d8cc36cdf62',\n",
       "  'Image': 'dracor/dracor-metrics:v1.2.0',\n",
       "  'Labels': 'com.docker.compose.oneoff=False,com.docker.compose.project.config_files=-,com.docker.compose.service=metrics,com.docker.compose.version=2.23.0,com.docker.compose.container-number=1,com.docker.compose.depends_on=,com.docker.compose.project=my-stable-dracor,com.docker.compose.project.working_dir=/home/dracor/notebooks,com.docker.compose.config-hash=935f5679ba68aff04f583342775a1e9032d5ae77c569670186520b657ff87bba,com.docker.compose.image=sha256:1806ba4d70471896735da4a103674021df4d11f4c00d88485ef93ed5e05f1f78',\n",
       "  'LocalVolumes': '0',\n",
       "  'Mounts': '',\n",
       "  'Names': 'my-stable-dracor-metrics-1',\n",
       "  'Networks': 'my-stable-dracor_default',\n",
       "  'Ports': '0.0.0.0:8030->8030/tcp',\n",
       "  'RunningFor': '17 seconds ago',\n",
       "  'Size': '0B (virtual 944MB)',\n",
       "  'State': 'running',\n",
       "  'Status': 'Up 15 seconds'},\n",
       " {'Command': '\"/usr/bin/tini -- /e…\"',\n",
       "  'CreatedAt': '2023-11-23 13:25:14 +0000 UTC',\n",
       "  'ID': '35802186a396',\n",
       "  'Image': 'dracor/dracor-fuseki:v1.0.0',\n",
       "  'Labels': 'com.docker.compose.image=sha256:8063e90771d2a3b5828a31be34d98dc0d88d5e4c80141728e37cbae253034682,com.docker.compose.version=2.23.0,org.opencontainers.image.description=Fuseki is a SPARQL 1.1 server with a web interface, backed by the Apache Jena TDB RDF triple store.,org.opencontainers.image.documentation=https://jena.apache.org/documentation/fuseki2/,org.opencontainers.image.url=https://github.com/dracor-org/dracor-fuseki/tree/master/,com.docker.compose.config-hash=7c9ce86b21473e4059a11008092319dca5337f2e156f78a5b7c4d94d7ac06f8e,com.docker.compose.project.config_files=-,com.docker.compose.project.working_dir=/home/dracor/notebooks,com.docker.compose.service=fuseki,org.opencontainers.image.source=https://github.com/dracor-org/dracor-fuseki/,org.opencontainers.image.title=Apache Jena Fuseki,org.opencontainers.image.version=4.0.0,com.docker.compose.container-number=1,com.docker.compose.oneoff=False,com.docker.compose.project=my-stable-dracor,org.opencontainers.image.authors=Apache Jena Fuseki by https://jena.apache.org/; this image by https://orcid.org/0000-0001-9842-9718,org.opencontainers.image.licenses=(Apache-2.0 AND (GPL-2.0 WITH Classpath-exception-2.0) AND GPL-3.0),com.docker.compose.depends_on=',\n",
       "  'LocalVolumes': '1',\n",
       "  'Mounts': '9602669c921869…',\n",
       "  'Names': 'my-stable-dracor-fuseki-1',\n",
       "  'Networks': 'my-stable-dracor_default',\n",
       "  'Ports': '0.0.0.0:3030->3030/tcp',\n",
       "  'RunningFor': '17 seconds ago',\n",
       "  'Size': '32.8kB (virtual 294MB)',\n",
       "  'State': 'running',\n",
       "  'Status': 'Up 15 seconds'}]"
      ]
     },
     "execution_count": 11,
     "metadata": {},
     "output_type": "execute_result"
    }
   ],
   "source": [
    "dracor.list_docker_containers()"
   ]
  },
  {
   "cell_type": "markdown",
   "id": "0c261bd6-42d6-4996-ac48-65642fc6b09b",
   "metadata": {},
   "source": [
    "It is possible to operate on the returned list, e.g. count the number of containers:"
   ]
  },
  {
   "cell_type": "code",
   "execution_count": 12,
   "id": "57ce8f9a-39e5-4852-b421-00177dd6bfd3",
   "metadata": {},
   "outputs": [
    {
     "name": "stdout",
     "output_type": "stream",
     "text": [
      "There are 4 running Docker containers.\n"
     ]
    }
   ],
   "source": [
    "print(f\"There are {len(dracor.list_docker_containers())} running Docker containers.\")"
   ]
  },
  {
   "cell_type": "markdown",
   "id": "4b7cb90e-2dca-4beb-b284-e5fbcaa011d7",
   "metadata": {},
   "source": [
    "### Listing available images\n",
    "When the infrastructure was run the client downloaded the images specified in the configuration file into the container. These can be listed with the Docker command `docker images`:"
   ]
  },
  {
   "cell_type": "code",
   "execution_count": 13,
   "id": "3a2213d3-ccd1-4538-a1bb-035fd406a5ed",
   "metadata": {},
   "outputs": [
    {
     "name": "stdout",
     "output_type": "stream",
     "text": [
      "REPOSITORY               TAG             IMAGE ID       CREATED        SIZE\n",
      "dracor/dracor-api        v0.90.1-local   171df59ae0ab   5 months ago   367MB\n",
      "dracor/dracor-metrics    v1.2.0          1806ba4d7047   5 months ago   944MB\n",
      "dracor/dracor-frontend   v1.6.0-dirty    29b9e97eb7e3   5 months ago   67.9MB\n",
      "dracor/dracor-fuseki     v1.0.0          8063e90771d2   5 months ago   294MB\n"
     ]
    }
   ],
   "source": [
    "!docker images"
   ]
  },
  {
   "cell_type": "markdown",
   "id": "67f9f347-0571-4fbd-b7c1-8d74deff8a8a",
   "metadata": {},
   "source": [
    "The client provides the method `list_docker_images` to retrieve this listing as well in a data structure that can be better processed with Python:"
   ]
  },
  {
   "cell_type": "code",
   "execution_count": 14,
   "id": "3f83c3d8-9128-4bf9-8aea-5896f13208f5",
   "metadata": {},
   "outputs": [
    {
     "data": {
      "text/plain": [
       "[{'Containers': 'N/A',\n",
       "  'CreatedAt': '2023-06-07 09:28:11 +0000 UTC',\n",
       "  'CreatedSince': '5 months ago',\n",
       "  'Digest': '<none>',\n",
       "  'ID': '171df59ae0ab',\n",
       "  'Repository': 'dracor/dracor-api',\n",
       "  'SharedSize': 'N/A',\n",
       "  'Size': '367MB',\n",
       "  'Tag': 'v0.90.1-local',\n",
       "  'UniqueSize': 'N/A',\n",
       "  'VirtualSize': '367.3MB'},\n",
       " {'Containers': 'N/A',\n",
       "  'CreatedAt': '2023-06-07 08:24:13 +0000 UTC',\n",
       "  'CreatedSince': '5 months ago',\n",
       "  'Digest': '<none>',\n",
       "  'ID': '1806ba4d7047',\n",
       "  'Repository': 'dracor/dracor-metrics',\n",
       "  'SharedSize': 'N/A',\n",
       "  'Size': '944MB',\n",
       "  'Tag': 'v1.2.0',\n",
       "  'UniqueSize': 'N/A',\n",
       "  'VirtualSize': '943.6MB'},\n",
       " {'Containers': 'N/A',\n",
       "  'CreatedAt': '2023-06-06 07:48:38 +0000 UTC',\n",
       "  'CreatedSince': '5 months ago',\n",
       "  'Digest': '<none>',\n",
       "  'ID': '29b9e97eb7e3',\n",
       "  'Repository': 'dracor/dracor-frontend',\n",
       "  'SharedSize': 'N/A',\n",
       "  'Size': '67.9MB',\n",
       "  'Tag': 'v1.6.0-dirty',\n",
       "  'UniqueSize': 'N/A',\n",
       "  'VirtualSize': '67.88MB'},\n",
       " {'Containers': 'N/A',\n",
       "  'CreatedAt': '2023-06-06 07:46:38 +0000 UTC',\n",
       "  'CreatedSince': '5 months ago',\n",
       "  'Digest': '<none>',\n",
       "  'ID': '8063e90771d2',\n",
       "  'Repository': 'dracor/dracor-fuseki',\n",
       "  'SharedSize': 'N/A',\n",
       "  'Size': '294MB',\n",
       "  'Tag': 'v1.0.0',\n",
       "  'UniqueSize': 'N/A',\n",
       "  'VirtualSize': '294.3MB'}]"
      ]
     },
     "execution_count": 14,
     "metadata": {},
     "output_type": "execute_result"
    }
   ],
   "source": [
    "dracor.list_docker_images()"
   ]
  },
  {
   "cell_type": "markdown",
   "id": "4487fffb-ceea-4a6a-b5ce-8646eb957cd4",
   "metadata": {},
   "source": [
    "### Getting API info\n",
    "A quick way to test if a connection to the API can be established is calling the method `get_api_info`. This will render the response of the `/info` endpoint http://localhost:8088/api/info of the DraCor API."
   ]
  },
  {
   "cell_type": "code",
   "execution_count": 15,
   "id": "a8fd6a5d-5c6e-4e82-9f4d-38a075a52e4c",
   "metadata": {},
   "outputs": [
    {
     "data": {
      "text/plain": [
       "{'name': 'DraCor API',\n",
       " 'version': '0.90.1-2-g19a3f46-dirty',\n",
       " 'status': 'beta',\n",
       " 'existdb': '6.0.1',\n",
       " 'base': 'http://localhost:8088/api'}"
      ]
     },
     "execution_count": 15,
     "metadata": {},
     "output_type": "execute_result"
    }
   ],
   "source": [
    "dracor.get_api_info()"
   ]
  },
  {
   "cell_type": "markdown",
   "id": "7557aace-6245-472e-86d2-066a55db1acc",
   "metadata": {},
   "source": [
    "### Accessing the front-end\n",
    "The DraCor frontend running inside the `dracor-sandbox` can be easily accessed from outside the container: Pointing the browser to http://localhost:8088 and/or at http://127.0.0.1:8088 should show the frontend. No corpora have been loaded yet.\n",
    "\n",
    "The other components of the DraCor system, e.g. the Triple Store, can not be reached from outside the `dracor-sandbox`. See [FAQ](03_faq.ipynb#How-can-I-access-other-services-than-the-frontend-and-the-API-from-outside-the-dracor-sandbox?) on how to map the necessary ports to access the other services if needed."
   ]
  },
  {
   "cell_type": "markdown",
   "id": "9ca221d6-d24e-4efc-9c2f-31dc14eb7026",
   "metadata": {},
   "source": [
    "## Documentation of the system and its components in the *manifest*\n",
    "When setting up a local DraCor infrastructure with the *stable-dracor-client* the system tries to 'document' itself, which means that the client can generate a data structure, the *Manifest*, that contains information on the system's components and the composition all corpora loaded. \n",
    "\n",
    "The objective of the manifest is to provide a means to fully describe a local DraCor system in such a way, that, by only relying on the manifest, the system can be re-created at some later stage. \n",
    "\n",
    "In the following section only the `system` and the `sevices` parts of the manifest are explained. The `corpora` will be introduced at a later stage when corpora have been added to the system.\n",
    "\n",
    "To output the manifest use the method `get_manifest`."
   ]
  },
  {
   "cell_type": "code",
   "execution_count": 16,
   "id": "b56a5c4d-2a08-44f8-8a9c-b71b84e24809",
   "metadata": {},
   "outputs": [
    {
     "data": {
      "text/plain": [
       "{'version': 'v1',\n",
       " 'system': {'id': '7f4f9ec9-40b2-4b92-8f33-5ef83714a12b',\n",
       "  'name': 'my-stable-dracor',\n",
       "  'description': 'DraCor system created with the introduction notebook to showcase the features of the stable-dracor-client.',\n",
       "  'timestamp': '2023-11-23T13:25:31.445797'},\n",
       " 'services': {'api': {'container': '8c9975f92468',\n",
       "   'image': 'dracor/dracor-api:v0.90.1-local',\n",
       "   'version': '0.90.1-2-g19a3f46-dirty',\n",
       "   'existdb': '6.0.1'},\n",
       "  'frontend': {'container': 'ac2e4e6d8a73',\n",
       "   'image': 'dracor/dracor-frontend:v1.6.0-dirty'},\n",
       "  'metrics': {'container': '3d8cc36cdf62',\n",
       "   'image': 'dracor/dracor-metrics:v1.2.0'},\n",
       "  'triplestore': {'container': '35802186a396',\n",
       "   'image': 'dracor/dracor-fuseki:v1.0.0'}},\n",
       " 'corpora': {}}"
      ]
     },
     "execution_count": 16,
     "metadata": {},
     "output_type": "execute_result"
    }
   ],
   "source": [
    "dracor.get_manifest()"
   ]
  },
  {
   "cell_type": "markdown",
   "id": "552784b7-588e-4e7f-8025-1a7b13c8b63f",
   "metadata": {},
   "source": [
    "The field `version` defines the version of the manifest specification, which, in the current state of development will be `v1`.\n",
    "\n",
    "The field `system` contains the metadata provided when initializing a new instance (see section [Attaching Metadata ...](#Attaching-Metadata-to-the-stable-dracor-instance)). Additonally there is a field `timestamp` that contains the date and time at which the system was described, i.e. the point in time when the manifest was generated by calling the method.\n",
    "\n",
    "The field `services` contains information on the individual system components, at least in allows to identify the Docker image (`image`) the container was created from. In the following cell we request the manifest and query for the image of the api service:"
   ]
  },
  {
   "cell_type": "code",
   "execution_count": 17,
   "id": "7ca6e060-974f-4611-81d1-5a2968779bfc",
   "metadata": {},
   "outputs": [
    {
     "name": "stdout",
     "output_type": "stream",
     "text": [
      "The API container is based on the Docker image dracor/dracor-api:v0.90.1-local.\n"
     ]
    }
   ],
   "source": [
    "print(f\"The API container is based on the Docker image {dracor.get_manifest()['services']['api']['image']}.\")"
   ]
  },
  {
   "cell_type": "markdown",
   "id": "420dfe05-3df5-4fb2-8cdd-3fffbfc46aab",
   "metadata": {},
   "source": [
    "## Loading Corpora\n",
    "The following section introduces the methods to add corpora to the now running local DraCor infrastructure."
   ]
  },
  {
   "cell_type": "markdown",
   "id": "34d29f69-3cfc-4aec-b6d3-ad7daea145ae",
   "metadata": {},
   "source": [
    "### Copying an existing corpus\n",
    "A quick way to load a corpus in the local DraCor infrastructure is to copy an existing corpus which is done with the method `copy_corpus`. In the next cell the *Tatar Drama Corpus* (TatDraCor) from the live production instance at https://dracor.org is copied. It is used for demonstration purposes here because if contains only three plays. Feel free to change the following cell to copy a different corpus by changing the value of the keyword argument `source_corpusname`. "
   ]
  },
  {
   "cell_type": "code",
   "execution_count": 18,
   "id": "60cc3de3-8262-4068-8c1b-fc5ac72c2e68",
   "metadata": {},
   "outputs": [
    {
     "name": "stderr",
     "output_type": "stream",
     "text": [
      "INFO:root:Successfully created corpus tat. All metadata is available. Plays have not been added yet.\n",
      "INFO:root:Added contents of corpus tat from https://dracor.org/api/. 3 plays were added.\n",
      "INFO:root:Copying tat (as tat) was successful. Plays (that were not excluded) were also copied entirely.\n"
     ]
    },
    {
     "data": {
      "text/plain": [
       "True"
      ]
     },
     "execution_count": 18,
     "metadata": {},
     "output_type": "execute_result"
    }
   ],
   "source": [
    "dracor.copy_corpus(source_corpusname=\"tat\")"
   ]
  },
  {
   "cell_type": "markdown",
   "id": "1925dd0d-e534-4f24-99a8-f13c23dc54d2",
   "metadata": {},
   "source": [
    "If everything went well and the method returned the value `True` the corpus should be displayed on the frontend at http://localhost:8088. \n",
    "\n",
    "A corpus can also be copied from a different source. The URL of the respective DraCor system must be provided as argument `source_api_url`. In the following cell the *Dutch Drama Corpus*, which is currently in development and therefore not available from the production instance at https://dracor.org is added. The corpus is already included in the staging system at http://staging.dracor.org. We need to set the value of `source_api_url` to `http://staging.dracor.org/api/`:"
   ]
  },
  {
   "cell_type": "code",
   "execution_count": 19,
   "id": "9a3bd683-d3a7-4512-b51f-c5919aba4d88",
   "metadata": {},
   "outputs": [
    {
     "name": "stderr",
     "output_type": "stream",
     "text": [
      "WARNING:root:Created corpus, but metadata 3 fields do not match: Fields licence,licenceUrl,dramas are different.\n",
      "INFO:root:Added contents of corpus dutch from http://staging.dracor.org/api/. 1 plays were added.\n",
      "INFO:root:Copying dutch (as dutch) was successful. Plays (that were not excluded) were also copied entirely.\n"
     ]
    },
    {
     "data": {
      "text/plain": [
       "True"
      ]
     },
     "execution_count": 19,
     "metadata": {},
     "output_type": "execute_result"
    }
   ],
   "source": [
    "dracor.copy_corpus(source_corpusname=\"dutch\", source_api_url=\"http://staging.dracor.org/api/\")"
   ]
  },
  {
   "cell_type": "markdown",
   "id": "29618a0e-1ebf-43c1-b865-daccadfb55b7",
   "metadata": {},
   "source": [
    "When copying it is possible to change some aspects of the corpus. In the following cell we copy the \"Bashkir Drama Corpus\", which, in the production instance on https://dracor.org, is identified by the corpusname `bash`. \n",
    "\n",
    "The corpus on dracor.org contains 3 plays, of which we will import only two by excluding the play \"Аҡ билеттәр\" by the author Шагит Худайбердин (Shagit Khudayberdin). The other two plays are both by the author Мостай Кәрим (Mustai Karim), thus the resulting local corpus will only include plays by a single author. The identifier `playname` of the play to exclude (`khudayberdin-aq-bilettar`) must be passed as keyword argument `exclude` in the form of a list because `exclude` can be used to skip multiple plays as well.\n",
    "\n",
    "We also change the metadata of the corpus. Because the local corpus will be a single author corpus by Mustai Karim we will call it \"KarimDraCor\" and change the description accordingly. This can be achived by creating a dictionary `karim_meta` containing the new metadata fields. "
   ]
  },
  {
   "cell_type": "code",
   "execution_count": 20,
   "id": "6d4ddca3-a606-4135-9597-833a327886e0",
   "metadata": {},
   "outputs": [
    {
     "name": "stderr",
     "output_type": "stream",
     "text": [
      "WARNING:root:Created corpus, but metadata 2 fields do not match: Fields dramas,acronym are different.\n",
      "INFO:root:Added contents of corpus bash from https://dracor.org/api/. 2 plays were added.\n",
      "INFO:root:Copying kar (as kar) was successful. Plays (that were not excluded) were also copied entirely.\n"
     ]
    },
    {
     "data": {
      "text/plain": [
       "True"
      ]
     },
     "execution_count": 20,
     "metadata": {},
     "output_type": "execute_result"
    }
   ],
   "source": [
    "karim_meta = dict(\n",
    "    name=\"kar\",\n",
    "    title=\"Mustai Karim Drama Corpus\",\n",
    "    description=\"Corpus of plays by Mustai Karim derived from the Bashkir Drama Corpus (BashDraCor).\"\n",
    ")\n",
    "\n",
    "dracor.copy_corpus(source_corpusname=\"bash\", exclude=[\"khudayberdin-aq-bilettar\"], metadata=karim_meta)"
   ]
  },
  {
   "cell_type": "markdown",
   "id": "f7f46d9d-bb84-4249-8a54-7ec5fddfc2a2",
   "metadata": {},
   "source": [
    "### Documentation of copied corpus in the manifest\n",
    "The manifest documents the consitution of added corpora. As explained in section on the [manifest as a documentation of the system components](#Documentation-of-the-system-and-its-components-in-the-manifest) the manifest can be output with the method `get_manifest`. Loaded corpora are documented in the field `corpora`. If you followed the notebook to this point the infrastructure contains three corpora with the names `tat`, `dutch`, `kar`. "
   ]
  },
  {
   "cell_type": "code",
   "execution_count": 21,
   "id": "9d75fa2d-ab60-45eb-8986-e1d7ddc47be6",
   "metadata": {},
   "outputs": [
    {
     "data": {
      "text/plain": [
       "{'tat': {'corpusname': 'tat',\n",
       "  'timestamp': '2023-11-23T13:25:32.435087',\n",
       "  'sources': {'tat': {'type': 'api',\n",
       "    'corpusname': 'tat',\n",
       "    'url': 'https://dracor.org/api/corpora/tat',\n",
       "    'timestamp': '2023-11-23T13:25:32.435093',\n",
       "    'num_of_plays': 3}},\n",
       "  'num_of_plays': 3},\n",
       " 'dutch': {'corpusname': 'dutch',\n",
       "  'timestamp': '2023-11-23T13:25:37.631544',\n",
       "  'sources': {'dutch': {'type': 'api',\n",
       "    'corpusname': 'dutch',\n",
       "    'url': 'http://staging.dracor.org/api/corpora/dutch',\n",
       "    'timestamp': '2023-11-23T13:25:37.631550',\n",
       "    'num_of_plays': 1}},\n",
       "  'num_of_plays': 1},\n",
       " 'kar': {'corpusname': 'kar',\n",
       "  'timestamp': '2023-11-23T13:25:41.428662',\n",
       "  'sources': {'bash': {'type': 'api',\n",
       "    'corpusname': 'bash',\n",
       "    'url': 'https://dracor.org/api/corpora/bash',\n",
       "    'timestamp': '2023-11-23T13:25:41.428668',\n",
       "    'exclude': {'type': 'slug', 'ids': ['khudayberdin-aq-bilettar']},\n",
       "    'num_of_plays': 2}},\n",
       "  'num_of_plays': 2}}"
      ]
     },
     "execution_count": 21,
     "metadata": {},
     "output_type": "execute_result"
    }
   ],
   "source": [
    "# uncomment this to see the whole manifest:\n",
    "# dracor.get_manifest()\n",
    "# the following line gets the section `corpora`\n",
    "dracor.get_manifest()[\"corpora\"]"
   ]
  },
  {
   "cell_type": "code",
   "execution_count": 22,
   "id": "dd2388e6-97eb-433e-9155-d9bdba8edbc4",
   "metadata": {},
   "outputs": [
    {
     "data": {
      "text/plain": [
       "['tat', 'dutch', 'kar']"
      ]
     },
     "execution_count": 22,
     "metadata": {},
     "output_type": "execute_result"
    }
   ],
   "source": [
    "# get the keys of the corpora dictionaries\n",
    "list(dracor.get_manifest()[\"corpora\"].keys())"
   ]
  },
  {
   "cell_type": "markdown",
   "id": "5d967e31-a3d2-4198-8160-b09880d87b0d",
   "metadata": {},
   "source": [
    "For example, the corpus `tat` was copied directly from the is described as such:"
   ]
  },
  {
   "cell_type": "code",
   "execution_count": 23,
   "id": "11bb4c3c-5bac-4012-915e-e771129451e8",
   "metadata": {},
   "outputs": [
    {
     "data": {
      "text/plain": [
       "{'corpusname': 'tat',\n",
       " 'timestamp': '2023-11-23T13:25:32.435087',\n",
       " 'sources': {'tat': {'type': 'api',\n",
       "   'corpusname': 'tat',\n",
       "   'url': 'https://dracor.org/api/corpora/tat',\n",
       "   'timestamp': '2023-11-23T13:25:32.435093',\n",
       "   'num_of_plays': 3}},\n",
       " 'num_of_plays': 3}"
      ]
     },
     "execution_count": 23,
     "metadata": {},
     "output_type": "execute_result"
    }
   ],
   "source": [
    "dracor.get_manifest()[\"corpora\"][\"tat\"]"
   ]
  },
  {
   "cell_type": "markdown",
   "id": "a0bfb4bb-4912-4038-9ee3-c61118f30b73",
   "metadata": {},
   "source": [
    "The field `sources` contains the source the corpus was derived from: It is retrieved via an API (`type` = `api`) from the location (`url`) `https://dracor.org/api/corpora/tat`, which is the live production instance of DraCor. \n",
    "\n",
    "The second corpus (`dutch`) was copied from the DraCor staging instance at http://staging.dracor.org, as is documented in the respective part of the manifest."
   ]
  },
  {
   "cell_type": "code",
   "execution_count": 24,
   "id": "024d3d97-4e32-4777-a872-3edb45169006",
   "metadata": {},
   "outputs": [
    {
     "data": {
      "text/plain": [
       "{'dutch': {'type': 'api',\n",
       "  'corpusname': 'dutch',\n",
       "  'url': 'http://staging.dracor.org/api/corpora/dutch',\n",
       "  'timestamp': '2023-11-23T13:25:37.631550',\n",
       "  'num_of_plays': 1}}"
      ]
     },
     "execution_count": 24,
     "metadata": {},
     "output_type": "execute_result"
    }
   ],
   "source": [
    "dracor.get_manifest()[\"corpora\"][\"dutch\"][\"sources\"]"
   ]
  },
  {
   "cell_type": "markdown",
   "id": "475272ec-71e6-44b3-b526-f4b2218a0d31",
   "metadata": {},
   "source": [
    "The field `timestamp` containes the date and time when the corpus was copied, the value of the field `num_of_plays` is the number of plays that were copied from the source corpus.\n",
    "\n",
    "In case of the third corpus that was added the manifest contains information about the excluded plays. The field `exclude` provides the information that the plays with the ids (`ids`; the `type` of the identifiers is `slug`, meaning \"playname\" consisting of author and title) were not copied from the source corpus with the identifier `bash` at the url `https://dracor.org/api/corpora/bash`:"
   ]
  },
  {
   "cell_type": "code",
   "execution_count": 25,
   "id": "4924c682-ac6a-4a6f-9b60-7a594974a353",
   "metadata": {},
   "outputs": [
    {
     "data": {
      "text/plain": [
       "{'corpusname': 'kar',\n",
       " 'timestamp': '2023-11-23T13:25:41.428662',\n",
       " 'sources': {'bash': {'type': 'api',\n",
       "   'corpusname': 'bash',\n",
       "   'url': 'https://dracor.org/api/corpora/bash',\n",
       "   'timestamp': '2023-11-23T13:25:41.428668',\n",
       "   'exclude': {'type': 'slug', 'ids': ['khudayberdin-aq-bilettar']},\n",
       "   'num_of_plays': 2}},\n",
       " 'num_of_plays': 2}"
      ]
     },
     "execution_count": 25,
     "metadata": {},
     "output_type": "execute_result"
    }
   ],
   "source": [
    "dracor.get_manifest()[\"corpora\"][\"kar\"]"
   ]
  },
  {
   "cell_type": "markdown",
   "id": "dadad5b7-fb07-4435-8365-cae0b3995cdd",
   "metadata": {},
   "source": [
    "Bear in mind that the corpora published on the DraCor platform (production and staging) are so-called \"living corpora\". This means that to some of them plays are still being added and the encoding can change. Although the information when a corpus was copied and how many plays were available at that point in time, in most cases it will not posssible to re-create the exact same composition of this corpus at some later point in time. It must be noted that when using the copy mechanism the manifest alone is not a sufficent source to reproduce the contents of the system. If reproducibility is the goal, then the following method of adding data should be used."
   ]
  },
  {
   "cell_type": "markdown",
   "id": "6f5f2f77-c849-4f4e-8194-379694ed654e",
   "metadata": {},
   "source": [
    "### Adding a corpus from a GitHub Repository\n",
    "Although copying from a running DraCor instance is a convenient way to quickly get data in a local instance, it is not the best approach if the contents of a corpus should be transparent and traceable. Therefore the *stable-dracor-client* provides the method `add_corpus_from_repo` that retrieves data from a repository on GitHub. In most cases corpora that are published on DraCor have their designated data repositories on GitHub. They are listed on the [page of the dracor.org organization on Github](https://github.com/orgs/dracor-org/repositories) (bear in mind that not all of these repositories are corpora).\n",
    "\n",
    "**TODO**: add a method to retrieve repositories that contain a `corpus.xml` file --> corpus repository. BUT: Not all have corpus.xml (which is bad practise).\n",
    "\n",
    "To add a corpus directly from Github the method expects the name of the repository as the keyword argument `repository_name`. The code in the following cell adds the data of the Spanish Drama Corpus from the repository https://github.com/dracor-org/spandracor. The repository name is `spandracor`: "
   ]
  },
  {
   "cell_type": "code",
   "execution_count": 26,
   "id": "430853be-68b6-4ed3-ad04-b25931d3f013",
   "metadata": {},
   "outputs": [
    {
     "name": "stderr",
     "output_type": "stream",
     "text": [
      "INFO:root:Successfully created corpus span.\n",
      "INFO:root:Play 'clarin-teresa' retrieved from 'https://raw.githubusercontent.com/dracor-org/spandracor/184ebf975ad9cd674ff37cab44a181fa7ed8d85f/tei/clarin-teresa.xml' has been successfully added to corpus 'span'. Checked and found local play data.\n",
      "INFO:root:Play 'dicenta-juan-jose' retrieved from 'https://raw.githubusercontent.com/dracor-org/spandracor/184ebf975ad9cd674ff37cab44a181fa7ed8d85f/tei/dicenta-juan-jose.xml' has been successfully added to corpus 'span'. Checked and found local play data.\n",
      "INFO:root:Play 'echegaray-arrastrarse' retrieved from 'https://raw.githubusercontent.com/dracor-org/spandracor/184ebf975ad9cd674ff37cab44a181fa7ed8d85f/tei/echegaray-arrastrarse.xml' has been successfully added to corpus 'span'. Checked and found local play data.\n",
      "INFO:root:Play 'echegaray-mancha' retrieved from 'https://raw.githubusercontent.com/dracor-org/spandracor/184ebf975ad9cd674ff37cab44a181fa7ed8d85f/tei/echegaray-mancha.xml' has been successfully added to corpus 'span'. Checked and found local play data.\n",
      "INFO:root:Play 'galdos-casandra' retrieved from 'https://raw.githubusercontent.com/dracor-org/spandracor/184ebf975ad9cd674ff37cab44a181fa7ed8d85f/tei/galdos-casandra.xml' has been successfully added to corpus 'span'. Checked and found local play data.\n",
      "INFO:root:Play 'galdos-electra' retrieved from 'https://raw.githubusercontent.com/dracor-org/spandracor/184ebf975ad9cd674ff37cab44a181fa7ed8d85f/tei/galdos-electra.xml' has been successfully added to corpus 'span'. Checked and found local play data.\n",
      "INFO:root:Play 'galdos-perfecta' retrieved from 'https://raw.githubusercontent.com/dracor-org/spandracor/184ebf975ad9cd674ff37cab44a181fa7ed8d85f/tei/galdos-perfecta.xml' has been successfully added to corpus 'span'. Checked and found local play data.\n",
      "INFO:root:Play 'lorca-bernarda' retrieved from 'https://raw.githubusercontent.com/dracor-org/spandracor/184ebf975ad9cd674ff37cab44a181fa7ed8d85f/tei/lorca-bernarda.xml' has been successfully added to corpus 'span'. Checked and found local play data.\n",
      "INFO:root:Play 'lorca-bodas' retrieved from 'https://raw.githubusercontent.com/dracor-org/spandracor/184ebf975ad9cd674ff37cab44a181fa7ed8d85f/tei/lorca-bodas.xml' has been successfully added to corpus 'span'. Checked and found local play data.\n",
      "INFO:root:Play 'lorca-rosita' retrieved from 'https://raw.githubusercontent.com/dracor-org/spandracor/184ebf975ad9cd674ff37cab44a181fa7ed8d85f/tei/lorca-rosita.xml' has been successfully added to corpus 'span'. Checked and found local play data.\n",
      "INFO:root:Play 'lorca-yerma' retrieved from 'https://raw.githubusercontent.com/dracor-org/spandracor/184ebf975ad9cd674ff37cab44a181fa7ed8d85f/tei/lorca-yerma.xml' has been successfully added to corpus 'span'. Checked and found local play data.\n",
      "INFO:root:Play 'lorca-zapatera' retrieved from 'https://raw.githubusercontent.com/dracor-org/spandracor/184ebf975ad9cd674ff37cab44a181fa7ed8d85f/tei/lorca-zapatera.xml' has been successfully added to corpus 'span'. Checked and found local play data.\n",
      "INFO:root:Play 'munoz-conferencia' retrieved from 'https://raw.githubusercontent.com/dracor-org/spandracor/184ebf975ad9cd674ff37cab44a181fa7ed8d85f/tei/munoz-conferencia.xml' has been successfully added to corpus 'span'. Checked and found local play data.\n",
      "INFO:root:Play 'munoz-ortiz' retrieved from 'https://raw.githubusercontent.com/dracor-org/spandracor/184ebf975ad9cd674ff37cab44a181fa7ed8d85f/tei/munoz-ortiz.xml' has been successfully added to corpus 'span'. Checked and found local play data.\n",
      "INFO:root:Play 'munoz-pergaminos' retrieved from 'https://raw.githubusercontent.com/dracor-org/spandracor/184ebf975ad9cd674ff37cab44a181fa7ed8d85f/tei/munoz-pergaminos.xml' has been successfully added to corpus 'span'. Checked and found local play data.\n",
      "INFO:root:Play 'munoz-refugio' retrieved from 'https://raw.githubusercontent.com/dracor-org/spandracor/184ebf975ad9cd674ff37cab44a181fa7ed8d85f/tei/munoz-refugio.xml' has been successfully added to corpus 'span'. Checked and found local play data.\n",
      "INFO:root:Play 'unamuno-esfinge' retrieved from 'https://raw.githubusercontent.com/dracor-org/spandracor/184ebf975ad9cd674ff37cab44a181fa7ed8d85f/tei/unamuno-esfinge.xml' has been successfully added to corpus 'span'. Checked and found local play data.\n",
      "INFO:root:Play 'unamuno-fedra' retrieved from 'https://raw.githubusercontent.com/dracor-org/spandracor/184ebf975ad9cd674ff37cab44a181fa7ed8d85f/tei/unamuno-fedra.xml' has been successfully added to corpus 'span'. Checked and found local play data.\n",
      "INFO:root:Play 'valera-asclepigenia' retrieved from 'https://raw.githubusercontent.com/dracor-org/spandracor/184ebf975ad9cd674ff37cab44a181fa7ed8d85f/tei/valera-asclepigenia.xml' has been successfully added to corpus 'span'. Checked and found local play data.\n",
      "INFO:root:Play 'valera-atahualpa' retrieved from 'https://raw.githubusercontent.com/dracor-org/spandracor/184ebf975ad9cd674ff37cab44a181fa7ed8d85f/tei/valera-atahualpa.xml' has been successfully added to corpus 'span'. Checked and found local play data.\n",
      "INFO:root:Play 'valle-aguila' retrieved from 'https://raw.githubusercontent.com/dracor-org/spandracor/184ebf975ad9cd674ff37cab44a181fa7ed8d85f/tei/valle-aguila.xml' has been successfully added to corpus 'span'. Checked and found local play data.\n",
      "INFO:root:Play 'valle-cara' retrieved from 'https://raw.githubusercontent.com/dracor-org/spandracor/184ebf975ad9cd674ff37cab44a181fa7ed8d85f/tei/valle-cara.xml' has been successfully added to corpus 'span'. Checked and found local play data.\n",
      "INFO:root:Play 'valle-divinas-palabras' retrieved from 'https://raw.githubusercontent.com/dracor-org/spandracor/184ebf975ad9cd674ff37cab44a181fa7ed8d85f/tei/valle-divinas-palabras.xml' has been successfully added to corpus 'span'. Checked and found local play data.\n",
      "INFO:root:Play 'valle-luces' retrieved from 'https://raw.githubusercontent.com/dracor-org/spandracor/184ebf975ad9cd674ff37cab44a181fa7ed8d85f/tei/valle-luces.xml' has been successfully added to corpus 'span'. Checked and found local play data.\n",
      "INFO:root:Play 'valle-romance' retrieved from 'https://raw.githubusercontent.com/dracor-org/spandracor/184ebf975ad9cd674ff37cab44a181fa7ed8d85f/tei/valle-romance.xml' has been successfully added to corpus 'span'. Checked and found local play data.\n",
      "INFO:root:Successfully added all 25 files to span.\n"
     ]
    },
    {
     "data": {
      "text/plain": [
       "True"
      ]
     },
     "execution_count": 26,
     "metadata": {},
     "output_type": "execute_result"
    }
   ],
   "source": [
    "dracor.add_corpus_from_repo(repository_name=\"spandracor\")"
   ]
  },
  {
   "cell_type": "markdown",
   "id": "2ed0e071-d37f-4727-b6e3-35cd7d35a85c",
   "metadata": {},
   "source": [
    "The corpus should be available in the local instance at http://localhost:8088/span. \n",
    "\n",
    "When we output the manifest we see that the `type` of the source is `repository` (in case of copying it was `api`, see [previous section](##Documentation-of-copied-corpus-in-the-manifest)) and the URL of the repository is included as `url`. In addition to a `timestamp` that contains date and time the process was initiated, the manifest contains the field `commit`. When calling the method as in the previous cell the client will fetch the data represented by the most recent [commit](https://docs.github.com/en/pull-requests/committing-changes-to-your-project/creating-and-editing-commits/about-commits). A commit represents the state of the data at a given point in time. This means, that if we know the commit (and the repository is still there, of course), we can precicely get the data in the state it was when it was commited. "
   ]
  },
  {
   "cell_type": "code",
   "execution_count": 27,
   "id": "6ee476e5-661f-435e-b506-89cf0d48afad",
   "metadata": {},
   "outputs": [
    {
     "data": {
      "text/plain": [
       "{'corpusname': 'span',\n",
       " 'timestamp': '2023-11-23T13:25:48.287503',\n",
       " 'sources': {'span': {'type': 'repository',\n",
       "   'corpusname': 'span',\n",
       "   'url': 'https://github.com/dracor-org/spandracor',\n",
       "   'commit': '184ebf975ad9cd674ff37cab44a181fa7ed8d85f',\n",
       "   'timestamp': '2023-11-23T13:25:48.287508',\n",
       "   'num_of_plays': 25}},\n",
       " 'num_of_plays': 25}"
      ]
     },
     "execution_count": 27,
     "metadata": {},
     "output_type": "execute_result"
    }
   ],
   "source": [
    "dracor.get_manifest()[\"corpora\"][\"span\"]"
   ]
  },
  {
   "cell_type": "markdown",
   "id": "8bbce1f0-b804-45e8-a815-58a517ea7321",
   "metadata": {},
   "source": [
    "To add a corpus at a given state represented by a commit the method provide the commit id as keyword argument `commit`. In the following cell we add the `Roman Drama Corpus` from its GitHub Repository in the state it was on January 2001, which can be identified with the commit `952ae76d8b9d51725b652b8c2c5d6538c592abd6` (see [this commit on GitHub](https://github.com/dracor-org/romdracor/commit/952ae76d8b9d51725b652b8c2c5d6538c592abd6))."
   ]
  },
  {
   "cell_type": "code",
   "execution_count": 28,
   "id": "de6b4121-d5b3-440c-97c8-808bb986ebd3",
   "metadata": {},
   "outputs": [
    {
     "name": "stderr",
     "output_type": "stream",
     "text": [
      "INFO:root:Successfully created corpus rom.\n",
      "INFO:root:Play 'plautus-amphitruo' retrieved from 'https://raw.githubusercontent.com/dracor-org/romdracor/952ae76d8b9d51725b652b8c2c5d6538c592abd6/tei/plautus-amphitruo.xml' has been successfully added to corpus 'rom'. Checked and found local play data.\n",
      "INFO:root:Play 'plautus-asinaria' retrieved from 'https://raw.githubusercontent.com/dracor-org/romdracor/952ae76d8b9d51725b652b8c2c5d6538c592abd6/tei/plautus-asinaria.xml' has been successfully added to corpus 'rom'. Checked and found local play data.\n",
      "INFO:root:Play 'plautus-aulularia' retrieved from 'https://raw.githubusercontent.com/dracor-org/romdracor/952ae76d8b9d51725b652b8c2c5d6538c592abd6/tei/plautus-aulularia.xml' has been successfully added to corpus 'rom'. Checked and found local play data.\n",
      "INFO:root:Play 'plautus-bacchides' retrieved from 'https://raw.githubusercontent.com/dracor-org/romdracor/952ae76d8b9d51725b652b8c2c5d6538c592abd6/tei/plautus-bacchides.xml' has been successfully added to corpus 'rom'. Checked and found local play data.\n",
      "INFO:root:Play 'plautus-captivi' retrieved from 'https://raw.githubusercontent.com/dracor-org/romdracor/952ae76d8b9d51725b652b8c2c5d6538c592abd6/tei/plautus-captivi.xml' has been successfully added to corpus 'rom'. Checked and found local play data.\n",
      "INFO:root:Play 'plautus-casina' retrieved from 'https://raw.githubusercontent.com/dracor-org/romdracor/952ae76d8b9d51725b652b8c2c5d6538c592abd6/tei/plautus-casina.xml' has been successfully added to corpus 'rom'. Checked and found local play data.\n",
      "INFO:root:Play 'plautus-cistellaria' retrieved from 'https://raw.githubusercontent.com/dracor-org/romdracor/952ae76d8b9d51725b652b8c2c5d6538c592abd6/tei/plautus-cistellaria.xml' has been successfully added to corpus 'rom'. Checked and found local play data.\n",
      "INFO:root:Play 'plautus-curculio' retrieved from 'https://raw.githubusercontent.com/dracor-org/romdracor/952ae76d8b9d51725b652b8c2c5d6538c592abd6/tei/plautus-curculio.xml' has been successfully added to corpus 'rom'. Checked and found local play data.\n",
      "INFO:root:Play 'plautus-epidicus' retrieved from 'https://raw.githubusercontent.com/dracor-org/romdracor/952ae76d8b9d51725b652b8c2c5d6538c592abd6/tei/plautus-epidicus.xml' has been successfully added to corpus 'rom'. Checked and found local play data.\n",
      "INFO:root:Play 'plautus-menaechmi' retrieved from 'https://raw.githubusercontent.com/dracor-org/romdracor/952ae76d8b9d51725b652b8c2c5d6538c592abd6/tei/plautus-menaechmi.xml' has been successfully added to corpus 'rom'. Checked and found local play data.\n",
      "INFO:root:Play 'plautus-mercator' retrieved from 'https://raw.githubusercontent.com/dracor-org/romdracor/952ae76d8b9d51725b652b8c2c5d6538c592abd6/tei/plautus-mercator.xml' has been successfully added to corpus 'rom'. Checked and found local play data.\n",
      "INFO:root:Play 'plautus-miles-gloriosus' retrieved from 'https://raw.githubusercontent.com/dracor-org/romdracor/952ae76d8b9d51725b652b8c2c5d6538c592abd6/tei/plautus-miles-gloriosus.xml' has been successfully added to corpus 'rom'. Checked and found local play data.\n",
      "INFO:root:Play 'plautus-mostellaria' retrieved from 'https://raw.githubusercontent.com/dracor-org/romdracor/952ae76d8b9d51725b652b8c2c5d6538c592abd6/tei/plautus-mostellaria.xml' has been successfully added to corpus 'rom'. Checked and found local play data.\n",
      "INFO:root:Play 'plautus-persa' retrieved from 'https://raw.githubusercontent.com/dracor-org/romdracor/952ae76d8b9d51725b652b8c2c5d6538c592abd6/tei/plautus-persa.xml' has been successfully added to corpus 'rom'. Checked and found local play data.\n",
      "INFO:root:Play 'plautus-poenulus' retrieved from 'https://raw.githubusercontent.com/dracor-org/romdracor/952ae76d8b9d51725b652b8c2c5d6538c592abd6/tei/plautus-poenulus.xml' has been successfully added to corpus 'rom'. Checked and found local play data.\n",
      "INFO:root:Play 'plautus-pseudolus' retrieved from 'https://raw.githubusercontent.com/dracor-org/romdracor/952ae76d8b9d51725b652b8c2c5d6538c592abd6/tei/plautus-pseudolus.xml' has been successfully added to corpus 'rom'. Checked and found local play data.\n",
      "INFO:root:Play 'plautus-rudens' retrieved from 'https://raw.githubusercontent.com/dracor-org/romdracor/952ae76d8b9d51725b652b8c2c5d6538c592abd6/tei/plautus-rudens.xml' has been successfully added to corpus 'rom'. Checked and found local play data.\n",
      "INFO:root:Play 'plautus-stichus' retrieved from 'https://raw.githubusercontent.com/dracor-org/romdracor/952ae76d8b9d51725b652b8c2c5d6538c592abd6/tei/plautus-stichus.xml' has been successfully added to corpus 'rom'. Checked and found local play data.\n",
      "INFO:root:Play 'plautus-trinummus' retrieved from 'https://raw.githubusercontent.com/dracor-org/romdracor/952ae76d8b9d51725b652b8c2c5d6538c592abd6/tei/plautus-trinummus.xml' has been successfully added to corpus 'rom'. Checked and found local play data.\n",
      "INFO:root:Play 'plautus-truculentus' retrieved from 'https://raw.githubusercontent.com/dracor-org/romdracor/952ae76d8b9d51725b652b8c2c5d6538c592abd6/tei/plautus-truculentus.xml' has been successfully added to corpus 'rom'. Checked and found local play data.\n",
      "INFO:root:Play 'seneca-agamemnon' retrieved from 'https://raw.githubusercontent.com/dracor-org/romdracor/952ae76d8b9d51725b652b8c2c5d6538c592abd6/tei/seneca-agamemnon.xml' has been successfully added to corpus 'rom'. Checked and found local play data.\n",
      "INFO:root:Play 'seneca-hercules-furens' retrieved from 'https://raw.githubusercontent.com/dracor-org/romdracor/952ae76d8b9d51725b652b8c2c5d6538c592abd6/tei/seneca-hercules-furens.xml' has been successfully added to corpus 'rom'. Checked and found local play data.\n",
      "INFO:root:Play 'seneca-hercules-oetaeus' retrieved from 'https://raw.githubusercontent.com/dracor-org/romdracor/952ae76d8b9d51725b652b8c2c5d6538c592abd6/tei/seneca-hercules-oetaeus.xml' has been successfully added to corpus 'rom'. Checked and found local play data.\n",
      "INFO:root:Play 'seneca-medea' retrieved from 'https://raw.githubusercontent.com/dracor-org/romdracor/952ae76d8b9d51725b652b8c2c5d6538c592abd6/tei/seneca-medea.xml' has been successfully added to corpus 'rom'. Checked and found local play data.\n",
      "INFO:root:Play 'seneca-octavia' retrieved from 'https://raw.githubusercontent.com/dracor-org/romdracor/952ae76d8b9d51725b652b8c2c5d6538c592abd6/tei/seneca-octavia.xml' has been successfully added to corpus 'rom'. Checked and found local play data.\n",
      "INFO:root:Play 'seneca-oedipus' retrieved from 'https://raw.githubusercontent.com/dracor-org/romdracor/952ae76d8b9d51725b652b8c2c5d6538c592abd6/tei/seneca-oedipus.xml' has been successfully added to corpus 'rom'. Checked and found local play data.\n",
      "INFO:root:Play 'seneca-phaedra' retrieved from 'https://raw.githubusercontent.com/dracor-org/romdracor/952ae76d8b9d51725b652b8c2c5d6538c592abd6/tei/seneca-phaedra.xml' has been successfully added to corpus 'rom'. Checked and found local play data.\n",
      "INFO:root:Play 'seneca-phoenissae' retrieved from 'https://raw.githubusercontent.com/dracor-org/romdracor/952ae76d8b9d51725b652b8c2c5d6538c592abd6/tei/seneca-phoenissae.xml' has been successfully added to corpus 'rom'. Checked and found local play data.\n",
      "INFO:root:Play 'seneca-thyestes' retrieved from 'https://raw.githubusercontent.com/dracor-org/romdracor/952ae76d8b9d51725b652b8c2c5d6538c592abd6/tei/seneca-thyestes.xml' has been successfully added to corpus 'rom'. Checked and found local play data.\n",
      "INFO:root:Play 'seneca-troades' retrieved from 'https://raw.githubusercontent.com/dracor-org/romdracor/952ae76d8b9d51725b652b8c2c5d6538c592abd6/tei/seneca-troades.xml' has been successfully added to corpus 'rom'. Checked and found local play data.\n",
      "INFO:root:Play 'terence-adelphi' retrieved from 'https://raw.githubusercontent.com/dracor-org/romdracor/952ae76d8b9d51725b652b8c2c5d6538c592abd6/tei/terence-adelphi.xml' has been successfully added to corpus 'rom'. Checked and found local play data.\n",
      "INFO:root:Play 'terence-andria' retrieved from 'https://raw.githubusercontent.com/dracor-org/romdracor/952ae76d8b9d51725b652b8c2c5d6538c592abd6/tei/terence-andria.xml' has been successfully added to corpus 'rom'. Checked and found local play data.\n",
      "INFO:root:Play 'terence-eunuchus' retrieved from 'https://raw.githubusercontent.com/dracor-org/romdracor/952ae76d8b9d51725b652b8c2c5d6538c592abd6/tei/terence-eunuchus.xml' has been successfully added to corpus 'rom'. Checked and found local play data.\n",
      "INFO:root:Play 'terence-heautontimorumenos' retrieved from 'https://raw.githubusercontent.com/dracor-org/romdracor/952ae76d8b9d51725b652b8c2c5d6538c592abd6/tei/terence-heautontimorumenos.xml' has been successfully added to corpus 'rom'. Checked and found local play data.\n",
      "INFO:root:Play 'terence-hecyra' retrieved from 'https://raw.githubusercontent.com/dracor-org/romdracor/952ae76d8b9d51725b652b8c2c5d6538c592abd6/tei/terence-hecyra.xml' has been successfully added to corpus 'rom'. Checked and found local play data.\n",
      "INFO:root:Play 'terence-phormio' retrieved from 'https://raw.githubusercontent.com/dracor-org/romdracor/952ae76d8b9d51725b652b8c2c5d6538c592abd6/tei/terence-phormio.xml' has been successfully added to corpus 'rom'. Checked and found local play data.\n",
      "INFO:root:Successfully added all 36 files to rom.\n"
     ]
    },
    {
     "data": {
      "text/plain": [
       "True"
      ]
     },
     "execution_count": 28,
     "metadata": {},
     "output_type": "execute_result"
    }
   ],
   "source": [
    "dracor.add_corpus_from_repo(repository_name=\"romdracor\", commit=\"952ae76d8b9d51725b652b8c2c5d6538c592abd6\")"
   ]
  },
  {
   "cell_type": "markdown",
   "id": "f2a25afe-fcf8-4ea3-9b67-5a7838735ea1",
   "metadata": {},
   "source": [
    "By default the client assumes that the data is published under the dracor-org organization on GitHub but it is possible to change this behavior, e.g. by explicitly setting the \"owner\" of the repository with the keyword argument `repository_owner`. In the next cell we will add data from a fork of the *Shakespeare Drama Corpus* that does not contain linguistic markup. \n",
    "\n",
    "In the version of ShakeDraCor in the dracor-org organization Hamlet's famouse lines are encoded as such\n",
    "```\n",
    "<sp xml:id=\"sp-1762\" who=\"#Hamlet_Ham\">\n",
    "            <speaker xml:id=\"spk-1762\">\n",
    "              <w xml:id=\"fs-ham-0271840\">HAMLET</w>\n",
    "            </speaker>\n",
    "            <l xml:id=\"ftln-1762\" n=\"3.1.64\">\n",
    "              <w xml:id=\"fs-ham-0271850\" n=\"3.1.64\" lemma=\"to\" ana=\"#acp-cs\">To</w>\n",
    "<c> </c>\n",
    "              <w xml:id=\"fs-ham-0271870\" n=\"3.1.64\" lemma=\"be\" ana=\"#vvi\">be</w>\n",
    "<c> </c>\n",
    "              <w xml:id=\"fs-ham-0271890\" n=\"3.1.64\" lemma=\"or\" ana=\"#cc\">or</w>\n",
    "<c> </c>\n",
    "              <w xml:id=\"fs-ham-0271910\" n=\"3.1.64\" lemma=\"not\" ana=\"#xx\">not</w>\n",
    "<c> </c>\n",
    "              <w xml:id=\"fs-ham-0271930\" n=\"3.1.64\" lemma=\"to\" ana=\"#acp-cs\">to</w>\n",
    "<c> </c>\n",
    "              <w xml:id=\"fs-ham-0271950\" n=\"3.1.64\" lemma=\"be\" ana=\"#vvi\">be</w>\n",
    "              <pc xml:id=\"fs-ham-0271960\" n=\"3.1.64\">—</pc>\n",
    "[...]\n",
    "\n",
    "```\n",
    "[*Hamlet* in the shakedracor repository of dracor-org](https://github.com/dracor-org/shakedracor/blob/main/tei/hamlet.xml)\n",
    "\n",
    "The following passage is taken from the [forked repository](https://github.com/ingoboerner/shakedracor) with linguistic markup removed:\n",
    "\n",
    "```\n",
    "<sp xml:id=\"sp-1762\" who=\"#Hamlet_Ham\">\n",
    "                  <speaker xml:id=\"spk-1762\">HAMLET </speaker>\n",
    "                  <l xml:id=\"ftln-1762\" n=\"3.1.64\">To be or not to be— that is the question: </l>\n",
    "...\n",
    "```\n",
    "[*Hamlet* in the fork of the shakedracor repository](https://github.com/ingoboerner/shakedracor/blob/main/tei/hamlet.xml#L3803-L3805)\n",
    "\n",
    "By setting the keyword argument `repository_owner` to the username of the owner of the fork (`ingoboerner`) the client will fetch data from this user instead of the default `dracor-org` institution."
   ]
  },
  {
   "cell_type": "code",
   "execution_count": 30,
   "id": "88d68abc-a1ff-477b-913e-63672fd327e1",
   "metadata": {},
   "outputs": [
    {
     "name": "stderr",
     "output_type": "stream",
     "text": [
      "INFO:root:Successfully created corpus shake.\n",
      "INFO:root:Play 'a-midsummer-night-s-dream' retrieved from 'https://raw.githubusercontent.com/ingoboerner/shakedracor/3a420de7d253a505d1d3b8225e6bb6659577d82f/tei/a-midsummer-night-s-dream.xml' has been successfully added to corpus 'shake'. Checked and found local play data.\n",
      "INFO:root:Play 'all-s-well-that-ends-well' retrieved from 'https://raw.githubusercontent.com/ingoboerner/shakedracor/3a420de7d253a505d1d3b8225e6bb6659577d82f/tei/all-s-well-that-ends-well.xml' has been successfully added to corpus 'shake'. Checked and found local play data.\n",
      "INFO:root:Play 'antony-and-cleopatra' retrieved from 'https://raw.githubusercontent.com/ingoboerner/shakedracor/3a420de7d253a505d1d3b8225e6bb6659577d82f/tei/antony-and-cleopatra.xml' has been successfully added to corpus 'shake'. Checked and found local play data.\n",
      "INFO:root:Play 'as-you-like-it' retrieved from 'https://raw.githubusercontent.com/ingoboerner/shakedracor/3a420de7d253a505d1d3b8225e6bb6659577d82f/tei/as-you-like-it.xml' has been successfully added to corpus 'shake'. Checked and found local play data.\n",
      "INFO:root:Play 'coriolanus' retrieved from 'https://raw.githubusercontent.com/ingoboerner/shakedracor/3a420de7d253a505d1d3b8225e6bb6659577d82f/tei/coriolanus.xml' has been successfully added to corpus 'shake'. Checked and found local play data.\n",
      "INFO:root:Play 'cymbeline' retrieved from 'https://raw.githubusercontent.com/ingoboerner/shakedracor/3a420de7d253a505d1d3b8225e6bb6659577d82f/tei/cymbeline.xml' has been successfully added to corpus 'shake'. Checked and found local play data.\n",
      "INFO:root:Play 'hamlet' retrieved from 'https://raw.githubusercontent.com/ingoboerner/shakedracor/3a420de7d253a505d1d3b8225e6bb6659577d82f/tei/hamlet.xml' has been successfully added to corpus 'shake'. Checked and found local play data.\n",
      "INFO:root:Play 'henry-iv-part-i' retrieved from 'https://raw.githubusercontent.com/ingoboerner/shakedracor/3a420de7d253a505d1d3b8225e6bb6659577d82f/tei/henry-iv-part-i.xml' has been successfully added to corpus 'shake'. Checked and found local play data.\n",
      "INFO:root:Play 'henry-iv-part-ii' retrieved from 'https://raw.githubusercontent.com/ingoboerner/shakedracor/3a420de7d253a505d1d3b8225e6bb6659577d82f/tei/henry-iv-part-ii.xml' has been successfully added to corpus 'shake'. Checked and found local play data.\n",
      "INFO:root:Play 'henry-v' retrieved from 'https://raw.githubusercontent.com/ingoboerner/shakedracor/3a420de7d253a505d1d3b8225e6bb6659577d82f/tei/henry-v.xml' has been successfully added to corpus 'shake'. Checked and found local play data.\n",
      "INFO:root:Play 'henry-vi-part-1' retrieved from 'https://raw.githubusercontent.com/ingoboerner/shakedracor/3a420de7d253a505d1d3b8225e6bb6659577d82f/tei/henry-vi-part-1.xml' has been successfully added to corpus 'shake'. Checked and found local play data.\n",
      "INFO:root:Play 'henry-vi-part-2' retrieved from 'https://raw.githubusercontent.com/ingoboerner/shakedracor/3a420de7d253a505d1d3b8225e6bb6659577d82f/tei/henry-vi-part-2.xml' has been successfully added to corpus 'shake'. Checked and found local play data.\n",
      "INFO:root:Play 'henry-vi-part-3' retrieved from 'https://raw.githubusercontent.com/ingoboerner/shakedracor/3a420de7d253a505d1d3b8225e6bb6659577d82f/tei/henry-vi-part-3.xml' has been successfully added to corpus 'shake'. Checked and found local play data.\n",
      "INFO:root:Play 'henry-viii' retrieved from 'https://raw.githubusercontent.com/ingoboerner/shakedracor/3a420de7d253a505d1d3b8225e6bb6659577d82f/tei/henry-viii.xml' has been successfully added to corpus 'shake'. Checked and found local play data.\n",
      "INFO:root:Play 'julius-caesar' retrieved from 'https://raw.githubusercontent.com/ingoboerner/shakedracor/3a420de7d253a505d1d3b8225e6bb6659577d82f/tei/julius-caesar.xml' has been successfully added to corpus 'shake'. Checked and found local play data.\n",
      "INFO:root:Play 'king-john' retrieved from 'https://raw.githubusercontent.com/ingoboerner/shakedracor/3a420de7d253a505d1d3b8225e6bb6659577d82f/tei/king-john.xml' has been successfully added to corpus 'shake'. Checked and found local play data.\n",
      "INFO:root:Play 'king-lear' retrieved from 'https://raw.githubusercontent.com/ingoboerner/shakedracor/3a420de7d253a505d1d3b8225e6bb6659577d82f/tei/king-lear.xml' has been successfully added to corpus 'shake'. Checked and found local play data.\n",
      "INFO:root:Play 'love-s-labor-s-lost' retrieved from 'https://raw.githubusercontent.com/ingoboerner/shakedracor/3a420de7d253a505d1d3b8225e6bb6659577d82f/tei/love-s-labor-s-lost.xml' has been successfully added to corpus 'shake'. Checked and found local play data.\n",
      "INFO:root:Play 'macbeth' retrieved from 'https://raw.githubusercontent.com/ingoboerner/shakedracor/3a420de7d253a505d1d3b8225e6bb6659577d82f/tei/macbeth.xml' has been successfully added to corpus 'shake'. Checked and found local play data.\n",
      "INFO:root:Play 'measure-for-measure' retrieved from 'https://raw.githubusercontent.com/ingoboerner/shakedracor/3a420de7d253a505d1d3b8225e6bb6659577d82f/tei/measure-for-measure.xml' has been successfully added to corpus 'shake'. Checked and found local play data.\n",
      "INFO:root:Play 'much-ado-about-nothing' retrieved from 'https://raw.githubusercontent.com/ingoboerner/shakedracor/3a420de7d253a505d1d3b8225e6bb6659577d82f/tei/much-ado-about-nothing.xml' has been successfully added to corpus 'shake'. Checked and found local play data.\n",
      "INFO:root:Play 'othello' retrieved from 'https://raw.githubusercontent.com/ingoboerner/shakedracor/3a420de7d253a505d1d3b8225e6bb6659577d82f/tei/othello.xml' has been successfully added to corpus 'shake'. Checked and found local play data.\n",
      "INFO:root:Play 'pericles' retrieved from 'https://raw.githubusercontent.com/ingoboerner/shakedracor/3a420de7d253a505d1d3b8225e6bb6659577d82f/tei/pericles.xml' has been successfully added to corpus 'shake'. Checked and found local play data.\n",
      "INFO:root:Play 'richard-ii' retrieved from 'https://raw.githubusercontent.com/ingoboerner/shakedracor/3a420de7d253a505d1d3b8225e6bb6659577d82f/tei/richard-ii.xml' has been successfully added to corpus 'shake'. Checked and found local play data.\n",
      "INFO:root:Play 'richard-iii' retrieved from 'https://raw.githubusercontent.com/ingoboerner/shakedracor/3a420de7d253a505d1d3b8225e6bb6659577d82f/tei/richard-iii.xml' has been successfully added to corpus 'shake'. Checked and found local play data.\n",
      "INFO:root:Play 'romeo-and-juliet' retrieved from 'https://raw.githubusercontent.com/ingoboerner/shakedracor/3a420de7d253a505d1d3b8225e6bb6659577d82f/tei/romeo-and-juliet.xml' has been successfully added to corpus 'shake'. Checked and found local play data.\n",
      "INFO:root:Play 'the-comedy-of-errors' retrieved from 'https://raw.githubusercontent.com/ingoboerner/shakedracor/3a420de7d253a505d1d3b8225e6bb6659577d82f/tei/the-comedy-of-errors.xml' has been successfully added to corpus 'shake'. Checked and found local play data.\n",
      "INFO:root:Play 'the-merchant-of-venice' retrieved from 'https://raw.githubusercontent.com/ingoboerner/shakedracor/3a420de7d253a505d1d3b8225e6bb6659577d82f/tei/the-merchant-of-venice.xml' has been successfully added to corpus 'shake'. Checked and found local play data.\n",
      "INFO:root:Play 'the-merry-wives-of-windsor' retrieved from 'https://raw.githubusercontent.com/ingoboerner/shakedracor/3a420de7d253a505d1d3b8225e6bb6659577d82f/tei/the-merry-wives-of-windsor.xml' has been successfully added to corpus 'shake'. Checked and found local play data.\n",
      "INFO:root:Play 'the-taming-of-the-shrew' retrieved from 'https://raw.githubusercontent.com/ingoboerner/shakedracor/3a420de7d253a505d1d3b8225e6bb6659577d82f/tei/the-taming-of-the-shrew.xml' has been successfully added to corpus 'shake'. Checked and found local play data.\n",
      "INFO:root:Play 'the-tempest' retrieved from 'https://raw.githubusercontent.com/ingoboerner/shakedracor/3a420de7d253a505d1d3b8225e6bb6659577d82f/tei/the-tempest.xml' has been successfully added to corpus 'shake'. Checked and found local play data.\n",
      "INFO:root:Play 'the-winter-s-tale' retrieved from 'https://raw.githubusercontent.com/ingoboerner/shakedracor/3a420de7d253a505d1d3b8225e6bb6659577d82f/tei/the-winter-s-tale.xml' has been successfully added to corpus 'shake'. Checked and found local play data.\n",
      "INFO:root:Play 'timon-of-athens' retrieved from 'https://raw.githubusercontent.com/ingoboerner/shakedracor/3a420de7d253a505d1d3b8225e6bb6659577d82f/tei/timon-of-athens.xml' has been successfully added to corpus 'shake'. Checked and found local play data.\n",
      "INFO:root:Play 'titus-andronicus' retrieved from 'https://raw.githubusercontent.com/ingoboerner/shakedracor/3a420de7d253a505d1d3b8225e6bb6659577d82f/tei/titus-andronicus.xml' has been successfully added to corpus 'shake'. Checked and found local play data.\n",
      "INFO:root:Play 'troilus-and-cressida' retrieved from 'https://raw.githubusercontent.com/ingoboerner/shakedracor/3a420de7d253a505d1d3b8225e6bb6659577d82f/tei/troilus-and-cressida.xml' has been successfully added to corpus 'shake'. Checked and found local play data.\n",
      "INFO:root:Play 'twelfth-night' retrieved from 'https://raw.githubusercontent.com/ingoboerner/shakedracor/3a420de7d253a505d1d3b8225e6bb6659577d82f/tei/twelfth-night.xml' has been successfully added to corpus 'shake'. Checked and found local play data.\n",
      "INFO:root:Play 'two-gentlemen-of-verona' retrieved from 'https://raw.githubusercontent.com/ingoboerner/shakedracor/3a420de7d253a505d1d3b8225e6bb6659577d82f/tei/two-gentlemen-of-verona.xml' has been successfully added to corpus 'shake'. Checked and found local play data.\n",
      "INFO:root:Successfully added all 37 files to shake.\n"
     ]
    },
    {
     "data": {
      "text/plain": [
       "True"
      ]
     },
     "execution_count": 30,
     "metadata": {},
     "output_type": "execute_result"
    }
   ],
   "source": [
    "dracor.add_corpus_from_repo(repository_owner=\"ingoboerner\", repository_name=\"shakedracor\")"
   ]
  },
  {
   "cell_type": "markdown",
   "id": "1feb71d9-aab1-4491-80eb-d70a5ac5b460",
   "metadata": {},
   "source": [
    "The source of the corpus will be reflected in the manifest:"
   ]
  },
  {
   "cell_type": "code",
   "execution_count": 34,
   "id": "00b01803-c709-48e3-834c-bd7e22125455",
   "metadata": {},
   "outputs": [
    {
     "data": {
      "text/plain": [
       "{'corpusname': 'shake',\n",
       " 'timestamp': '2023-11-23T13:29:52.227215',\n",
       " 'sources': {'shake': {'type': 'repository',\n",
       "   'corpusname': 'shake',\n",
       "   'url': 'https://github.com/ingoboerner/shakedracor',\n",
       "   'commit': '3a420de7d253a505d1d3b8225e6bb6659577d82f',\n",
       "   'timestamp': '2023-11-23T13:29:52.227220',\n",
       "   'num_of_plays': 37}},\n",
       " 'num_of_plays': 37}"
      ]
     },
     "execution_count": 34,
     "metadata": {},
     "output_type": "execute_result"
    }
   ],
   "source": [
    "dracor.get_manifest()[\"corpora\"][\"shake\"]"
   ]
  },
  {
   "cell_type": "markdown",
   "id": "da141c36-857a-434f-b1ed-d85ce581fa7e",
   "metadata": {},
   "source": [
    "A corpus repository on GitHub should at least include a TEI-XML file `corpus.xml` that provides the metadata of the corpus. Optionally, but highly recommended, a corpus repository should contain a `README.md` file containing these information in a more human-reader-friedly form. The `Readme.md` is ignored by the *stable-dracor-client*. If no further parameters are set the client will look for the `corpus.xml` and uses this as a source of the corpus metadata. If no `corpus.xml` can be found, the import will fail. Although each corpus should contain such a file, sometimes it is not the case (especially, in relatively new corpora in development). It is still possible to import such a corpus if the flag `use_metadata_of_corpus_xml` is set to `False`. In this case the corpus will be imported with some boilderplate metadata.\n",
    "\n",
    "To illustrate this, we can look at the *Czech Drama Corpus* in the state it was in early October 2023 (commit: `e7595849d47c5d426d95d6af3f59542f2982e8b0`). If you open the following link Github will return an error message because at this time, the corpus repository did not contain a `corpus.xml` file: https://github.com/dracor-org/czedracor/blob/e7595849d47c5d426d95d6af3f59542f2982e8b0/corpus.xml\n",
    "\n",
    "Trying to load this state of the corpus will result in an error. To see the error uncomment the code in the following cell and run it."
   ]
  },
  {
   "cell_type": "code",
   "execution_count": 36,
   "id": "f33bef7b-d7b4-40fd-b9e0-6ecf15c792b7",
   "metadata": {},
   "outputs": [],
   "source": [
    "# TODO: this should provide a better error message!\n",
    "# Uncomment to see the error\n",
    "\n",
    "# dracor.add_corpus_from_repo(repository_name=\"czdracor\", commit=\"e7595849d47c5d426d95d6af3f59542f2982e8b0\")"
   ]
  },
  {
   "cell_type": "code",
   "execution_count": 39,
   "id": "166b6e5b-9551-498a-b747-47d007fce5c1",
   "metadata": {},
   "outputs": [
    {
     "name": "stderr",
     "output_type": "stream",
     "text": [
      "INFO:root:Successfully created corpus czdracor.\n",
      "INFO:root:Play 'capek-j-gassirova-loutna' retrieved from 'https://raw.githubusercontent.com/dracor-org/czdracor/e7595849d47c5d426d95d6af3f59542f2982e8b0/tei/capek-j-gassirova-loutna.xml' has been successfully added to corpus 'czdracor'. Checked and found local play data.\n",
      "INFO:root:Play 'capek-j-zeme-mnoha-jmen' retrieved from 'https://raw.githubusercontent.com/dracor-org/czdracor/e7595849d47c5d426d95d6af3f59542f2982e8b0/tei/capek-j-zeme-mnoha-jmen.xml' has been successfully added to corpus 'czdracor'. Checked and found local play data.\n",
      "WARNING:root:There are invalid character(s) + in the generated identifier 'playname' Will replace it with '-'.\n",
      "INFO:root:Play 'capek-k-j-adam-stvoritel' retrieved from 'https://raw.githubusercontent.com/dracor-org/czdracor/e7595849d47c5d426d95d6af3f59542f2982e8b0/tei/capek-k+j-adam-stvoritel.xml' has been successfully added to corpus 'czdracor'. Checked and found local play data.\n",
      "WARNING:root:There are invalid character(s) + in the generated identifier 'playname' Will replace it with '-'.\n",
      "INFO:root:Play 'capek-k-j-lasky-hra-osudna' retrieved from 'https://raw.githubusercontent.com/dracor-org/czdracor/e7595849d47c5d426d95d6af3f59542f2982e8b0/tei/capek-k+j-lasky-hra-osudna.xml' has been successfully added to corpus 'czdracor'. Checked and found local play data.\n",
      "WARNING:root:There are invalid character(s) + in the generated identifier 'playname' Will replace it with '-'.\n",
      "INFO:root:Play 'capek-k-j-ze-zivota-hmyzu-version-1' retrieved from 'https://raw.githubusercontent.com/dracor-org/czdracor/e7595849d47c5d426d95d6af3f59542f2982e8b0/tei/capek-k+j-ze-zivota-hmyzu-version-1.xml' has been successfully added to corpus 'czdracor'. Checked and found local play data.\n",
      "WARNING:root:There are invalid character(s) + in the generated identifier 'playname' Will replace it with '-'.\n",
      "INFO:root:Play 'capek-k-j-ze-zivota-hmyzu-version-2' retrieved from 'https://raw.githubusercontent.com/dracor-org/czdracor/e7595849d47c5d426d95d6af3f59542f2982e8b0/tei/capek-k+j-ze-zivota-hmyzu-version-2.xml' has been successfully added to corpus 'czdracor'. Checked and found local play data.\n",
      "INFO:root:Play 'capek-k-bila-nemoc' retrieved from 'https://raw.githubusercontent.com/dracor-org/czdracor/e7595849d47c5d426d95d6af3f59542f2982e8b0/tei/capek-k-bila-nemoc.xml' has been successfully added to corpus 'czdracor'. Checked and found local play data.\n",
      "INFO:root:Play 'capek-k-loupeznik' retrieved from 'https://raw.githubusercontent.com/dracor-org/czdracor/e7595849d47c5d426d95d6af3f59542f2982e8b0/tei/capek-k-loupeznik.xml' has been successfully added to corpus 'czdracor'. Checked and found local play data.\n",
      "INFO:root:Play 'capek-k-matka' retrieved from 'https://raw.githubusercontent.com/dracor-org/czdracor/e7595849d47c5d426d95d6af3f59542f2982e8b0/tei/capek-k-matka.xml' has been successfully added to corpus 'czdracor'. Checked and found local play data.\n",
      "INFO:root:Play 'capek-k-rur' retrieved from 'https://raw.githubusercontent.com/dracor-org/czdracor/e7595849d47c5d426d95d6af3f59542f2982e8b0/tei/capek-k-rur.xml' has been successfully added to corpus 'czdracor'. Checked and found local play data.\n",
      "INFO:root:Play 'capek-k-vec-makropulos' retrieved from 'https://raw.githubusercontent.com/dracor-org/czdracor/e7595849d47c5d426d95d6af3f59542f2982e8b0/tei/capek-k-vec-makropulos.xml' has been successfully added to corpus 'czdracor'. Checked and found local play data.\n",
      "INFO:root:Successfully added all 11 files to czdracor.\n"
     ]
    },
    {
     "data": {
      "text/plain": [
       "True"
      ]
     },
     "execution_count": 39,
     "metadata": {},
     "output_type": "execute_result"
    }
   ],
   "source": [
    "dracor.add_corpus_from_repo(\n",
    "    repository_name=\"czdracor\", \n",
    "    commit=\"e7595849d47c5d426d95d6af3f59542f2982e8b0\", \n",
    "    use_metadata_of_corpus_xml=False\n",
    "    )"
   ]
  },
  {
   "cell_type": "markdown",
   "id": "1ce0f8f4-5f5d-4b36-8686-ed881abb2355",
   "metadata": {},
   "source": [
    "Another way would be to explicitly provide metadata in the keyword argument `corpus_metadata`. Still, if there is no `corpus.xml` the keyword argument `use_metadata_of_corpus_xml` must be set to `False`."
   ]
  },
  {
   "cell_type": "code",
   "execution_count": 43,
   "id": "cbae05c5-f5d5-417b-a13f-edd711f89578",
   "metadata": {},
   "outputs": [
    {
     "name": "stderr",
     "output_type": "stream",
     "text": [
      "WARNING:root:Did not add corpus oldcz. Corpus already exists.\n",
      "INFO:root:Play 'capek-j-gassirova-loutna' retrieved from 'https://raw.githubusercontent.com/dracor-org/czdracor/e7595849d47c5d426d95d6af3f59542f2982e8b0/tei/capek-j-gassirova-loutna.xml' has been successfully added to corpus 'oldcz'. Checked and found local play data.\n",
      "INFO:root:Play 'capek-j-zeme-mnoha-jmen' retrieved from 'https://raw.githubusercontent.com/dracor-org/czdracor/e7595849d47c5d426d95d6af3f59542f2982e8b0/tei/capek-j-zeme-mnoha-jmen.xml' has been successfully added to corpus 'oldcz'. Checked and found local play data.\n",
      "WARNING:root:There are invalid character(s) + in the generated identifier 'playname' Will replace it with '-'.\n",
      "INFO:root:Play 'capek-k-j-adam-stvoritel' retrieved from 'https://raw.githubusercontent.com/dracor-org/czdracor/e7595849d47c5d426d95d6af3f59542f2982e8b0/tei/capek-k+j-adam-stvoritel.xml' has been successfully added to corpus 'oldcz'. Checked and found local play data.\n",
      "WARNING:root:There are invalid character(s) + in the generated identifier 'playname' Will replace it with '-'.\n",
      "INFO:root:Play 'capek-k-j-lasky-hra-osudna' retrieved from 'https://raw.githubusercontent.com/dracor-org/czdracor/e7595849d47c5d426d95d6af3f59542f2982e8b0/tei/capek-k+j-lasky-hra-osudna.xml' has been successfully added to corpus 'oldcz'. Checked and found local play data.\n",
      "WARNING:root:There are invalid character(s) + in the generated identifier 'playname' Will replace it with '-'.\n",
      "INFO:root:Play 'capek-k-j-ze-zivota-hmyzu-version-1' retrieved from 'https://raw.githubusercontent.com/dracor-org/czdracor/e7595849d47c5d426d95d6af3f59542f2982e8b0/tei/capek-k+j-ze-zivota-hmyzu-version-1.xml' has been successfully added to corpus 'oldcz'. Checked and found local play data.\n",
      "WARNING:root:There are invalid character(s) + in the generated identifier 'playname' Will replace it with '-'.\n",
      "INFO:root:Play 'capek-k-j-ze-zivota-hmyzu-version-2' retrieved from 'https://raw.githubusercontent.com/dracor-org/czdracor/e7595849d47c5d426d95d6af3f59542f2982e8b0/tei/capek-k+j-ze-zivota-hmyzu-version-2.xml' has been successfully added to corpus 'oldcz'. Checked and found local play data.\n",
      "INFO:root:Play 'capek-k-bila-nemoc' retrieved from 'https://raw.githubusercontent.com/dracor-org/czdracor/e7595849d47c5d426d95d6af3f59542f2982e8b0/tei/capek-k-bila-nemoc.xml' has been successfully added to corpus 'oldcz'. Checked and found local play data.\n",
      "INFO:root:Play 'capek-k-loupeznik' retrieved from 'https://raw.githubusercontent.com/dracor-org/czdracor/e7595849d47c5d426d95d6af3f59542f2982e8b0/tei/capek-k-loupeznik.xml' has been successfully added to corpus 'oldcz'. Checked and found local play data.\n",
      "INFO:root:Play 'capek-k-matka' retrieved from 'https://raw.githubusercontent.com/dracor-org/czdracor/e7595849d47c5d426d95d6af3f59542f2982e8b0/tei/capek-k-matka.xml' has been successfully added to corpus 'oldcz'. Checked and found local play data.\n",
      "INFO:root:Play 'capek-k-rur' retrieved from 'https://raw.githubusercontent.com/dracor-org/czdracor/e7595849d47c5d426d95d6af3f59542f2982e8b0/tei/capek-k-rur.xml' has been successfully added to corpus 'oldcz'. Checked and found local play data.\n",
      "INFO:root:Play 'capek-k-vec-makropulos' retrieved from 'https://raw.githubusercontent.com/dracor-org/czdracor/e7595849d47c5d426d95d6af3f59542f2982e8b0/tei/capek-k-vec-makropulos.xml' has been successfully added to corpus 'oldcz'. Checked and found local play data.\n"
     ]
    },
    {
     "ename": "UnboundLocalError",
     "evalue": "cannot access local variable 'source_name' where it is not associated with a value",
     "output_type": "error",
     "traceback": [
      "\u001b[0;31m---------------------------------------------------------------------------\u001b[0m",
      "\u001b[0;31mUnboundLocalError\u001b[0m                         Traceback (most recent call last)",
      "Cell \u001b[0;32mIn[43], line 7\u001b[0m\n\u001b[1;32m      1\u001b[0m old_cz_meta \u001b[38;5;241m=\u001b[39m {\n\u001b[1;32m      2\u001b[0m     \u001b[38;5;124m\"\u001b[39m\u001b[38;5;124mname\u001b[39m\u001b[38;5;124m\"\u001b[39m : \u001b[38;5;124m\"\u001b[39m\u001b[38;5;124moldcz\u001b[39m\u001b[38;5;124m\"\u001b[39m,\n\u001b[1;32m      3\u001b[0m     \u001b[38;5;124m\"\u001b[39m\u001b[38;5;124mtitle\u001b[39m\u001b[38;5;124m\"\u001b[39m : \u001b[38;5;124m\"\u001b[39m\u001b[38;5;124mOlder CzDraCor Version\u001b[39m\u001b[38;5;124m\"\u001b[39m,\n\u001b[1;32m      4\u001b[0m     \u001b[38;5;124m\"\u001b[39m\u001b[38;5;124mdescription\u001b[39m\u001b[38;5;124m\"\u001b[39m : \u001b[38;5;124m\"\u001b[39m\u001b[38;5;124mVersion of CzDraCor as it was in Oktorber 2023.\u001b[39m\u001b[38;5;124m\"\u001b[39m\n\u001b[1;32m      5\u001b[0m }\n\u001b[0;32m----> 7\u001b[0m \u001b[43mdracor\u001b[49m\u001b[38;5;241;43m.\u001b[39;49m\u001b[43madd_corpus_from_repo\u001b[49m\u001b[43m(\u001b[49m\n\u001b[1;32m      8\u001b[0m \u001b[43m    \u001b[49m\u001b[43mrepository_name\u001b[49m\u001b[38;5;241;43m=\u001b[39;49m\u001b[38;5;124;43m\"\u001b[39;49m\u001b[38;5;124;43mczdracor\u001b[39;49m\u001b[38;5;124;43m\"\u001b[39;49m\u001b[43m,\u001b[49m\u001b[43m \u001b[49m\n\u001b[1;32m      9\u001b[0m \u001b[43m    \u001b[49m\u001b[43mcommit\u001b[49m\u001b[38;5;241;43m=\u001b[39;49m\u001b[38;5;124;43m\"\u001b[39;49m\u001b[38;5;124;43me7595849d47c5d426d95d6af3f59542f2982e8b0\u001b[39;49m\u001b[38;5;124;43m\"\u001b[39;49m\u001b[43m,\u001b[49m\u001b[43m \u001b[49m\n\u001b[1;32m     10\u001b[0m \u001b[43m    \u001b[49m\u001b[43mcorpus_metadata\u001b[49m\u001b[38;5;241;43m=\u001b[39;49m\u001b[43mold_cz_meta\u001b[49m\u001b[43m,\u001b[49m\n\u001b[1;32m     11\u001b[0m \u001b[43m    \u001b[49m\u001b[43muse_metadata_of_corpus_xml\u001b[49m\u001b[38;5;241;43m=\u001b[39;49m\u001b[38;5;28;43;01mFalse\u001b[39;49;00m\n\u001b[1;32m     12\u001b[0m \u001b[43m    \u001b[49m\u001b[43m)\u001b[49m\n",
      "File \u001b[0;32m/usr/lib/python3.11/site-packages/stabledracor/client.py:2465\u001b[0m, in \u001b[0;36mStableDraCor.add_corpus_from_repo\u001b[0;34m(self, commit, repository_name, repository_owner, repository_base_url, repository_data_folder, use_metadata_of_corpus_xml, corpus_metadata, exclude)\u001b[0m\n\u001b[1;32m   2457\u001b[0m             \u001b[38;5;28mself\u001b[39m\u001b[38;5;241m.\u001b[39m__exclude_play_from_corpus_source(corpusname\u001b[38;5;241m=\u001b[39mnew_corpusmetadata[\u001b[38;5;124m\"\u001b[39m\u001b[38;5;124mname\u001b[39m\u001b[38;5;124m\"\u001b[39m],\n\u001b[1;32m   2458\u001b[0m                                                    source_name\u001b[38;5;241m=\u001b[39msource_name,\n\u001b[1;32m   2459\u001b[0m                                                    id_type\u001b[38;5;241m=\u001b[39m\u001b[38;5;124m\"\u001b[39m\u001b[38;5;124mslug\u001b[39m\u001b[38;5;124m\"\u001b[39m,\n\u001b[1;32m   2460\u001b[0m                                                    \u001b[38;5;28mid\u001b[39m\u001b[38;5;241m=\u001b[39mslug)\n\u001b[1;32m   2462\u001b[0m \u001b[38;5;66;03m# TODO: this might log a count to self.__corpora source; should use len(success)\u001b[39;00m\n\u001b[1;32m   2463\u001b[0m \u001b[38;5;66;03m# TODO: should log the number of plays successfully added to the source\u001b[39;00m\n\u001b[1;32m   2464\u001b[0m \u001b[38;5;28mself\u001b[39m\u001b[38;5;241m.\u001b[39m__register_added_play_number_in_corpus_source(corpusname\u001b[38;5;241m=\u001b[39mnew_corpusmetadata[\u001b[38;5;124m\"\u001b[39m\u001b[38;5;124mname\u001b[39m\u001b[38;5;124m\"\u001b[39m],\n\u001b[0;32m-> 2465\u001b[0m                                                    source_name\u001b[38;5;241m=\u001b[39m\u001b[43msource_name\u001b[49m,\n\u001b[1;32m   2466\u001b[0m                                                    num_of_plays\u001b[38;5;241m=\u001b[39m\u001b[38;5;28mlen\u001b[39m(success))\n\u001b[1;32m   2468\u001b[0m \u001b[38;5;28;01mif\u001b[39;00m \u001b[38;5;28mlen\u001b[39m(errors) \u001b[38;5;241m==\u001b[39m \u001b[38;5;241m0\u001b[39m:\n\u001b[1;32m   2469\u001b[0m     logging\u001b[38;5;241m.\u001b[39minfo(\u001b[38;5;124mf\u001b[39m\u001b[38;5;124m\"\u001b[39m\u001b[38;5;124mSuccessfully added all \u001b[39m\u001b[38;5;132;01m{\u001b[39;00m\u001b[38;5;28mlen\u001b[39m(success)\u001b[38;5;132;01m}\u001b[39;00m\u001b[38;5;124m files to \u001b[39m\u001b[38;5;132;01m{\u001b[39;00mnew_corpusmetadata[\u001b[38;5;124m'\u001b[39m\u001b[38;5;124mname\u001b[39m\u001b[38;5;124m'\u001b[39m]\u001b[38;5;132;01m}\u001b[39;00m\u001b[38;5;124m.\u001b[39m\u001b[38;5;124m\"\u001b[39m)\n",
      "\u001b[0;31mUnboundLocalError\u001b[0m: cannot access local variable 'source_name' where it is not associated with a value"
     ]
    }
   ],
   "source": [
    "old_cz_meta = {\n",
    "    \"name\" : \"oldcz\",\n",
    "    \"title\" : \"Older CzDraCor Version\",\n",
    "    \"description\" : \"Version of CzDraCor as it was in Oktorber 2023.\"\n",
    "}\n",
    "\n",
    "dracor.add_corpus_from_repo(\n",
    "    repository_name=\"czdracor\", \n",
    "    commit=\"e7595849d47c5d426d95d6af3f59542f2982e8b0\", \n",
    "    corpus_metadata=old_cz_meta,\n",
    "    use_metadata_of_corpus_xml=False\n",
    "    )\n",
    "\n",
    "#TODO: There is a stupid error I still need to fix"
   ]
  },
  {
   "cell_type": "markdown",
   "id": "8435d9b9-718b-4fdd-9c7a-ea414c020b60",
   "metadata": {},
   "source": [
    "The files of the individual plays are normally stored in a folder named `tei`. If the folder name is different (should not be the case for the more \"official\" DraCor corpora), the name of the folder can be provided as keyword argument `repository_data_folder`. Please keep in mind, that the client can only handle data folders that are direct subfolders of the repository root. It is not possible to import from a deeply nested folders. Although the client tries to allow some flexibility in setting up the corpus repository, in general, it would be a good idea to stick to the DraCor convetions (see also [Report on Programmable Corpora](https://doi.org/10.5281/zenodo.7664964), Section 5.2.1 GitHub Repositories, p.26).\n",
    "\n",
    "Finally, if data is not hosted on GitHub but some other Git-based system (e.g. GitLab), it is possible to change the base-url by providing it as keyword argument `repository_base_url` (default is: `\"github.com\"`)."
   ]
  },
  {
   "cell_type": "code",
   "execution_count": null,
   "id": "d1c65f04-e7fd-4581-b20f-f01479f6a4f8",
   "metadata": {},
   "outputs": [],
   "source": []
  }
 ],
 "metadata": {
  "kernelspec": {
   "display_name": "Python 3 (ipykernel)",
   "language": "python",
   "name": "python3"
  },
  "language_info": {
   "codemirror_mode": {
    "name": "ipython",
    "version": 3
   },
   "file_extension": ".py",
   "mimetype": "text/x-python",
   "name": "python",
   "nbconvert_exporter": "python",
   "pygments_lexer": "ipython3",
   "version": "3.11.6"
  }
 },
 "nbformat": 4,
 "nbformat_minor": 5
}
