{
 "cells": [
  {
   "cell_type": "markdown",
   "id": "0f3abbb9-3ed8-4001-b20c-a45c0dfe98cc",
   "metadata": {},
   "source": [
    "# Introduction\n",
    "\n",
    "This notebook introduces some of the functionality of the *stable-dracor-client* and the *dracor-sandbox* Docker container. It is assumed that the infrastructure has been started by using the docker compose file `compose.yml` (`docker compose up`) and run in the bundled jupyter lab instance on http://localhost:8888."
   ]
  },
  {
   "cell_type": "markdown",
   "id": "657f97cf-e557-4e79-9070-34e8b87c3aa3",
   "metadata": {},
   "source": [
    "## DraCor in Docker and the *dracor-sandbox* Docker container\n",
    "\n",
    "There are several possibilities to set up a local DraCor infrastructure. \n",
    "\n",
    "### DraCor Docker containers running on the local machine\n",
    "One way would be to simply clone the repository of the DraCor API eXist-DB application (https://github.com/dracor-org/dracor-api) and use the provided docker compose file [`compose.yml`](https://github.com/dracor-org/dracor-api/blob/main/compose.yml) to start a local Docker-based DraCor system. If everything went well issuing the the command `docker ps` in a terminal will show multiple running Docker containers. \n",
    "\n",
    "(TODO: add screenshot here)\n",
    "\n",
    "In this approach the environment in which the local infrastructure is running can vary. Depending on the setup of the local host machine (operation-system, version of Docker daemon installed, ...) there might be some issues, e.g. problems connection to `localhost` on some Windows installations. Although, the *stable-dracor-client* can be used with this setup as well, hence we will assume that the following *Docker in Docker* approach to setting up the local infrastructure will be used.\n",
    "\n",
    "### Docker in Docker\n",
    "Another way to setup a local DraCor infrastructure using Docker is to make use of a technique that is called *Docker in Docker*. This means that on the host machine there is running a container that has Docker installed. This Docker container is then used to start additional containers inside this controlled environment. This way the environment in which the DraCor services will be executed can be prepared in advanced to make sure that everything works as expected.\n",
    "\n",
    "When issuing the command `docker compose up` in the root directory of the cloned stable-dracor repository only a single Docker container `dracor-sandbox` will be started. It not only has the Docker daemon installed in it but also features a (this) Jupyter Lab instance (running on http://localhost:8888) that can be used to prepare custom corpora or run Python scripts.\n",
    "\n",
    "When starting the `dracor-sandbox` container there are no Docker containers running. To test this, it is possible to \"enter\" the container from the host machine with the command `docker exec -it dracor-sandbox /bin/bash`. In the interactive shell that is now executed inside the container the command `docker ps` will return an empty list:\n",
    "\n",
    "```\n",
    "194dc81eb130:/home/dracor# docker ps\n",
    "CONTAINER ID   IMAGE     COMMAND   CREATED   STATUS    PORTS     NAMES\n",
    "```\n",
    "\n",
    "The `dracor-sandbox` container can be left with the command `exit`.\n",
    "\n",
    "There are also two folders mounted to the container: `import` and `export`. They also show up in the *File Browser* in Jupyter Lab. These folder provide an easy way to get data into and out of the `dracor-sandbox` container. A usecase would be to add locally available XML files. When copying them into the `import` folder on the host machine, they become available to the container. The `export` folder functions the same way. Files that should become available on the host machine even when the Docker container is not running anymore can be stored in this folder. This could, for example, be the results of an analysis or a *manifest* that describes the composition of the custom corpora (see Section X).\n",
    "\n",
    "Having only one Docker container with the DraCor system components inside also makes it possible to \"freeze\" not only the whole local Dracor system with the corpora set up (as we prototyped for the paper \n",
    "[Detecting Small Worlds in a Corpus of Thousands of Theater Plays](https://github.com/dracor-org/small-world-paper/tree/publication-version)) but in addition to that the environment that was used to assemble it (this Jupyter Lab instance with the Python notebooks)."
   ]
  },
  {
   "cell_type": "markdown",
   "id": "08b0050a-b1f0-42cd-8711-98ead3b5c1fd",
   "metadata": {},
   "source": [
    "## Using the *stable-dracor-client*\n",
    "\n",
    "The following sections showcase some of the features of the *stable-dracor-client*.  "
   ]
  },
  {
   "cell_type": "markdown",
   "id": "2def6491-d1f0-40a5-b6a4-3a8990e3d318",
   "metadata": {},
   "source": [
    "### Installation\n",
    "\n",
    "Within this Jupyter Lab instance the client has already been installed. If the client should be used standalone it can be installed from within the root directory of the stable-dracor repository (containing the necessary `pyproject.toml` file) with the command `pip install .` (the dot is necessary!)."
   ]
  },
  {
   "cell_type": "markdown",
   "id": "4fdf2ac4-8a1f-4f17-82fc-8424b8724001",
   "metadata": {},
   "source": [
    "### Activate Logging\n",
    "It is recommended to activate logging in the notebook. This can be done by importing the library logging and setting the log level. For normal use the log level `INFO` is sufficient, but if something does not work as expected, the log level should be set to `DEBUG` to see additional messages which might help to identify the problem.\n",
    "The following cell activates logging for this notebook:"
   ]
  },
  {
   "cell_type": "code",
   "execution_count": null,
   "id": "a1ffa70f-03ef-4711-ab5f-8585bfc754f1",
   "metadata": {},
   "outputs": [],
   "source": [
    "import logging\n",
    "#logging.basicConfig(level=logging.DEBUG)\n",
    "logging.basicConfig(level=logging.INFO)"
   ]
  },
  {
   "cell_type": "markdown",
   "id": "f446388c-84a1-4876-a994-7f3dfa9d920f",
   "metadata": {},
   "source": [
    "### Importing the client \n",
    "After the client has been installed it can be imported with the following command:"
   ]
  },
  {
   "cell_type": "code",
   "execution_count": null,
   "id": "ff417541-b953-4622-bd0a-8b4fa1dbdaa8",
   "metadata": {},
   "outputs": [],
   "source": [
    "from stabledracor.client import StableDraCor"
   ]
  },
  {
   "cell_type": "markdown",
   "id": "04b6ddab-7887-4ed3-bfb7-5c221af6f29e",
   "metadata": {},
   "source": [
    "### First Step in setting up the infrastructure\n",
    "To use the client it is necessary to create an instance of the class `StableDraCor` that has been imported to the notebook with the previous command. The most basic command just instantiates an objec without any additional arguments:"
   ]
  },
  {
   "cell_type": "code",
   "execution_count": null,
   "id": "141a5d4d-854e-4d2d-8276-9e12e03a8387",
   "metadata": {},
   "outputs": [],
   "source": [
    "dracor = StableDraCor()"
   ]
  },
  {
   "cell_type": "markdown",
   "id": "f601deac-7fac-413b-be43-ec8361d16d07",
   "metadata": {},
   "source": [
    "If logging is activated some warnings will appear: We find out that there is no API currently available under the default endpoint url and that no DraCor Docker containers can be found. \n",
    "\n",
    "Normally, the output of the client can be trusted in this regard, but to verify that there are no running containers it is possible to directly query the docker daemon running in the `dracor-sandbox` container. The command to list running containers is `docker ps`. In the following cell starts with a `!` though. This is a way to execute shell commands directly from within a Jupyter notebook."
   ]
  },
  {
   "cell_type": "code",
   "execution_count": null,
   "id": "4c601dd9-b4d7-4f45-8022-e9dfc7333ded",
   "metadata": {},
   "outputs": [],
   "source": [
    "!docker ps"
   ]
  },
  {
   "cell_type": "markdown",
   "id": "ee465f9d-4987-404c-b7e9-871bc3775b68",
   "metadata": {},
   "source": [
    "### GitHub Access Token\n",
    "The log output from above contains the warning, that a \"Personal GitHub Acces Token\" has not been supplied. Providing a token is recommended, because for some operations, e.g. adding a corpus from a repository on GitHub, the client relies on the GitHub API. Unauthorized calls to this API are subject to rate limiting, which means, that only a few calls can be send without being authorized to GitHub. The [FAQ](03_faq.ipynb#Why-do-I-need-a-GitHub-Access-Token-and-how-can-I-get-one?) contains instructions  on how to generate such a token and explains how to make it available to a notebook or script as an environmental variable upon upon the creation of a `dracor-sandbox` Docker container. Although it is possible to add the value of the token directly in the script, it is not considered a good practise because an access token is like a password. Especially, if a notebook is shared, this means of \"hiding\" the password should be used. \n",
    "\n",
    "The code in the followin cell uses the library `os` to read an environmental variable `GITHUB_TOKEN` and stores it in the variable `github_token` to later use it when initializing the client."
   ]
  },
  {
   "cell_type": "code",
   "execution_count": null,
   "id": "5bb15b36-bdec-4635-ae15-1135f6b72f54",
   "metadata": {},
   "outputs": [],
   "source": [
    "import os\n",
    "github_token = os.environ.get(\"GITHUB_TOKEN\")"
   ]
  },
  {
   "cell_type": "code",
   "execution_count": null,
   "id": "341c200d-9704-40ce-9685-ddd41b190af2",
   "metadata": {},
   "outputs": [],
   "source": [
    "# Optional: Check if the Token is available (see FAQ Notebook)\n",
    "assert github_token is not None, \"It is recommended to use a GitHub Personal Access Token. See FAQ Notebook for details.\""
   ]
  },
  {
   "cell_type": "markdown",
   "id": "c112d890-82d3-4de5-949f-4d04e58ad550",
   "metadata": {},
   "source": [
    "If the container has been started without setting a token with the `.env` file as described in the [FAQ](03_faq.ipynb#Why-do-I-need-a-GitHub-Access-Token-and-how-can-I-get-one?), the following command can be used to create it (substitute `value` with your token, of course):\n",
    "\n",
    "`export GITHUB_TOKEN=value`\n",
    "\n",
    "It would be possible to issue this command from within the notebook using the prefix `!`, but then the cell containing the value of the token must be removed afterwards for security reasons. \n",
    "\n",
    "Another option would be to enter the `dracor-sandbox` container (see [FAQ](03_faq.ipynb#How-can-I-get-into-the-dracor-sandbox-Docker-container?)) or use the Terminal of Jupyter Lab (in the *Launcher* at http://localhost:8888 click on *Terminal*). The shell command `printenv` can be used to list all set variables, `echo $GITHUB_TOKEN` will output the value of the environment variable.\n",
    "\n",
    "An instance of the client can be created by supplying the token as the argument `github_access_token`:"
   ]
  },
  {
   "cell_type": "code",
   "execution_count": null,
   "id": "5aa4ae1d-bc50-4c28-ba4e-d79e5303011c",
   "metadata": {},
   "outputs": [],
   "source": [
    "dracor = StableDraCor(github_access_token=github_token)"
   ]
  },
  {
   "cell_type": "markdown",
   "id": "fb5a9555-3604-497b-9fbc-a9ceccf5367c",
   "metadata": {},
   "source": [
    "### Attaching Metadata to the *stable-dracor* instance\n",
    "It is possible to attach to the stable-dracor system. Currently, adding a `name` and a `description` is supported. In addition to that every time an *stable-dracor* is initialized, a universal unique id is generated. This ensures, that each instance can be identified by its unique identifier. These information, `id`, `name` and `description` are also included with the so-called manifest describing a stable-dracor instance. In the following cell we create the an instance once more, provide a GitHub Token and attach metadata:"
   ]
  },
  {
   "cell_type": "code",
   "execution_count": null,
   "id": "62a64f84-5543-4e3f-8b5d-63b9f4f8f45c",
   "metadata": {},
   "outputs": [],
   "source": [
    "dracor = StableDraCor(\n",
    "    name=\"my-stable-dracor\",\n",
    "    description=\"DraCor system created with the introduction notebook to showcase the features of the stable-dracor-client.\",\n",
    "    github_access_token=github_token)"
   ]
  },
  {
   "cell_type": "markdown",
   "id": "8430b779-b182-4445-a12e-6907e158c6b2",
   "metadata": {},
   "source": [
    "### Additional options when creating a stable-dracor instance\n",
    "There are some options to change the behaviour of the client instance, e.g. explicitly set a different base url of the API. For details see the [FAQ](03_faq.ipynb#How-can-I-change-the-URL-of-the-API-used)."
   ]
  },
  {
   "cell_type": "markdown",
   "id": "e883a594-86c1-4ce1-9d66-baa023c55bfc",
   "metadata": {},
   "source": [
    "### Starting the Docker containers\n",
    "The second step to setup a DraCor system with the *stable-dracor-client* is to start the Docker containers of the system components: eXist-DB with pre-installed application (\"DraCor API\"), Metrics Service, Frontend, Triple Store. When using the `dracor-sandbox` these services will run inside the \"outer\" Docker container. \n",
    "\n",
    "The most basic way to start these containers is to call the method `run` without any additional arguments: `dracor.run()`. In this case the client will fetch the [default configuration](https://raw.githubusercontent.com/dracor-org/stabledracor/master/configurations/compose.fullstack.empty.yml) which is defined in `compose.fullstack.empty.yml` in the stable-dracor repository on GitHub. \n",
    "\n",
    "A configuration file, which is basically a docker-compose file, will specify the Docker images and tags of the components to be used, e.g. currently the default configuration uses the api image `dracor/dracor-api:v0.90.1-local` ([Link](https://github.com/dracor-org/stabledracor/blob/2dc461e6f3d8106f5291ba0b1f6779b7adb52c5d/configurations/compose.fullstack.empty.yml#L8)). \n",
    "\n",
    "The images of all DraCor components can be found on [DockerHub](https://hub.docker.com/u/dracor). For example the available images of the DraCor eXist-DB and the application powering the API can be found [here](https://hub.docker.com/r/dracor/dracor-api/tags). The image, that is currently used in the default configuration can be viewed [here](https://hub.docker.com/layers/dracor/dracor-api/v0.90.1-local/images/sha256-e2af569e41398b2b5b527dbb21ada90dea467568ce901b2607b1cc41a6743a75?context=explore). \n",
    "\n",
    "Executing `run()` without explicitly specifying a configuration can be considered a fall-back. It is possible to pass a path to a different docker-compose file when starting the client as the keyword argument `compose_file`. Another option is to use `url` and point to a location from which a docker-compose file can be downloaded.\n",
    "\n",
    "**TODO**: Add configurations to dracor-sandbox container! `!ls ../configurations`! Explain which configuration to use. Difficult because of ARM/AMD architecture?"
   ]
  },
  {
   "cell_type": "code",
   "execution_count": null,
   "id": "b77b7f02-6642-4cc3-979b-5e25b7488650",
   "metadata": {},
   "outputs": [],
   "source": [
    "dracor.run()"
   ]
  },
  {
   "cell_type": "markdown",
   "id": "286a8c89-a8d4-4f39-ad33-b593c23a4cf0",
   "metadata": {},
   "source": [
    "### List running containers\n",
    "It is possible to check if Docker containers are currently running with the already familiar command `docker ps`. This should now list four running containers."
   ]
  },
  {
   "cell_type": "code",
   "execution_count": null,
   "id": "e72d93f8-9300-44cc-aa56-0110a533e9e5",
   "metadata": {},
   "outputs": [],
   "source": [
    "!docker ps"
   ]
  },
  {
   "cell_type": "markdown",
   "id": "78dd4809-d74c-4aba-9ceb-4c70e03b99f5",
   "metadata": {},
   "source": [
    "The *stable-dracor-client* provides a method (`list_docker_containers`) that gets the same result from the docker daemon and turns it into a data structure native to Python:"
   ]
  },
  {
   "cell_type": "code",
   "execution_count": null,
   "id": "263fe399-e2fe-4d0b-a899-7873d1a63cc0",
   "metadata": {},
   "outputs": [],
   "source": [
    "dracor.list_docker_containers()"
   ]
  },
  {
   "cell_type": "markdown",
   "id": "0c261bd6-42d6-4996-ac48-65642fc6b09b",
   "metadata": {},
   "source": [
    "It is possible to operate on the returned list, e.g. count the number of containers:"
   ]
  },
  {
   "cell_type": "code",
   "execution_count": null,
   "id": "57ce8f9a-39e5-4852-b421-00177dd6bfd3",
   "metadata": {},
   "outputs": [],
   "source": [
    "print(f\"There are {len(dracor.list_docker_containers())} running Docker containers.\")"
   ]
  },
  {
   "cell_type": "markdown",
   "id": "4487fffb-ceea-4a6a-b5ce-8646eb957cd4",
   "metadata": {},
   "source": [
    "### Getting API info\n",
    "A quick way to test if a connection to the API can be established, is calling the method `get_api_info`. This will render the response of the `/info` endpoint http://localhost:8088/api/info of the DraCor API."
   ]
  },
  {
   "cell_type": "code",
   "execution_count": null,
   "id": "a8fd6a5d-5c6e-4e82-9f4d-38a075a52e4c",
   "metadata": {},
   "outputs": [],
   "source": [
    "dracor.get_api_info()"
   ]
  },
  {
   "cell_type": "markdown",
   "id": "7557aace-6245-472e-86d2-066a55db1acc",
   "metadata": {},
   "source": [
    "### Accessing the front-end\n",
    "The DraCor frontend running inside the `dracor-sandbox` can be easily accessed from outside the container: Pointing the browser to http://localhost:8088 and/or at http://127.0.0.1:8088 should show the frontend. No corpora have been loaded yet.\n",
    "\n",
    "The other components of the DraCor system, e.g. the Triple Store, can not be reached from outside the `dracor-sandbox`. See [FAQ](03_faq.ipynb#How-can-I-access-other-services-than-the-frontend-and-the-API-from-outside-the-dracor-sandbox?) on how to map the necessary ports to access the other services if needed."
   ]
  },
  {
   "cell_type": "code",
   "execution_count": null,
   "id": "0ee9b0f3-5155-4760-9124-9bdc3b5e6641",
   "metadata": {},
   "outputs": [],
   "source": [
    "dracor.get_manifest()"
   ]
  },
  {
   "cell_type": "code",
   "execution_count": null,
   "id": "75df79f7-3f3d-4256-aa9e-ade67fd4c4aa",
   "metadata": {},
   "outputs": [],
   "source": [
    "dracor.list_docker_images()\n",
    "#dracor.list_docker_containers()"
   ]
  },
  {
   "cell_type": "code",
   "execution_count": null,
   "id": "9e56ac23-5b37-40cf-a4c3-ed6929d0c33e",
   "metadata": {},
   "outputs": [],
   "source": []
  }
 ],
 "metadata": {
  "kernelspec": {
   "display_name": "Python 3 (ipykernel)",
   "language": "python",
   "name": "python3"
  },
  "language_info": {
   "codemirror_mode": {
    "name": "ipython",
    "version": 3
   },
   "file_extension": ".py",
   "mimetype": "text/x-python",
   "name": "python",
   "nbconvert_exporter": "python",
   "pygments_lexer": "ipython3",
   "version": "3.11.6"
  }
 },
 "nbformat": 4,
 "nbformat_minor": 5
}
