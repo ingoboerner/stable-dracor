{
 "cells": [
  {
   "cell_type": "markdown",
   "id": "0f3abbb9-3ed8-4001-b20c-a45c0dfe98cc",
   "metadata": {},
   "source": [
    "# Intro\n",
    "\n"
   ]
  },
  {
   "cell_type": "code",
   "execution_count": 4,
   "id": "a1ffa70f-03ef-4711-ab5f-8585bfc754f1",
   "metadata": {},
   "outputs": [],
   "source": [
    "# Activate Logging\n",
    "import logging\n",
    "#logging.basicConfig(level=logging.DEBUG)\n",
    "logging.basicConfig(level=logging.INFO)"
   ]
  },
  {
   "cell_type": "code",
   "execution_count": 5,
   "id": "9fbe5488-729d-4552-8b96-44f739a45363",
   "metadata": {},
   "outputs": [],
   "source": [
    "from stabledracor.client import StableDraCor"
   ]
  },
  {
   "cell_type": "code",
   "execution_count": 6,
   "id": "5bb15b36-bdec-4635-ae15-1135f6b72f54",
   "metadata": {},
   "outputs": [],
   "source": [
    "# check for GitHub Token (see FAQ Notebook)\n",
    "import os\n",
    "github_token = os.environ.get(\"GITHUB_TOKEN\")\n",
    "assert github_token is not None, \"It is recommended to use a GitHub Personal Access Token. See FAQ Notebook for details.\""
   ]
  },
  {
   "cell_type": "code",
   "execution_count": 7,
   "id": "5aa4ae1d-bc50-4c28-ba4e-d79e5303011c",
   "metadata": {},
   "outputs": [
    {
     "name": "stderr",
     "output_type": "stream",
     "text": [
      "INFO:root:Initialized new StableDraCor instance: 'my-stable-dracor' (ID: ba657fe8-b3b2-4e68-a8f9-04c5c191b2b8).\n",
      "WARNING:root:Local DraCor API is not available at http://localhost:8088/api/.\n",
      "INFO:root:Docker is available.\n",
      "WARNING:root:Could not detect a running Docker container derived from a dracor/dracor-api image.\n",
      "WARNING:root:Could not detect a running Docker container derived from a dracor/dracor-frontend image.\n",
      "WARNING:root:Could not detect a running Docker container derived from a dracor/dracor-metrics image.\n",
      "WARNING:root:Could not detect a running Docker container derived from a dracor/dracor-fuseki image.\n",
      "WARNING:root:Could not detect a running Docker container derived from a dracor/stable-dracor image.\n"
     ]
    }
   ],
   "source": [
    "dracor = StableDraCor(name=\"my-stable-dracor\", github_access_token=github_token)"
   ]
  },
  {
   "cell_type": "code",
   "execution_count": null,
   "id": "e77a67d8-42cf-4137-931f-22fcf4a761ca",
   "metadata": {},
   "outputs": [],
   "source": []
  }
 ],
 "metadata": {
  "kernelspec": {
   "display_name": "Python 3 (ipykernel)",
   "language": "python",
   "name": "python3"
  },
  "language_info": {
   "codemirror_mode": {
    "name": "ipython",
    "version": 3
   },
   "file_extension": ".py",
   "mimetype": "text/x-python",
   "name": "python",
   "nbconvert_exporter": "python",
   "pygments_lexer": "ipython3",
   "version": "3.11.6"
  }
 },
 "nbformat": 4,
 "nbformat_minor": 5
}
