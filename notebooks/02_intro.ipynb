{
 "cells": [
  {
   "cell_type": "markdown",
   "id": "0f3abbb9-3ed8-4001-b20c-a45c0dfe98cc",
   "metadata": {},
   "source": [
    "# Introduction\n",
    "\n",
    "This notebook introduces some of the functionality of the *stable-dracor-client* and the *dracor-sandbox* Docker container. It is assumed that the infrastructure has been started by using the docker compose file `compose.yml` (`docker compose up`) and run in the bundled jupyter lab instance on http://localhost:8888."
   ]
  },
  {
   "cell_type": "markdown",
   "id": "657f97cf-e557-4e79-9070-34e8b87c3aa3",
   "metadata": {},
   "source": [
    "## DraCor in Docker and the *dracor-sandbox* Docker container\n",
    "\n",
    "There are several possibilities to set up a local DraCor infrastructure. \n",
    "\n",
    "### DraCor Docker containers running on the local machine\n",
    "One way would be to simply clone the repository of the DraCor API eXist-DB application (https://github.com/dracor-org/dracor-api) and use the provided docker compose file [`compose.yml`](https://github.com/dracor-org/dracor-api/blob/main/compose.yml) to start a local Docker-based DraCor system. If everything went well issuing the the command `docker ps` in a terminal will show multiple running Docker containers. \n",
    "\n",
    "(TODO: add screenshot here)\n",
    "\n",
    "In this approach the environment in which the local infrastructure is running can vary. Depending on the setup of the local host machine (operation-system, version of Docker daemon installed, ...) there might be some issues, e.g. problems connection to `localhost` on some Windows installations. Although, the *stable-dracor-client* can be used with this setup as well, hence we will assume that the following *Docker in Docker* approach to setting up the local infrastructure will be used.\n",
    "\n",
    "### Docker in Docker\n",
    "Another way to setup a local DraCor infrastructure using Docker is to make use of a technique that is called *Docker in Docker*. This means that on the host machine there is running a container that has Docker installed. This Docker container is then used to start additional containers inside this controlled environment. This way the environment in which the DraCor services will be executed can be prepared in advanced to make sure that everything works as expected.\n",
    "\n",
    "When issuing the command `docker compose up` in the root directory of the cloned stable-dracor repository only a single Docker container `dracor-sandbox` will be started. It not only has the Docker daemon installed in it but also features a (this) Jupyter Lab instance (running on http://localhost:8888) that can be used to prepare custom corpora or run Python scripts.\n",
    "\n",
    "When starting the `dracor-sandbox` container there are no Docker containers running. To test this, it is possible to \"enter\" the container from the host machine with the command `docker exec -it dracor-sandbox /bin/bash`. In the interactive shell that is now executed inside the container the command `docker ps` will return an empty list:\n",
    "\n",
    "```\n",
    "194dc81eb130:/home/dracor# docker ps\n",
    "CONTAINER ID   IMAGE     COMMAND   CREATED   STATUS    PORTS     NAMES\n",
    "```\n",
    "\n",
    "The `dracor-sandbox` container can be left with the command `exit`.\n",
    "\n",
    "There are also two folders mounted to the container: `import` and `export`. They also show up in the *File Browser* in Jupyter Lab. These folder provide an easy way to get data into and out of the `dracor-sandbox` container. A usecase would be to add locally available XML files. When copying them into the `import` folder on the host machine, they become available to the container. The `export` folder functions the same way. Files that should become available on the host machine even when the Docker container is not running anymore can be stored in this folder. This could, for example, be the results of an analysis or a *manifest* that describes the composition of the custom corpora (see Section X).\n",
    "\n",
    "Having only one Docker container with the DraCor system components inside also makes it possible to \"freeze\" not only the whole local Dracor system with the corpora set up (as we prototyped for the paper \n",
    "[Detecting Small Worlds in a Corpus of Thousands of Theater Plays](https://github.com/dracor-org/small-world-paper/tree/publication-version)) but in addition to that the environment that was used to assemble it (this Jupyter Lab instance with the Python notebooks)."
   ]
  },
  {
   "cell_type": "markdown",
   "id": "2d7e91aa-c467-462c-9f1c-96cf4e2d609b",
   "metadata": {},
   "source": [
    "## Installing the client and prequisits"
   ]
  },
  {
   "cell_type": "markdown",
   "id": "2def6491-d1f0-40a5-b6a4-3a8990e3d318",
   "metadata": {},
   "source": [
    "### Installation\n",
    "\n",
    "Within this Jupyter Lab instance the client has already been installed. If the client should be used standalone it can be installed from within the root directory of the stable-dracor repository (containing the necessary `pyproject.toml` file) with the command `pip install .` (the dot is necessary!)."
   ]
  },
  {
   "cell_type": "markdown",
   "id": "4fdf2ac4-8a1f-4f17-82fc-8424b8724001",
   "metadata": {},
   "source": [
    "### Activate Logging\n",
    "It is recommended to activate logging in the notebook. This can be done by importing the library logging and setting the log level. For normal use the log level `INFO` is sufficient, but if something does not work as expected, the log level should be set to `DEBUG` to see additional messages which might help to identify the problem.\n",
    "The following cell activates logging for this notebook:"
   ]
  },
  {
   "cell_type": "code",
   "execution_count": 3,
   "id": "a1ffa70f-03ef-4711-ab5f-8585bfc754f1",
   "metadata": {},
   "outputs": [],
   "source": [
    "import logging\n",
    "#logging.basicConfig(level=logging.DEBUG)\n",
    "logging.basicConfig(level=logging.INFO)"
   ]
  },
  {
   "cell_type": "markdown",
   "id": "f446388c-84a1-4876-a994-7f3dfa9d920f",
   "metadata": {},
   "source": [
    "### Importing the client \n",
    "After the client has been installed it can be imported with the following command:"
   ]
  },
  {
   "cell_type": "code",
   "execution_count": 20,
   "id": "ff417541-b953-4622-bd0a-8b4fa1dbdaa8",
   "metadata": {},
   "outputs": [],
   "source": [
    "from stabledracor.client import StableDraCor"
   ]
  },
  {
   "cell_type": "markdown",
   "id": "08b0050a-b1f0-42cd-8711-98ead3b5c1fd",
   "metadata": {},
   "source": [
    "## Setting up Docker containers with the the *stable-dracor-client*\n",
    "\n",
    "The following section explains how to set up the Docker containers providing the DraCor services of a local DraCor infrastructure. "
   ]
  },
  {
   "cell_type": "markdown",
   "id": "04b6ddab-7887-4ed3-bfb7-5c221af6f29e",
   "metadata": {},
   "source": [
    "### First step: Creating an instance of the StableDraCor class\n",
    "To use the client it is necessary to create an instance of the class `StableDraCor` that has been imported to the notebook with the previous command. The most basic command just instantiates an objec without any additional arguments:"
   ]
  },
  {
   "cell_type": "code",
   "execution_count": 5,
   "id": "141a5d4d-854e-4d2d-8276-9e12e03a8387",
   "metadata": {},
   "outputs": [
    {
     "name": "stderr",
     "output_type": "stream",
     "text": [
      "INFO:root:Initialized new StableDraCor instance: 'None' (ID: 6ee8df9c-152d-4d91-b68a-f32603ebe764).\n",
      "INFO:root:Local DraCor API is available at http://localhost:8088/api/.\n",
      "WARNING:root:Personal GitHub Access Token is not supplied. Requests to the GitHub API might be affected by rate limiting.\n",
      "INFO:root:Docker is available.\n",
      "INFO:root:Found dracor/dracor-api container with ID a994080c8048. Image is: dracor/dracor-api:v0.90.1-local\n",
      "INFO:root:Found dracor/dracor-frontend container with ID 7030bba54267. Image is: dracor/dracor-frontend:v1.6.0-dirty\n",
      "INFO:root:Found dracor/dracor-metrics container with ID 1c685c8e4471. Image is: dracor/dracor-metrics:v1.2.0\n",
      "INFO:root:Found dracor/dracor-fuseki container with ID ef95dc40ea16. Image is: dracor/dracor-fuseki:v1.0.0\n"
     ]
    }
   ],
   "source": [
    "dracor = StableDraCor()"
   ]
  },
  {
   "cell_type": "markdown",
   "id": "f601deac-7fac-413b-be43-ec8361d16d07",
   "metadata": {},
   "source": [
    "If logging is activated some warnings will appear: We find out that there is no API currently available under the default endpoint url and that no DraCor Docker containers can be found. \n",
    "\n",
    "Normally, the output of the client can be trusted in this regard, but to verify that there are no running containers it is possible to directly query the docker daemon running in the `dracor-sandbox` container. The command to list running containers is `docker ps`. In the following cell starts with a `!` though. This is a way to execute shell commands directly from within a Jupyter notebook."
   ]
  },
  {
   "cell_type": "code",
   "execution_count": 6,
   "id": "4c601dd9-b4d7-4f45-8022-e9dfc7333ded",
   "metadata": {},
   "outputs": [
    {
     "name": "stdout",
     "output_type": "stream",
     "text": [
      "CONTAINER ID   IMAGE                                 COMMAND                  CREATED        STATUS                  PORTS                    NAMES\n",
      "7030bba54267   dracor/dracor-frontend:v1.6.0-dirty   \"/docker-entrypoint.…\"   17 hours ago   Up 17 hours             0.0.0.0:8088->80/tcp     my-stable-dracor-frontend-1\n",
      "a994080c8048   dracor/dracor-api:v0.90.1-local       \"./entrypoint.sh\"        17 hours ago   Up 17 hours (healthy)   0.0.0.0:8080->8080/tcp   my-stable-dracor-api-1\n",
      "ef95dc40ea16   dracor/dracor-fuseki:v1.0.0           \"/usr/bin/tini -- /e…\"   17 hours ago   Up 17 hours             0.0.0.0:3030->3030/tcp   my-stable-dracor-fuseki-1\n",
      "1c685c8e4471   dracor/dracor-metrics:v1.2.0          \"pipenv run hug -f m…\"   17 hours ago   Up 17 hours             0.0.0.0:8030->8030/tcp   my-stable-dracor-metrics-1\n"
     ]
    }
   ],
   "source": [
    "!docker ps"
   ]
  },
  {
   "cell_type": "markdown",
   "id": "ee465f9d-4987-404c-b7e9-871bc3775b68",
   "metadata": {},
   "source": [
    "### GitHub Access Token\n",
    "The log output from above contains the warning, that a \"Personal GitHub Acces Token\" has not been supplied. Providing a token is recommended, because for some operations, e.g. adding a corpus from a repository on GitHub, the client relies on the GitHub API. Unauthorized calls to this API are subject to rate limiting, which means, that only a few calls can be send without being authorized to GitHub. The [FAQ](03_faq.ipynb#Why-do-I-need-a-GitHub-Access-Token-and-how-can-I-get-one?) contains instructions  on how to generate such a token and explains how to make it available to a notebook or script as an environmental variable upon upon the creation of a `dracor-sandbox` Docker container. Although it is possible to add the value of the token directly in the script, it is not considered a good practise because an access token is like a password. Especially, if a notebook is shared, this means of \"hiding\" the password should be used. \n",
    "\n",
    "The code in the followin cell uses the library `os` to read an environmental variable `GITHUB_TOKEN` and stores it in the variable `github_token` to later use it when initializing the client."
   ]
  },
  {
   "cell_type": "code",
   "execution_count": 7,
   "id": "5bb15b36-bdec-4635-ae15-1135f6b72f54",
   "metadata": {},
   "outputs": [],
   "source": [
    "import os\n",
    "github_token = os.environ.get(\"GITHUB_TOKEN\")"
   ]
  },
  {
   "cell_type": "code",
   "execution_count": 8,
   "id": "341c200d-9704-40ce-9685-ddd41b190af2",
   "metadata": {},
   "outputs": [],
   "source": [
    "# Optional: Check if the Token is available (see FAQ Notebook)\n",
    "assert github_token is not None, \"It is recommended to use a GitHub Personal Access Token. See FAQ Notebook for details.\""
   ]
  },
  {
   "cell_type": "markdown",
   "id": "c112d890-82d3-4de5-949f-4d04e58ad550",
   "metadata": {},
   "source": [
    "If the container has been started without setting a token with the `.env` file as described in the [FAQ](03_faq.ipynb#Why-do-I-need-a-GitHub-Access-Token-and-how-can-I-get-one?), the following command can be used to create it (substitute `value` with your token, of course):\n",
    "\n",
    "`export GITHUB_TOKEN=value`\n",
    "\n",
    "It would be possible to issue this command from within the notebook using the prefix `!`, but then the cell containing the value of the token must be removed afterwards for security reasons. \n",
    "\n",
    "Another option would be to enter the `dracor-sandbox` container (see [FAQ](03_faq.ipynb#How-can-I-get-into-the-dracor-sandbox-Docker-container?)) or use the Terminal of Jupyter Lab (in the *Launcher* at http://localhost:8888 click on *Terminal*). The shell command `printenv` can be used to list all set variables, `echo $GITHUB_TOKEN` will output the value of the environment variable.\n",
    "\n",
    "An instance of the client can be created by supplying the token as the argument `github_access_token`:"
   ]
  },
  {
   "cell_type": "code",
   "execution_count": 9,
   "id": "5aa4ae1d-bc50-4c28-ba4e-d79e5303011c",
   "metadata": {},
   "outputs": [
    {
     "name": "stderr",
     "output_type": "stream",
     "text": [
      "INFO:root:Initialized new StableDraCor instance: 'None' (ID: eed05b2b-c1d8-4931-9b22-f2d82d466363).\n",
      "INFO:root:Local DraCor API is available at http://localhost:8088/api/.\n",
      "INFO:root:Docker is available.\n",
      "INFO:root:Found dracor/dracor-api container with ID a994080c8048. Image is: dracor/dracor-api:v0.90.1-local\n",
      "INFO:root:Found dracor/dracor-frontend container with ID 7030bba54267. Image is: dracor/dracor-frontend:v1.6.0-dirty\n",
      "INFO:root:Found dracor/dracor-metrics container with ID 1c685c8e4471. Image is: dracor/dracor-metrics:v1.2.0\n",
      "INFO:root:Found dracor/dracor-fuseki container with ID ef95dc40ea16. Image is: dracor/dracor-fuseki:v1.0.0\n"
     ]
    }
   ],
   "source": [
    "dracor = StableDraCor(github_access_token=github_token)"
   ]
  },
  {
   "cell_type": "markdown",
   "id": "fb5a9555-3604-497b-9fbc-a9ceccf5367c",
   "metadata": {},
   "source": [
    "### Attaching Metadata to the *stable-dracor* instance\n",
    "It is possible to attach to the stable-dracor system. Currently, adding a `name` and a `description` is supported. In addition to that every time an *stable-dracor* is initialized, a universal unique id is generated. This ensures, that each instance can be identified by its unique identifier. These information, `id`, `name` and `description` are also included with the so-called manifest describing a stable-dracor instance. In the following cell we create the an instance once more, provide a GitHub Token and attach metadata:"
   ]
  },
  {
   "cell_type": "code",
   "execution_count": 10,
   "id": "62a64f84-5543-4e3f-8b5d-63b9f4f8f45c",
   "metadata": {},
   "outputs": [
    {
     "name": "stderr",
     "output_type": "stream",
     "text": [
      "INFO:root:Initialized new StableDraCor instance: 'my-stable-dracor' (ID: 9f4de95f-4e62-45ab-a73e-3fe9189555af).\n",
      "INFO:root:Local DraCor API is available at http://localhost:8088/api/.\n",
      "INFO:root:Docker is available.\n",
      "INFO:root:Found dracor/dracor-api container with ID a994080c8048. Image is: dracor/dracor-api:v0.90.1-local\n",
      "INFO:root:Found dracor/dracor-frontend container with ID 7030bba54267. Image is: dracor/dracor-frontend:v1.6.0-dirty\n",
      "INFO:root:Found dracor/dracor-metrics container with ID 1c685c8e4471. Image is: dracor/dracor-metrics:v1.2.0\n",
      "INFO:root:Found dracor/dracor-fuseki container with ID ef95dc40ea16. Image is: dracor/dracor-fuseki:v1.0.0\n"
     ]
    }
   ],
   "source": [
    "dracor = StableDraCor(\n",
    "    name=\"my-stable-dracor\",\n",
    "    description=\"DraCor system created with the introduction notebook to showcase the features of the stable-dracor-client.\",\n",
    "    github_access_token=github_token)"
   ]
  },
  {
   "cell_type": "markdown",
   "id": "8430b779-b182-4445-a12e-6907e158c6b2",
   "metadata": {},
   "source": [
    "### Additional options when creating a stable-dracor instance\n",
    "There are some options to change the behaviour of the client instance, e.g. explicitly set a different base url of the API. For details see the [FAQ](03_faq.ipynb#How-can-I-change-the-URL-of-the-API-used)."
   ]
  },
  {
   "cell_type": "markdown",
   "id": "e883a594-86c1-4ce1-9d66-baa023c55bfc",
   "metadata": {},
   "source": [
    "### Second step: Starting the Docker containers\n",
    "The second step to setup a DraCor system with the *stable-dracor-client* is to start the Docker containers of the system components: eXist-DB with pre-installed application (\"DraCor API\"), Metrics Service, Frontend, Triple Store. When using the `dracor-sandbox` these services will run inside the \"outer\" Docker container. \n",
    "\n",
    "The most basic way to start these containers is to call the method `run` without any additional arguments: `dracor.run()`. In this case the client will fetch the [default configuration](https://raw.githubusercontent.com/dracor-org/stabledracor/master/configurations/compose.fullstack.empty.yml) which is defined in `compose.fullstack.empty.yml` in the stable-dracor repository on GitHub. \n",
    "\n",
    "A configuration file, which is basically a docker-compose file, will specify the Docker images and tags of the components to be used, e.g. currently the default configuration uses the api image `dracor/dracor-api:v0.90.1-local` ([Link](https://github.com/dracor-org/stabledracor/blob/2dc461e6f3d8106f5291ba0b1f6779b7adb52c5d/configurations/compose.fullstack.empty.yml#L8)). \n",
    "\n",
    "The images of all DraCor components can be found on [DockerHub](https://hub.docker.com/u/dracor). For example the available images of the DraCor eXist-DB and the application powering the API can be found [here](https://hub.docker.com/r/dracor/dracor-api/tags). The image, that is currently used in the default configuration can be viewed [here](https://hub.docker.com/layers/dracor/dracor-api/v0.90.1-local/images/sha256-e2af569e41398b2b5b527dbb21ada90dea467568ce901b2607b1cc41a6743a75?context=explore). \n",
    "\n",
    "Executing `run()` without explicitly specifying a configuration can be considered a fall-back. It is possible to pass a path to a different docker-compose file when starting the client as the keyword argument `compose_file`. Another option is to use `url` and point to a location from which a docker-compose file can be downloaded.\n",
    "\n",
    "**TODO**: Add configurations to dracor-sandbox container! `!ls ../configurations`! Explain which configuration to use. Difficult because of ARM/AMD architecture?"
   ]
  },
  {
   "cell_type": "code",
   "execution_count": 11,
   "id": "b77b7f02-6642-4cc3-979b-5e25b7488650",
   "metadata": {},
   "outputs": [
    {
     "name": "stderr",
     "output_type": "stream",
     "text": [
      "INFO:root:Fetched default compose file (configuration) from https://raw.githubusercontent.com/dracor-org/stabledracor/master/configurations/compose.fullstack.empty.yml.\n",
      " Container my-stable-dracor-metrics-1  Running\n",
      " Container my-stable-dracor-fuseki-1  Running\n",
      " Container my-stable-dracor-api-1  Running\n",
      " Container my-stable-dracor-frontend-1  Running\n",
      "INFO:root:Started with downloaded docker compose file.\n",
      "INFO:root:Found dracor/dracor-api container with ID a994080c8048. Image is: dracor/dracor-api:v0.90.1-local\n",
      "INFO:root:Found dracor/dracor-frontend container with ID 7030bba54267. Image is: dracor/dracor-frontend:v1.6.0-dirty\n",
      "INFO:root:Found dracor/dracor-metrics container with ID 1c685c8e4471. Image is: dracor/dracor-metrics:v1.2.0\n",
      "INFO:root:Found dracor/dracor-fuseki container with ID ef95dc40ea16. Image is: dracor/dracor-fuseki:v1.0.0\n",
      "INFO:root:Trying to connect to the local DraCor API. This can take some time ...\n",
      "INFO:root:DraCor API can be reached at 'http://localhost:8088/api/'.\n"
     ]
    },
    {
     "data": {
      "text/plain": [
       "True"
      ]
     },
     "execution_count": 11,
     "metadata": {},
     "output_type": "execute_result"
    }
   ],
   "source": [
    "dracor.run()"
   ]
  },
  {
   "cell_type": "markdown",
   "id": "286a8c89-a8d4-4f39-ad33-b593c23a4cf0",
   "metadata": {},
   "source": [
    "### Listing running containers\n",
    "It is possible to check if Docker containers are currently running with the already familiar command `docker ps`. This should now list four running containers."
   ]
  },
  {
   "cell_type": "code",
   "execution_count": 12,
   "id": "e72d93f8-9300-44cc-aa56-0110a533e9e5",
   "metadata": {},
   "outputs": [
    {
     "name": "stdout",
     "output_type": "stream",
     "text": [
      "CONTAINER ID   IMAGE                                 COMMAND                  CREATED        STATUS                  PORTS                    NAMES\n",
      "7030bba54267   dracor/dracor-frontend:v1.6.0-dirty   \"/docker-entrypoint.…\"   17 hours ago   Up 17 hours             0.0.0.0:8088->80/tcp     my-stable-dracor-frontend-1\n",
      "a994080c8048   dracor/dracor-api:v0.90.1-local       \"./entrypoint.sh\"        17 hours ago   Up 17 hours (healthy)   0.0.0.0:8080->8080/tcp   my-stable-dracor-api-1\n",
      "ef95dc40ea16   dracor/dracor-fuseki:v1.0.0           \"/usr/bin/tini -- /e…\"   17 hours ago   Up 17 hours             0.0.0.0:3030->3030/tcp   my-stable-dracor-fuseki-1\n",
      "1c685c8e4471   dracor/dracor-metrics:v1.2.0          \"pipenv run hug -f m…\"   17 hours ago   Up 17 hours             0.0.0.0:8030->8030/tcp   my-stable-dracor-metrics-1\n"
     ]
    }
   ],
   "source": [
    "!docker ps"
   ]
  },
  {
   "cell_type": "markdown",
   "id": "78dd4809-d74c-4aba-9ceb-4c70e03b99f5",
   "metadata": {},
   "source": [
    "The *stable-dracor-client* provides a method (`list_docker_containers`) that gets the same result from the docker daemon and turns it into a data structure native to Python:"
   ]
  },
  {
   "cell_type": "code",
   "execution_count": 13,
   "id": "263fe399-e2fe-4d0b-a899-7873d1a63cc0",
   "metadata": {},
   "outputs": [
    {
     "data": {
      "text/plain": [
       "[{'Command': '\"/docker-entrypoint.…\"',\n",
       "  'CreatedAt': '2023-11-03 12:02:43 +0000 UTC',\n",
       "  'ID': '7030bba54267',\n",
       "  'Image': 'dracor/dracor-frontend:v1.6.0-dirty',\n",
       "  'Labels': 'com.docker.compose.config-hash=b7a27a200311b8bcdb1845cb14b127be75bcd50748ce9ef423c7c3902c6e0bdc,com.docker.compose.depends_on=api:service_started:false,com.docker.compose.project=my-stable-dracor,com.docker.compose.container-number=1,com.docker.compose.image=sha256:29b9e97eb7e327121e46916d743b02bb8964329715c61b632e44256cf0c54a39,com.docker.compose.oneoff=False,com.docker.compose.project.config_files=-,com.docker.compose.project.working_dir=/home/dracor/notebooks,com.docker.compose.service=frontend,com.docker.compose.version=2.23.0,maintainer=NGINX Docker Maintainers <docker-maint@nginx.com>',\n",
       "  'LocalVolumes': '0',\n",
       "  'Mounts': '',\n",
       "  'Names': 'my-stable-dracor-frontend-1',\n",
       "  'Networks': 'my-stable-dracor_default',\n",
       "  'Ports': '0.0.0.0:8088->80/tcp',\n",
       "  'RunningFor': '17 hours ago',\n",
       "  'Size': '406B (virtual 67.9MB)',\n",
       "  'State': 'running',\n",
       "  'Status': 'Up 17 hours'},\n",
       " {'Command': '\"./entrypoint.sh\"',\n",
       "  'CreatedAt': '2023-11-03 12:02:43 +0000 UTC',\n",
       "  'ID': 'a994080c8048',\n",
       "  'Image': 'dracor/dracor-api:v0.90.1-local',\n",
       "  'Labels': 'com.docker.compose.project=my-stable-dracor,com.docker.compose.project.working_dir=/home/dracor/notebooks,com.docker.compose.version=2.23.0,com.docker.compose.config-hash=2b3dcea466df52b1886c275c872b8b2aacf2b3646ddec2a6dee7a2bf2e6b6535,com.docker.compose.container-number=1,com.docker.compose.depends_on=fuseki:service_started:false,metrics:service_started:false,com.docker.compose.image=sha256:171df59ae0ab650356c45feeabe2a65b63b77c3e9bd7bf362926bfdd78e931f8,com.docker.compose.oneoff=False,com.docker.compose.project.config_files=-,com.docker.compose.service=api',\n",
       "  'LocalVolumes': '0',\n",
       "  'Mounts': '',\n",
       "  'Names': 'my-stable-dracor-api-1',\n",
       "  'Networks': 'my-stable-dracor_default',\n",
       "  'Ports': '0.0.0.0:8080->8080/tcp',\n",
       "  'RunningFor': '17 hours ago',\n",
       "  'Size': '81.7MB (virtual 449MB)',\n",
       "  'State': 'running',\n",
       "  'Status': 'Up 17 hours (healthy)'},\n",
       " {'Command': '\"/usr/bin/tini -- /e…\"',\n",
       "  'CreatedAt': '2023-11-03 12:02:42 +0000 UTC',\n",
       "  'ID': 'ef95dc40ea16',\n",
       "  'Image': 'dracor/dracor-fuseki:v1.0.0',\n",
       "  'Labels': 'com.docker.compose.depends_on=,com.docker.compose.version=2.23.0,org.opencontainers.image.description=Fuseki is a SPARQL 1.1 server with a web interface, backed by the Apache Jena TDB RDF triple store.,org.opencontainers.image.documentation=https://jena.apache.org/documentation/fuseki2/,org.opencontainers.image.url=https://github.com/dracor-org/dracor-fuseki/tree/master/,org.opencontainers.image.version=4.0.0,com.docker.compose.project=my-stable-dracor,org.opencontainers.image.authors=Apache Jena Fuseki by https://jena.apache.org/; this image by https://orcid.org/0000-0001-9842-9718,org.opencontainers.image.source=https://github.com/dracor-org/dracor-fuseki/,org.opencontainers.image.title=Apache Jena Fuseki,com.docker.compose.oneoff=False,com.docker.compose.container-number=1,com.docker.compose.image=sha256:8063e90771d2a3b5828a31be34d98dc0d88d5e4c80141728e37cbae253034682,com.docker.compose.project.config_files=-,com.docker.compose.project.working_dir=/home/dracor/notebooks,com.docker.compose.service=fuseki,org.opencontainers.image.licenses=(Apache-2.0 AND (GPL-2.0 WITH Classpath-exception-2.0) AND GPL-3.0),com.docker.compose.config-hash=7c9ce86b21473e4059a11008092319dca5337f2e156f78a5b7c4d94d7ac06f8e',\n",
       "  'LocalVolumes': '1',\n",
       "  'Mounts': '794871f38cf88b…',\n",
       "  'Names': 'my-stable-dracor-fuseki-1',\n",
       "  'Networks': 'my-stable-dracor_default',\n",
       "  'Ports': '0.0.0.0:3030->3030/tcp',\n",
       "  'RunningFor': '17 hours ago',\n",
       "  'Size': '32.8kB (virtual 294MB)',\n",
       "  'State': 'running',\n",
       "  'Status': 'Up 17 hours'},\n",
       " {'Command': '\"pipenv run hug -f m…\"',\n",
       "  'CreatedAt': '2023-11-03 12:02:42 +0000 UTC',\n",
       "  'ID': '1c685c8e4471',\n",
       "  'Image': 'dracor/dracor-metrics:v1.2.0',\n",
       "  'Labels': 'com.docker.compose.project.config_files=-,com.docker.compose.project.working_dir=/home/dracor/notebooks,com.docker.compose.service=metrics,com.docker.compose.image=sha256:1806ba4d70471896735da4a103674021df4d11f4c00d88485ef93ed5e05f1f78,com.docker.compose.oneoff=False,com.docker.compose.project=my-stable-dracor,com.docker.compose.version=2.23.0,com.docker.compose.config-hash=935f5679ba68aff04f583342775a1e9032d5ae77c569670186520b657ff87bba,com.docker.compose.container-number=1,com.docker.compose.depends_on=',\n",
       "  'LocalVolumes': '0',\n",
       "  'Mounts': '',\n",
       "  'Names': 'my-stable-dracor-metrics-1',\n",
       "  'Networks': 'my-stable-dracor_default',\n",
       "  'Ports': '0.0.0.0:8030->8030/tcp',\n",
       "  'RunningFor': '17 hours ago',\n",
       "  'Size': '0B (virtual 944MB)',\n",
       "  'State': 'running',\n",
       "  'Status': 'Up 17 hours'}]"
      ]
     },
     "execution_count": 13,
     "metadata": {},
     "output_type": "execute_result"
    }
   ],
   "source": [
    "dracor.list_docker_containers()"
   ]
  },
  {
   "cell_type": "markdown",
   "id": "0c261bd6-42d6-4996-ac48-65642fc6b09b",
   "metadata": {},
   "source": [
    "It is possible to operate on the returned list, e.g. count the number of containers:"
   ]
  },
  {
   "cell_type": "code",
   "execution_count": 14,
   "id": "57ce8f9a-39e5-4852-b421-00177dd6bfd3",
   "metadata": {},
   "outputs": [
    {
     "name": "stdout",
     "output_type": "stream",
     "text": [
      "There are 4 running Docker containers.\n"
     ]
    }
   ],
   "source": [
    "print(f\"There are {len(dracor.list_docker_containers())} running Docker containers.\")"
   ]
  },
  {
   "cell_type": "markdown",
   "id": "4b7cb90e-2dca-4beb-b284-e5fbcaa011d7",
   "metadata": {},
   "source": [
    "### Listing available images\n",
    "When the infrastructure was run the client downloaded the images specified in the configuration file into the container. These can be listed with the Docker command `docker images`:"
   ]
  },
  {
   "cell_type": "code",
   "execution_count": 15,
   "id": "3a2213d3-ccd1-4538-a1bb-035fd406a5ed",
   "metadata": {},
   "outputs": [
    {
     "name": "stdout",
     "output_type": "stream",
     "text": [
      "REPOSITORY               TAG             IMAGE ID       CREATED        SIZE\n",
      "dracor/dracor-api        v0.90.1-local   171df59ae0ab   4 months ago   367MB\n",
      "dracor/dracor-metrics    v1.2.0          1806ba4d7047   4 months ago   944MB\n",
      "dracor/dracor-frontend   v1.6.0-dirty    29b9e97eb7e3   5 months ago   67.9MB\n",
      "dracor/dracor-fuseki     v1.0.0          8063e90771d2   5 months ago   294MB\n"
     ]
    }
   ],
   "source": [
    "!docker images"
   ]
  },
  {
   "cell_type": "markdown",
   "id": "67f9f347-0571-4fbd-b7c1-8d74deff8a8a",
   "metadata": {},
   "source": [
    "The client provides the method `list_docker_images` to retrieve this listing as well in a data structure that can be better processed with Python:"
   ]
  },
  {
   "cell_type": "code",
   "execution_count": 17,
   "id": "3f83c3d8-9128-4bf9-8aea-5896f13208f5",
   "metadata": {},
   "outputs": [
    {
     "data": {
      "text/plain": [
       "[{'Containers': 'N/A',\n",
       "  'CreatedAt': '2023-06-07 09:28:11 +0000 UTC',\n",
       "  'CreatedSince': '4 months ago',\n",
       "  'Digest': '<none>',\n",
       "  'ID': '171df59ae0ab',\n",
       "  'Repository': 'dracor/dracor-api',\n",
       "  'SharedSize': 'N/A',\n",
       "  'Size': '367MB',\n",
       "  'Tag': 'v0.90.1-local',\n",
       "  'UniqueSize': 'N/A',\n",
       "  'VirtualSize': '367.3MB'},\n",
       " {'Containers': 'N/A',\n",
       "  'CreatedAt': '2023-06-07 08:24:13 +0000 UTC',\n",
       "  'CreatedSince': '4 months ago',\n",
       "  'Digest': '<none>',\n",
       "  'ID': '1806ba4d7047',\n",
       "  'Repository': 'dracor/dracor-metrics',\n",
       "  'SharedSize': 'N/A',\n",
       "  'Size': '944MB',\n",
       "  'Tag': 'v1.2.0',\n",
       "  'UniqueSize': 'N/A',\n",
       "  'VirtualSize': '943.6MB'},\n",
       " {'Containers': 'N/A',\n",
       "  'CreatedAt': '2023-06-06 07:48:38 +0000 UTC',\n",
       "  'CreatedSince': '5 months ago',\n",
       "  'Digest': '<none>',\n",
       "  'ID': '29b9e97eb7e3',\n",
       "  'Repository': 'dracor/dracor-frontend',\n",
       "  'SharedSize': 'N/A',\n",
       "  'Size': '67.9MB',\n",
       "  'Tag': 'v1.6.0-dirty',\n",
       "  'UniqueSize': 'N/A',\n",
       "  'VirtualSize': '67.88MB'},\n",
       " {'Containers': 'N/A',\n",
       "  'CreatedAt': '2023-06-06 07:46:38 +0000 UTC',\n",
       "  'CreatedSince': '5 months ago',\n",
       "  'Digest': '<none>',\n",
       "  'ID': '8063e90771d2',\n",
       "  'Repository': 'dracor/dracor-fuseki',\n",
       "  'SharedSize': 'N/A',\n",
       "  'Size': '294MB',\n",
       "  'Tag': 'v1.0.0',\n",
       "  'UniqueSize': 'N/A',\n",
       "  'VirtualSize': '294.3MB'}]"
      ]
     },
     "execution_count": 17,
     "metadata": {},
     "output_type": "execute_result"
    }
   ],
   "source": [
    "dracor.list_docker_images()"
   ]
  },
  {
   "cell_type": "markdown",
   "id": "4487fffb-ceea-4a6a-b5ce-8646eb957cd4",
   "metadata": {},
   "source": [
    "### Getting API info\n",
    "A quick way to test if a connection to the API can be established is calling the method `get_api_info`. This will render the response of the `/info` endpoint http://localhost:8088/api/info of the DraCor API."
   ]
  },
  {
   "cell_type": "code",
   "execution_count": 18,
   "id": "a8fd6a5d-5c6e-4e82-9f4d-38a075a52e4c",
   "metadata": {},
   "outputs": [
    {
     "data": {
      "text/plain": [
       "{'name': 'DraCor API',\n",
       " 'version': '0.90.1-2-g19a3f46-dirty',\n",
       " 'status': 'beta',\n",
       " 'existdb': '6.0.1',\n",
       " 'base': 'http://localhost:8088/api'}"
      ]
     },
     "execution_count": 18,
     "metadata": {},
     "output_type": "execute_result"
    }
   ],
   "source": [
    "dracor.get_api_info()"
   ]
  },
  {
   "cell_type": "markdown",
   "id": "7557aace-6245-472e-86d2-066a55db1acc",
   "metadata": {},
   "source": [
    "### Accessing the front-end\n",
    "The DraCor frontend running inside the `dracor-sandbox` can be easily accessed from outside the container: Pointing the browser to http://localhost:8088 and/or at http://127.0.0.1:8088 should show the frontend. No corpora have been loaded yet.\n",
    "\n",
    "The other components of the DraCor system, e.g. the Triple Store, can not be reached from outside the `dracor-sandbox`. See [FAQ](03_faq.ipynb#How-can-I-access-other-services-than-the-frontend-and-the-API-from-outside-the-dracor-sandbox?) on how to map the necessary ports to access the other services if needed."
   ]
  },
  {
   "cell_type": "markdown",
   "id": "9ca221d6-d24e-4efc-9c2f-31dc14eb7026",
   "metadata": {},
   "source": [
    "## Documentation of the system and its components in the *manifest*\n",
    "When setting up a local DraCor infrastructure with the *stable-dracor-client* the system tries to 'document' itself, which means that the client can generate a data structure, the *Manifest*, that contains information on the system's components and the composition all corpora loaded. \n",
    "\n",
    "The objective of the manifest is to provide a means to fully describe a local DraCor system in such a way, that, by only relying on the manifest, the system can be re-created at some later stage. \n",
    "\n",
    "In the following section only the `system` and the `sevices` parts of the manifest are explained. The `corpora` will be introduced at a later stage when corpora have been added to the system.\n",
    "\n",
    "To output the manifest use the method `get_manifest`."
   ]
  },
  {
   "cell_type": "code",
   "execution_count": 28,
   "id": "b56a5c4d-2a08-44f8-8a9c-b71b84e24809",
   "metadata": {},
   "outputs": [
    {
     "data": {
      "text/plain": [
       "{'version': 'v1',\n",
       " 'system': {'id': '9f4de95f-4e62-45ab-a73e-3fe9189555af',\n",
       "  'name': 'my-stable-dracor',\n",
       "  'description': 'DraCor system created with the introduction notebook to showcase the features of the stable-dracor-client.',\n",
       "  'timestamp': '2023-11-06T13:28:29.817745'},\n",
       " 'services': {'api': {'container': 'a994080c8048',\n",
       "   'image': 'dracor/dracor-api:v0.90.1-local',\n",
       "   'version': '0.90.1-2-g19a3f46-dirty',\n",
       "   'existdb': '6.0.1'},\n",
       "  'frontend': {'container': '7030bba54267',\n",
       "   'image': 'dracor/dracor-frontend:v1.6.0-dirty'},\n",
       "  'metrics': {'container': '1c685c8e4471',\n",
       "   'image': 'dracor/dracor-metrics:v1.2.0'},\n",
       "  'triplestore': {'container': 'ef95dc40ea16',\n",
       "   'image': 'dracor/dracor-fuseki:v1.0.0'}},\n",
       " 'corpora': {'tat': {'corpusname': 'tat',\n",
       "   'timestamp': '2023-11-04T05:50:11.878295',\n",
       "   'sources': {'tat': {'type': 'api',\n",
       "     'corpusname': 'tat',\n",
       "     'url': 'https://dracor.org/api/corpora/tat',\n",
       "     'timestamp': '2023-11-04T05:50:11.878303',\n",
       "     'num_of_plays': 3}},\n",
       "   'num_of_plays': 3},\n",
       "  'dutch': {'corpusname': 'dutch',\n",
       "   'timestamp': '2023-11-04T05:58:33.570654',\n",
       "   'sources': {'dutch': {'type': 'api',\n",
       "     'corpusname': 'dutch',\n",
       "     'url': 'http://staging.dracor.org/api/corpora/dutch',\n",
       "     'timestamp': '2023-11-04T05:58:33.570660',\n",
       "     'num_of_plays': 1}},\n",
       "   'num_of_plays': 1},\n",
       "  'kar': {'corpusname': 'kar',\n",
       "   'timestamp': '2023-11-06T13:15:30.109962',\n",
       "   'sources': {'bash': {'type': 'api',\n",
       "     'corpusname': 'bash',\n",
       "     'url': 'https://dracor.org/api/corpora/bash',\n",
       "     'timestamp': '2023-11-06T13:15:30.109971',\n",
       "     'exclude': {'type': 'slug', 'ids': ['khudayberdin-aq-bilettar']},\n",
       "     'num_of_plays': 2}},\n",
       "   'num_of_plays': 2}}}"
      ]
     },
     "execution_count": 28,
     "metadata": {},
     "output_type": "execute_result"
    }
   ],
   "source": [
    "dracor.get_manifest()"
   ]
  },
  {
   "cell_type": "markdown",
   "id": "552784b7-588e-4e7f-8025-1a7b13c8b63f",
   "metadata": {},
   "source": [
    "The field `version` defines the version of the manifest specification, which, in the current state of development will be `v1`.\n",
    "\n",
    "The field `system` contains the metadata provided when initializing a new instance (see section [Attaching Metadata ...](#Attaching-Metadata-to-the-stable-dracor-instance)). Additonally there is a field `timestamp` that contains the date and time at which the system was described, i.e. the point in time when the manifest was generated by calling the method.\n",
    "\n",
    "The field `services` contains information on the individual system components, at least in allows to identify the Docker image (`image`) the container was created from. In the following cell we request the manifest and query for the image of the api service:"
   ]
  },
  {
   "cell_type": "code",
   "execution_count": 32,
   "id": "7ca6e060-974f-4611-81d1-5a2968779bfc",
   "metadata": {},
   "outputs": [
    {
     "name": "stdout",
     "output_type": "stream",
     "text": [
      "The API container is based on the Docker image dracor/dracor-api:v0.90.1-local.\n"
     ]
    }
   ],
   "source": [
    "print(f\"The API container is based on the Docker image {dracor.get_manifest()['services']['api']['image']}.\")"
   ]
  },
  {
   "cell_type": "markdown",
   "id": "420dfe05-3df5-4fb2-8cdd-3fffbfc46aab",
   "metadata": {},
   "source": [
    "## Loading Corpora\n",
    "The following section introduces the methods to add corpora to the now running local DraCor infrastructure."
   ]
  },
  {
   "cell_type": "markdown",
   "id": "34d29f69-3cfc-4aec-b6d3-ad7daea145ae",
   "metadata": {},
   "source": [
    "### Copying an existing corpus\n",
    "A quick way to load a corpus in the local DraCor infrastructure is to copy an existing corpus which is done with the method `copy_corpus`. In the next cell the *Tatar Drama Corpus* (TatDraCor) from the live production instance at https://dracor.org is copied. It is used for demonstration purposes here because if contains only three plays. Feel free to change the following cell to copy a different corpus by changing the value of the keyword argument `source_corpusname`. "
   ]
  },
  {
   "cell_type": "code",
   "execution_count": 21,
   "id": "60cc3de3-8262-4068-8c1b-fc5ac72c2e68",
   "metadata": {},
   "outputs": [
    {
     "name": "stderr",
     "output_type": "stream",
     "text": [
      "INFO:root:Successfully created corpus tat. All metadata is available. Plays have not been added yet.\n",
      "INFO:root:Added contents of corpus tat from https://dracor.org/api/. 3 plays were added.\n",
      "INFO:root:Copying tat (as tat) was successful. Plays (that were not excluded) were also copied entirely.\n"
     ]
    },
    {
     "data": {
      "text/plain": [
       "True"
      ]
     },
     "execution_count": 21,
     "metadata": {},
     "output_type": "execute_result"
    }
   ],
   "source": [
    "dracor.copy_corpus(source_corpusname=\"tat\")"
   ]
  },
  {
   "cell_type": "markdown",
   "id": "1925dd0d-e534-4f24-99a8-f13c23dc54d2",
   "metadata": {},
   "source": [
    "If everything went well and the method returned the value `True` the corpus should be displayed on the frontend at http://localhost:8088. \n",
    "\n",
    "A corpus can also be copied from a different source. The URL of the respective DraCor system must be provided as argument `source_api_url`. In the following cell the *Dutch Drama Corpus*, which is currently in development and therefore not available from the production instance at https://dracor.org is added. The corpus is already included in the staging system at http://staging.dracor.org. We need to set the value of `source_api_url` to `http://staging.dracor.org/api/`:"
   ]
  },
  {
   "cell_type": "code",
   "execution_count": 23,
   "id": "9a3bd683-d3a7-4512-b51f-c5919aba4d88",
   "metadata": {},
   "outputs": [
    {
     "name": "stderr",
     "output_type": "stream",
     "text": [
      "WARNING:root:Created corpus, but metadata 3 fields do not match: Fields licence,licenceUrl,dramas are different.\n",
      "INFO:root:Added contents of corpus dutch from http://staging.dracor.org/api/. 1 plays were added.\n",
      "INFO:root:Copying dutch (as dutch) was successful. Plays (that were not excluded) were also copied entirely.\n"
     ]
    },
    {
     "data": {
      "text/plain": [
       "True"
      ]
     },
     "execution_count": 23,
     "metadata": {},
     "output_type": "execute_result"
    }
   ],
   "source": [
    "dracor.copy_corpus(source_corpusname=\"dutch\", source_api_url=\"http://staging.dracor.org/api/\")"
   ]
  },
  {
   "cell_type": "markdown",
   "id": "29618a0e-1ebf-43c1-b865-daccadfb55b7",
   "metadata": {},
   "source": [
    "When copying it is possible to change some aspects of the corpus. In the following cell we copy the \"Bashkir Drama Corpus\", which, in the production instance on https://dracor.org, is identified by the corpusname `bash`. \n",
    "\n",
    "The corpus on dracor.org contains 3 plays, of which we will import only two by excluding the play \"Аҡ билеттәр\" by the author Шагит Худайбердин (Shagit Khudayberdin). The other two plays are both by the author Мостай Кәрим (Mustai Karim), thus the resulting local corpus will only include plays by a single author. The identifier `playname` of the play to exclude (`khudayberdin-aq-bilettar`) must be passed as keyword argument `exclude` in the form of a list because `exclude` can be used to skip multiple plays as well.\n",
    "\n",
    "We also change the metadata of the corpus. Because the local corpus will be a single author corpus by Mustai Karim we will call it \"KarimDraCor\" and change the description accordingly. This can be achived by creating a dictionary `karim_meta` containing the new metadata fields. "
   ]
  },
  {
   "cell_type": "code",
   "execution_count": 25,
   "id": "6d4ddca3-a606-4135-9597-833a327886e0",
   "metadata": {},
   "outputs": [
    {
     "name": "stderr",
     "output_type": "stream",
     "text": [
      "WARNING:root:Created corpus, but metadata 2 fields do not match: Fields dramas,acronym are different.\n",
      "INFO:root:Added contents of corpus bash from https://dracor.org/api/. 2 plays were added.\n",
      "INFO:root:Copying kar (as kar) was successful. Plays (that were not excluded) were also copied entirely.\n"
     ]
    },
    {
     "data": {
      "text/plain": [
       "True"
      ]
     },
     "execution_count": 25,
     "metadata": {},
     "output_type": "execute_result"
    }
   ],
   "source": [
    "karim_meta = dict(\n",
    "    name=\"kar\",\n",
    "    title=\"Mustai Karim Drama Corpus\",\n",
    "    description=\"Corpus of plays by Mustai Karim derived from the Bashkir Drama Corpus (BashDraCor).\"\n",
    ")\n",
    "\n",
    "dracor.copy_corpus(source_corpusname=\"bash\", exclude=[\"khudayberdin-aq-bilettar\"], metadata=karim_meta)"
   ]
  },
  {
   "cell_type": "markdown",
   "id": "f7f46d9d-bb84-4249-8a54-7ec5fddfc2a2",
   "metadata": {},
   "source": [
    "### Documentation of copied corpus in the manifest\n",
    "The manifest documents the consitution of added corpora. As explained in section on the [manifest as a documentation of the system components](#Documentation-of-the-system-and-its-components-in-the-manifest) the manifest can be output with the method `get_manifest`. Loaded corpora are documented in the field `corpora`. If you followed the notebook to this point the infrastructure contains three corpora with the names `tat`, `dutch`, `kar`. "
   ]
  },
  {
   "cell_type": "code",
   "execution_count": 39,
   "id": "9d75fa2d-ab60-45eb-8986-e1d7ddc47be6",
   "metadata": {},
   "outputs": [
    {
     "data": {
      "text/plain": [
       "{'tat': {'corpusname': 'tat',\n",
       "  'timestamp': '2023-11-04T05:50:11.878295',\n",
       "  'sources': {'tat': {'type': 'api',\n",
       "    'corpusname': 'tat',\n",
       "    'url': 'https://dracor.org/api/corpora/tat',\n",
       "    'timestamp': '2023-11-04T05:50:11.878303',\n",
       "    'num_of_plays': 3}},\n",
       "  'num_of_plays': 3},\n",
       " 'dutch': {'corpusname': 'dutch',\n",
       "  'timestamp': '2023-11-04T05:58:33.570654',\n",
       "  'sources': {'dutch': {'type': 'api',\n",
       "    'corpusname': 'dutch',\n",
       "    'url': 'http://staging.dracor.org/api/corpora/dutch',\n",
       "    'timestamp': '2023-11-04T05:58:33.570660',\n",
       "    'num_of_plays': 1}},\n",
       "  'num_of_plays': 1},\n",
       " 'kar': {'corpusname': 'kar',\n",
       "  'timestamp': '2023-11-06T13:15:30.109962',\n",
       "  'sources': {'bash': {'type': 'api',\n",
       "    'corpusname': 'bash',\n",
       "    'url': 'https://dracor.org/api/corpora/bash',\n",
       "    'timestamp': '2023-11-06T13:15:30.109971',\n",
       "    'exclude': {'type': 'slug', 'ids': ['khudayberdin-aq-bilettar']},\n",
       "    'num_of_plays': 2}},\n",
       "  'num_of_plays': 2}}"
      ]
     },
     "execution_count": 39,
     "metadata": {},
     "output_type": "execute_result"
    }
   ],
   "source": [
    "# uncomment this to see the whole manifest:\n",
    "# dracor.get_manifest()\n",
    "# the following line gets the section `corpora`\n",
    "dracor.get_manifest()[\"corpora\"]"
   ]
  },
  {
   "cell_type": "code",
   "execution_count": 42,
   "id": "dd2388e6-97eb-433e-9155-d9bdba8edbc4",
   "metadata": {},
   "outputs": [
    {
     "data": {
      "text/plain": [
       "['tat', 'dutch', 'kar']"
      ]
     },
     "execution_count": 42,
     "metadata": {},
     "output_type": "execute_result"
    }
   ],
   "source": [
    "# get the keys of the corpora dictionaries\n",
    "list(dracor.get_manifest()[\"corpora\"].keys())"
   ]
  },
  {
   "cell_type": "markdown",
   "id": "5d967e31-a3d2-4198-8160-b09880d87b0d",
   "metadata": {},
   "source": [
    "For example, the corpus `tat` was copied directly from the is described as such:"
   ]
  },
  {
   "cell_type": "code",
   "execution_count": 35,
   "id": "11bb4c3c-5bac-4012-915e-e771129451e8",
   "metadata": {},
   "outputs": [
    {
     "data": {
      "text/plain": [
       "{'corpusname': 'tat',\n",
       " 'timestamp': '2023-11-04T05:50:11.878295',\n",
       " 'sources': {'tat': {'type': 'api',\n",
       "   'corpusname': 'tat',\n",
       "   'url': 'https://dracor.org/api/corpora/tat',\n",
       "   'timestamp': '2023-11-04T05:50:11.878303',\n",
       "   'num_of_plays': 3}},\n",
       " 'num_of_plays': 3}"
      ]
     },
     "execution_count": 35,
     "metadata": {},
     "output_type": "execute_result"
    }
   ],
   "source": [
    "dracor.get_manifest()[\"corpora\"][\"tat\"]"
   ]
  },
  {
   "cell_type": "markdown",
   "id": "a0bfb4bb-4912-4038-9ee3-c61118f30b73",
   "metadata": {},
   "source": [
    "The field `sources` contains the source the corpus was derived from: It is retrieved via an API (`type` = `api`) from the location (`url`) `https://dracor.org/api/corpora/tat`, which is the live production instance of DraCor. \n",
    "\n",
    "The second corpus (`dutch`) was copied from the DraCor staging instance at http://staging.dracor.org, as is documented in the respective part of the manifest."
   ]
  },
  {
   "cell_type": "code",
   "execution_count": 38,
   "id": "024d3d97-4e32-4777-a872-3edb45169006",
   "metadata": {},
   "outputs": [
    {
     "data": {
      "text/plain": [
       "{'dutch': {'type': 'api',\n",
       "  'corpusname': 'dutch',\n",
       "  'url': 'http://staging.dracor.org/api/corpora/dutch',\n",
       "  'timestamp': '2023-11-04T05:58:33.570660',\n",
       "  'num_of_plays': 1}}"
      ]
     },
     "execution_count": 38,
     "metadata": {},
     "output_type": "execute_result"
    }
   ],
   "source": [
    "dracor.get_manifest()[\"corpora\"][\"dutch\"][\"sources\"]"
   ]
  },
  {
   "cell_type": "markdown",
   "id": "475272ec-71e6-44b3-b526-f4b2218a0d31",
   "metadata": {},
   "source": [
    "The field `timestamp` containes the date and time when the corpus was copied, the value of the field `num_of_plays` is the number of plays that were copied from the source corpus.\n",
    "\n",
    "In case of the third corpus that was added the manifest contains information about the excluded plays. The field `exclude` provides the information that the plays with the ids (`ids`; the `type` of the identifiers is `slug`, meaning \"playname\" consisting of author and title) were not copied from the source corpus with the identifier `bash` at the url `https://dracor.org/api/corpora/bash`:"
   ]
  },
  {
   "cell_type": "code",
   "execution_count": 43,
   "id": "4924c682-ac6a-4a6f-9b60-7a594974a353",
   "metadata": {},
   "outputs": [
    {
     "data": {
      "text/plain": [
       "{'corpusname': 'kar',\n",
       " 'timestamp': '2023-11-06T13:15:30.109962',\n",
       " 'sources': {'bash': {'type': 'api',\n",
       "   'corpusname': 'bash',\n",
       "   'url': 'https://dracor.org/api/corpora/bash',\n",
       "   'timestamp': '2023-11-06T13:15:30.109971',\n",
       "   'exclude': {'type': 'slug', 'ids': ['khudayberdin-aq-bilettar']},\n",
       "   'num_of_plays': 2}},\n",
       " 'num_of_plays': 2}"
      ]
     },
     "execution_count": 43,
     "metadata": {},
     "output_type": "execute_result"
    }
   ],
   "source": [
    "dracor.get_manifest()[\"corpora\"][\"kar\"]"
   ]
  },
  {
   "cell_type": "markdown",
   "id": "dadad5b7-fb07-4435-8365-cae0b3995cdd",
   "metadata": {},
   "source": [
    "Bear in mind that the corpora published on the DraCor platform (production and staging) are so-called \"living corpora\". This means that to some of them plays are still being added and the encoding can change. Although the information when a corpus was copied and how many plays were available at that point in time, in most cases it will not posssible to re-create the exact same composition of this corpus at some later point in time. It must be noted that when using the copy mechanism the manifest alone is not a sufficent source to reproduce the contents of the system. If reproducibility is the goal, then the following method of adding data should be used."
   ]
  },
  {
   "cell_type": "markdown",
   "id": "6f5f2f77-c849-4f4e-8194-379694ed654e",
   "metadata": {},
   "source": [
    "### Adding a corpus from a GitHub Repository\n",
    "Although copying from a running DraCor instance is a convenient way to quickly get data in a local instance, it is not the best approach if the contents of a corpus should be transparent and traceable. Therefore the *stable-dracor-client* provides the method `add_corpus_from_repo` that retrieves data from a repository on GitHub. In most cases corpora that are published on DraCor have their designated data repositories on GitHub. They are listed on the [page of the dracor.org organization on Github](https://github.com/orgs/dracor-org/repositories) (bear in mind that not all of these repositories are corpora).\n",
    "\n",
    "**TODO**: add a method to retrieve repositories that contain a `corpus.xml` file --> corpus repository. BUT: Not all have corpus.xml (which is bad practise).\n",
    "\n",
    "To add a corpus directly from Github the method expects the name of the repository as the keyword argument `repository_name`. The code in the following cell adds the data of the Spanish Drama Corpus from the repository https://github.com/dracor-org/spandracor. The repository name is `spandracor`: "
   ]
  },
  {
   "cell_type": "code",
   "execution_count": 44,
   "id": "430853be-68b6-4ed3-ad04-b25931d3f013",
   "metadata": {},
   "outputs": [
    {
     "name": "stderr",
     "output_type": "stream",
     "text": [
      "INFO:root:Successfully created corpus span.\n",
      "INFO:root:Play 'clarin-teresa' retrieved from 'https://raw.githubusercontent.com/dracor-org/spandracor/184ebf975ad9cd674ff37cab44a181fa7ed8d85f/tei/clarin-teresa.xml' has been successfully added to corpus 'span'. Checked and found local play data.\n",
      "INFO:root:Play 'dicenta-juan-jose' retrieved from 'https://raw.githubusercontent.com/dracor-org/spandracor/184ebf975ad9cd674ff37cab44a181fa7ed8d85f/tei/dicenta-juan-jose.xml' has been successfully added to corpus 'span'. Checked and found local play data.\n",
      "INFO:root:Play 'echegaray-arrastrarse' retrieved from 'https://raw.githubusercontent.com/dracor-org/spandracor/184ebf975ad9cd674ff37cab44a181fa7ed8d85f/tei/echegaray-arrastrarse.xml' has been successfully added to corpus 'span'. Checked and found local play data.\n",
      "INFO:root:Play 'echegaray-mancha' retrieved from 'https://raw.githubusercontent.com/dracor-org/spandracor/184ebf975ad9cd674ff37cab44a181fa7ed8d85f/tei/echegaray-mancha.xml' has been successfully added to corpus 'span'. Checked and found local play data.\n",
      "INFO:root:Play 'galdos-casandra' retrieved from 'https://raw.githubusercontent.com/dracor-org/spandracor/184ebf975ad9cd674ff37cab44a181fa7ed8d85f/tei/galdos-casandra.xml' has been successfully added to corpus 'span'. Checked and found local play data.\n",
      "INFO:root:Play 'galdos-electra' retrieved from 'https://raw.githubusercontent.com/dracor-org/spandracor/184ebf975ad9cd674ff37cab44a181fa7ed8d85f/tei/galdos-electra.xml' has been successfully added to corpus 'span'. Checked and found local play data.\n",
      "INFO:root:Play 'galdos-perfecta' retrieved from 'https://raw.githubusercontent.com/dracor-org/spandracor/184ebf975ad9cd674ff37cab44a181fa7ed8d85f/tei/galdos-perfecta.xml' has been successfully added to corpus 'span'. Checked and found local play data.\n",
      "INFO:root:Play 'lorca-bernarda' retrieved from 'https://raw.githubusercontent.com/dracor-org/spandracor/184ebf975ad9cd674ff37cab44a181fa7ed8d85f/tei/lorca-bernarda.xml' has been successfully added to corpus 'span'. Checked and found local play data.\n",
      "INFO:root:Play 'lorca-bodas' retrieved from 'https://raw.githubusercontent.com/dracor-org/spandracor/184ebf975ad9cd674ff37cab44a181fa7ed8d85f/tei/lorca-bodas.xml' has been successfully added to corpus 'span'. Checked and found local play data.\n",
      "INFO:root:Play 'lorca-rosita' retrieved from 'https://raw.githubusercontent.com/dracor-org/spandracor/184ebf975ad9cd674ff37cab44a181fa7ed8d85f/tei/lorca-rosita.xml' has been successfully added to corpus 'span'. Checked and found local play data.\n",
      "INFO:root:Play 'lorca-yerma' retrieved from 'https://raw.githubusercontent.com/dracor-org/spandracor/184ebf975ad9cd674ff37cab44a181fa7ed8d85f/tei/lorca-yerma.xml' has been successfully added to corpus 'span'. Checked and found local play data.\n",
      "INFO:root:Play 'lorca-zapatera' retrieved from 'https://raw.githubusercontent.com/dracor-org/spandracor/184ebf975ad9cd674ff37cab44a181fa7ed8d85f/tei/lorca-zapatera.xml' has been successfully added to corpus 'span'. Checked and found local play data.\n",
      "INFO:root:Play 'munoz-conferencia' retrieved from 'https://raw.githubusercontent.com/dracor-org/spandracor/184ebf975ad9cd674ff37cab44a181fa7ed8d85f/tei/munoz-conferencia.xml' has been successfully added to corpus 'span'. Checked and found local play data.\n",
      "INFO:root:Play 'munoz-ortiz' retrieved from 'https://raw.githubusercontent.com/dracor-org/spandracor/184ebf975ad9cd674ff37cab44a181fa7ed8d85f/tei/munoz-ortiz.xml' has been successfully added to corpus 'span'. Checked and found local play data.\n",
      "INFO:root:Play 'munoz-pergaminos' retrieved from 'https://raw.githubusercontent.com/dracor-org/spandracor/184ebf975ad9cd674ff37cab44a181fa7ed8d85f/tei/munoz-pergaminos.xml' has been successfully added to corpus 'span'. Checked and found local play data.\n",
      "INFO:root:Play 'munoz-refugio' retrieved from 'https://raw.githubusercontent.com/dracor-org/spandracor/184ebf975ad9cd674ff37cab44a181fa7ed8d85f/tei/munoz-refugio.xml' has been successfully added to corpus 'span'. Checked and found local play data.\n",
      "INFO:root:Play 'unamuno-esfinge' retrieved from 'https://raw.githubusercontent.com/dracor-org/spandracor/184ebf975ad9cd674ff37cab44a181fa7ed8d85f/tei/unamuno-esfinge.xml' has been successfully added to corpus 'span'. Checked and found local play data.\n",
      "INFO:root:Play 'unamuno-fedra' retrieved from 'https://raw.githubusercontent.com/dracor-org/spandracor/184ebf975ad9cd674ff37cab44a181fa7ed8d85f/tei/unamuno-fedra.xml' has been successfully added to corpus 'span'. Checked and found local play data.\n",
      "INFO:root:Play 'valera-asclepigenia' retrieved from 'https://raw.githubusercontent.com/dracor-org/spandracor/184ebf975ad9cd674ff37cab44a181fa7ed8d85f/tei/valera-asclepigenia.xml' has been successfully added to corpus 'span'. Checked and found local play data.\n",
      "INFO:root:Play 'valera-atahualpa' retrieved from 'https://raw.githubusercontent.com/dracor-org/spandracor/184ebf975ad9cd674ff37cab44a181fa7ed8d85f/tei/valera-atahualpa.xml' has been successfully added to corpus 'span'. Checked and found local play data.\n",
      "INFO:root:Play 'valle-aguila' retrieved from 'https://raw.githubusercontent.com/dracor-org/spandracor/184ebf975ad9cd674ff37cab44a181fa7ed8d85f/tei/valle-aguila.xml' has been successfully added to corpus 'span'. Checked and found local play data.\n",
      "INFO:root:Play 'valle-cara' retrieved from 'https://raw.githubusercontent.com/dracor-org/spandracor/184ebf975ad9cd674ff37cab44a181fa7ed8d85f/tei/valle-cara.xml' has been successfully added to corpus 'span'. Checked and found local play data.\n",
      "INFO:root:Play 'valle-divinas-palabras' retrieved from 'https://raw.githubusercontent.com/dracor-org/spandracor/184ebf975ad9cd674ff37cab44a181fa7ed8d85f/tei/valle-divinas-palabras.xml' has been successfully added to corpus 'span'. Checked and found local play data.\n",
      "INFO:root:Play 'valle-luces' retrieved from 'https://raw.githubusercontent.com/dracor-org/spandracor/184ebf975ad9cd674ff37cab44a181fa7ed8d85f/tei/valle-luces.xml' has been successfully added to corpus 'span'. Checked and found local play data.\n",
      "INFO:root:Play 'valle-romance' retrieved from 'https://raw.githubusercontent.com/dracor-org/spandracor/184ebf975ad9cd674ff37cab44a181fa7ed8d85f/tei/valle-romance.xml' has been successfully added to corpus 'span'. Checked and found local play data.\n",
      "INFO:root:Successfully added all 25 files to span.\n"
     ]
    },
    {
     "data": {
      "text/plain": [
       "True"
      ]
     },
     "execution_count": 44,
     "metadata": {},
     "output_type": "execute_result"
    }
   ],
   "source": [
    "dracor.add_corpus_from_repo(repository_name=\"spandracor\")"
   ]
  },
  {
   "cell_type": "markdown",
   "id": "2ed0e071-d37f-4727-b6e3-35cd7d35a85c",
   "metadata": {},
   "source": [
    "The corpus should be available in the local instance at http://localhost:8088/span. \n",
    "\n",
    "When we output the manifest we see that the `type` of the source is `repository` (in case of copying it was `api`, see [previous section](##Documentation-of-copied-corpus-in-the-manifest)) and the URL of the repository is included as `url`. In addition to a `timestamp` that contains date and time the process was initiated, the manifest contains the field `commit`. When calling the method as in the previous cell the client will fetch the data represented by the most recent [commit](https://docs.github.com/en/pull-requests/committing-changes-to-your-project/creating-and-editing-commits/about-commits). A commit represents the state of the data at a given point in time. This means, that if we know the commit (and the repository is still there, of course), we can precicely get the data in the state it was when it was commited. "
   ]
  },
  {
   "cell_type": "code",
   "execution_count": 45,
   "id": "6ee476e5-661f-435e-b506-89cf0d48afad",
   "metadata": {},
   "outputs": [
    {
     "data": {
      "text/plain": [
       "{'corpusname': 'span',\n",
       " 'timestamp': '2023-11-09T13:24:51.297398',\n",
       " 'sources': {'span': {'type': 'repository',\n",
       "   'corpusname': 'span',\n",
       "   'url': 'https://github.com/dracor-org/spandracor',\n",
       "   'commit': '184ebf975ad9cd674ff37cab44a181fa7ed8d85f',\n",
       "   'timestamp': '2023-11-09T13:24:51.297403',\n",
       "   'num_of_plays': 25}},\n",
       " 'num_of_plays': 25}"
      ]
     },
     "execution_count": 45,
     "metadata": {},
     "output_type": "execute_result"
    }
   ],
   "source": [
    "dracor.get_manifest()[\"corpora\"][\"span\"]"
   ]
  },
  {
   "cell_type": "markdown",
   "id": "8bbce1f0-b804-45e8-a815-58a517ea7321",
   "metadata": {},
   "source": [
    "To add a corpus at a given state represented by a commit the method provide the commit id as keyword argument `commit`. In the following cell we add the `Roman Drama Corpus` from its GitHub Repository in the state it was on January 2001, which can be identified with the commit `952ae76d8b9d51725b652b8c2c5d6538c592abd6` (see [this commit on GitHub](https://github.com/dracor-org/romdracor/commit/952ae76d8b9d51725b652b8c2c5d6538c592abd6))."
   ]
  },
  {
   "cell_type": "code",
   "execution_count": 46,
   "id": "de6b4121-d5b3-440c-97c8-808bb986ebd3",
   "metadata": {},
   "outputs": [
    {
     "name": "stderr",
     "output_type": "stream",
     "text": [
      "INFO:root:Successfully created corpus rom.\n",
      "INFO:root:Play 'plautus-amphitruo' retrieved from 'https://raw.githubusercontent.com/dracor-org/romdracor/952ae76d8b9d51725b652b8c2c5d6538c592abd6/tei/plautus-amphitruo.xml' has been successfully added to corpus 'rom'. Checked and found local play data.\n",
      "INFO:root:Play 'plautus-asinaria' retrieved from 'https://raw.githubusercontent.com/dracor-org/romdracor/952ae76d8b9d51725b652b8c2c5d6538c592abd6/tei/plautus-asinaria.xml' has been successfully added to corpus 'rom'. Checked and found local play data.\n",
      "INFO:root:Play 'plautus-aulularia' retrieved from 'https://raw.githubusercontent.com/dracor-org/romdracor/952ae76d8b9d51725b652b8c2c5d6538c592abd6/tei/plautus-aulularia.xml' has been successfully added to corpus 'rom'. Checked and found local play data.\n",
      "INFO:root:Play 'plautus-bacchides' retrieved from 'https://raw.githubusercontent.com/dracor-org/romdracor/952ae76d8b9d51725b652b8c2c5d6538c592abd6/tei/plautus-bacchides.xml' has been successfully added to corpus 'rom'. Checked and found local play data.\n",
      "INFO:root:Play 'plautus-captivi' retrieved from 'https://raw.githubusercontent.com/dracor-org/romdracor/952ae76d8b9d51725b652b8c2c5d6538c592abd6/tei/plautus-captivi.xml' has been successfully added to corpus 'rom'. Checked and found local play data.\n",
      "INFO:root:Play 'plautus-casina' retrieved from 'https://raw.githubusercontent.com/dracor-org/romdracor/952ae76d8b9d51725b652b8c2c5d6538c592abd6/tei/plautus-casina.xml' has been successfully added to corpus 'rom'. Checked and found local play data.\n",
      "INFO:root:Play 'plautus-cistellaria' retrieved from 'https://raw.githubusercontent.com/dracor-org/romdracor/952ae76d8b9d51725b652b8c2c5d6538c592abd6/tei/plautus-cistellaria.xml' has been successfully added to corpus 'rom'. Checked and found local play data.\n",
      "INFO:root:Play 'plautus-curculio' retrieved from 'https://raw.githubusercontent.com/dracor-org/romdracor/952ae76d8b9d51725b652b8c2c5d6538c592abd6/tei/plautus-curculio.xml' has been successfully added to corpus 'rom'. Checked and found local play data.\n",
      "INFO:root:Play 'plautus-epidicus' retrieved from 'https://raw.githubusercontent.com/dracor-org/romdracor/952ae76d8b9d51725b652b8c2c5d6538c592abd6/tei/plautus-epidicus.xml' has been successfully added to corpus 'rom'. Checked and found local play data.\n",
      "INFO:root:Play 'plautus-menaechmi' retrieved from 'https://raw.githubusercontent.com/dracor-org/romdracor/952ae76d8b9d51725b652b8c2c5d6538c592abd6/tei/plautus-menaechmi.xml' has been successfully added to corpus 'rom'. Checked and found local play data.\n",
      "INFO:root:Play 'plautus-mercator' retrieved from 'https://raw.githubusercontent.com/dracor-org/romdracor/952ae76d8b9d51725b652b8c2c5d6538c592abd6/tei/plautus-mercator.xml' has been successfully added to corpus 'rom'. Checked and found local play data.\n",
      "INFO:root:Play 'plautus-miles-gloriosus' retrieved from 'https://raw.githubusercontent.com/dracor-org/romdracor/952ae76d8b9d51725b652b8c2c5d6538c592abd6/tei/plautus-miles-gloriosus.xml' has been successfully added to corpus 'rom'. Checked and found local play data.\n",
      "INFO:root:Play 'plautus-mostellaria' retrieved from 'https://raw.githubusercontent.com/dracor-org/romdracor/952ae76d8b9d51725b652b8c2c5d6538c592abd6/tei/plautus-mostellaria.xml' has been successfully added to corpus 'rom'. Checked and found local play data.\n",
      "INFO:root:Play 'plautus-persa' retrieved from 'https://raw.githubusercontent.com/dracor-org/romdracor/952ae76d8b9d51725b652b8c2c5d6538c592abd6/tei/plautus-persa.xml' has been successfully added to corpus 'rom'. Checked and found local play data.\n",
      "INFO:root:Play 'plautus-poenulus' retrieved from 'https://raw.githubusercontent.com/dracor-org/romdracor/952ae76d8b9d51725b652b8c2c5d6538c592abd6/tei/plautus-poenulus.xml' has been successfully added to corpus 'rom'. Checked and found local play data.\n",
      "INFO:root:Play 'plautus-pseudolus' retrieved from 'https://raw.githubusercontent.com/dracor-org/romdracor/952ae76d8b9d51725b652b8c2c5d6538c592abd6/tei/plautus-pseudolus.xml' has been successfully added to corpus 'rom'. Checked and found local play data.\n",
      "INFO:root:Play 'plautus-rudens' retrieved from 'https://raw.githubusercontent.com/dracor-org/romdracor/952ae76d8b9d51725b652b8c2c5d6538c592abd6/tei/plautus-rudens.xml' has been successfully added to corpus 'rom'. Checked and found local play data.\n",
      "INFO:root:Play 'plautus-stichus' retrieved from 'https://raw.githubusercontent.com/dracor-org/romdracor/952ae76d8b9d51725b652b8c2c5d6538c592abd6/tei/plautus-stichus.xml' has been successfully added to corpus 'rom'. Checked and found local play data.\n",
      "INFO:root:Play 'plautus-trinummus' retrieved from 'https://raw.githubusercontent.com/dracor-org/romdracor/952ae76d8b9d51725b652b8c2c5d6538c592abd6/tei/plautus-trinummus.xml' has been successfully added to corpus 'rom'. Checked and found local play data.\n",
      "INFO:root:Play 'plautus-truculentus' retrieved from 'https://raw.githubusercontent.com/dracor-org/romdracor/952ae76d8b9d51725b652b8c2c5d6538c592abd6/tei/plautus-truculentus.xml' has been successfully added to corpus 'rom'. Checked and found local play data.\n",
      "INFO:root:Play 'seneca-agamemnon' retrieved from 'https://raw.githubusercontent.com/dracor-org/romdracor/952ae76d8b9d51725b652b8c2c5d6538c592abd6/tei/seneca-agamemnon.xml' has been successfully added to corpus 'rom'. Checked and found local play data.\n",
      "INFO:root:Play 'seneca-hercules-furens' retrieved from 'https://raw.githubusercontent.com/dracor-org/romdracor/952ae76d8b9d51725b652b8c2c5d6538c592abd6/tei/seneca-hercules-furens.xml' has been successfully added to corpus 'rom'. Checked and found local play data.\n",
      "INFO:root:Play 'seneca-hercules-oetaeus' retrieved from 'https://raw.githubusercontent.com/dracor-org/romdracor/952ae76d8b9d51725b652b8c2c5d6538c592abd6/tei/seneca-hercules-oetaeus.xml' has been successfully added to corpus 'rom'. Checked and found local play data.\n",
      "INFO:root:Play 'seneca-medea' retrieved from 'https://raw.githubusercontent.com/dracor-org/romdracor/952ae76d8b9d51725b652b8c2c5d6538c592abd6/tei/seneca-medea.xml' has been successfully added to corpus 'rom'. Checked and found local play data.\n",
      "INFO:root:Play 'seneca-octavia' retrieved from 'https://raw.githubusercontent.com/dracor-org/romdracor/952ae76d8b9d51725b652b8c2c5d6538c592abd6/tei/seneca-octavia.xml' has been successfully added to corpus 'rom'. Checked and found local play data.\n",
      "INFO:root:Play 'seneca-oedipus' retrieved from 'https://raw.githubusercontent.com/dracor-org/romdracor/952ae76d8b9d51725b652b8c2c5d6538c592abd6/tei/seneca-oedipus.xml' has been successfully added to corpus 'rom'. Checked and found local play data.\n",
      "INFO:root:Play 'seneca-phaedra' retrieved from 'https://raw.githubusercontent.com/dracor-org/romdracor/952ae76d8b9d51725b652b8c2c5d6538c592abd6/tei/seneca-phaedra.xml' has been successfully added to corpus 'rom'. Checked and found local play data.\n",
      "INFO:root:Play 'seneca-phoenissae' retrieved from 'https://raw.githubusercontent.com/dracor-org/romdracor/952ae76d8b9d51725b652b8c2c5d6538c592abd6/tei/seneca-phoenissae.xml' has been successfully added to corpus 'rom'. Checked and found local play data.\n",
      "INFO:root:Play 'seneca-thyestes' retrieved from 'https://raw.githubusercontent.com/dracor-org/romdracor/952ae76d8b9d51725b652b8c2c5d6538c592abd6/tei/seneca-thyestes.xml' has been successfully added to corpus 'rom'. Checked and found local play data.\n",
      "INFO:root:Play 'seneca-troades' retrieved from 'https://raw.githubusercontent.com/dracor-org/romdracor/952ae76d8b9d51725b652b8c2c5d6538c592abd6/tei/seneca-troades.xml' has been successfully added to corpus 'rom'. Checked and found local play data.\n",
      "INFO:root:Play 'terence-adelphi' retrieved from 'https://raw.githubusercontent.com/dracor-org/romdracor/952ae76d8b9d51725b652b8c2c5d6538c592abd6/tei/terence-adelphi.xml' has been successfully added to corpus 'rom'. Checked and found local play data.\n",
      "INFO:root:Play 'terence-andria' retrieved from 'https://raw.githubusercontent.com/dracor-org/romdracor/952ae76d8b9d51725b652b8c2c5d6538c592abd6/tei/terence-andria.xml' has been successfully added to corpus 'rom'. Checked and found local play data.\n",
      "INFO:root:Play 'terence-eunuchus' retrieved from 'https://raw.githubusercontent.com/dracor-org/romdracor/952ae76d8b9d51725b652b8c2c5d6538c592abd6/tei/terence-eunuchus.xml' has been successfully added to corpus 'rom'. Checked and found local play data.\n",
      "INFO:root:Play 'terence-heautontimorumenos' retrieved from 'https://raw.githubusercontent.com/dracor-org/romdracor/952ae76d8b9d51725b652b8c2c5d6538c592abd6/tei/terence-heautontimorumenos.xml' has been successfully added to corpus 'rom'. Checked and found local play data.\n",
      "INFO:root:Play 'terence-hecyra' retrieved from 'https://raw.githubusercontent.com/dracor-org/romdracor/952ae76d8b9d51725b652b8c2c5d6538c592abd6/tei/terence-hecyra.xml' has been successfully added to corpus 'rom'. Checked and found local play data.\n",
      "INFO:root:Play 'terence-phormio' retrieved from 'https://raw.githubusercontent.com/dracor-org/romdracor/952ae76d8b9d51725b652b8c2c5d6538c592abd6/tei/terence-phormio.xml' has been successfully added to corpus 'rom'. Checked and found local play data.\n",
      "INFO:root:Successfully added all 36 files to rom.\n"
     ]
    },
    {
     "data": {
      "text/plain": [
       "True"
      ]
     },
     "execution_count": 46,
     "metadata": {},
     "output_type": "execute_result"
    }
   ],
   "source": [
    "dracor.add_corpus_from_repo(repository_name=\"romdracor\", commit=\"952ae76d8b9d51725b652b8c2c5d6538c592abd6\")"
   ]
  },
  {
   "cell_type": "markdown",
   "id": "f2a25afe-fcf8-4ea3-9b67-5a7838735ea1",
   "metadata": {},
   "source": [
    "By default the client assumes that the data is published under the dracor-org organization on GitHub but it is possible to change this behavior, e.g. by explicitly setting the \"owner\" of the repository with the keyword argument `repository_owner`. In the next cell we will add data from a fork of the *Shakespear Drama Corpus* that does not contain linguistic markup. \n",
    "\n",
    "In the version of ShakeDraCor in the dracor-org organization Hamlet's famouse lines are encoded as such\n",
    "```\n",
    "<sp xml:id=\"sp-1762\" who=\"#Hamlet_Ham\">\n",
    "            <speaker xml:id=\"spk-1762\">\n",
    "              <w xml:id=\"fs-ham-0271840\">HAMLET</w>\n",
    "            </speaker>\n",
    "            <l xml:id=\"ftln-1762\" n=\"3.1.64\">\n",
    "              <w xml:id=\"fs-ham-0271850\" n=\"3.1.64\" lemma=\"to\" ana=\"#acp-cs\">To</w>\n",
    "<c> </c>\n",
    "              <w xml:id=\"fs-ham-0271870\" n=\"3.1.64\" lemma=\"be\" ana=\"#vvi\">be</w>\n",
    "<c> </c>\n",
    "              <w xml:id=\"fs-ham-0271890\" n=\"3.1.64\" lemma=\"or\" ana=\"#cc\">or</w>\n",
    "<c> </c>\n",
    "              <w xml:id=\"fs-ham-0271910\" n=\"3.1.64\" lemma=\"not\" ana=\"#xx\">not</w>\n",
    "<c> </c>\n",
    "              <w xml:id=\"fs-ham-0271930\" n=\"3.1.64\" lemma=\"to\" ana=\"#acp-cs\">to</w>\n",
    "<c> </c>\n",
    "              <w xml:id=\"fs-ham-0271950\" n=\"3.1.64\" lemma=\"be\" ana=\"#vvi\">be</w>\n",
    "              <pc xml:id=\"fs-ham-0271960\" n=\"3.1.64\">—</pc>\n",
    "[...]\n",
    "\n",
    "```\n",
    "[*Hamlet* in the shakedracor repository of dracor-org](https://github.com/dracor-org/shakedracor/blob/main/tei/hamlet.xml)\n",
    "\n",
    "The data of the fork that will be added is ..\n",
    "TBC https://github.com/ingoboerner/shakedracor\n",
    "```\n",
    "<sp xml:id=\"sp-1762\" who=\"#Hamlet_Ham\">\n",
    "                  <speaker xml:id=\"spk-1762\">HAMLET </speaker>\n",
    "                  <l xml:id=\"ftln-1762\" n=\"3.1.64\">To be or not to be— that is the question: </l>\n",
    "...\n",
    "```\n",
    "[*Hamlet* in the fork of the shakedracor repository](https://github.com/ingoboerner/shakedracor/blob/main/tei/hamlet.xml#L3803-L3805)"
   ]
  },
  {
   "cell_type": "code",
   "execution_count": null,
   "id": "88d68abc-a1ff-477b-913e-63672fd327e1",
   "metadata": {},
   "outputs": [],
   "source": []
  }
 ],
 "metadata": {
  "kernelspec": {
   "display_name": "Python 3 (ipykernel)",
   "language": "python",
   "name": "python3"
  },
  "language_info": {
   "codemirror_mode": {
    "name": "ipython",
    "version": 3
   },
   "file_extension": ".py",
   "mimetype": "text/x-python",
   "name": "python",
   "nbconvert_exporter": "python",
   "pygments_lexer": "ipython3",
   "version": "3.11.6"
  }
 },
 "nbformat": 4,
 "nbformat_minor": 5
}
