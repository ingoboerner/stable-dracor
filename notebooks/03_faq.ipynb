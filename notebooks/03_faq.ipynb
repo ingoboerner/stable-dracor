{
 "cells": [
  {
   "cell_type": "markdown",
   "id": "129665f1-dcfa-4463-8c9f-fe091b3296e2",
   "metadata": {},
   "source": [
    "# FAQ"
   ]
  },
  {
   "cell_type": "markdown",
   "id": "2e83cf5f-4828-432f-b260-e2ddbc3a33dc",
   "metadata": {},
   "source": [
    "## How can I get into the *dracor-sandbox* Docker container?\n",
    "You can get an interactive shell in the *dracor-sandbox* Docker container with the command:\n",
    "\n",
    "```\n",
    "docker exec -it dracor-sandbox /bin/bash\n",
    "```\n",
    "\n",
    "From inside the container you can, for example, check if any Docker containers are already running with the command\n",
    "`docker ps`. \n",
    "\n",
    "To get out of the container again type the command `exit`."
   ]
  },
  {
   "cell_type": "markdown",
   "id": "f07efc89-f9a7-4665-9c34-093d2c1eb603",
   "metadata": {},
   "source": [
    "## Why do I need a GitHub Access Token and how can I get one?\n",
    "The *stable dracor client* uses the GitHub API for some operations, e.g. loading plays from a github repository. Without authentification the number of calls to the GitHub API is limited (see [Github API Documentation](https://docs.github.com/en/free-pro-team@latest/rest/rate-limit/rate-limit?apiVersion=2022-11-28#about-rate-limits). When adding multiple plays this limit will be exceeded rather quickly. Therefore, you can supply a [Personal Github Access Token](https://docs.github.com/en/authentication/keeping-your-account-and-data-secure/managing-your-personal-access-tokens#about-personal-access-tokens) when initializing a `StableDraCor` instance:\n",
    "\n",
    "```\n",
    "dracor = StableDraCor(github_access_token=github_token)\n",
    "```\n",
    "\n",
    "To create a Personal Access Token log into your GitHub Account and go to `Settings > Developer Settings > Personal Access Tokens > Tokens (classic)` [(GitHub Settings)](https://github.com/settings/tokens). Click on `Generate new token`and select `Generate new token (classic)`. Normally, you don't have to select any of the boxes, just scroll down and create the token. Don't forget to copy the token (it is the text starting with `ghp...`).\n",
    "\n",
    "You can either use the token directly in your notebook:\n",
    "\n",
    "```\n",
    "dracor = StableDraCor(github_access_token=\"ghp_12345...\")\n",
    "```\n",
    "\n",
    "But be careful, your token is like a password and if you want to share your notebook (e.g. add it to a public repo on GitHub) you should not add your token directly to the code. It is safer to use an *environment variable* for that.\n",
    "\n",
    "You can set an environment variable `GITHUB_TOKEN` when starting your *dracor-sandbox* Docker container by creating an `.env` file in the directory where the `compose.yml` file is located. To this `.env` file add the following line:\n",
    "\n",
    "```\n",
    "GITHUB_TOKEN={your token}\n",
    "```\n",
    "\n",
    "After starting the container the environment variable is available to your notebook."
   ]
  },
  {
   "cell_type": "code",
   "execution_count": null,
   "id": "665a291d-a3d7-4348-9be4-b5571cb16e36",
   "metadata": {},
   "outputs": [],
   "source": [
    "# Run this cell to check if a token is set.\n",
    "import os\n",
    "github_token = os.environ.get(\"GITHUB_TOKEN\")\n",
    "if github_token is not None:\n",
    "    print(\"A GitHub Access Token is set.\")\n",
    "else:\n",
    "    print(\"You have to set a token. Follow the instructions above.\")"
   ]
  },
  {
   "cell_type": "markdown",
   "id": "555bbe81-0cbf-48f5-a580-7750b1ed5395",
   "metadata": {},
   "source": [
    "## How can I change the URL of the API used\n",
    "The base url of the DraCor API is set when instantiating a new client object. The default url is `http://localhost:8088/api/` (this will change, when explicit API versions, like /v1 is implemented). It can be overwritten with the keyword argument `api_base_url`:"
   ]
  },
  {
   "cell_type": "code",
   "execution_count": null,
   "id": "45e3161a-bb4e-4ff5-b19c-2615fd937af0",
   "metadata": {},
   "outputs": [],
   "source": [
    "dracor = StableDraCor(api_base_url=\"http://custom-api-base-url:9999/api/\")"
   ]
  },
  {
   "cell_type": "markdown",
   "id": "dba08163-cce8-45ce-a403-28620dc0ab1f",
   "metadata": {},
   "source": [
    "## How can I access other services than the frontend and the API from outside the *dracor-sandbox*?\n",
    "edit the `ports` section of the `compose.yml`: \n",
    "```\n",
    "    ports:\n",
    "      - \"8088:8088\"\n",
    "      - \"8888:8888\"\n",
    "```\n",
    "Add port `3030` to expose the Triple Store (*dracor-fuseki*), `8030` for the Metrics Service (*dracor-metrics*) and `8080` to be able to access the eXist-DB (Dashboard, eXide,...) from the host machine at http://localhost:{port}. "
   ]
  },
  {
   "cell_type": "code",
   "execution_count": null,
   "id": "0a48b874-fc0c-42ee-b030-304923291f65",
   "metadata": {},
   "outputs": [],
   "source": []
  }
 ],
 "metadata": {
  "kernelspec": {
   "display_name": "Python 3 (ipykernel)",
   "language": "python",
   "name": "python3"
  },
  "language_info": {
   "codemirror_mode": {
    "name": "ipython",
    "version": 3
   },
   "file_extension": ".py",
   "mimetype": "text/x-python",
   "name": "python",
   "nbconvert_exporter": "python",
   "pygments_lexer": "ipython3",
   "version": "3.11.6"
  }
 },
 "nbformat": 4,
 "nbformat_minor": 5
}
