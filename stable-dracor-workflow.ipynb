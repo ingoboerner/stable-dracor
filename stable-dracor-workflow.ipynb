{
 "cells": [
  {
   "cell_type": "markdown",
   "id": "2cdf994c",
   "metadata": {},
   "source": [
    "# Stable DraCor workflow\n",
    "\n",
    "relevant notebooks:\n",
    "\n",
    "https://github.com/dracor-org/dracor-notebooks/blob/docker/docker/local-dracor-with-docker.ipynb\n",
    "https://github.com/dracor-org/vebidracor/blob/main/vebidracor-workflow.ipynb\n"
   ]
  },
  {
   "cell_type": "markdown",
   "id": "c0c12c8b",
   "metadata": {},
   "source": [
    "```\n",
    "services:\n",
    "  api:\n",
    "    image: ingoboerner/dracor-api:v0.86.3_local\n",
    "    ports:\n",
    "      - \"8080:8080\"\n",
    "    depends_on:\n",
    "      - metrics\n",
    "      - fuseki\n",
    "  metrics:\n",
    "    image: ingoboerner/dracor-metrics:v1.2.1\n",
    "    ports:\n",
    "      - \"8030:8030\"\n",
    "  frontend:\n",
    "    image: ingoboerner/dracor-frontend:v1.4.3_local\n",
    "    ports:\n",
    "      - \"8088:80\"\n",
    "    depends_on:\n",
    "      - api\n",
    "  fuseki:\n",
    "    image: \"stain/jena-fuseki\"\n",
    "    environment:\n",
    "      - ADMIN_PASSWORD=qwerty\n",
    "      - FUSEKI_DATASET_1=dracor\n",
    "    ports:\n",
    "      - \"3030:3030\"\n",
    "    expose:\n",
    "      - \"3030\"\n",
    "```"
   ]
  },
  {
   "cell_type": "markdown",
   "id": "73025364",
   "metadata": {},
   "source": [
    "There should be a function to create this compose file."
   ]
  },
  {
   "cell_type": "code",
   "execution_count": null,
   "id": "a5ba8d9d",
   "metadata": {},
   "outputs": [],
   "source": [
    "!ls"
   ]
  },
  {
   "cell_type": "markdown",
   "id": "c0d5cb5d",
   "metadata": {},
   "source": [
    "Run \n",
    "`docker-compose -f docker-compose.empty.yml up`\n",
    "\n",
    "Go to http://localhost:8088/\n",
    "\n",
    "Should be an empty DraCor instance."
   ]
  },
  {
   "cell_type": "markdown",
   "id": "ab83be5a",
   "metadata": {},
   "source": [
    "Functions to use the API:\n",
    "Helper function, might become obsolete if pydracor is ready."
   ]
  },
  {
   "cell_type": "code",
   "execution_count": null,
   "id": "3f189615",
   "metadata": {},
   "outputs": [],
   "source": [
    "# import libraries json and requests\n",
    "import json\n",
    "import requests\n",
    "\n",
    "#corpusname:str -> []\n",
    "def get(**kwargs):\n",
    "    #corpusname=corpusname\n",
    "    #playname=playname\n",
    "    #apibase=\"https://dracor.org/api/\"\n",
    "    #method=method\n",
    "    #parse_json: True\n",
    "    \n",
    "    #could set different apibase, e.g. https://staging.dracor.org/api/ [not recommended, pls use the production server]\n",
    "    if \"apibase\" in kwargs:\n",
    "        if kwargs[\"apibase\"].endswith(\"/\"):\n",
    "            apibase = kwargs[\"apibase\"]\n",
    "        else:\n",
    "            apibase = kwargs[\"apibase\"] + \"/\"\n",
    "    else:\n",
    "        #use local API per default\n",
    "        apibase = \"http://localhost:8088/api/\"\n",
    "    if \"corpusname\" in kwargs and \"playname\" in kwargs:\n",
    "        # used for /api/corpora/{corpusname}/play/{playname}/\n",
    "        if \"method\" in kwargs:\n",
    "            request_url = apibase + \"corpora/\" + kwargs[\"corpusname\"] + \"/play/\" + kwargs[\"playname\"] + \"/\" + kwargs[\"method\"]\n",
    "        else:\n",
    "            request_url = apibase + \"corpora/\" + kwargs[\"corpusname\"] + \"/play/\" + kwargs[\"playname\"]\n",
    "    elif \"corpusname\" in kwargs and not \"playname\" in kwargs:\n",
    "        if \"method\" in kwargs:\n",
    "            request_url = apibase + \"corpora/\" + kwargs[\"corpusname\"] + \"/\" + kwargs[\"method\"]\n",
    "        else:\n",
    "            request_url = apibase + \"corpora/\" + kwargs[\"corpusname\"] \n",
    "    elif \"method\" in kwargs and not \"corpusname\" in kwargs and not \"playname\" in kwargs:\n",
    "            request_url = apibase + kwargs[\"method\"]\n",
    "            \n",
    "    else: \n",
    "        #nothing set\n",
    "        request = request_url = apibase + \"info\"\n",
    "    \n",
    "    #send the response\n",
    "    r = requests.get(request_url)\n",
    "    if r.status_code == 200:\n",
    "        #success!\n",
    "        if \"parse_json\" in kwargs:\n",
    "            if kwargs[\"parse_json\"] == True:\n",
    "                json_data = json.loads(r.text)\n",
    "                return json_data\n",
    "            else:\n",
    "                return r.text\n",
    "        else:\n",
    "            return r.text\n",
    "    else:\n",
    "        raise Exception(\"Request was not successful. Server returned status code: \"  + str(r.status_code))"
   ]
  },
  {
   "cell_type": "markdown",
   "id": "afa85ea7",
   "metadata": {},
   "source": [
    "## Setup an empty corpus in local instance"
   ]
  },
  {
   "cell_type": "code",
   "execution_count": null,
   "id": "16ae6c70",
   "metadata": {},
   "outputs": [],
   "source": [
    "new_corpus_name = \"whatever\"\n",
    "new_corpus_title = \"Whatever new corpus\"\n",
    "\n",
    "#needed for authorization\n",
    "from requests.auth import HTTPBasicAuth\n",
    "\n",
    "#Username of the local instance\n",
    "usr = \"admin\"\n",
    "#Password of the admin user\n",
    "pwd = \"\"\n",
    "\n",
    "#construct the payload\n",
    "metadata = {\n",
    "  \"name\": new_corpus_name,\n",
    "  \"title\": new_corpus_title\n",
    "}\n",
    "\n",
    "#url of the corpora endpoint\n",
    "corpora_endpoint_url = \"http://localhost:8088/api/corpora\"\n",
    "\n",
    "#send the POST request using library requests\n",
    "r = requests.post(corpora_endpoint_url, json = metadata, auth=HTTPBasicAuth(usr, pwd))\n",
    "\n",
    "if r.status_code == 200:\n",
    "    print(\"Success!\" + \" http://localhost:8088/\" + new_corpus_name)"
   ]
  },
  {
   "cell_type": "code",
   "execution_count": null,
   "id": "ac5b0196",
   "metadata": {},
   "outputs": [],
   "source": [
    "#check if successful\n",
    "get(method=\"corpora\", parse_json=True)"
   ]
  },
  {
   "cell_type": "markdown",
   "id": "d07bb2a0",
   "metadata": {},
   "source": [
    "## Load a single play in a designated version from github into new corpus"
   ]
  },
  {
   "cell_type": "code",
   "execution_count": null,
   "id": "c2c5d700",
   "metadata": {},
   "outputs": [],
   "source": [
    "#define the variables\n",
    "corpus_repo_part = \"gerdracor\" # this is not the same as \"corpusname\"!\n",
    "commit_id = \"bfadf6b5844d4e05ea0501898a23c21f71c10cb3\"\n",
    "filename = \"lessing-emilia-galotti.xml\""
   ]
  },
  {
   "cell_type": "code",
   "execution_count": null,
   "id": "187a8eea",
   "metadata": {},
   "outputs": [],
   "source": [
    "#concatinate to a download url\n",
    "download_url = \"https://raw.githubusercontent.com/dracor-org/\" + corpus_repo_part + \"/\" + commit_id + \"/tei/\" + filename\n",
    "print(download_url)"
   ]
  },
  {
   "cell_type": "code",
   "execution_count": null,
   "id": "f5f71468",
   "metadata": {},
   "outputs": [],
   "source": [
    "r = requests.get(download_url)\n",
    "#get only the text from the response and encode it in UTF-8 (important!)\n",
    "tei = r.text.encode('utf-8')"
   ]
  },
  {
   "cell_type": "code",
   "execution_count": null,
   "id": "f9f59aa0",
   "metadata": {},
   "outputs": [],
   "source": [
    "#use split, to get everything before \".xml\"\n",
    "playname = filename.split(\".xml\")[0]"
   ]
  },
  {
   "cell_type": "code",
   "execution_count": null,
   "id": "ad46eff9",
   "metadata": {},
   "outputs": [],
   "source": [
    "#construct the URL to use in the PUT request:\n",
    "put_request_url = \"http://localhost:8088/api/corpora/\" + new_corpus_name + \"/play/\" + playname + \"/tei\""
   ]
  },
  {
   "cell_type": "code",
   "execution_count": null,
   "id": "83594e51",
   "metadata": {},
   "outputs": [],
   "source": [
    "# need the Content-Type to application/xml\n",
    "headers = {'Content-Type': 'application/xml'}"
   ]
  },
  {
   "cell_type": "code",
   "execution_count": null,
   "id": "cf79e465",
   "metadata": {},
   "outputs": [],
   "source": [
    "r = requests.put(put_request_url, data=tei, headers=headers, auth=HTTPBasicAuth(usr, pwd))"
   ]
  },
  {
   "cell_type": "markdown",
   "id": "81dd3282",
   "metadata": {},
   "source": [
    "## TODO: load list of plays to be added to corpus"
   ]
  },
  {
   "cell_type": "markdown",
   "id": "237acbcc",
   "metadata": {},
   "source": [
    "Include whole corpora:\n",
    "\n",
    "see also: https://github.com/dracor-org/vebidracor/blob/main/vebidracor-workflow.ipynb\n",
    "\n",
    "```\n",
    "corpora_to_include = [\n",
    "    { \n",
    "        \"corpusname\": \"ger\",\n",
    "        \"repository\": \"https://github.com/dracor-org/gerdracor\",\n",
    "        \"commit\": \"9135bd4598f54133f23df6edfc983b79f1616fb5\",\n",
    "        \"exclude\" : [\"ger000480\"]\n",
    "    }\n",
    "```\n",
    "\n",
    "maybe also, but not implemented\n",
    "\n",
    "```\n",
    "\"include\" : [\"abc\", \"xyz\"]\n",
    "```\n"
   ]
  },
  {
   "cell_type": "code",
   "execution_count": null,
   "id": "892d7424",
   "metadata": {},
   "outputs": [],
   "source": []
  }
 ],
 "metadata": {
  "kernelspec": {
   "display_name": "Python 3 (ipykernel)",
   "language": "python",
   "name": "python3"
  },
  "language_info": {
   "codemirror_mode": {
    "name": "ipython",
    "version": 3
   },
   "file_extension": ".py",
   "mimetype": "text/x-python",
   "name": "python",
   "nbconvert_exporter": "python",
   "pygments_lexer": "ipython3",
   "version": "3.9.12"
  }
 },
 "nbformat": 4,
 "nbformat_minor": 5
}
