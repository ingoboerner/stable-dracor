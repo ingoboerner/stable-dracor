{
 "cells": [
  {
   "cell_type": "code",
   "execution_count": 1,
   "id": "0175af51-4b72-44a2-927d-23827508790e",
   "metadata": {},
   "outputs": [],
   "source": [
    "import logging\n",
    "# logging.basicConfig(level=logging.DEBUG)\n",
    "logging.basicConfig(level=logging.INFO)"
   ]
  },
  {
   "cell_type": "code",
   "execution_count": 2,
   "id": "47ba8a8b-d914-4faf-9cca-ace3f121c9d7",
   "metadata": {},
   "outputs": [],
   "source": [
    "from client.client import StableDraCor"
   ]
  },
  {
   "cell_type": "code",
   "execution_count": 3,
   "id": "b7787efa-f837-4a4e-9bec-73dffbbb8d2b",
   "metadata": {},
   "outputs": [
    {
     "name": "stderr",
     "output_type": "stream",
     "text": [
      "INFO:root:Initialized new StableDraCor instance: 'capek' (ID: fe00daae-157e-4168-9790-276e73635dd3).\n",
      "WARNING:root:Local DraCor API is not available at http://localhost:8088/api/.\n",
      "WARNING:root:Personal GitHub Access Token is not supplied. Requests to the GitHub API might be affected by rate limiting.\n",
      "INFO:root:Docker is available.\n",
      "WARNING:root:Could not detect a running Docker container derived from a dracor/dracor-api image.\n",
      "WARNING:root:Could not detect a running Docker container derived from a dracor/dracor-frontend image.\n",
      "WARNING:root:Could not detect a running Docker container derived from a dracor/dracor-metrics image.\n",
      "WARNING:root:Could not detect a running Docker container derived from a dracor/dracor-fuseki image.\n"
     ]
    }
   ],
   "source": [
    "capekdracor = StableDraCor(name=\"capek\")"
   ]
  },
  {
   "cell_type": "code",
   "execution_count": 4,
   "id": "42118257-6066-4145-9da8-4e8133a40099",
   "metadata": {},
   "outputs": [
    {
     "name": "stderr",
     "output_type": "stream",
     "text": [
      " Network stable-dracor_default  Creating\n",
      " Network stable-dracor_default  Created\n",
      " Container stable-dracor-metrics-1  Creating\n",
      " Container stable-dracor-fuseki-1  Creating\n",
      " Container stable-dracor-metrics-1  Created\n",
      " Container stable-dracor-fuseki-1  Created\n",
      " Container stable-dracor-api-1  Creating\n",
      " Container stable-dracor-api-1  Created\n",
      " Container stable-dracor-frontend-1  Creating\n",
      " Container stable-dracor-frontend-1  Created\n",
      " Container stable-dracor-fuseki-1  Starting\n",
      " Container stable-dracor-metrics-1  Starting\n",
      " Container stable-dracor-fuseki-1  Started\n",
      " Container stable-dracor-metrics-1  Started\n",
      " Container stable-dracor-api-1  Starting\n",
      " Container stable-dracor-api-1  Started\n",
      " Container stable-dracor-frontend-1  Starting\n",
      " Container stable-dracor-frontend-1  Started\n"
     ]
    }
   ],
   "source": [
    "# Run an empty Dracor System\n",
    "capekdracor.run()"
   ]
  },
  {
   "cell_type": "code",
   "execution_count": 5,
   "id": "11cd2384-43c0-4dec-aa3e-137f969407be",
   "metadata": {},
   "outputs": [],
   "source": [
    "# List the containers \n",
    "# capekdracor.list_docker_containers(only_running=True)"
   ]
  },
  {
   "cell_type": "code",
   "execution_count": 6,
   "id": "02b960e3-9364-46da-ae9c-7c4cbb3f87e9",
   "metadata": {},
   "outputs": [
    {
     "data": {
      "text/plain": [
       "['cze000001-capek-k-loupeznik.xml',\n",
       " 'cze000002-capek-k-rur.xml',\n",
       " 'cze000003-capek-k-vec-makropulos.xml',\n",
       " 'cze000004-capek-k-bila-nemoc.xml',\n",
       " 'cze000005-capek-k-matka.xml',\n",
       " 'cze000006-capek-k+j-lasky-hra-osudna.xml',\n",
       " 'cze000007-capek-k+j-ze-zivota-hmyzu-version-1.xml',\n",
       " 'cze000008-capek-k+j-ze-zivota-hmyzu-version-2.xml',\n",
       " 'cze000009-capek-k+j-adam-stvoritel.xml',\n",
       " 'cze000010-capek-j-zeme-mnoha-jmen.xml',\n",
       " 'cze000011-capek-j-gassirova-loutna.xml']"
      ]
     },
     "execution_count": 6,
     "metadata": {},
     "output_type": "execute_result"
    }
   ],
   "source": [
    "# List the plays in the repository on github\n",
    "# This does not work if the repository is private. Already changed the visibility.\n",
    "capekdracor.list_plays_in_repo(repository_name=\"czedracor\")"
   ]
  },
  {
   "cell_type": "code",
   "execution_count": 8,
   "id": "33621f9b-2f69-4986-9b1c-ab9d78276ef0",
   "metadata": {},
   "outputs": [
    {
     "name": "stderr",
     "output_type": "stream",
     "text": [
      "INFO:root:Successfully created corpus capek.\n",
      "INFO:root:Play 'cze000001-capek-k-loupeznik' retrieved from 'https://raw.githubusercontent.com/dracor-org/czedracor/18cc5be4009ad80ce0ff2123dde77158b344b4d6/tei/cze000001-capek-k-loupeznik.xml' has been successfully added to corpus 'capek'. Checked and found local play data.\n",
      "INFO:root:Play 'cze000002-capek-k-rur' retrieved from 'https://raw.githubusercontent.com/dracor-org/czedracor/18cc5be4009ad80ce0ff2123dde77158b344b4d6/tei/cze000002-capek-k-rur.xml' has been successfully added to corpus 'capek'. Checked and found local play data.\n",
      "INFO:root:Play 'cze000003-capek-k-vec-makropulos' retrieved from 'https://raw.githubusercontent.com/dracor-org/czedracor/18cc5be4009ad80ce0ff2123dde77158b344b4d6/tei/cze000003-capek-k-vec-makropulos.xml' has been successfully added to corpus 'capek'. Checked and found local play data.\n",
      "INFO:root:Play 'cze000004-capek-k-bila-nemoc' retrieved from 'https://raw.githubusercontent.com/dracor-org/czedracor/18cc5be4009ad80ce0ff2123dde77158b344b4d6/tei/cze000004-capek-k-bila-nemoc.xml' has been successfully added to corpus 'capek'. Checked and found local play data.\n",
      "INFO:root:Play 'cze000005-capek-k-matka' retrieved from 'https://raw.githubusercontent.com/dracor-org/czedracor/18cc5be4009ad80ce0ff2123dde77158b344b4d6/tei/cze000005-capek-k-matka.xml' has been successfully added to corpus 'capek'. Checked and found local play data.\n",
      "WARNING:root:Could not add play from source 'https://raw.githubusercontent.com/dracor-org/czedracor/18cc5be4009ad80ce0ff2123dde77158b344b4d6/tei/cze000006-capek-k+j-lasky-hra-osudna.xml'.\n",
      "WARNING:root:Could not add play from source 'https://raw.githubusercontent.com/dracor-org/czedracor/18cc5be4009ad80ce0ff2123dde77158b344b4d6/tei/cze000007-capek-k+j-ze-zivota-hmyzu-version-1.xml'.\n",
      "WARNING:root:Could not add play from source 'https://raw.githubusercontent.com/dracor-org/czedracor/18cc5be4009ad80ce0ff2123dde77158b344b4d6/tei/cze000008-capek-k+j-ze-zivota-hmyzu-version-2.xml'.\n",
      "WARNING:root:Could not add play from source 'https://raw.githubusercontent.com/dracor-org/czedracor/18cc5be4009ad80ce0ff2123dde77158b344b4d6/tei/cze000009-capek-k+j-adam-stvoritel.xml'.\n",
      "INFO:root:Play 'cze000010-capek-j-zeme-mnoha-jmen' retrieved from 'https://raw.githubusercontent.com/dracor-org/czedracor/18cc5be4009ad80ce0ff2123dde77158b344b4d6/tei/cze000010-capek-j-zeme-mnoha-jmen.xml' has been successfully added to corpus 'capek'. Checked and found local play data.\n",
      "INFO:root:Play 'cze000011-capek-j-gassirova-loutna' retrieved from 'https://raw.githubusercontent.com/dracor-org/czedracor/18cc5be4009ad80ce0ff2123dde77158b344b4d6/tei/cze000011-capek-j-gassirova-loutna.xml' has been successfully added to corpus 'capek'. Checked and found local play data.\n",
      "WARNING:root:Added 7 of 11 to corpus capek.4 errors occurred. Files, that were not added: cze000006-capek-k+j-lasky-hra-osudna.xml, cze000007-capek-k+j-ze-zivota-hmyzu-version-1.xml, cze000008-capek-k+j-ze-zivota-hmyzu-version-2.xml, cze000009-capek-k+j-adam-stvoritel.xml.\n"
     ]
    },
    {
     "data": {
      "text/plain": [
       "False"
      ]
     },
     "execution_count": 8,
     "metadata": {},
     "output_type": "execute_result"
    }
   ],
   "source": [
    "corpus_metadata = dict(\n",
    "    name=\"capek\",\n",
    "    title=\"Čapek Drama Corpus\",\n",
    "    description=\"Corpus of czech plays written by the brothers  Josef and Karel Čapek\"\n",
    ")\n",
    "capekdracor.add_corpus_from_repo(repository_name=\"czedracor\", use_metadata_of_corpus_xml=False, corpus_metadata=corpus_metadata)"
   ]
  },
  {
   "cell_type": "code",
   "execution_count": null,
   "id": "f92d56be-3a8d-468f-b3a4-2f4ca6f7f5cc",
   "metadata": {},
   "outputs": [],
   "source": []
  }
 ],
 "metadata": {
  "kernelspec": {
   "display_name": "Python (stable-dracor)",
   "language": "python",
   "name": "stable-dracor"
  },
  "language_info": {
   "codemirror_mode": {
    "name": "ipython",
    "version": 3
   },
   "file_extension": ".py",
   "mimetype": "text/x-python",
   "name": "python",
   "nbconvert_exporter": "python",
   "pygments_lexer": "ipython3",
   "version": "3.11.3"
  }
 },
 "nbformat": 4,
 "nbformat_minor": 5
}
