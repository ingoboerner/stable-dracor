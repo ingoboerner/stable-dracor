{
 "cells": [
  {
   "cell_type": "code",
   "execution_count": 1,
   "id": "0175af51-4b72-44a2-927d-23827508790e",
   "metadata": {},
   "outputs": [],
   "source": [
    "import logging\n",
    "#logging.basicConfig(level=logging.DEBUG)\n",
    "logging.basicConfig(level=logging.INFO)"
   ]
  },
  {
   "cell_type": "code",
   "execution_count": 2,
   "id": "47ba8a8b-d914-4faf-9cca-ace3f121c9d7",
   "metadata": {},
   "outputs": [],
   "source": [
    "from src.stabledracor.client import StableDraCor"
   ]
  },
  {
   "cell_type": "code",
   "execution_count": 3,
   "id": "b7787efa-f837-4a4e-9bec-73dffbbb8d2b",
   "metadata": {},
   "outputs": [
    {
     "name": "stderr",
     "output_type": "stream",
     "text": [
      "INFO:root:Initialized new StableDraCor instance: 'capek' (ID: 7c3b5b0c-fcf9-4d7e-8f78-81bb3324e70f).\n",
      "WARNING:root:Local DraCor API is not available at http://localhost:8088/api/.\n",
      "WARNING:root:Personal GitHub Access Token is not supplied. Requests to the GitHub API might be affected by rate limiting.\n",
      "INFO:root:Docker is available.\n",
      "WARNING:root:Could not detect a running Docker container derived from a dracor/dracor-api image.\n",
      "WARNING:root:Could not detect a running Docker container derived from a dracor/dracor-frontend image.\n",
      "WARNING:root:Could not detect a running Docker container derived from a dracor/dracor-metrics image.\n",
      "WARNING:root:Could not detect a running Docker container derived from a dracor/dracor-fuseki image.\n",
      "WARNING:root:Could not detect a running Docker container derived from a dracor/stable-dracor image.\n"
     ]
    }
   ],
   "source": [
    "capekdracor = StableDraCor(name=\"capek\", \n",
    "                           description=\"DraCor system with a corpus of czech plays written by the brothers Josef and Karel Čapek derived from CzDraCor.\")"
   ]
  },
  {
   "cell_type": "code",
   "execution_count": 4,
   "id": "42118257-6066-4145-9da8-4e8133a40099",
   "metadata": {},
   "outputs": [
    {
     "name": "stderr",
     "output_type": "stream",
     "text": [
      "INFO:root:Fetched default compose file (configuration) from https://raw.githubusercontent.com/dracor-org/stabledracor/master/configurations/compose.fullstack.empty.yml.\n",
      " Network capek_default  Creating\n",
      " Network capek_default  Created\n",
      " Container capek-metrics-1  Creating\n",
      " Container capek-fuseki-1  Creating\n",
      " Container capek-metrics-1  Created\n",
      " Container capek-fuseki-1  Created\n",
      " Container capek-api-1  Creating\n",
      " Container capek-api-1  Created\n",
      " Container capek-frontend-1  Creating\n",
      " Container capek-frontend-1  Created\n",
      " Container capek-metrics-1  Starting\n",
      " Container capek-fuseki-1  Starting\n",
      " Container capek-fuseki-1  Started\n",
      " Container capek-metrics-1  Started\n",
      " Container capek-api-1  Starting\n",
      " Container capek-api-1  Started\n",
      " Container capek-frontend-1  Starting\n",
      " Container capek-frontend-1  Started\n",
      "INFO:root:Started with downloaded docker compose file.\n",
      "INFO:root:Found dracor/dracor-api container with ID 8903093276e8. Image is: dracor/dracor-api:v0.90.1-local\n",
      "INFO:root:Found dracor/dracor-frontend container with ID e560033aa154. Image is: dracor/dracor-frontend:v1.6.0-dirty\n",
      "INFO:root:Found dracor/dracor-metrics container with ID eabe714d3b42. Image is: dracor/dracor-metrics:v1.2.0\n",
      "INFO:root:Found dracor/dracor-fuseki container with ID 6ed842bca11f. Image is: dracor/dracor-fuseki:v1.0.0\n",
      "INFO:root:Trying to connect to the local DraCor API. This can take some time ...\n",
      "INFO:root:DraCor API can be reached at 'http://localhost:8088/api/'.\n"
     ]
    },
    {
     "data": {
      "text/plain": [
       "True"
      ]
     },
     "execution_count": 4,
     "metadata": {},
     "output_type": "execute_result"
    }
   ],
   "source": [
    "# Run an empty Dracor System\n",
    "capekdracor.run()"
   ]
  },
  {
   "cell_type": "code",
   "execution_count": 5,
   "id": "33621f9b-2f69-4986-9b1c-ab9d78276ef0",
   "metadata": {},
   "outputs": [
    {
     "name": "stderr",
     "output_type": "stream",
     "text": [
      "INFO:root:Successfully created corpus capek.\n",
      "INFO:root:Play 'cze000001-capek-k-loupeznik' retrieved from 'https://raw.githubusercontent.com/dracor-org/czedracor/18cc5be4009ad80ce0ff2123dde77158b344b4d6/tei/cze000001-capek-k-loupeznik.xml' has been successfully added to corpus 'capek'. Checked and found local play data.\n",
      "INFO:root:Play 'cze000002-capek-k-rur' retrieved from 'https://raw.githubusercontent.com/dracor-org/czedracor/18cc5be4009ad80ce0ff2123dde77158b344b4d6/tei/cze000002-capek-k-rur.xml' has been successfully added to corpus 'capek'. Checked and found local play data.\n",
      "INFO:root:Play 'cze000003-capek-k-vec-makropulos' retrieved from 'https://raw.githubusercontent.com/dracor-org/czedracor/18cc5be4009ad80ce0ff2123dde77158b344b4d6/tei/cze000003-capek-k-vec-makropulos.xml' has been successfully added to corpus 'capek'. Checked and found local play data.\n",
      "INFO:root:Play 'cze000004-capek-k-bila-nemoc' retrieved from 'https://raw.githubusercontent.com/dracor-org/czedracor/18cc5be4009ad80ce0ff2123dde77158b344b4d6/tei/cze000004-capek-k-bila-nemoc.xml' has been successfully added to corpus 'capek'. Checked and found local play data.\n",
      "INFO:root:Play 'cze000005-capek-k-matka' retrieved from 'https://raw.githubusercontent.com/dracor-org/czedracor/18cc5be4009ad80ce0ff2123dde77158b344b4d6/tei/cze000005-capek-k-matka.xml' has been successfully added to corpus 'capek'. Checked and found local play data.\n",
      "WARNING:root:There are invalid character(s) + in the generated identifier 'playname' Will replace it with '-'.\n",
      "INFO:root:Play 'cze000006-capek-k-j-lasky-hra-osudna' retrieved from 'https://raw.githubusercontent.com/dracor-org/czedracor/18cc5be4009ad80ce0ff2123dde77158b344b4d6/tei/cze000006-capek-k+j-lasky-hra-osudna.xml' has been successfully added to corpus 'capek'. Checked and found local play data.\n",
      "WARNING:root:There are invalid character(s) + in the generated identifier 'playname' Will replace it with '-'.\n",
      "INFO:root:Play 'cze000007-capek-k-j-ze-zivota-hmyzu-version-1' retrieved from 'https://raw.githubusercontent.com/dracor-org/czedracor/18cc5be4009ad80ce0ff2123dde77158b344b4d6/tei/cze000007-capek-k+j-ze-zivota-hmyzu-version-1.xml' has been successfully added to corpus 'capek'. Checked and found local play data.\n",
      "WARNING:root:There are invalid character(s) + in the generated identifier 'playname' Will replace it with '-'.\n",
      "INFO:root:Play 'cze000008-capek-k-j-ze-zivota-hmyzu-version-2' retrieved from 'https://raw.githubusercontent.com/dracor-org/czedracor/18cc5be4009ad80ce0ff2123dde77158b344b4d6/tei/cze000008-capek-k+j-ze-zivota-hmyzu-version-2.xml' has been successfully added to corpus 'capek'. Checked and found local play data.\n",
      "WARNING:root:There are invalid character(s) + in the generated identifier 'playname' Will replace it with '-'.\n",
      "INFO:root:Play 'cze000009-capek-k-j-adam-stvoritel' retrieved from 'https://raw.githubusercontent.com/dracor-org/czedracor/18cc5be4009ad80ce0ff2123dde77158b344b4d6/tei/cze000009-capek-k+j-adam-stvoritel.xml' has been successfully added to corpus 'capek'. Checked and found local play data.\n",
      "INFO:root:Play 'cze000010-capek-j-zeme-mnoha-jmen' retrieved from 'https://raw.githubusercontent.com/dracor-org/czedracor/18cc5be4009ad80ce0ff2123dde77158b344b4d6/tei/cze000010-capek-j-zeme-mnoha-jmen.xml' has been successfully added to corpus 'capek'. Checked and found local play data.\n",
      "INFO:root:Play 'cze000011-capek-j-gassirova-loutna' retrieved from 'https://raw.githubusercontent.com/dracor-org/czedracor/18cc5be4009ad80ce0ff2123dde77158b344b4d6/tei/cze000011-capek-j-gassirova-loutna.xml' has been successfully added to corpus 'capek'. Checked and found local play data.\n",
      "INFO:root:Successfully added all 11 files to capek.\n"
     ]
    },
    {
     "data": {
      "text/plain": [
       "True"
      ]
     },
     "execution_count": 5,
     "metadata": {},
     "output_type": "execute_result"
    }
   ],
   "source": [
    "corpus_metadata = dict(\n",
    "    name=\"capek\",\n",
    "    title=\"Čapek Drama Corpus\",\n",
    "    description=\"Corpus of czech plays written by the brothers Josef and Karel Čapek\"\n",
    ")\n",
    "capekdracor.add_corpus_from_repo(repository_name=\"czedracor\", use_metadata_of_corpus_xml=False, corpus_metadata=corpus_metadata)"
   ]
  },
  {
   "cell_type": "code",
   "execution_count": 6,
   "id": "19b7b297-840f-422f-9c34-62fb5fd737e6",
   "metadata": {},
   "outputs": [
    {
     "name": "stderr",
     "output_type": "stream",
     "text": [
      "WARNING:root:The dracor-api container is running. There might be issues with the image, if it is create from a running container. Consider stopping it before creating the image.\n",
      "INFO:root:Committed container 8903093276e8 as dracor/stable-dracor:capek_v1. Image identifier sha256:006efb11e66a8d10219f9ef37d2c771929a785c484014e0f75058241a50c5175\n",
      ".\n"
     ]
    }
   ],
   "source": [
    "capekdracor.create_docker_image_of_service(service=\"api\", image_tag=\"capek_v1\")"
   ]
  },
  {
   "cell_type": "code",
   "execution_count": 7,
   "id": "db137f85-9d3d-48c8-ad9f-b6449d981dd8",
   "metadata": {},
   "outputs": [
    {
     "data": {
      "text/plain": [
       "{'version': 'v1',\n",
       " 'system': {'id': '7c3b5b0c-fcf9-4d7e-8f78-81bb3324e70f',\n",
       "  'name': 'capek',\n",
       "  'description': 'DraCor system with a corpus of czech plays written by the brothers Josef and Karel Čapek derived from CzDraCor.',\n",
       "  'timestamp': '2023-06-30T17:57:59.527087'},\n",
       " 'services': {'api': {'container': '8903093276e8',\n",
       "   'image': 'dracor/stable-dracor:capek_v1',\n",
       "   'version': '0.90.1-2-g19a3f46-dirty',\n",
       "   'existdb': '6.0.1'},\n",
       "  'frontend': {'container': 'e560033aa154',\n",
       "   'image': 'dracor/dracor-frontend:v1.6.0-dirty'},\n",
       "  'metrics': {'container': 'eabe714d3b42',\n",
       "   'image': 'dracor/dracor-metrics:v1.2.0'},\n",
       "  'triplestore': {'container': '6ed842bca11f',\n",
       "   'image': 'dracor/dracor-fuseki:v1.0.0'}},\n",
       " 'corpora': {'capek': {'corpusname': 'capek',\n",
       "   'timestamp': '2023-06-30T17:57:32.317048',\n",
       "   'sources': {'czedracor': {'type': 'repository',\n",
       "     'url': 'https://github.com/dracor-org/czedracor',\n",
       "     'commit': '18cc5be4009ad80ce0ff2123dde77158b344b4d6',\n",
       "     'timestamp': '2023-06-30T17:57:32.317057',\n",
       "     'num_of_plays': 11}},\n",
       "   'num_of_plays': 11}}}"
      ]
     },
     "execution_count": 7,
     "metadata": {},
     "output_type": "execute_result"
    }
   ],
   "source": [
    "capekdracor.get_manifest()"
   ]
  },
  {
   "cell_type": "code",
   "execution_count": 8,
   "id": "b309077e-e969-4b4f-9f88-05f6961f9b0f",
   "metadata": {},
   "outputs": [
    {
     "name": "stderr",
     "output_type": "stream",
     "text": [
      "INFO:root:Stored configuration (docker-compose file) as compose.capek.yml.\n"
     ]
    }
   ],
   "source": [
    "capekdracor.create_compose_file(file_name=\"compose.capek.yml\")"
   ]
  },
  {
   "cell_type": "code",
   "execution_count": 9,
   "id": "8add45e3-2209-4d73-b99c-0d7beff6450b",
   "metadata": {},
   "outputs": [],
   "source": [
    "# To publish in Dockerhub the user needs write access. Username and password are set as environment variables.\n",
    "import os\n",
    "dockerhub_user = os.environ.get(\"DOCKERHUB_USER\")\n",
    "dockerhub_password = os.environ.get(\"DOCKERHUB_PASSWORD\")"
   ]
  },
  {
   "cell_type": "code",
   "execution_count": 10,
   "id": "92e61606-06d6-4084-8f06-8cd895940577",
   "metadata": {},
   "outputs": [
    {
     "name": "stdout",
     "output_type": "stream",
     "text": [
      "The push refers to repository [docker.io/dracor/stable-dracor]\n",
      "225fe1e88898: Preparing\n",
      "2bd47b4d673e: Preparing\n",
      "6728559ab87f: Preparing\n",
      "d5281c5ec183: Preparing\n",
      "4ab6f5b7eb23: Preparing\n",
      "746765c4dbf2: Preparing\n",
      "f89221245b1a: Preparing\n",
      "f93eca8f1d72: Preparing\n",
      "9df517710dff: Preparing\n",
      "746765c4dbf2: Waiting\n",
      "f89221245b1a: Waiting\n",
      "29cdb5c3b4d2: Preparing\n",
      "feb0ebe31d6d: Preparing\n",
      "392801f05f02: Preparing\n",
      "e4f85c7c2b1f: Preparing\n",
      "f93eca8f1d72: Waiting\n",
      "9df517710dff: Waiting\n",
      "29cdb5c3b4d2: Waiting\n",
      "392801f05f02: Waiting\n",
      "feb0ebe31d6d: Waiting\n",
      "e4f85c7c2b1f: Waiting\n",
      "4ab6f5b7eb23: Layer already exists\n",
      "2bd47b4d673e: Layer already exists\n",
      "d5281c5ec183: Layer already exists\n",
      "6728559ab87f: Layer already exists\n",
      "746765c4dbf2: Layer already exists\n",
      "f89221245b1a: Layer already exists\n",
      "f93eca8f1d72: Layer already exists\n",
      "9df517710dff: Layer already exists\n",
      "29cdb5c3b4d2: Layer already exists\n",
      "392801f05f02: Layer already exists\n",
      "e4f85c7c2b1f: Layer already exists\n",
      "feb0ebe31d6d: Layer already exists\n",
      "225fe1e88898: Pushed\n",
      "capek_v1: digest: sha256:80ce76d9bf40f7bc42c03ea7a9fb1169d4164d68fdc04662c452e865fef5a7ab size: 3044\n",
      "Removing login credentials for https://index.docker.io/v1/\n"
     ]
    }
   ],
   "source": [
    "capekdracor.publish_docker_image(user=dockerhub_user, password=dockerhub_password)"
   ]
  }
 ],
 "metadata": {
  "kernelspec": {
   "display_name": "Python (stable-dracor)",
   "language": "python",
   "name": "stable-dracor"
  },
  "language_info": {
   "codemirror_mode": {
    "name": "ipython",
    "version": 3
   },
   "file_extension": ".py",
   "mimetype": "text/x-python",
   "name": "python",
   "nbconvert_exporter": "python",
   "pygments_lexer": "ipython3",
   "version": "3.11.3"
  }
 },
 "nbformat": 4,
 "nbformat_minor": 5
}
