{
 "cells": [
  {
   "cell_type": "markdown",
   "id": "09499958-073c-408a-9e8e-135de85d4043",
   "metadata": {},
   "source": [
    "# Re-creating *VeBiDraCor*\n",
    "For VeBiDraCor plays published on [DraCor](https://dracor.org) have been assembled into a *Very Big Drama Corpus* containing some 2.900 plays.\n",
    "\n",
    "For the \"original\" Very Big Drama Corpus (\"VeBiDraCor\") used in the study [\"Detecting Small Worlds in a Corpus of Thousands of Theater Plays – A DraCor Study in Comparative Literary Network Analysis\"](https://github.com/dracor-org/small-world-paper) see the following repository: https://github.com/dracor-org/vebidracor. \n",
    "\n",
    "This notebook demonstrates how to use the [StableDraCor client](https://github.com/dracor-org/stabledracor) to re-create VeBiDraCor as a demonstrate for the paper [\"Dockerizing DraCor – A Container-based Approach to Reproducibility in Computational Literary Studies\"](https://www.conftool.pro/dh2023/index.php?page=browseSessions&form_session=36#paperID358) presented at the conference [DH2023](https://dh2023.adho.org)."
   ]
  },
  {
   "cell_type": "code",
   "execution_count": 1,
   "id": "0175af51-4b72-44a2-927d-23827508790e",
   "metadata": {},
   "outputs": [],
   "source": [
    "import logging\n",
    "#logging.basicConfig(level=logging.DEBUG)\n",
    "logging.basicConfig(level=logging.INFO)"
   ]
  },
  {
   "cell_type": "code",
   "execution_count": 2,
   "id": "e8d558ba-4824-4c88-878f-7187e670c44e",
   "metadata": {},
   "outputs": [],
   "source": [
    "import os"
   ]
  },
  {
   "cell_type": "code",
   "execution_count": 3,
   "id": "7418dd5b-0118-4a35-aec2-18155c93a0eb",
   "metadata": {},
   "outputs": [],
   "source": [
    "#export GITHUB_TOKEN={token}\n",
    "# https://github.com/settings/tokens\n",
    "github_token = os.environ.get(\"GITHUB_TOKEN\")"
   ]
  },
  {
   "cell_type": "code",
   "execution_count": 4,
   "id": "47ba8a8b-d914-4faf-9cca-ace3f121c9d7",
   "metadata": {},
   "outputs": [],
   "source": [
    "from src.stabledracor.client import StableDraCor"
   ]
  },
  {
   "cell_type": "code",
   "execution_count": 5,
   "id": "b7787efa-f837-4a4e-9bec-73dffbbb8d2b",
   "metadata": {},
   "outputs": [
    {
     "name": "stderr",
     "output_type": "stream",
     "text": [
      "INFO:root:Initialized new StableDraCor instance: 'vebidracor' (ID: 0e10877d-aa33-4a84-b8d8-43d961d0c40e).\n",
      "WARNING:root:Local DraCor API is not available at http://localhost:8088/api/.\n",
      "INFO:root:Docker is available.\n",
      "WARNING:root:Could not detect a running Docker container derived from a dracor/dracor-api image.\n",
      "WARNING:root:Could not detect a running Docker container derived from a dracor/dracor-frontend image.\n",
      "WARNING:root:Could not detect a running Docker container derived from a dracor/dracor-metrics image.\n",
      "WARNING:root:Could not detect a running Docker container derived from a dracor/dracor-fuseki image.\n",
      "WARNING:root:Could not detect a running Docker container derived from a dracor/stable-dracor image.\n"
     ]
    }
   ],
   "source": [
    "vebidracor = StableDraCor(name=\"vebidracor\",\n",
    "                          description=\"DraCor system containing VeBiDraCor – a very big drama corpus with plays from several DraCor corpora\",\n",
    "                          github_access_token=github_token)"
   ]
  },
  {
   "cell_type": "code",
   "execution_count": 6,
   "id": "5d64294c-d752-42f6-8e35-105a0a9fee78",
   "metadata": {},
   "outputs": [
    {
     "name": "stderr",
     "output_type": "stream",
     "text": [
      "INFO:root:Fetched default compose file (configuration) from https://raw.githubusercontent.com/dracor-org/stabledracor/master/configurations/compose.fullstack.empty.yml.\n",
      " Network vebidracor_default  Creating\n",
      " Network vebidracor_default  Created\n",
      " Container vebidracor-fuseki-1  Creating\n",
      " Container vebidracor-metrics-1  Creating\n",
      " Container vebidracor-fuseki-1  Created\n",
      " Container vebidracor-metrics-1  Created\n",
      " Container vebidracor-api-1  Creating\n",
      " Container vebidracor-api-1  Created\n",
      " Container vebidracor-frontend-1  Creating\n",
      " Container vebidracor-frontend-1  Created\n",
      " Container vebidracor-metrics-1  Starting\n",
      " Container vebidracor-fuseki-1  Starting\n",
      " Container vebidracor-metrics-1  Started\n",
      " Container vebidracor-fuseki-1  Started\n",
      " Container vebidracor-api-1  Starting\n",
      " Container vebidracor-api-1  Started\n",
      " Container vebidracor-frontend-1  Starting\n",
      " Container vebidracor-frontend-1  Started\n",
      "INFO:root:Started with downloaded docker compose file.\n",
      "INFO:root:Found dracor/dracor-api container with ID fdac4b7478f5. Image is: dracor/dracor-api:v0.90.1-local\n",
      "INFO:root:Found dracor/dracor-frontend container with ID 700b20535e8a. Image is: dracor/dracor-frontend:v1.6.0-dirty\n",
      "INFO:root:Found dracor/dracor-metrics container with ID 9f3521541f0e. Image is: dracor/dracor-metrics:v1.2.0\n",
      "INFO:root:Found dracor/dracor-fuseki container with ID 410ccfd78863. Image is: dracor/dracor-fuseki:v1.0.0\n",
      "INFO:root:Trying to connect to the local DraCor API. This can take some time ...\n",
      "INFO:root:DraCor API can be reached at 'http://localhost:8088/api/'.\n"
     ]
    },
    {
     "data": {
      "text/plain": [
       "True"
      ]
     },
     "execution_count": 6,
     "metadata": {},
     "output_type": "execute_result"
    }
   ],
   "source": [
    "vebidracor.run()"
   ]
  },
  {
   "cell_type": "code",
   "execution_count": 7,
   "id": "d3ba5793-c122-418d-a583-9f0ec8c636f0",
   "metadata": {},
   "outputs": [],
   "source": [
    "corpus_metadata = {\n",
    "    \"name\" : \"vebi\", \n",
    "    \"title\": \"Very Big Drama Corpus\",\n",
    "    \"description\": \"This corpus assembles plays from several DraCor corpora as a single Very Big Drama Corpus\"\n",
    "}"
   ]
  },
  {
   "cell_type": "code",
   "execution_count": 8,
   "id": "1d483523-6609-4eec-9d87-873809c29608",
   "metadata": {},
   "outputs": [
    {
     "name": "stderr",
     "output_type": "stream",
     "text": [
      "INFO:root:Successfully created corpus vebi. All metadata is available and plays are available.\n"
     ]
    },
    {
     "data": {
      "text/plain": [
       "True"
      ]
     },
     "execution_count": 8,
     "metadata": {},
     "output_type": "execute_result"
    }
   ],
   "source": [
    "# need to explicitly register this corpus\n",
    "vebidracor.add_corpus(corpus_metadata=corpus_metadata, register=True)"
   ]
  },
  {
   "cell_type": "code",
   "execution_count": 10,
   "id": "af9ed4cf-6cdd-45a3-bc6b-b7ebfed86f7f",
   "metadata": {},
   "outputs": [
    {
     "name": "stderr",
     "output_type": "stream",
     "text": [
      "INFO:root:Successfully added all 25 files of repository 'dracor-org/alsdracor' to corpus 'vebi'.\n"
     ]
    },
    {
     "data": {
      "text/plain": [
       "True"
      ]
     },
     "execution_count": 10,
     "metadata": {},
     "output_type": "execute_result"
    }
   ],
   "source": [
    "vebidracor.add_files_from_repo(corpusname=\"vebi\", \n",
    "                              repository_name=\"alsdracor\", \n",
    "                              commit=\"c87ea41aac9412e4bd84a28e9c7632c53904f77c\")"
   ]
  },
  {
   "cell_type": "code",
   "execution_count": 11,
   "id": "8f88819c-1bc2-4e8b-ad21-32106b3124d5",
   "metadata": {},
   "outputs": [
    {
     "name": "stderr",
     "output_type": "stream",
     "text": [
      "INFO:root:Successfully added all 3 files of repository 'dracor-org/bashdracor' to corpus 'vebi'.\n"
     ]
    },
    {
     "data": {
      "text/plain": [
       "True"
      ]
     },
     "execution_count": 11,
     "metadata": {},
     "output_type": "execute_result"
    }
   ],
   "source": [
    "vebidracor.add_files_from_repo(corpusname=\"vebi\", \n",
    "                              repository_name=\"bashdracor\", \n",
    "                              commit=\"c16b58ef3726a63c431bb9575b682c165c9c0cbd\")"
   ]
  },
  {
   "cell_type": "code",
   "execution_count": 12,
   "id": "de264cb9-3fb3-4472-9547-a3d3917446a9",
   "metadata": {},
   "outputs": [
    {
     "name": "stderr",
     "output_type": "stream",
     "text": [
      "INFO:root:Successfully added all 205 files of repository 'dracor-org/caldracor' to corpus 'vebi'.\n"
     ]
    },
    {
     "data": {
      "text/plain": [
       "True"
      ]
     },
     "execution_count": 12,
     "metadata": {},
     "output_type": "execute_result"
    }
   ],
   "source": [
    "vebidracor.add_files_from_repo(corpusname=\"vebi\", \n",
    "                              repository_name=\"caldracor\", \n",
    "                              commit=\"6cb804d415051d5f18bc4841fa1ce4343a7f0ab5\")"
   ]
  },
  {
   "cell_type": "code",
   "execution_count": 13,
   "id": "7472d93f-27ac-4427-9299-7d3184efe0a4",
   "metadata": {},
   "outputs": [
    {
     "name": "stderr",
     "output_type": "stream",
     "text": [
      "INFO:root:Successfully added all 39 files of repository 'dracor-org/greekdracor' to corpus 'vebi'.\n"
     ]
    },
    {
     "data": {
      "text/plain": [
       "True"
      ]
     },
     "execution_count": 13,
     "metadata": {},
     "output_type": "execute_result"
    }
   ],
   "source": [
    "vebidracor.add_files_from_repo(corpusname=\"vebi\", \n",
    "                              repository_name=\"greekdracor\", \n",
    "                              commit=\"7397aafa1927c3e0a0720bf3c00bf367ab679f26\")"
   ]
  },
  {
   "cell_type": "code",
   "execution_count": 14,
   "id": "f97d090c-d404-444d-95a9-4540659a48f6",
   "metadata": {},
   "outputs": [
    {
     "name": "stderr",
     "output_type": "stream",
     "text": [
      "INFO:root:Successfully added all 41 files of repository 'dracor-org/hundracor' to corpus 'vebi'.\n"
     ]
    },
    {
     "data": {
      "text/plain": [
       "True"
      ]
     },
     "execution_count": 14,
     "metadata": {},
     "output_type": "execute_result"
    }
   ],
   "source": [
    "vebidracor.add_files_from_repo(corpusname=\"vebi\", \n",
    "                              repository_name=\"hundracor\", \n",
    "                              commit=\"57e64454a73ffd984ff5fcc1c9b7bc16f3a169f2\")"
   ]
  },
  {
   "cell_type": "code",
   "execution_count": 15,
   "id": "2a208a19-e9b3-4264-860a-b5b48daaccce",
   "metadata": {},
   "outputs": [
    {
     "name": "stderr",
     "output_type": "stream",
     "text": [
      "INFO:root:Successfully added all 139 files of repository 'dracor-org/itadracor' to corpus 'vebi'.\n"
     ]
    },
    {
     "data": {
      "text/plain": [
       "True"
      ]
     },
     "execution_count": 15,
     "metadata": {},
     "output_type": "execute_result"
    }
   ],
   "source": [
    "vebidracor.add_files_from_repo(corpusname=\"vebi\", \n",
    "                              repository_name=\"itadracor\", \n",
    "                              commit=\"10c84b416d25a6cbfbb195b9f82f136e482a7093\")"
   ]
  },
  {
   "cell_type": "code",
   "execution_count": 16,
   "id": "4f255afe-9681-4e27-a215-fcb7654cd914",
   "metadata": {},
   "outputs": [
    {
     "name": "stderr",
     "output_type": "stream",
     "text": [
      "INFO:root:Successfully added all 36 files of repository 'dracor-org/romdracor' to corpus 'vebi'.\n"
     ]
    },
    {
     "data": {
      "text/plain": [
       "True"
      ]
     },
     "execution_count": 16,
     "metadata": {},
     "output_type": "execute_result"
    }
   ],
   "source": [
    "vebidracor.add_files_from_repo(corpusname=\"vebi\", \n",
    "                              repository_name=\"romdracor\", \n",
    "                              commit=\"20644eb44f59649721310c3a6d1fd1fe505653d5\")"
   ]
  },
  {
   "cell_type": "code",
   "execution_count": 17,
   "id": "08b889d2-5939-4bd4-a102-b645c347925f",
   "metadata": {},
   "outputs": [
    {
     "name": "stderr",
     "output_type": "stream",
     "text": [
      "INFO:root:Successfully added all 212 files of repository 'dracor-org/rusdracor' to corpus 'vebi'.\n"
     ]
    },
    {
     "data": {
      "text/plain": [
       "True"
      ]
     },
     "execution_count": 17,
     "metadata": {},
     "output_type": "execute_result"
    }
   ],
   "source": [
    "vebidracor.add_files_from_repo(corpusname=\"vebi\", \n",
    "                              repository_name=\"rusdracor\", \n",
    "                              commit=\"6d5b1e5549731538a48684a456006384da206e9a\")"
   ]
  },
  {
   "cell_type": "code",
   "execution_count": 19,
   "id": "1e751811-7ccc-45ca-b9bf-0f7193c46dda",
   "metadata": {},
   "outputs": [
    {
     "name": "stderr",
     "output_type": "stream",
     "text": [
      "INFO:root:Successfully added all 25 files of repository 'dracor-org/spandracor' to corpus 'vebi'.\n"
     ]
    },
    {
     "data": {
      "text/plain": [
       "True"
      ]
     },
     "execution_count": 19,
     "metadata": {},
     "output_type": "execute_result"
    }
   ],
   "source": [
    "vebidracor.add_files_from_repo(corpusname=\"vebi\", \n",
    "                              repository_name=\"spandracor\", \n",
    "                              commit=\"184ebf975ad9cd674ff37cab44a181fa7ed8d85f\")"
   ]
  },
  {
   "cell_type": "code",
   "execution_count": 20,
   "id": "d8d14a43-b85c-434c-9d15-82792192bf54",
   "metadata": {},
   "outputs": [
    {
     "name": "stderr",
     "output_type": "stream",
     "text": [
      "INFO:root:Successfully added all 68 files of repository 'dracor-org/swedracor' to corpus 'vebi'.\n"
     ]
    },
    {
     "data": {
      "text/plain": [
       "True"
      ]
     },
     "execution_count": 20,
     "metadata": {},
     "output_type": "execute_result"
    }
   ],
   "source": [
    "vebidracor.add_files_from_repo(corpusname=\"vebi\", \n",
    "                              repository_name=\"swedracor\", \n",
    "                              commit=\"0e73db9315c9c8ed64abff7d2053f84e76fcf7ec\")"
   ]
  },
  {
   "cell_type": "code",
   "execution_count": 21,
   "id": "028497cb-2848-45a8-9e86-e47814ca9c02",
   "metadata": {},
   "outputs": [
    {
     "name": "stderr",
     "output_type": "stream",
     "text": [
      "INFO:root:Successfully added all 3 files of repository 'dracor-org/tatdracor' to corpus 'vebi'.\n"
     ]
    },
    {
     "data": {
      "text/plain": [
       "True"
      ]
     },
     "execution_count": 21,
     "metadata": {},
     "output_type": "execute_result"
    }
   ],
   "source": [
    "vebidracor.add_files_from_repo(corpusname=\"vebi\", \n",
    "                              repository_name=\"tatdracor\", \n",
    "                              commit=\"5c71364f39f6533baa3a2e04217fd39e0898c851\")"
   ]
  },
  {
   "cell_type": "code",
   "execution_count": 23,
   "id": "b7b8b92b-5fe7-47cc-984e-d04c356fd947",
   "metadata": {},
   "outputs": [
    {
     "name": "stderr",
     "output_type": "stream",
     "text": [
      "INFO:root:Successfully added all 590 files of repository 'dracor-org/gerdracor' to corpus 'vebi'.\n"
     ]
    },
    {
     "data": {
      "text/plain": [
       "True"
      ]
     },
     "execution_count": 23,
     "metadata": {},
     "output_type": "execute_result"
    }
   ],
   "source": [
    "vebidracor.add_files_from_repo(corpusname=\"vebi\", \n",
    "                              repository_name=\"gerdracor\", \n",
    "                              commit=\"9135bd4598f54133f23df6edfc983b79f1616fb5\",\n",
    "                              exclude=[\"kraus-die-letzten-tage-der-menschheit\"])"
   ]
  },
  {
   "cell_type": "code",
   "execution_count": 24,
   "id": "0a7a52d9-42ce-4422-b196-22f14b8d034e",
   "metadata": {},
   "outputs": [
    {
     "name": "stderr",
     "output_type": "stream",
     "text": [
      "INFO:root:Successfully added all 1556 files of repository 'dracor-org/fredracor' to corpus 'vebi'.\n"
     ]
    },
    {
     "data": {
      "text/plain": [
       "True"
      ]
     },
     "execution_count": 24,
     "metadata": {},
     "output_type": "execute_result"
    }
   ],
   "source": [
    "vebidracor.add_files_from_repo(corpusname=\"vebi\", \n",
    "                              repository_name=\"fredracor\", \n",
    "                              commit=\"65e93f6ff632b367cdc7e16e3e390956856c4b98\",\n",
    "                              exclude=[\"anonyme-vende\",\"arnould-heroine-americaine\",\"audinot-dorothee\",\"becque-mere\"])"
   ]
  },
  {
   "cell_type": "code",
   "execution_count": 25,
   "id": "4375fa0f-a151-4aa5-9b86-03897ab14597",
   "metadata": {},
   "outputs": [
    {
     "name": "stderr",
     "output_type": "stream",
     "text": [
      "INFO:root:Successfully added all 37 files of repository 'ingoboerner/shakedracor' to corpus 'vebi'.\n"
     ]
    },
    {
     "data": {
      "text/plain": [
       "True"
      ]
     },
     "execution_count": 25,
     "metadata": {},
     "output_type": "execute_result"
    }
   ],
   "source": [
    "vebidracor.add_files_from_repo(corpusname=\"vebi\",\n",
    "                               repository_owner=\"ingoboerner\",\n",
    "                               repository_name=\"shakedracor\",\n",
    "                               commit=\"3a420de7d253a505d1d3b8225e6bb6659577d82f\")"
   ]
  },
  {
   "cell_type": "code",
   "execution_count": 42,
   "id": "4036c142-05f4-4b5e-8207-54ad89ff9f3b",
   "metadata": {},
   "outputs": [
    {
     "name": "stderr",
     "output_type": "stream",
     "text": [
      "WARNING:root:The dracor-api container is running. There might be issues with the image, if it is create from a running container. Consider stopping it before creating the image.\n",
      "INFO:root:Committed container fdac4b7478f5 as dracor/stable-dracor:vebidracor_v4_arm64. Image identifier sha256:02d2b02d6cbfd6d299b8ee7268216f3045686f4c23d13daad2c3c57a82071a69\n",
      ".\n"
     ]
    }
   ],
   "source": [
    "vebidracor.create_docker_image_of_service(service=\"api\", image_tag=\"vebidracor_v4_arm64\")"
   ]
  },
  {
   "cell_type": "code",
   "execution_count": 43,
   "id": "e58ed908-b778-4606-b76b-5af11998615f",
   "metadata": {},
   "outputs": [
    {
     "name": "stderr",
     "output_type": "stream",
     "text": [
      "INFO:root:Stored configuration (docker-compose file) as compose.vebidracor.yml.\n"
     ]
    }
   ],
   "source": [
    "vebidracor.create_compose_file()"
   ]
  },
  {
   "cell_type": "code",
   "execution_count": 48,
   "id": "5d15eb64-d740-4bbe-b916-3498310d0f5f",
   "metadata": {},
   "outputs": [
    {
     "data": {
      "text/plain": [
       "{'system': {'description': 'DraCor system containing VeBiDraCor – a very big drama corpus with plays from several DraCor corpora',\n",
       "  'id': '0e10877d-aa33-4a84-b8d8-43d961d0c40e',\n",
       "  'name': 'vebidracor',\n",
       "  'timestamp': '2023-07-04T17:24:46.462276'},\n",
       " 'services': {'api': {'base-image': 'dracor/stable-dracor:vebidracor_v4',\n",
       "   'existdb': '6.0.1',\n",
       "   'image': 'dracor/stable-dracor:vebidracor_v4_arm64',\n",
       "   'version': '0.90.1-2-g19a3f46-dirty'},\n",
       "  'frontend': {'image': 'dracor/dracor-frontend:v1.6.0-dirty'},\n",
       "  'metrics': {'image': 'dracor/dracor-metrics:v1.2.0'},\n",
       "  'triplestore': {'image': 'dracor/dracor-fuseki:v1.0.0'}},\n",
       " 'corpora': {'vebi': {'corpusname': 'vebi',\n",
       "   'num_of_plays': '2979',\n",
       "   'sources': {'alsdracor': {'commit': 'c87ea41aac9412e4bd84a28e9c7632c53904f77c',\n",
       "     'num-of-plays': '25',\n",
       "     'timestamp': '2023-07-04T14:04:43.354536',\n",
       "     'type': 'repository',\n",
       "     'url': 'https://github.com/dracor-org/alsdracor'},\n",
       "    'bashdracor': {'commit': 'c16b58ef3726a63c431bb9575b682c165c9c0cbd',\n",
       "     'num-of-plays': '3',\n",
       "     'timestamp': '2023-07-04T14:06:14.750666',\n",
       "     'type': 'repository',\n",
       "     'url': 'https://github.com/dracor-org/bashdracor'},\n",
       "    'caldracor': {'commit': '6cb804d415051d5f18bc4841fa1ce4343a7f0ab5',\n",
       "     'num-of-plays': '205',\n",
       "     'timestamp': '2023-07-04T14:13:51.889793',\n",
       "     'type': 'repository',\n",
       "     'url': 'https://github.com/dracor-org/caldracor'},\n",
       "    'greekdracor': {'commit': '7397aafa1927c3e0a0720bf3c00bf367ab679f26',\n",
       "     'num-of-plays': '39',\n",
       "     'timestamp': '2023-07-04T14:25:36.700070',\n",
       "     'type': 'repository',\n",
       "     'url': 'https://github.com/dracor-org/greekdracor'},\n",
       "    'hundracor': {'commit': '57e64454a73ffd984ff5fcc1c9b7bc16f3a169f2',\n",
       "     'num-of-plays': '41',\n",
       "     'timestamp': '2023-07-04T14:28:23.166521',\n",
       "     'type': 'repository',\n",
       "     'url': 'https://github.com/dracor-org/hundracor'},\n",
       "    'itadracor': {'commit': '10c84b416d25a6cbfbb195b9f82f136e482a7093',\n",
       "     'num-of-plays': '139',\n",
       "     'timestamp': '2023-07-04T14:33:11.775562',\n",
       "     'type': 'repository',\n",
       "     'url': 'https://github.com/dracor-org/itadracor'},\n",
       "    'romdracor': {'commit': '20644eb44f59649721310c3a6d1fd1fe505653d5',\n",
       "     'num-of-plays': '36',\n",
       "     'timestamp': '2023-07-04T14:59:19.492818',\n",
       "     'type': 'repository',\n",
       "     'url': 'https://github.com/dracor-org/romdracor'},\n",
       "    'rusdracor': {'commit': '6d5b1e5549731538a48684a456006384da206e9a',\n",
       "     'num-of-plays': '212',\n",
       "     'timestamp': '2023-07-04T15:01:36.587524',\n",
       "     'type': 'repository',\n",
       "     'url': 'https://github.com/dracor-org/rusdracor'},\n",
       "    'spandracor': {'commit': '184ebf975ad9cd674ff37cab44a181fa7ed8d85f',\n",
       "     'num-of-plays': '25',\n",
       "     'timestamp': '2023-07-04T15:37:03.986080',\n",
       "     'type': 'repository',\n",
       "     'url': 'https://github.com/dracor-org/spandracor'},\n",
       "    'swedracor': {'commit': '0e73db9315c9c8ed64abff7d2053f84e76fcf7ec',\n",
       "     'num-of-plays': '68',\n",
       "     'timestamp': '2023-07-04T15:45:14.108260',\n",
       "     'type': 'repository',\n",
       "     'url': 'https://github.com/dracor-org/swedracor'},\n",
       "    'tatdracor': {'commit': '5c71364f39f6533baa3a2e04217fd39e0898c851',\n",
       "     'num-of-plays': '3',\n",
       "     'timestamp': '2023-07-04T15:49:01.415072',\n",
       "     'type': 'repository',\n",
       "     'url': 'https://github.com/dracor-org/tatdracor'},\n",
       "    'gerdracor': {'commit': '9135bd4598f54133f23df6edfc983b79f1616fb5',\n",
       "     'exclude': {'ids': ['kraus-die-letzten-tage-der-menschheit'],\n",
       "      'type': 'slug'},\n",
       "     'num-of-plays': '590',\n",
       "     'timestamp': '2023-07-04T15:51:07.081096',\n",
       "     'type': 'repository',\n",
       "     'url': 'https://github.com/dracor-org/gerdracor'},\n",
       "    'fredracor': {'commit': '65e93f6ff632b367cdc7e16e3e390956856c4b98',\n",
       "     'exclude': {'ids': ['anonyme-vende',\n",
       "       'arnould-heroine-americaine',\n",
       "       'audinot-dorothee',\n",
       "       'becque-mere'],\n",
       "      'type': 'slug'},\n",
       "     'num-of-plays': '1556',\n",
       "     'timestamp': '2023-07-04T16:18:15.267918',\n",
       "     'type': 'repository',\n",
       "     'url': 'https://github.com/dracor-org/fredracor'},\n",
       "    'shakedracor': {'commit': '3a420de7d253a505d1d3b8225e6bb6659577d82f',\n",
       "     'num-of-plays': '37',\n",
       "     'timestamp': '2023-07-04T17:07:15.212941',\n",
       "     'type': 'repository',\n",
       "     'url': 'https://github.com/ingoboerner/shakedracor'}}}},\n",
       " 'version': 'v1'}"
      ]
     },
     "execution_count": 48,
     "metadata": {},
     "output_type": "execute_result"
    }
   ],
   "source": [
    "#test if labels from image can be transformed back into manifest; when re-run, the image ID might be different\n",
    "vebidracor.create_manifest(image=\"02d2b02d6cbf\")"
   ]
  },
  {
   "cell_type": "code",
   "execution_count": null,
   "id": "71be3dfc-fd05-445a-8946-ef15791f2d55",
   "metadata": {},
   "outputs": [],
   "source": []
  }
 ],
 "metadata": {
  "kernelspec": {
   "display_name": "Python (stable-dracor)",
   "language": "python",
   "name": "stable-dracor"
  },
  "language_info": {
   "codemirror_mode": {
    "name": "ipython",
    "version": 3
   },
   "file_extension": ".py",
   "mimetype": "text/x-python",
   "name": "python",
   "nbconvert_exporter": "python",
   "pygments_lexer": "ipython3",
   "version": "3.11.3"
  }
 },
 "nbformat": 4,
 "nbformat_minor": 5
}
